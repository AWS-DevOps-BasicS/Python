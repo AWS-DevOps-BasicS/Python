{
 "cells": [
  {
   "cell_type": "markdown",
   "id": "e59daae0-a90a-44e7-b818-c00d71421491",
   "metadata": {},
   "source": [
    "# Assignments on variables expressions and statements"
   ]
  },
  {
   "cell_type": "markdown",
   "id": "3a2aa8c1-3210-4733-a72d-1477e1c8cc9a",
   "metadata": {},
   "source": [
    "### 1. Take the input from the user for(Total number of people,Number of seats for bus. Based on two inputs. Decide how many number of buses required"
   ]
  },
  {
   "cell_type": "code",
   "execution_count": 5,
   "id": "8b519562-d3eb-4c7e-b931-02571df52aa1",
   "metadata": {},
   "outputs": [
    {
     "name": "stdin",
     "output_type": "stream",
     "text": [
      "Enter total number of people: 93\n",
      "Enter number of seats for bus: 30\n"
     ]
    },
    {
     "name": "stdout",
     "output_type": "stream",
     "text": [
      "Number of buses required is 4\n"
     ]
    }
   ],
   "source": [
    "# Inputs for Number of people and seats\n",
    "people = int(input(\"Enter total number of people:\"))\n",
    "seats = int(input(\"Enter number of seats for bus:\"))\n",
    "buses = (people+seats-1)//seats\n",
    "print(f\"Number of buses required is {buses}\")"
   ]
  },
  {
   "cell_type": "markdown",
   "id": "c4484e0b-388a-4051-b934-812a133b184b",
   "metadata": {},
   "source": [
    "### 2. take temperature from the user and convert Fahrenheit-> Celsius."
   ]
  },
  {
   "cell_type": "code",
   "execution_count": 29,
   "id": "9477bd66-edc6-4878-9ce5-383c1eabcd10",
   "metadata": {},
   "outputs": [
    {
     "name": "stdin",
     "output_type": "stream",
     "text": [
      "enter the temperature in Fahrenheit:  97.8\n"
     ]
    },
    {
     "name": "stdout",
     "output_type": "stream",
     "text": [
      "Temperature in celsius is 36.55555555555556\n"
     ]
    }
   ],
   "source": [
    "# Input to enter temperature in Fahrenheit\n",
    "Fahrenheit = float(input(\"enter the temperature in Fahrenheit: \"))\n",
    "Celsius=(Fahrenheit-32)*5/9\n",
    "print(f\"Temperature in celsius is {Celsius}\")"
   ]
  },
  {
   "cell_type": "markdown",
   "id": "3efc8796-30dc-4ad2-ba60-5e1a8aa98124",
   "metadata": {},
   "source": [
    "### 3.take temperature from the user and convert Celsius → Fahrenheit."
   ]
  },
  {
   "cell_type": "code",
   "execution_count": 31,
   "id": "ad812b22-d0cd-45b4-9e47-3a2af9607267",
   "metadata": {},
   "outputs": [
    {
     "name": "stdin",
     "output_type": "stream",
     "text": [
      "Enter the temperature in Celsius:  60.2\n"
     ]
    },
    {
     "name": "stdout",
     "output_type": "stream",
     "text": [
      " Temperature in Fahrenheit is 140.36\n"
     ]
    }
   ],
   "source": [
    "# Input to enter temperature in Celsius\n",
    "Celsius = float(input(\"Enter the temperature in Celsius: \"))\n",
    "Fahrenheit = (Celsius*9/5)+32\n",
    "print(f\" Temperature in Fahrenheit is {Fahrenheit}\")"
   ]
  },
  {
   "cell_type": "markdown",
   "id": "c1cfff83-b8fe-4981-bf1b-0ad109b1abf3",
   "metadata": {},
   "source": [
    "### 4. take four number from the user (variables name it as x1,x2,x3,x4)\n",
    "```\n",
    "Do the below operations\n",
    " (x1+x2)**2, (x3+x4)**3\n",
    "variance\n",
    "standard deviation: sqrt(variance):  User math module. Math.sqrt(variance)\n",
    "Regression\n",
    "\ty=mx+b\n",
    "    m=1.23\n",
    "    b=0.045\n",
    "    find out y\n",
    "    y=m*(x1+x2+x3+x4)+b\n",
    "Find the average of four numbers\n",
    "Find the sum of four numbers\n",
    "```"
   ]
  },
  {
   "cell_type": "code",
   "execution_count": 9,
   "id": "06a770cf-4c91-4810-9c5b-0f43d756eec1",
   "metadata": {},
   "outputs": [
    {
     "name": "stdin",
     "output_type": "stream",
     "text": [
      "Enter value of x1:  10\n",
      "Enter value of x2:  20\n",
      "Enter value of x3:  30\n",
      "Enter value of x4:  40\n"
     ]
    },
    {
     "name": "stdout",
     "output_type": "stream",
     "text": [
      "value of (x1+x2)**2 is 900\n",
      "value of (x3+x4)**3 is 343000\n",
      "Average of 4 numbers = 25.0\n",
      "Sum of 4 numbers = 100\n",
      "Variance = 166.66666666666666\n",
      "Standard Deviation = 12.909944487358056\n"
     ]
    }
   ],
   "source": [
    "import math\n",
    "\n",
    "# Input values\n",
    "x1 = int(input(\"Enter value of x1: \"))\n",
    "x2 = int(input(\"Enter value of x2: \"))\n",
    "x3 = int(input(\"Enter value of x3: \"))\n",
    "x4 = int(input(\"Enter value of x4: \"))\n",
    "\n",
    "# Store values in a list\n",
    "values = [x1, x2, x3, x4]\n",
    "\n",
    "# Calculate the sum and mean\n",
    "total_sum = sum(values)\n",
    "mean = total_sum / len(values)\n",
    "\n",
    "# Other calculations\n",
    "m = 1.23\n",
    "b = 0.045\n",
    "y = m * total_sum + b\n",
    "\n",
    "# Calculate variance and standard deviation\n",
    "sq_sum_diff = sum((x - mean) ** 2 for x in values)\n",
    "variance = sq_sum_diff / (len(values) - 1)  # Use len(values) - 1 for sample variance\n",
    "standard_deviation = math.sqrt(variance)\n",
    "\n",
    "# Specific calculations\n",
    "result1 = (x1 + x2) ** 2\n",
    "result2 = (x3 + x4) ** 3\n",
    "\n",
    "# Output the results\n",
    "print(f\"value of (x1+x2)**2 is {result1}\")\n",
    "print(f\"value of (x3+x4)**3 is {result2}\")\n",
    "print(f\"Average of 4 numbers = {mean}\")\n",
    "print(f\"Sum of 4 numbers = {total_sum}\")\n",
    "print(f\"Variance = {variance}\")\n",
    "print(f\"Standard Deviation = {standard_deviation}\")\n"
   ]
  },
  {
   "cell_type": "code",
   "execution_count": 21,
   "id": "fb87fa21-e3e4-455e-8828-b4e746c5342b",
   "metadata": {},
   "outputs": [
    {
     "name": "stdin",
     "output_type": "stream",
     "text": [
      "Enter value of x1:  10\n",
      "Enter value of x2:  20\n",
      "Enter value of x3:  30\n",
      "Enter value of x4:  40\n"
     ]
    },
    {
     "name": "stdout",
     "output_type": "stream",
     "text": [
      "100\n",
      "25.0\n",
      "value of (x1+x2)**2 is 900\n",
      "value of (x3+x4)**3 is 343000\n",
      "average of 4 numbers = 25.0\n",
      "sum of 4 numbers = 100\n",
      "variance=166.66666666666666\n",
      "standard deviation = 12.909944487358056\n"
     ]
    }
   ],
   "source": [
    "import math\n",
    "x1 = int(input(\"Enter value of x1: \"))\n",
    "x2 = int(input(\"Enter value of x2: \"))\n",
    "x3 = int(input(\"Enter value of x3: \"))\n",
    "x4 = int(input(\"Enter value of x4: \"))\n",
    "values = [x1,x2,x3,x4]\n",
    "total_sum = sum(values)\n",
    "print(total_sum)\n",
    "mean = total_sum / len(values)\n",
    "print(mean)\n",
    "m = 1.23\n",
    "b = 0.045\n",
    "y = m*total_sum+b\n",
    "# calculate squared differences\n",
    "sum_sqd_numbers = 0\n",
    "sqd_numbers = []\n",
    "for x in values:\n",
    "    sqd = (x - mean) ** 2\n",
    "    sum_sqd_numbers += sq\n",
    "    sqd_numbers.append(sq)\n",
    "variance = sum_sqd_numbers/(len(values)-1)\n",
    "standard_deviation = math.sqrt(variance)\n",
    "result1 = (x1+x2)**2\n",
    "result2 = (x3+x4)**3\n",
    "print(f\"value of (x1+x2)**2 is {result1}\\nvalue of (x3+x4)**3 is {result2}\\naverage of 4 numbers = {mean}\\nsum of 4 numbers = {total_sum}\\nvariance={variance}\\nstandard deviation = {standard_deviation}\")"
   ]
  },
  {
   "cell_type": "markdown",
   "id": "2d930998-e25a-4430-bace-e7a321790198",
   "metadata": {},
   "source": [
    "### 5.Take the distance in km. Show that in cm, meters, in milli meters, cents, feets, yards"
   ]
  },
  {
   "cell_type": "code",
   "execution_count": 39,
   "id": "020740fb-31b6-4faf-a866-6bf5267f87f9",
   "metadata": {},
   "outputs": [
    {
     "name": "stdin",
     "output_type": "stream",
     "text": [
      "distance in km:  9\n"
     ]
    },
    {
     "name": "stdout",
     "output_type": "stream",
     "text": [
      "9.0km =900000.0cm\n",
      "9.0km =9000.0m\n",
      "9.0km =9000000.0mm\n",
      "9.0km =222394.5cents\n",
      "9.0km =29527.56ft\n",
      "9.0km =9842.49yards\n"
     ]
    }
   ],
   "source": [
    "km = float(input(\"distance in km: \"))\n",
    "cm = km*100000\n",
    "m = km*1000\n",
    "mm = km*1000000\n",
    "cents = km*24710.5\n",
    "ft = km*3280.84\n",
    "yards = km*1093.61\n",
    "print(f\"{km}km ={cm}cm\")\n",
    "print(f\"{km}km ={m}m\")\n",
    "print(f\"{km}km ={mm}mm\")\n",
    "print(f\"{km}km ={cents}cents\")\n",
    "print(f\"{km}km ={ft}ft\")\n",
    "print(f\"{km}km ={yards}yards\")"
   ]
  },
  {
   "cell_type": "markdown",
   "id": "216a2216-cfca-4a94-880a-c30d58840871",
   "metadata": {},
   "source": [
    "### 6. Take the size of your hard disk in GB. Show that in MB, KB, TB, PB"
   ]
  },
  {
   "cell_type": "code",
   "execution_count": 53,
   "id": "3dde304f-315e-45ce-bd6f-e3824dfb98c3",
   "metadata": {},
   "outputs": [
    {
     "name": "stdin",
     "output_type": "stream",
     "text": [
      "Enter the size of your hard disk in GB:  9\n"
     ]
    },
    {
     "name": "stdout",
     "output_type": "stream",
     "text": [
      "9.0GB = 9216.0MB\n",
      "9.0GB = 9437184.0KB\n",
      "9.0GB = 0.0087890625TB\n",
      "9.0GB = 8.58306884765625e-06PB\n"
     ]
    }
   ],
   "source": [
    "GB = float(input(\"Enter the size of your hard disk in GB: \"))\n",
    "MB = GB*1024\n",
    "KB = GB*1048576\n",
    "TB = GB/1024\n",
    "PB = GB/(1024**2)\n",
    "print(f\"{GB}GB = {MB}MB\")\n",
    "print(f\"{GB}GB = {KB}KB\")\n",
    "print(f\"{GB}GB = {TB}TB\")\n",
    "print(f\"{GB}GB = {PB}PB\")"
   ]
  },
  {
   "cell_type": "markdown",
   "id": "b179770a-f8df-4b30-9241-408d3d545821",
   "metadata": {},
   "source": [
    "###    7.  Take name, age, height from the user and print like below\n",
    "* The details of the person: Name:name of the person, Age:age of the person, Height:height of the person\n"
   ]
  },
  {
   "cell_type": "code",
   "execution_count": 61,
   "id": "9f862eb4-76cc-4fad-bde8-044e4caddd4e",
   "metadata": {},
   "outputs": [
    {
     "name": "stdin",
     "output_type": "stream",
     "text": [
      "Enter the name of the person:  tej\n",
      "Enter the age of the person: 27\n",
      "Enter the height of the person: 5'11\"\n"
     ]
    },
    {
     "name": "stdout",
     "output_type": "stream",
     "text": [
      "The details of the person: Name:tej of the person, Age:27 of the person, Height:5'11\" of the person\n"
     ]
    }
   ],
   "source": [
    "name = input(\"Enter the name of the person: \")\n",
    "age = input(\"Enter the age of the person:\")\n",
    "height= input(\"Enter the height of the person:\")\n",
    "print(f\"The details of the person: Name:{name} of the person, Age:{age} of the person, Height:{height} of the person\")"
   ]
  },
  {
   "cell_type": "markdown",
   "id": "2e764afd-64aa-40cb-81e1-aae59b7b12ee",
   "metadata": {},
   "source": [
    "### 8. BMI calculation: take required parameters for BMI calculation from the user and calculate BMI of the person."
   ]
  },
  {
   "cell_type": "code",
   "execution_count": 68,
   "id": "5311c92b-8ea8-493a-97eb-c783df529c6a",
   "metadata": {},
   "outputs": [
    {
     "name": "stdin",
     "output_type": "stream",
     "text": [
      "Enter height in cm:  155\n",
      "Enter weight in kg:  80\n"
     ]
    },
    {
     "name": "stdout",
     "output_type": "stream",
     "text": [
      "BMI is 33.29864724245577\n"
     ]
    }
   ],
   "source": [
    "height_cm = float(input(\"Enter height in cm: \"))\n",
    "weight = float(input(\"Enter weight in kg: \"))\n",
    "height_m = height_cm/100\n",
    "BMI = weight/(height_m**2)\n",
    "print(f\"BMI is {BMI}\")"
   ]
  },
  {
   "cell_type": "markdown",
   "id": "6e06cf90-2f05-49e6-b514-cc2999291f90",
   "metadata": {},
   "source": [
    "### 9. \n",
    "```\n",
    "name=\"Jayaram\"\n",
    "age=1.6\n",
    "height=3.5356234\n",
    "weight=10.343856783\n",
    "By using above inputs print the output\n",
    "Name:Jayaram, Age:1.6, Height:3.54, Weight:10.344\n",
    "Note: Use format specifiers(%s, %d, %f)\n",
    "```"
   ]
  },
  {
   "cell_type": "code",
   "execution_count": 90,
   "id": "0346f5c7-4798-4dc1-a383-8ec1b74fe0eb",
   "metadata": {},
   "outputs": [
    {
     "name": "stdout",
     "output_type": "stream",
     "text": [
      "Name: Jayaram, Age: 1.6, Height: 3.5, Weight: 10.344\n"
     ]
    }
   ],
   "source": [
    "name = \"Jayaram\"\n",
    "age = 1.6\n",
    "height = 3.5356234\n",
    "weight = 10.343856783\n",
    "print(\"Name: %s, Age: %.1f, Height: %.1f, Weight: %.3f\"%(name,age,height,weight) )"
   ]
  },
  {
   "cell_type": "markdown",
   "id": "6f5e169a-40ef-4947-929b-5107a1b8523a",
   "metadata": {},
   "source": [
    "### 10. Take three upper case letters from the user convert in to small case."
   ]
  },
  {
   "cell_type": "code",
   "execution_count": 103,
   "id": "048c7602-e804-4b99-bd16-9f582b79bff3",
   "metadata": {},
   "outputs": [
    {
     "name": "stdin",
     "output_type": "stream",
     "text": [
      "Enter first uppercase letter:  E\n",
      "Enter second uppercase letter:  R\n",
      "Enter third uppercase letter:  T\n"
     ]
    },
    {
     "name": "stdout",
     "output_type": "stream",
     "text": [
      "The lowercase letters are e,r,t\n"
     ]
    }
   ],
   "source": [
    "letter1 = input(\"Enter first uppercase letter: \")\n",
    "letter2 = input(\"Enter second uppercase letter: \")\n",
    "letter3 = input(\"Enter third uppercase letter: \")\n",
    "letter1_lower = chr(ord(letter1)+32)\n",
    "letter2_lower = chr(ord(letter2)+32)\n",
    "letter3_lower = chr(ord(letter3)+32)\n",
    "print(f\"The lowercase letters are {letter1_lower},{letter2_lower},{letter3_lower}\")"
   ]
  },
  {
   "cell_type": "markdown",
   "id": "cd1f70e2-fe25-4122-9598-b75020e37a9b",
   "metadata": {},
   "source": [
    "### 11. Take base and exponent value from the user and print like in mathematics:\n",
    "  * example: base=2, exponent=3: 2<sup>3</sup>\r\n",
    "\n",
    "  * Use: 2\\u00b3\n"
   ]
  },
  {
   "cell_type": "code",
   "execution_count": 121,
   "id": "b51a80bf-fc8d-4c39-a0f3-19d455ad0a97",
   "metadata": {},
   "outputs": [
    {
     "name": "stdin",
     "output_type": "stream",
     "text": [
      "Enter base value:  2\n",
      "Enter exponent value:  5\n"
     ]
    },
    {
     "name": "stdout",
     "output_type": "stream",
     "text": [
      "Base = 2, Exponent = 5: 2^5\n",
      "Base = 2, Exponent = 5: 2³\n"
     ]
    }
   ],
   "source": [
    "base = int(input(\"Enter base value: \"))\n",
    "exponent = int(input(\"Enter exponent value: \"))\n",
    "print(f\"Base = {base}, Exponent = {exponent}: {base}^{exponent}\")\n",
    "print(f\"Base = {base}, Exponent = {exponent}: {base}\\u00b3\")"
   ]
  },
  {
   "cell_type": "markdown",
   "id": "c909d968-ccf2-466c-a721-f57450e6b930",
   "metadata": {},
   "source": [
    "### 12. Take some groceries cost prices and print total cost and average cost, what is the max cost, what is the minimum cost"
   ]
  },
  {
   "cell_type": "code",
   "execution_count": null,
   "id": "b9ded8bd-1ab5-429c-a551-ed2c30b5c75c",
   "metadata": {},
   "outputs": [],
   "source": [
    "cost1 = float(input(\"Cost of item 1: \"))\n",
    "cost2 = float(input(\"Cost of item 2: \"))\n",
    "cost3 = float(input(\"Cost of item 3: \"))\n",
    "costs = [cost1,cost2,cost3]\n",
    "total_cost = sum(costs)\n",
    "avg_cost = total_cost/len(costs)\n",
    "max_cost = max(costs)\n",
    "min_cost = min(costs)\n",
    "print(f\"Total Cost: {total_cost:.2f}/-\\nAverage cost: {avg_cost:.2f}/-\\nMaximun Cost: {max_cost:.2f}/-\\nMinimum Cost: {min_cost:.2f}/-\")"
   ]
  },
  {
   "cell_type": "markdown",
   "id": "13115856-1644-4f62-a743-0d5eee0faa90",
   "metadata": {},
   "source": [
    "## COnditional Statements\n",
    "### 13. Take the input from the user for(Total number of people, total number of buses, Number of seats for bus, adjust factor). Based on four inputs.Decide whether there is sufficient buses or not and give solution for how many extra buses required.\n"
   ]
  },
  {
   "cell_type": "code",
   "execution_count": 54,
   "id": "fc992bfb-2c71-4f2d-867a-4103361c683d",
   "metadata": {},
   "outputs": [
    {
     "name": "stdin",
     "output_type": "stream",
     "text": [
      "Enter total number of people: 100\n",
      "Enter total number of buses: 6\n",
      "Enter number of seats for bus: 20\n",
      "Enter adjust factor: 3\n"
     ]
    },
    {
     "name": "stdout",
     "output_type": "stream",
     "text": [
      "total number of buses required is 5 and extra buses needed are 0\n"
     ]
    }
   ],
   "source": [
    "people = int(input(\"Enter total number of people:\"))\n",
    "buses = int((input(\"Enter total number of buses:\")))\n",
    "seats = int(input(\"Enter number of seats for bus:\"))\n",
    "adjust_factor = int(input(\"Enter adjust factor:\"))\n",
    "if people%seats>adjust_factor:\n",
    "    buses_required = (people+seats+adjust_factor-1)//seats\n",
    "else:\n",
    "    buses_required = (people+seats-1)//seats\n",
    "if buses_required>buses:\n",
    "    extra_buses = buses_required - buses\n",
    "else:\n",
    "    extra_buses = 0\n",
    "    \n",
    "print(f\"total number of buses required is {buses_required} and extra buses needed are {extra_buses}\")\n"
   ]
  },
  {
   "cell_type": "code",
   "execution_count": null,
   "id": "2ad0f384-f3b8-4c53-a4f7-1b8a985b9812",
   "metadata": {},
   "outputs": [],
   "source": [
    "people = int(input(\"Enter total number of people:\"))\n",
    "buses = int((input(\"Enter total number of buses:\")))\n",
    "seats_per_bus = int(input(\"Enter number of seats for bus:\"))\n",
    "adjust_factor = int(input(\"Enter adjust factor:\"))\n",
    "\n",
    "current_buses_occupency = buses*seats_per_bus\n",
    "extra = buses*adjust_factor\n",
    "total_people_can_travel = \n",
    "if people%seats>adjust_factor:\n",
    "    buses_required = (people+seats+adjust_factor-1)//seats\n",
    "else:\n",
    "    buses_required = (people+seats-1)//seats\n",
    "if buses_required>buses:\n",
    "    extra_buses = buses_required - buses\n",
    "else:\n",
    "    extra_buses = 0\n",
    "    \n",
    "print(f\"total number of buses required is {buses_required} and extra buses needed are {extra_buses}\")\n"
   ]
  },
  {
   "cell_type": "markdown",
   "id": "d3139476-6482-45ea-a1be-557db6685ba3",
   "metadata": {},
   "source": [
    "### 14.Take number from the user decide whether it is even or odd."
   ]
  },
  {
   "cell_type": "code",
   "execution_count": 35,
   "id": "5b882364-cb69-4708-8c13-cc1f7ead44fc",
   "metadata": {},
   "outputs": [
    {
     "name": "stdin",
     "output_type": "stream",
     "text": [
      "Enter a number: 15\n"
     ]
    },
    {
     "name": "stdout",
     "output_type": "stream",
     "text": [
      "Given number is odd\n"
     ]
    }
   ],
   "source": [
    "number = int(input(\"Enter a number:\"))\n",
    "if number%2==0:\n",
    "    print(\"Given number is even\")\n",
    "else:\n",
    "    print(\"Given number is odd\")"
   ]
  },
  {
   "cell_type": "markdown",
   "id": "0998146d-349b-43e5-9add-9806675be4c3",
   "metadata": {},
   "source": [
    "### 15.Take number from the user decide whether it is positive number or negative number"
   ]
  },
  {
   "cell_type": "code",
   "execution_count": 42,
   "id": "220887fa-8e38-4303-868d-d76078107cee",
   "metadata": {},
   "outputs": [
    {
     "name": "stdin",
     "output_type": "stream",
     "text": [
      "Enter a number: 0\n"
     ]
    },
    {
     "name": "stdout",
     "output_type": "stream",
     "text": [
      "Given number is zero\n"
     ]
    }
   ],
   "source": [
    "number = float(input(\"Enter a number:\"))\n",
    "if number>0:\n",
    "    print(\"Given number is positive number\")\n",
    "elif number==0:\n",
    "    print(\"Given number is zero\")\n",
    "else:\n",
    "    print(\"Given number is negative number\")"
   ]
  },
  {
   "cell_type": "markdown",
   "id": "5507e2c9-e7fd-4340-9ac1-0ab387ee3133",
   "metadata": {},
   "source": [
    "### 16.Take a string from the user print the length. if the user not given anything then show an error message"
   ]
  },
  {
   "cell_type": "code",
   "execution_count": 50,
   "id": "5c4f0572-a8fd-4d70-951f-fc5c8c6fcd49",
   "metadata": {},
   "outputs": [
    {
     "name": "stdin",
     "output_type": "stream",
     "text": [
      "Enter the data: dfghjkl fghjkl\n"
     ]
    },
    {
     "name": "stdout",
     "output_type": "stream",
     "text": [
      "dfghjkl fghjkl\n"
     ]
    }
   ],
   "source": [
    "data = input(\"Enter the data:\")\n",
    "if len(data)==0:\n",
    "    print(\"Enter valid data\")\n",
    "print(data)"
   ]
  },
  {
   "cell_type": "markdown",
   "id": "147ea58b-97a0-40a6-9fd4-44677ac4622b",
   "metadata": {},
   "source": [
    "### 17. code to perform mathematical operations. take two numbers from the user and show the below menu\n",
    "1. ADD\n",
    "2. SUB\n",
    "3. MUL\n",
    "4. DIV\n",
    "5. QUIT\n"
   ]
  },
  {
   "cell_type": "code",
   "execution_count": 15,
   "id": "3cdd3b3b-66a7-4037-9f38-2e2d984a6973",
   "metadata": {},
   "outputs": [
    {
     "name": "stdin",
     "output_type": "stream",
     "text": [
      "Enter the number1: \n",
      "Enter the number2: \n"
     ]
    },
    {
     "name": "stdout",
     "output_type": "stream",
     "text": [
      "1.add\n",
      "2.sub\n",
      "3.mul\n",
      "4.div\n",
      "5.quit\n"
     ]
    },
    {
     "name": "stdin",
     "output_type": "stream",
     "text": [
      "Enter an option: 6\n"
     ]
    },
    {
     "name": "stdout",
     "output_type": "stream",
     "text": [
      "Enter a valid option\n"
     ]
    }
   ],
   "source": [
    "num1 = input(\"Enter the number1:\")\n",
    "num2 = input(\"Enter the number2:\")\n",
    "print(\"1.add\\n2.sub\\n3.mul\\n4.div\\n5.quit\")\n",
    "option = input(\"Enter an option:\")\n",
    "if option == '1':\n",
    "    addition = float(num1)+float(num2)\n",
    "    print(f\"{num1}+{num2}={addition}\")\n",
    "elif option == '2':\n",
    "    subtraction = float(num1)-float(num2)\n",
    "    print(f\"{num1}-{num2}={subtraction}\")\n",
    "elif option == '3':\n",
    "    multiply = float(num1)*float(num2)\n",
    "    print(f\"{num1}x{num2}={multiply}\")\n",
    "elif option == '4':\n",
    "    division = float(num1)/float(num2)\n",
    "    print(f\"{num1}/{num2}={division}\")\n",
    "elif option == '5':\n",
    "    print(\"quit\")\n",
    "else:\n",
    "    print(\"Enter a valid option\")\n"
   ]
  },
  {
   "cell_type": "markdown",
   "id": "9fecca53-27fd-4bc2-a6a2-ea78e41532e2",
   "metadata": {},
   "source": [
    "### 18. show the menu:\n",
    "1. kids\n",
    "2. Men\n",
    "3. Women\n",
    "### Show the corresponding message based on the selection.\n",
    "* Option:1: you are a kid\n",
    "* OPtion:2: you are a gentlemen\n",
    "* Option:3: you are a good women\n",
    "\n",
    "### Mention error message if the option value >3.\n"
   ]
  },
  {
   "cell_type": "code",
   "execution_count": 22,
   "id": "d061d3a2-58b5-4be6-b15e-c932f1bb5e31",
   "metadata": {},
   "outputs": [
    {
     "name": "stdout",
     "output_type": "stream",
     "text": [
      "1.kid\n",
      "2.man\n",
      "3.woman\n"
     ]
    },
    {
     "name": "stdin",
     "output_type": "stream",
     "text": [
      "Enter a value: 1\n"
     ]
    },
    {
     "name": "stdout",
     "output_type": "stream",
     "text": [
      "you are a kid\n"
     ]
    }
   ],
   "source": [
    "print(\"1.kid\\n2.man\\n3.woman\")\n",
    "option = input(\"Enter a value:\")\n",
    "if option =='1':\n",
    "    print(\"you are a kid\")\n",
    "elif option == '2':\n",
    "    print(\"you are a gentlemen\")\n",
    "elif option == '3':\n",
    "    print(\"you are a good woman\")\n",
    "else:\n",
    "    print(\"Please select option 1 or 2 or 3\")\n"
   ]
  },
  {
   "cell_type": "markdown",
   "id": "f5328527-0fdd-400e-b003-36b0a72e2f48",
   "metadata": {},
   "source": [
    "### 19. write a program to check given substring is there in actual string or not?\n",
    "* example: act=\"python is a pure object oriented programing language\"\n",
    "* check whether “pure” is there in act or not.\n",
    "* **Note:** Use in operator\n"
   ]
  },
  {
   "cell_type": "code",
   "execution_count": 28,
   "id": "6cc6fc46-04a2-4818-aaf8-1d1789a51e56",
   "metadata": {},
   "outputs": [
    {
     "name": "stdin",
     "output_type": "stream",
     "text": [
      "Enter a sentence: python is a pure object oriented programing language\n",
      "Enter the word to search in sentence: language\n"
     ]
    },
    {
     "name": "stdout",
     "output_type": "stream",
     "text": [
      "yes\n"
     ]
    }
   ],
   "source": [
    "act = input(\"Enter a sentence:\")\n",
    "word = input(\"Enter the word to search in sentence:\")\n",
    "if word in act:#print yes if the word is present in sentence\n",
    "    print(\"yes\")\n",
    "else:\n",
    "    print(\"no\")"
   ]
  },
  {
   "cell_type": "markdown",
   "id": "5c04878a-7f95-46d1-beb0-31f4edb2fc38",
   "metadata": {},
   "source": [
    "### 20. Take three numbers from the user and decide which is big"
   ]
  },
  {
   "cell_type": "code",
   "execution_count": 35,
   "id": "313002d3-a767-4828-8bdf-e67a30a5c24d",
   "metadata": {},
   "outputs": [
    {
     "name": "stdin",
     "output_type": "stream",
     "text": [
      "Enter the first number: 5\n",
      "Enter the second number: 5\n",
      "Enter the third number: 5\n"
     ]
    },
    {
     "name": "stdout",
     "output_type": "stream",
     "text": [
      "5 is bigger\n"
     ]
    }
   ],
   "source": [
    "num1 = input(\"Enter the first number:\")\n",
    "num2 = input(\"Enter the second number:\")\n",
    "num3 = input(\"Enter the third number:\")\n",
    "if float(num1)>float(num2) and float(num1)>float(num3):\n",
    "    print(f\"{num1} is bigger\")\n",
    "elif float(num2)>float(num1) and float(num2)>float(num3):\n",
    "    print(f\"{num2} is bigger\")\n",
    "else:\n",
    "    print(f\"{num3} is bigger\")"
   ]
  },
  {
   "cell_type": "markdown",
   "id": "bedf9193-15e3-4670-b3fa-8318d55af2c6",
   "metadata": {},
   "source": [
    "###  21. Take age and gender from the user and decide whether he/she is eligible for marriage in India or not.\n",
    "* Age criteria: men age>24, women>21\n"
   ]
  },
  {
   "cell_type": "code",
   "execution_count": 43,
   "id": "27809bb1-f43c-4654-ac21-c08b9cbf12eb",
   "metadata": {},
   "outputs": [
    {
     "name": "stdin",
     "output_type": "stream",
     "text": [
      "Enter the age: \n",
      "Enter the gender(male/female): \n"
     ]
    },
    {
     "name": "stdout",
     "output_type": "stream",
     "text": [
      "Invalid gender. Please enter male or female\n"
     ]
    }
   ],
   "source": [
    "age = input(\"Enter the age:\")\n",
    "gender = input(\"Enter the gender(male/female):\")\n",
    "# Check eligibility for marriage based on gender and age\n",
    "if gender == 'male':\n",
    "    if int(age)>24:\n",
    "      print(\"you are eligible for marriage in India\")\n",
    "    else:\n",
    "      print(\"You are not eligible for marriage in India\")\n",
    "elif gender == 'female':\n",
    "    if int(age)>21:\n",
    "        print(\"you are eligible for marriage in India\")\n",
    "    else:\n",
    "        print(\"You are not eligible for marriage in India\")\n",
    "        \n",
    "else:\n",
    "    print(\"Invalid gender. Please enter male or female\")"
   ]
  },
  {
   "cell_type": "markdown",
   "id": "03e0e8e7-1b51-4d0a-a641-dad0d0e19ed0",
   "metadata": {},
   "source": [
    "### 22. Take an age  and gender from the user: and mention that what he/she can \tdo in india.\n",
    "* **conditions:**\n",
    "    1. Theatre: 5 for men 7 for women\n",
    "    2. Voting system: 18 for men and women\n",
    "    3. Marriage in india: 23 for men and for women >21\n",
    "    4. For govt jobs: (min:18, max:32)  for men and (min:18, max:34) for women\n",
    "    5. For driving licence: (min:18, max:60) for men and women\n",
    "* **Eligibility:**\n",
    "    1. theatre\n",
    "    2.  Voting system\n",
    "    3.  Marriage in india\n",
    "    4.  For govt obs\n",
    "    5. For driving licence:\n",
    "* Enter an option:\n",
    "    * Gender:\n",
    "        1. men\n",
    "        2. women\n",
    "* Enter an option:\n",
    "* Enter an age of person:\n",
    "\n"
   ]
  },
  {
   "cell_type": "code",
   "execution_count": 3,
   "id": "ed5c47e3-a0ae-4f71-a086-4afde10abb4e",
   "metadata": {},
   "outputs": [
    {
     "name": "stdout",
     "output_type": "stream",
     "text": [
      "Gender:\n",
      "\t1. Men\n",
      "\t2. Women\n"
     ]
    },
    {
     "name": "stdin",
     "output_type": "stream",
     "text": [
      "Enter the gender option (1-2):  2\n",
      "Enter the age of the person:  26\n"
     ]
    },
    {
     "name": "stdout",
     "output_type": "stream",
     "text": [
      "She can go to theatre\n",
      "She can vote\n",
      "She can get married\n",
      "SHe can apply for government jobs\n",
      "She can apply driving license\n"
     ]
    }
   ],
   "source": [
    "# Get user input for options and details\n",
    "print(\"Gender:\\n\\t1. Men\\n\\t2. Women\")\n",
    "gender = input(\"Enter the gender option (1-2): \")\n",
    "age = int(input(\"Enter the age of the person: \"))\n",
    "\n",
    "if gender == '1':\n",
    "    if age>=5:\n",
    "        print(\"He can go to theatre\")\n",
    "    if age>=18:\n",
    "        print(\"He can vote\")\n",
    "    if age>=23:\n",
    "        print(\"He can get married\")\n",
    "    if 18 <= age <= 32:\n",
    "        print(\"He can apply for government jobs\")\n",
    "    if 18 <= age <= 60:\n",
    "        print(\"He can apply driving license\")\n",
    "elif gender == '2':\n",
    "    if age>=7:\n",
    "        print(\"She can go to theatre\")\n",
    "    if age>=18:\n",
    "        print(\"She can vote\")\n",
    "    if age>=21:\n",
    "        print(\"She can get married\")\n",
    "    if 18 <= age <= 34:\n",
    "        print(\"SHe can apply for government jobs\")\n",
    "    if 18 <= age <= 60:\n",
    "        print(\"She can apply driving license\")\n",
    "else:\n",
    "    print(\"Invalid gender option. Please enter 1 for Men or 2 for Women.\")"
   ]
  },
  {
   "cell_type": "code",
   "execution_count": 5,
   "id": "02ab48d1-da49-4e5c-a814-02d8bbcbf196",
   "metadata": {},
   "outputs": [
    {
     "name": "stdout",
     "output_type": "stream",
     "text": [
      "Gender:\n",
      "\t1. Men\n",
      "\t2. Women\n"
     ]
    },
    {
     "name": "stdin",
     "output_type": "stream",
     "text": [
      "Enter the gender option (1-2):  2\n",
      "Enter the age of the person:  30\n"
     ]
    },
    {
     "name": "stdout",
     "output_type": "stream",
     "text": [
      "can vote\n",
      "can apply driving license\n",
      "She can go to theatre\n",
      "She can get married\n",
      "SHe can apply for government jobs\n"
     ]
    }
   ],
   "source": [
    "# Get user input for options and details\n",
    "print(\"Gender:\\n\\t1. Men\\n\\t2. Women\")\n",
    "gender = input(\"Enter the gender option (1-2): \")\n",
    "age = int(input(\"Enter the age of the person: \"))\n",
    "if age>=18:\n",
    "    print(\"can vote\")\n",
    "if 18 <= age <= 60:\n",
    "    print(\"can apply driving license\")\n",
    "if gender == '1':\n",
    "    if age>=5:\n",
    "        print(\"He can go to theatre\")\n",
    "    if age>=23:\n",
    "        print(\"He can get married\")\n",
    "    if 18 <= age <= 32:\n",
    "        print(\"He can apply for government jobs\")\n",
    "elif gender == '2':\n",
    "    if age>=7:\n",
    "        print(\"She can go to theatre\")\n",
    "    if age>=21:\n",
    "        print(\"She can get married\")\n",
    "    if 18 <= age <= 34:\n",
    "        print(\"SHe can apply for government jobs\")\n",
    "else:\n",
    "    print(\"Invalid gender option. Please enter 1 for Men or 2 for Women.\")"
   ]
  },
  {
   "cell_type": "code",
   "execution_count": 53,
   "id": "ebe62cf3-3b24-4af9-908d-866a738802fb",
   "metadata": {},
   "outputs": [
    {
     "name": "stdout",
     "output_type": "stream",
     "text": [
      "Eligibility:\n",
      "\t1.theatre\n",
      "\t2.Voting system\n",
      "\t3.Marriage in India\n",
      "\t4.For govt jobs\n",
      "\t5.For driving license\n"
     ]
    },
    {
     "name": "stdin",
     "output_type": "stream",
     "text": [
      "Enter the option(1-5): 1\n"
     ]
    },
    {
     "name": "stdout",
     "output_type": "stream",
     "text": [
      "Gender:\n",
      "\t1.men\n",
      "\t2.women\n"
     ]
    },
    {
     "name": "stdin",
     "output_type": "stream",
     "text": [
      "Enter the gender option(1-2): 1\n",
      "Enter the age of person: 6\n"
     ]
    },
    {
     "name": "stdout",
     "output_type": "stream",
     "text": [
      "Eligible for theater in India\n"
     ]
    }
   ],
   "source": [
    "# Display options to the user\n",
    "print(\"Eligibility:\\n\\t1. Theatre\\n\\t2. Voting system\\n\\t3. Marriage in India\\n\\t4. Government jobs\\n\\t5. Driving license\")\n",
    "\n",
    "# Get user input for options and details\n",
    "option = input(\"Enter the option (1-5): \")\n",
    "print(\"Gender:\\n\\t1. Men\\n\\t2. Women\")\n",
    "gender_option = input(\"Enter the gender option (1-2): \")\n",
    "age = int(input(\"Enter the age of the person: \"))\n",
    "\n",
    "# Check eligibility based on gender and option\n",
    "if gender_option == '1':  # Men\n",
    "    if option == '1' and age >= 5:\n",
    "        print(\"Eligible for theatre in India.\")\n",
    "    elif option == '2' and age >= 18:\n",
    "        print(\"Eligible for voting in India.\")\n",
    "    elif option == '3' and age >= 23:\n",
    "        print(\"Eligible for marriage in India.\")\n",
    "    elif option == '4' and 18 <= age <= 32:\n",
    "        print(\"Eligible for government jobs in India.\")\n",
    "    elif option == '5' and 18 <= age <= 60:\n",
    "        print(\"Eligible for a driving license in India.\")\n",
    "    else:\n",
    "        print(\"Not eligible or invalid option.\")\n",
    "\n",
    "elif gender_option == '2':  # Women\n",
    "    if option == '1' and age >= 7:\n",
    "        print(\"Eligible for theatre in India.\")\n",
    "    elif option == '2' and age >= 18:\n",
    "        print(\"Eligible for voting in India.\")\n",
    "    elif option == '3' and age > 21:\n",
    "        print(\"Eligible for marriage in India.\")\n",
    "    elif option == '4' and 18 <= age <= 34:\n",
    "        print(\"Eligible for government jobs in India.\")\n",
    "    elif option == '5' and 18 <= age <= 60:\n",
    "        print(\"Eligible for a driving license in India.\")\n",
    "    else:\n",
    "        print(\"Not eligible or invalid option.\")\n",
    "\n",
    "else: \n",
    "    print(\"Invalid gender option. Please enter 1 for Men or 2 for Women.\")"
   ]
  },
  {
   "cell_type": "code",
   "execution_count": 3,
   "id": "a8ea34ff-c68c-4d55-8de5-62e9114f1a40",
   "metadata": {},
   "outputs": [
    {
     "name": "stdout",
     "output_type": "stream",
     "text": [
      "Eligibility:\n",
      "\t1. Theatre\n",
      "\t2. Voting system\n",
      "\t3. Marriage in India\n",
      "\t4. Government jobs\n",
      "\t5. Driving license\n"
     ]
    },
    {
     "name": "stdin",
     "output_type": "stream",
     "text": [
      "Enter the option (1-5):  3\n"
     ]
    },
    {
     "name": "stdout",
     "output_type": "stream",
     "text": [
      "Gender:\n",
      "\t1. Men\n",
      "\t2. Women\n"
     ]
    },
    {
     "name": "stdin",
     "output_type": "stream",
     "text": [
      "Enter the gender option (1-2):  45\n",
      "Enter the age of the person:  45\n"
     ]
    },
    {
     "name": "stdout",
     "output_type": "stream",
     "text": [
      "Invalid Gender Option. Please enter 1 for men or 2 for women\n"
     ]
    }
   ],
   "source": [
    "# Display options to the user\n",
    "print(\"Eligibility:\\n\\t1. Theatre\\n\\t2. Voting system\\n\\t3. Marriage in India\\n\\t4. Government jobs\\n\\t5. Driving license\")\n",
    "\n",
    "# Get user input for options and details\n",
    "option = input(\"Enter the option (1-5): \")\n",
    "print(\"Gender:\\n\\t1. Men\\n\\t2. Women\")\n",
    "gender_option = input(\"Enter the gender option (1-2): \")\n",
    "age = int(input(\"Enter the age of the person: \"))\n",
    "\n",
    "# checking based on option and gender\n",
    "if option == '1' :\n",
    "    if gender_option == '1' and age>=5:\n",
    "        print(\"Eligible for going to theatre in India\")\n",
    "    elif gender_option == '2' and age>=7:\n",
    "        print(\"Eligible for going to theatre in India\")\n",
    "    else:\n",
    "        print(\"Invalid Gender Option. Please enter 1 for men or 2 for women\")\n",
    "elif option == '2' :\n",
    "    if gender_option == '1' and age>=18:\n",
    "        print(\"Eligible for voting in India\")\n",
    "    elif gender_option == '2' and age>=18:\n",
    "        print(\"Eligible for voting in India\")\n",
    "    else:\n",
    "        print(\"Invalid Gender Option. Please enter 1 for men or 2 for women\")        \n",
    "elif option == '3' :\n",
    "    if gender_option == '1' and age>=23:\n",
    "        print(\"Eligible for marriage in India\")\n",
    "    elif gender_option =='2' and age>21:\n",
    "        print(\"Eligible for marriage in India\")\n",
    "    else:\n",
    "        print(\"Invalid Gender Option. Please enter 1 for men or 2 for women\")   \n",
    "elif option == '4' :\n",
    "    if gender_option == '1' and 18 <= age <= 32:\n",
    "        print(\"Eligible for government jobs in India\")\n",
    "    elif gender_option =='2' and 18 <= age <= 34:\n",
    "        print(\"Eligible for government jobs in India\")\n",
    "    else:\n",
    "        print(\"Invalid Gender Option. Please enter 1 for men or 2 for women\")   \n",
    "elif option == '5' :\n",
    "    if gender_option == '1' and 18 <= age <= 60:\n",
    "        print(\"Eligible for driving license in India\")\n",
    "    elif gender_option =='2' and 18 <= age <= 60:\n",
    "        print(\"Eligible for driving license in India\")\n",
    "    else:\n",
    "        print(\"Invalid Gender Option. Please enter 1 for men or 2 for women\") \n",
    "else:\n",
    "    print(\"Invalid Option\")"
   ]
  },
  {
   "cell_type": "markdown",
   "id": "790dd649-ee72-41b8-aa43-06dffca7f4c4",
   "metadata": {},
   "source": [
    "### 23. operating systems:\n",
    "\t1.windows\n",
    "\t2.android\n",
    "\t3.mac\n",
    "Enter an option:\n",
    "\n",
    "* If the user enters 1 then show \"Goto first floor and buy windows laptop or mobile\"\n",
    "* If the user enters 2 then show \"Goto second floor and buy adroid mobiles\"\n",
    "* If the user enters 3 then show \"Goto third floor and buy mac laptop or iphones\"\n",
    "* If the user enters other than 1 or 2 or 3 then show \"There is only three floors, please select 1 or 2 or 3\"\n"
   ]
  },
  {
   "cell_type": "code",
   "execution_count": 56,
   "id": "6fc33746-cdb9-426d-940b-9989d727fab2",
   "metadata": {},
   "outputs": [
    {
     "name": "stdout",
     "output_type": "stream",
     "text": [
      "Operating Systems:\n",
      "\t1.Windows\n",
      "\t2.Android\n",
      "\t3.MAC\n"
     ]
    },
    {
     "name": "stdin",
     "output_type": "stream",
     "text": [
      "Enter the option(1-3): 3\n"
     ]
    },
    {
     "name": "stdout",
     "output_type": "stream",
     "text": [
      "Go to third floor and buy mac laptop or iphones\n"
     ]
    }
   ],
   "source": [
    "print(\"Operating Systems:\\n\\t1.Windows\\n\\t2.Android\\n\\t3.MAC\")\n",
    "\n",
    "option = input(\"Enter the option(1-3):\")\n",
    "# Checks if option is 1\n",
    "if option == '1':\n",
    "    print(\"Go to first floor and buy windows laptop or mobile\")\n",
    "# Checks if option is 2 \n",
    "elif option == '2':\n",
    "    print(\"Go to second floor and buy android mobiles\")\n",
    "# Checks if option is 3\n",
    "elif option == '3':\n",
    "    print(\"Go to third floor and buy mac laptop or iphones\")\n",
    "else:\n",
    "    print(\"There is only three floors, please select 1 or 2 or 3\")"
   ]
  },
  {
   "cell_type": "markdown",
   "id": "679d8db6-a9c9-478b-8fbe-fbb7e94852bf",
   "metadata": {},
   "source": [
    "### 24.Given an age, figure out whether someone's a baby, toddler, child, teenager, adult or old codger."
   ]
  },
  {
   "cell_type": "code",
   "execution_count": 61,
   "id": "83fd5471-e183-4c09-b78a-a32e85085559",
   "metadata": {},
   "outputs": [
    {
     "name": "stdin",
     "output_type": "stream",
     "text": [
      "Enter the age:  1\n"
     ]
    },
    {
     "name": "stdout",
     "output_type": "stream",
     "text": [
      "Baby\n"
     ]
    }
   ],
   "source": [
    "age = int(input(\"Enter the age: \"))\n",
    "\n",
    "# Determine the category based on age\n",
    "if age < 2:\n",
    "    print(\"Baby\")\n",
    "elif 2 <= age < 4:\n",
    "    print(\"Toddler\")\n",
    "elif 4 <= age < 13:\n",
    "    print(\"Child\")\n",
    "elif 13 <= age < 20:\n",
    "    print(\"Teenager\")\n",
    "elif 20 <= age < 65:\n",
    "    print(\"Adult\")\n",
    "else:\n",
    "    print(\"Old Codger\")\n"
   ]
  },
  {
   "cell_type": "markdown",
   "id": "fe1bd325-c854-4e34-ac4d-11a56a780a91",
   "metadata": {},
   "source": [
    "### 25.Take two number a,b from the user and check whether a is divisible by b or not"
   ]
  },
  {
   "cell_type": "code",
   "execution_count": 64,
   "id": "23d87612-b58f-404d-a04d-a27859464f7b",
   "metadata": {},
   "outputs": [
    {
     "name": "stdin",
     "output_type": "stream",
     "text": [
      "Enter number a: 130\n",
      "Enter number b: 12\n"
     ]
    },
    {
     "name": "stdout",
     "output_type": "stream",
     "text": [
      "130.0 is not divisible by 12.0\n"
     ]
    }
   ],
   "source": [
    "a = input(\"Enter number a:\")\n",
    "b= input(\"Enter number b:\")\n",
    "a = float(a)\n",
    "b = float(b)\n",
    "if a%b == 0:\n",
    "    print(f\"{a} is divisible by {b}\")\n",
    "else:\n",
    "    print(f\"{a} is not divisible by {b}\")"
   ]
  },
  {
   "cell_type": "markdown",
   "id": "717f8259-0746-4e8d-be31-d3ff7aa50c0d",
   "metadata": {},
   "source": [
    "### 26. Take a letter from the user and print that letter belongs to which category I.e is it a small letter or capital letter or number or special symbol"
   ]
  },
  {
   "cell_type": "code",
   "execution_count": 99,
   "id": "9bb3fb2b-e184-42b5-b325-ac08fff86638",
   "metadata": {},
   "outputs": [
    {
     "name": "stdin",
     "output_type": "stream",
     "text": [
      "Enter a character:  w\n"
     ]
    },
    {
     "name": "stdout",
     "output_type": "stream",
     "text": [
      "The given character is a small letter\n"
     ]
    }
   ],
   "source": [
    "character = input(\"Enter a character: \")\n",
    "\n",
    "# Get the ASCII value of the character\n",
    "ascii_value = ord(character)\n",
    "\n",
    "# Check if the character is a special symbol\n",
    "if (32 <= ascii_value <= 47) or (58 <= ascii_value <= 64) or (91 <= ascii_value <= 96) or (123 <= ascii_value <= 126):\n",
    "    print(\"The given character is a special symbol\")\n",
    "# Check if the character is a number\n",
    "elif 48 <= ascii_value <= 57:\n",
    "    print(\"The given character is a number\")\n",
    "# Check if the character is a capital letter\n",
    "elif 65 <= ascii_value <= 90:\n",
    "    print(\"The given character is a capital letter\")\n",
    "# Check if the character is a small letter\n",
    "elif 97 <= ascii_value <= 122:\n",
    "    print(\"The given character is a small letter\")\n",
    "else:\n",
    "    print(\"Invalid input\")"
   ]
  },
  {
   "cell_type": "markdown",
   "id": "d557f487-603c-477b-b7f1-c678068750b7",
   "metadata": {},
   "source": [
    "### Looping Statements"
   ]
  },
  {
   "cell_type": "markdown",
   "id": "f55f2374-f0b1-4441-8d1c-4cf0f4dab358",
   "metadata": {},
   "source": [
    "#### 27. take a number from the user and check whether it is prime?"
   ]
  },
  {
   "cell_type": "code",
   "execution_count": 12,
   "id": "275c6512-f8ab-48c6-84f6-3dbc319806c3",
   "metadata": {},
   "outputs": [
    {
     "name": "stdin",
     "output_type": "stream",
     "text": [
      "Enter a number: 13\n"
     ]
    },
    {
     "name": "stdout",
     "output_type": "stream",
     "text": [
      "13 is a prime number\n"
     ]
    }
   ],
   "source": [
    "num = input(\"Enter a number:\")\n",
    "num = int(num)\n",
    "if num>1:\n",
    "    for n in range(2,(num//2)+1):\n",
    "        if num%n==0:\n",
    "            print(num, \"is a not prime number\")\n",
    "            break\n",
    "    else:\n",
    "        print(num,\"is a prime number\")\n",
    "else:\n",
    "    print(num,\"is not a prime number\")\n",
    "        "
   ]
  },
  {
   "cell_type": "markdown",
   "id": "80ca3947-13db-4232-92c7-b95893047f84",
   "metadata": {},
   "source": [
    "#### 28.take a string from the user and check contains only digits or not?"
   ]
  },
  {
   "cell_type": "code",
   "execution_count": 44,
   "id": "6687e79d-b92a-49d3-9cd5-7c1933486725",
   "metadata": {},
   "outputs": [
    {
     "name": "stdin",
     "output_type": "stream",
     "text": [
      "Enter a string: 09\n"
     ]
    },
    {
     "name": "stdout",
     "output_type": "stream",
     "text": [
      "Contains only digit\n"
     ]
    }
   ],
   "source": [
    "char = input(\"Enter a string:\")\n",
    "is_digit = True\n",
    "for i in char:\n",
    "    if i<'0' or i>'9':\n",
    "        is_digit = False\n",
    "        break # breaks when it contains other than digit chars\n",
    "if is_digit:\n",
    "    print(\"Contains only digit\")\n",
    "else:\n",
    "    print(\"contains other than digits\")"
   ]
  },
  {
   "cell_type": "markdown",
   "id": "313351ed-83b0-45fd-8887-691ab7187383",
   "metadata": {},
   "source": [
    "### 29.take a string from the user and check contains only  alphabets or not?"
   ]
  },
  {
   "cell_type": "code",
   "execution_count": 42,
   "id": "1708e0c0-bd82-45bc-affd-c0c859b123df",
   "metadata": {},
   "outputs": [
    {
     "name": "stdin",
     "output_type": "stream",
     "text": [
      "Enter the string: asdfghj\n"
     ]
    },
    {
     "name": "stdout",
     "output_type": "stream",
     "text": [
      "containers other than letters\n"
     ]
    }
   ],
   "source": [
    "char = input(\"Enter the string:\")\n",
    "is_alpha = True\n",
    "for i in char:\n",
    "    if not ('A'<=i<='Z' or 'a'<=i<='z'):\n",
    "        is_alpha = False\n",
    "        break\n",
    "if is_alpha:\n",
    "    print(\"contains only letters\")\n",
    "else:\n",
    "    print(\"containers other than letters\")"
   ]
  },
  {
   "cell_type": "markdown",
   "id": "61a7f995-3788-47a9-9e0f-672b7510ef22",
   "metadata": {},
   "source": [
    "### 30. take a string from the user and check contains only  special chars or not?"
   ]
  },
  {
   "cell_type": "code",
   "execution_count": 48,
   "id": "d0909505-d569-41f2-b84b-81ec6eae5792",
   "metadata": {},
   "outputs": [
    {
     "name": "stdin",
     "output_type": "stream",
     "text": [
      "Enter the string: /*-+./.'?123\n"
     ]
    },
    {
     "name": "stdout",
     "output_type": "stream",
     "text": [
      "containers other than symbols\n"
     ]
    }
   ],
   "source": [
    "char = input(\"Enter the string:\")\n",
    "is_sym = True\n",
    "for i in char:\n",
    "    if  ('A'<=i<='Z' or 'a'<=i<='z' or '0'<i<'9'):\n",
    "        is_sym = False\n",
    "        break\n",
    "if is_sym:\n",
    "    print(\"contains only symbols\")\n",
    "else:\n",
    "    print(\"containers other than symbols\")"
   ]
  },
  {
   "cell_type": "markdown",
   "id": "2b497ee5-556a-4d6f-bca4-e3d74f7833a9",
   "metadata": {},
   "source": [
    "### 31.take a string from the user and check contains only  capital letters or not?"
   ]
  },
  {
   "cell_type": "code",
   "execution_count": 14,
   "id": "b157cc30-98f1-4265-b95a-bfa488daee2a",
   "metadata": {},
   "outputs": [
    {
     "name": "stdin",
     "output_type": "stream",
     "text": [
      "Enter the string: ASDFGHJKL\n"
     ]
    },
    {
     "name": "stdout",
     "output_type": "stream",
     "text": [
      "contains only capital letters\n"
     ]
    }
   ],
   "source": [
    "char = input(\"Enter the string:\")\n",
    "is_cap = True\n",
    "for i in char:\n",
    "    if  not 'A'<=i<='Z':\n",
    "        is_cap = False\n",
    "        break\n",
    "if is_cap:\n",
    "    print(\"contains only capital letters\")\n",
    "else:\n",
    "    print(\"contains other than capital letters\")"
   ]
  },
  {
   "cell_type": "markdown",
   "id": "eb21c9e6-322c-47a9-9907-b0926083fd66",
   "metadata": {},
   "source": [
    "### 32.take a string from the user and check contains only  small letters or not?"
   ]
  },
  {
   "cell_type": "code",
   "execution_count": 17,
   "id": "ecd310fd-834e-4ea7-8110-50098850d10a",
   "metadata": {},
   "outputs": [
    {
     "name": "stdin",
     "output_type": "stream",
     "text": [
      "Enter the string: asdfghjkl\n"
     ]
    },
    {
     "name": "stdout",
     "output_type": "stream",
     "text": [
      "contains only smallletters\n"
     ]
    }
   ],
   "source": [
    "char = input(\"Enter the string:\")\n",
    "is_small = True\n",
    "for i in char:\n",
    "    if  not 'a'<=i<='z':\n",
    "        is_small = False\n",
    "        break\n",
    "if is_cap:\n",
    "    print(\"contains only smallletters\")\n",
    "else:\n",
    "    print(\"contains other than small letters\")"
   ]
  },
  {
   "cell_type": "markdown",
   "id": "350aed65-1211-4c09-b1b0-ebd92358dd01",
   "metadata": {},
   "source": [
    "### 33. WAP to replace last n occurrence of give string.\n",
    "```\n",
    "For example:”apple,orange,apple,grape,orange,apple,apple,orange”\n",
    "source: “apple”\n",
    "last occurrences: 2\n",
    "replace with: APPLE\n",
    "output:”apple,orange,apple,grape,orange,APPLE,APPLE,orange”\n",
    "```"
   ]
  },
  {
   "cell_type": "code",
   "execution_count": 30,
   "id": "c15cdc9d-b511-4c9a-b46b-868d41790473",
   "metadata": {},
   "outputs": [
    {
     "name": "stdin",
     "output_type": "stream",
     "text": [
      "Enter the no of occurrences to change: 2\n"
     ]
    },
    {
     "name": "stdout",
     "output_type": "stream",
     "text": [
      "apple,orange,apple,grape,orange,APPLE,APPLE,orange\n"
     ]
    }
   ],
   "source": [
    "fruits = \"apple,orange,apple,grape,orange,apple,apple,orange\"\n",
    "n = int(input(\"Enter the no of occurrences to change:\"))\n",
    "fruits = fruits.split(',')\n",
    "fruits.reverse()\n",
    "count = 0\n",
    "for i in range(len(fruits)):\n",
    "    if fruits[i] == \"apple\" and count<n:\n",
    "        fruits[i] = \"APPLE\"\n",
    "        count = count+1\n",
    "fruits.reverse()\n",
    "fruits = \",\".join(fruits)     \n",
    "print(fruits)"
   ]
  },
  {
   "cell_type": "markdown",
   "id": "dca4ce0a-fce8-4f0c-b8e6-2f6db5d74316",
   "metadata": {},
   "source": [
    "### 34. Convert the total string in to lower case. Without using lower() function."
   ]
  },
  {
   "cell_type": "code",
   "execution_count": 53,
   "id": "81aa9fc9-e462-49ff-ae8b-d4e053ddfc22",
   "metadata": {},
   "outputs": [
    {
     "name": "stdin",
     "output_type": "stream",
     "text": [
      "Enter the string: HEllO@1234%\n"
     ]
    },
    {
     "name": "stdout",
     "output_type": "stream",
     "text": [
      "hello@1234%\n"
     ]
    }
   ],
   "source": [
    "l = input(\"Enter the string:\")\n",
    "l1 =\"\"\n",
    "for i in l:\n",
    "    if 'A'<=i<='Z':\n",
    "        i = ord(i)+32\n",
    "        i = chr(i)\n",
    "    l1 = l1+i\n",
    "print(l1)"
   ]
  },
  {
   "cell_type": "markdown",
   "id": "ff5479b3-37ac-48d9-b274-66efc707d759",
   "metadata": {},
   "source": [
    "### 35. Convert the total string in to upper case. Without using upper() function."
   ]
  },
  {
   "cell_type": "code",
   "execution_count": 55,
   "id": "8b6bcb81-f7fc-4a00-9637-dadf886f6535",
   "metadata": {},
   "outputs": [
    {
     "name": "stdin",
     "output_type": "stream",
     "text": [
      "Enter the string: HeLLO @12455()\n"
     ]
    },
    {
     "name": "stdout",
     "output_type": "stream",
     "text": [
      "HELLO @12455()\n"
     ]
    }
   ],
   "source": [
    "s = input(\"Enter the string:\")\n",
    "s1 =\"\"\n",
    "for i in s:\n",
    "    if 'a'<=i<='z':\n",
    "        i = ord(i)-32\n",
    "        i = chr(i)\n",
    "    s1 = s1+i\n",
    "print(s1)"
   ]
  },
  {
   "cell_type": "markdown",
   "id": "a3eea33e-dce4-4b0f-857c-f3b191035b10",
   "metadata": {},
   "source": [
    "### 36. Show the below menu to the user until and until user select quit and display corresponding os message\n",
    "\n",
    "```\n",
    "Menu:\n",
    "1. windows\n",
    "2. Linux\n",
    "3. Mac\n",
    "4. quit\n",
    "```\n"
   ]
  },
  {
   "cell_type": "code",
   "execution_count": 1,
   "id": "700cd009-ac1e-48ee-a5b9-bc70445dca77",
   "metadata": {},
   "outputs": [
    {
     "name": "stdout",
     "output_type": "stream",
     "text": [
      "Menu:\n",
      "\t1. Windows\n",
      "\t2. Linux\n",
      "\t3. Mac\n",
      "\t4. Quit\n"
     ]
    },
    {
     "name": "stdin",
     "output_type": "stream",
     "text": [
      "Enter your option: 1\n"
     ]
    },
    {
     "name": "stdout",
     "output_type": "stream",
     "text": [
      "You have selected Windows\n",
      "Menu:\n",
      "\t1. Windows\n",
      "\t2. Linux\n",
      "\t3. Mac\n",
      "\t4. Quit\n"
     ]
    },
    {
     "name": "stdin",
     "output_type": "stream",
     "text": [
      "Enter your option: 2\n"
     ]
    },
    {
     "name": "stdout",
     "output_type": "stream",
     "text": [
      "You have selected Linux\n",
      "Menu:\n",
      "\t1. Windows\n",
      "\t2. Linux\n",
      "\t3. Mac\n",
      "\t4. Quit\n"
     ]
    },
    {
     "name": "stdin",
     "output_type": "stream",
     "text": [
      "Enter your option: 4\n"
     ]
    },
    {
     "name": "stdout",
     "output_type": "stream",
     "text": [
      "Exiting the menu. Bye!\n"
     ]
    }
   ],
   "source": [
    "for _ in range(1000):\n",
    "    print(\"Menu:\\n\\t1. Windows\\n\\t2. Linux\\n\\t3. Mac\\n\\t4. Quit\")\n",
    "    choice = input(\"Enter your option:\")\n",
    "    if choice == \"1\":\n",
    "        print(\"You have selected Windows\")\n",
    "    elif choice == \"2\":\n",
    "        print(\"You have selected Linux\")\n",
    "    elif choice == \"3\":\n",
    "        print(\"You have selected Mac\")\n",
    "    elif choice == \"4\":\n",
    "        print(\"Exiting the menu. Bye!\")\n",
    "        break\n",
    "    else:\n",
    "        print(\"You entered invalid option. Please select 1-4\")"
   ]
  },
  {
   "cell_type": "markdown",
   "id": "6e3aee37-0c2f-49f1-a73c-85bde3d5f9df",
   "metadata": {},
   "source": [
    "### 37. take a string from the user and check contains at least one digit or not?"
   ]
  },
  {
   "cell_type": "code",
   "execution_count": 14,
   "id": "570f9d8d-e5fc-4212-a9aa-1d2c3d3594ee",
   "metadata": {},
   "outputs": [
    {
     "name": "stdin",
     "output_type": "stream",
     "text": [
      "Enter the string: hello123\n"
     ]
    },
    {
     "name": "stdout",
     "output_type": "stream",
     "text": [
      "It contains atleast 1 digit\n"
     ]
    }
   ],
   "source": [
    "s = input(\"Enter the string:\")\n",
    "digit = 0\n",
    "for i in s:\n",
    "    if '0'<=i<='9':\n",
    "        digit = digit+1\n",
    "        break\n",
    "if digit:\n",
    "    print(\"It contains atleast 1 digit\")\n",
    "else:\n",
    "    print(\"It does not contain digits\")"
   ]
  },
  {
   "cell_type": "markdown",
   "id": "184c57cd-32a3-4cfe-b6e9-5a5525073178",
   "metadata": {},
   "source": [
    "### 38. take a string from the user and check contains at least one alphabets or not?"
   ]
  },
  {
   "cell_type": "code",
   "execution_count": 31,
   "id": "2463fd75-dfed-4cee-b6cc-62e238a9cfea",
   "metadata": {},
   "outputs": [
    {
     "name": "stdin",
     "output_type": "stream",
     "text": [
      "Enter the string: asdfghjkl\n"
     ]
    },
    {
     "name": "stdout",
     "output_type": "stream",
     "text": [
      "It contains atleast 1 letter\n"
     ]
    }
   ],
   "source": [
    "s = input(\"Enter the string:\")\n",
    "letter = 0\n",
    "for i in s:\n",
    "    if 'A'<=i<='Z' or 'a'<=i<='z':\n",
    "        letter = letter+1\n",
    "        break\n",
    "if letter:\n",
    "    print(\"It contains atleast 1 letter\")\n",
    "else:\n",
    "    print(\"It does not contain letters\")"
   ]
  },
  {
   "cell_type": "markdown",
   "id": "831414ba-c424-4999-a34a-53e45ffece29",
   "metadata": {},
   "source": [
    "### 39. take a string from the user and check contains at least one chars or not?"
   ]
  },
  {
   "cell_type": "code",
   "execution_count": 13,
   "id": "320d3e9c-4f04-47eb-aee7-7b8aefd5aa5d",
   "metadata": {},
   "outputs": [
    {
     "name": "stdin",
     "output_type": "stream",
     "text": [
      "Enter the string: asdfghjQWERTYUIKL\n"
     ]
    },
    {
     "name": "stdout",
     "output_type": "stream",
     "text": [
      "It contains atleast 1 letter\n"
     ]
    }
   ],
   "source": [
    "s = input(\"Enter the string:\")\n",
    "char = 0\n",
    "for i in s:\n",
    "    if 'A'<=i<='Z' or 'a'<=i<='z':\n",
    "        char = char+1\n",
    "        break\n",
    "if char:\n",
    "    print(\"It contains atleast 1 letter\")\n",
    "else:\n",
    "    print(\"It does not contain letters\")"
   ]
  },
  {
   "cell_type": "markdown",
   "id": "5ebaac28-c7c9-4d44-8f6a-6855efe2d31f",
   "metadata": {},
   "source": [
    "### 40. take a string from the user and check contains at least one capital letter or not?"
   ]
  },
  {
   "cell_type": "code",
   "execution_count": 27,
   "id": "258fbb5c-59f2-4ff8-97f3-7ca0dff4113a",
   "metadata": {},
   "outputs": [
    {
     "name": "stdin",
     "output_type": "stream",
     "text": [
      "Enter the string: asdfghjkl\n"
     ]
    },
    {
     "name": "stdout",
     "output_type": "stream",
     "text": [
      "It does not contain capital letters\n"
     ]
    }
   ],
   "source": [
    "s = input(\"Enter the string:\")\n",
    "cap = 0\n",
    "for i in s:\n",
    "    if 'A'<=i<='Z':\n",
    "        cap = cap+1\n",
    "        break\n",
    "if cap:\n",
    "    print(\"It contains atleast 1 capital letter\")\n",
    "else:\n",
    "    print(\"It does not contain capital letters\")"
   ]
  },
  {
   "cell_type": "markdown",
   "id": "57be0e6c-2b36-4695-8292-6656a6725c4e",
   "metadata": {},
   "source": [
    "### 41. take a string from the user and check contains at least one small letter or not?"
   ]
  },
  {
   "cell_type": "code",
   "execution_count": 37,
   "id": "e24af699-3e25-44fd-ab48-804a6c831600",
   "metadata": {},
   "outputs": [
    {
     "name": "stdin",
     "output_type": "stream",
     "text": [
      "Enter the string: SDFGHJKL\n"
     ]
    },
    {
     "name": "stdout",
     "output_type": "stream",
     "text": [
      "It does not contain small letters\n"
     ]
    }
   ],
   "source": [
    "s = input(\"Enter the string:\")\n",
    "small = 0\n",
    "for i in s:\n",
    "    if 'a'<=i<='z':\n",
    "        small = small+1\n",
    "        break\n",
    "if small:\n",
    "    print(\"It contains atleast 1 small letter\")\n",
    "else:\n",
    "    print(\"It does not contain small letters\")"
   ]
  },
  {
   "cell_type": "markdown",
   "id": "7b4d65b1-114b-4913-8902-6caf5e417b69",
   "metadata": {},
   "source": [
    "### 42. Print the first 100 odd numbers"
   ]
  },
  {
   "cell_type": "code",
   "execution_count": 43,
   "id": "ad36fbb6-6a0f-49f6-b1d9-1f086e81a9b6",
   "metadata": {},
   "outputs": [
    {
     "name": "stdout",
     "output_type": "stream",
     "text": [
      "[1, 3, 5, 7, 9, 11, 13, 15, 17, 19, 21, 23, 25, 27, 29, 31, 33, 35, 37, 39, 41, 43, 45, 47, 49, 51, 53, 55, 57, 59, 61, 63, 65, 67, 69, 71, 73, 75, 77, 79, 81, 83, 85, 87, 89, 91, 93, 95, 97, 99, 101, 103, 105, 107, 109, 111, 113, 115, 117, 119, 121, 123, 125, 127, 129, 131, 133, 135, 137, 139, 141, 143, 145, 147, 149, 151, 153, 155, 157, 159, 161, 163, 165, 167, 169, 171, 173, 175, 177, 179, 181, 183, 185, 187, 189, 191, 193, 195, 197, 199]\n"
     ]
    }
   ],
   "source": [
    "odd_numbers = [i for i in range(1, 200, 2)]\n",
    "print(odd_numbers)\n"
   ]
  },
  {
   "cell_type": "markdown",
   "id": "fa939a8b-98a1-4595-826a-759b3d294428",
   "metadata": {},
   "source": [
    "### 43. Determine the factors of a number entered  by the user"
   ]
  },
  {
   "cell_type": "code",
   "execution_count": 60,
   "id": "144857bb-20d4-407a-9504-c947779eec86",
   "metadata": {},
   "outputs": [
    {
     "name": "stdin",
     "output_type": "stream",
     "text": [
      "Enter the number: 9\n"
     ]
    },
    {
     "name": "stdout",
     "output_type": "stream",
     "text": [
      "1 3 9 "
     ]
    }
   ],
   "source": [
    "num = input(\"Enter the number:\")\n",
    "num = int(num)\n",
    "for i in range(1,num+1):\n",
    "        if num%i == 0:\n",
    "            print(i, end=' ')"
   ]
  },
  {
   "cell_type": "markdown",
   "id": "f203fe03-3143-4e2d-8ebf-ad9aaf91a615",
   "metadata": {},
   "source": [
    "### 44. Play a number guessing game (User enters a guess, you print YES or Higher or Lower). This should continue until and until user gives a correct number or want to quit in the middle.\n",
    "* Get a hidden number by using random.randint(1,100)\n"
   ]
  },
  {
   "cell_type": "code",
   "execution_count": 1,
   "id": "72f6a6bf-62df-4c30-867e-3106dd9e569d",
   "metadata": {},
   "outputs": [
    {
     "name": "stdin",
     "output_type": "stream",
     "text": [
      "Enter the guessing number: 9\n"
     ]
    },
    {
     "name": "stdout",
     "output_type": "stream",
     "text": [
      "lower\n"
     ]
    },
    {
     "name": "stdin",
     "output_type": "stream",
     "text": [
      "Enter the guessing number: 8\n"
     ]
    },
    {
     "name": "stdout",
     "output_type": "stream",
     "text": [
      "lower\n"
     ]
    },
    {
     "name": "stdin",
     "output_type": "stream",
     "text": [
      "Enter the guessing number: 7\n"
     ]
    },
    {
     "name": "stdout",
     "output_type": "stream",
     "text": [
      "lower\n"
     ]
    },
    {
     "name": "stdin",
     "output_type": "stream",
     "text": [
      "Enter the guessing number: 6\n"
     ]
    },
    {
     "name": "stdout",
     "output_type": "stream",
     "text": [
      "lower\n"
     ]
    },
    {
     "name": "stdin",
     "output_type": "stream",
     "text": [
      "Enter the guessing number: 4\n"
     ]
    },
    {
     "name": "stdout",
     "output_type": "stream",
     "text": [
      "lower\n"
     ]
    },
    {
     "name": "stdin",
     "output_type": "stream",
     "text": [
      "Enter the guessing number: 3\n"
     ]
    },
    {
     "name": "stdout",
     "output_type": "stream",
     "text": [
      "lower\n"
     ]
    },
    {
     "name": "stdin",
     "output_type": "stream",
     "text": [
      "Enter the guessing number: 2\n"
     ]
    },
    {
     "name": "stdout",
     "output_type": "stream",
     "text": [
      "guessed correct\n"
     ]
    }
   ],
   "source": [
    "import random\n",
    "b = random.randint(1,10)\n",
    "for i in range(1,10):\n",
    "    a = int(input(\"Enter the guessing number:\"))\n",
    "    if a == b:\n",
    "        print(\"guessed correct\")\n",
    "        break\n",
    "    elif a>b:\n",
    "        print(\"lower\")\n",
    "    else:\n",
    "        print(\"High\")\n"
   ]
  },
  {
   "cell_type": "markdown",
   "id": "232db4ca-5370-48ce-92aa-a69353b17b0e",
   "metadata": {},
   "source": [
    "### 45. Take two numbers from the user a,b check whether a is divisible by b or not?"
   ]
  },
  {
   "cell_type": "code",
   "execution_count": 65,
   "id": "c844c574-752c-4d0e-a41f-cee7b58de7d7",
   "metadata": {},
   "outputs": [
    {
     "name": "stdin",
     "output_type": "stream",
     "text": [
      "enter a value: 18\n",
      "enter b value: 2\n"
     ]
    },
    {
     "name": "stdout",
     "output_type": "stream",
     "text": [
      "18 is divisible by 2\n"
     ]
    }
   ],
   "source": [
    "a = input(\"enter a value:\")\n",
    "b = input(\"enter b value:\")\n",
    "a = int(a)\n",
    "b = int(b)\n",
    "if a%b == 0:\n",
    "    print(f\"{a} is divisible by {b}\")"
   ]
  },
  {
   "cell_type": "markdown",
   "id": "698dad76-673e-4ab4-aa6d-0103cdfd728d",
   "metadata": {},
   "source": [
    "### 46. Find the sum of all the multiples of 3 or 5 below 1000"
   ]
  },
  {
   "cell_type": "code",
   "execution_count": 69,
   "id": "661f45e1-32c6-4205-a379-12700d870aff",
   "metadata": {},
   "outputs": [
    {
     "name": "stdout",
     "output_type": "stream",
     "text": [
      "233168\n"
     ]
    }
   ],
   "source": [
    "add=0\n",
    "for i in range(1000):\n",
    "    if i%3==0 or i%5==0:\n",
    "        add=add+i\n",
    "print(add)"
   ]
  },
  {
   "cell_type": "markdown",
   "id": "22431778-560f-48d8-88ec-6861ba51f609",
   "metadata": {},
   "source": [
    "### 47. Write a program to find out big of two numbers"
   ]
  },
  {
   "cell_type": "code",
   "execution_count": 85,
   "id": "0a0ee885-f069-4146-abb0-5da066172bad",
   "metadata": {},
   "outputs": [
    {
     "name": "stdin",
     "output_type": "stream",
     "text": [
      "enter number 1: 90\n",
      "enter number 2: 29\n"
     ]
    },
    {
     "name": "stdout",
     "output_type": "stream",
     "text": [
      "biggest number is 90\n"
     ]
    }
   ],
   "source": [
    "biggest = None\n",
    "count = 2\n",
    "for i in range(2):\n",
    "    num = int(input(f\"enter number {i+1}:\"))\n",
    "    if biggest is None or biggest<num:\n",
    "      biggest = num\n",
    "print(f\"biggest number is {biggest}\")"
   ]
  },
  {
   "cell_type": "markdown",
   "id": "e8ced94e-40f6-4452-b9d8-014340600f7a",
   "metadata": {},
   "source": [
    "### 48. Write a program to find out big of given numbers"
   ]
  },
  {
   "cell_type": "code",
   "execution_count": 77,
   "id": "40498d55-482b-45ea-8a45-4b48f15e7f52",
   "metadata": {},
   "outputs": [
    {
     "name": "stdin",
     "output_type": "stream",
     "text": [
      "How many numbers do you want to compare?  10\n",
      "Enter number 1:  5\n",
      "Enter number 2:  6\n",
      "Enter number 3:  45\n",
      "Enter number 4:  78\n",
      "Enter number 5:  94\n",
      "Enter number 6:  62\n",
      "Enter number 7:  15\n",
      "Enter number 8:  48\n",
      "Enter number 9:  56\n",
      "Enter number 10:  23\n"
     ]
    },
    {
     "name": "stdout",
     "output_type": "stream",
     "text": [
      "The biggest number is 94\n"
     ]
    }
   ],
   "source": [
    "# Initialize a variable to hold the biggest number\n",
    "biggest = None\n",
    "\n",
    "# Ask user for how many numbers they want to input\n",
    "count = int(input(\"How many numbers do you want to compare? \"))\n",
    "\n",
    "# Use a for loop to get all the numbers and find the biggest\n",
    "for i in range(count):\n",
    "    num = int(input(f\"Enter number {i + 1}: \"))\n",
    "    \n",
    "    # On the first iteration, set the first number as the biggest\n",
    "    if biggest is None or num > biggest:\n",
    "        biggest = num\n",
    "\n",
    "# Print the biggest number after the loop completes\n",
    "print(f\"The biggest number is {biggest}\")\n"
   ]
  },
  {
   "cell_type": "markdown",
   "id": "f822cf70-906b-4790-a25a-e8191c116487",
   "metadata": {},
   "source": [
    "### 49. find out the index of  third occurrence of given substring"
   ]
  },
  {
   "cell_type": "code",
   "execution_count": 97,
   "id": "3b475a7b-27cb-424e-a432-16a18e0a1df7",
   "metadata": {},
   "outputs": [
    {
     "name": "stdin",
     "output_type": "stream",
     "text": [
      "Enter a string apple orange apple grape apple banana apple\n",
      "Enter the substring: apple\n"
     ]
    },
    {
     "name": "stdout",
     "output_type": "stream",
     "text": [
      "The index of the third occurrence of 'apple' is: 25\n"
     ]
    }
   ],
   "source": [
    "main_str = input(\"Enter a string\")\n",
    "sub_str = input(\"Enter the substring:\")\n",
    "occurance_count = 0\n",
    "index =-1\n",
    "for i in range(len(main_str)):\n",
    "    if main_str[i:i+len(sub_str)] == sub_str:\n",
    "        occurance_count = occurance_count+1\n",
    "        if occurance_count == 3:\n",
    "            index = i\n",
    "            break\n",
    "if index != -1:\n",
    "    print(f\"The index of the third occurrence of '{sub_str}' is: {index}\")\n",
    "else:\n",
    "    print(f\"'{sub_str}' does not occur 3 times.\")   \n",
    "        "
   ]
  },
  {
   "cell_type": "markdown",
   "id": "b2a4b314-ee11-425d-9e3d-fcfd4dd2a66b",
   "metadata": {},
   "source": [
    "### 50. find out the index nth occurrence of given substring"
   ]
  },
  {
   "cell_type": "code",
   "execution_count": 103,
   "id": "63c9fa29-d3a3-49c0-93f0-c31272957223",
   "metadata": {},
   "outputs": [
    {
     "name": "stdin",
     "output_type": "stream",
     "text": [
      "Enter a string Apples Bread Milk Eggs Chicken Rice Spinach Cheese Yogurt Coffee Apples Apples Yogurt\n",
      "Enter the substring: Apples\n",
      "Enter the number of occurrence: 2\n"
     ]
    },
    {
     "name": "stdout",
     "output_type": "stream",
     "text": [
      "The index of the third occurrence of 'Apples' is: 65\n"
     ]
    }
   ],
   "source": [
    "main_str = input(\"Enter a string\")\n",
    "sub_str = input(\"Enter the substring:\")\n",
    "n = int(input(\"Enter the number of occurrence:\"))\n",
    "occurance_count = 0\n",
    "index =-1\n",
    "for i in range(len(main_str)):\n",
    "    if main_str[i:i+len(sub_str)] == sub_str:\n",
    "        occurance_count = occurance_count+1\n",
    "        if occurance_count == n:\n",
    "            index = i\n",
    "            break\n",
    "if index != -1:\n",
    "    print(f\"The index of the third occurrence of '{sub_str}' is: {index}\")\n",
    "else:\n",
    "    print(f\"'{sub_str}' does not occur {n} times.\")  "
   ]
  },
  {
   "cell_type": "markdown",
   "id": "9cfcbad9-fd33-415d-a2a1-940670d21a5b",
   "metadata": {},
   "source": [
    "### 51. Take some single digit numbers from the user and findout min, maximum, sum, average"
   ]
  },
  {
   "cell_type": "code",
   "execution_count": null,
   "id": "4a18fa6c-43d5-4e39-bd93-b87a4fbca093",
   "metadata": {},
   "outputs": [],
   "source": [
    "count = int(input(\"How many numbers you want do find min,max,sum and avg?\"))\n",
    "add = 0\n",
    "valid_count = 0\n",
    "biggest = None\n",
    "smallest = None\n",
    "for i in range(count):\n",
    "    num = int(input(f\"Enter number {i + 1} (between 0 to 9): \"))\n",
    "    if 0<=num<=9:\n",
    "        add = add+num\n",
    "        valid_count = valid_count + 1\n",
    "        if biggest is None or num>biggest:\n",
    "            biggest = num\n",
    "        if smallest is None or num<smallest:\n",
    "            smallest = num\n",
    "    else:\n",
    "        print(\"numbers should be between 0 to 9\")\n",
    "if valid_count>0:\n",
    "    avg = add/valid_count\n",
    "else:\n",
    "    avg = 0\n",
    "print(f\"min = {smallest}\")\n",
    "print(f\"max = {biggest}\")\n",
    "print(f\"sum = {add}\")\n",
    "print(f\"average = {avg}\")"
   ]
  },
  {
   "cell_type": "markdown",
   "id": "30dd18e4-fccd-4667-b1b3-b45ac6ab1744",
   "metadata": {},
   "source": [
    "### 52. print the number in proper mathematical way.\n",
    "```\t\n",
    "Consider that we have 6 digit numbers.\n",
    "Number format  WAP> 10 -> 000010\n",
    "       \t\t100 ->  000100\n",
    "      \t\t1000 ->  001000\n",
    " \t\t 2345678  ->  2345678\n",
    "\tIf the number has more than 6 digits then print as it is.\n",
    "```"
   ]
  },
  {
   "cell_type": "code",
   "execution_count": 6,
   "id": "55d56de2-36e4-495d-8cbb-6f3395df9266",
   "metadata": {},
   "outputs": [
    {
     "name": "stdin",
     "output_type": "stream",
     "text": [
      "Enter a number:  45\n"
     ]
    },
    {
     "name": "stdout",
     "output_type": "stream",
     "text": [
      "000045 <class 'str'>\n"
     ]
    }
   ],
   "source": [
    "# Get input from the user\n",
    "number = int(input(\"Enter a number: \"))\n",
    "\n",
    "# Convert the number to a string to check its length\n",
    "number_str = str(number)\n",
    "\n",
    "# Check the length of the number\n",
    "if len(number_str) > 6:\n",
    "    formatted_number = number_str  # If more than 6 digits, keep it as is\n",
    "else:\n",
    "    formatted_number = f\"{number:06d}\"  # Format with leading zeros\n",
    "\n",
    "# Print the formatted number\n",
    "print(formatted_number)\n"
   ]
  },
  {
   "cell_type": "markdown",
   "id": "149a58ea-b3f6-467a-843b-b9d3fab5632a",
   "metadata": {},
   "source": [
    "### 53. names  =\"emp1,emp2,emp3,emp4\" iterate through the employee names."
   ]
  },
  {
   "cell_type": "code",
   "execution_count": 26,
   "id": "c5abc084-5189-4659-8022-eaaff0cf7baa",
   "metadata": {},
   "outputs": [
    {
     "name": "stdout",
     "output_type": "stream",
     "text": [
      "emp1\n",
      "emp2\n",
      "emp3\n",
      "emp4\n"
     ]
    }
   ],
   "source": [
    "names = \"emp1,emp2,emp3,emp4\"\n",
    "names = names.split(\",\")\n",
    "for i in names:\n",
    "    print(i)"
   ]
  },
  {
   "cell_type": "markdown",
   "id": "54c6419a-21df-45c3-ada1-3934ebb14c56",
   "metadata": {},
   "source": [
    "### 54. Take actual string, source string, destination string. replce first nth occurrences of source string with destination string of actual string."
   ]
  },
  {
   "cell_type": "code",
   "execution_count": 3,
   "id": "17c4576d-97b5-4f2e-ab5e-c6870d163733",
   "metadata": {},
   "outputs": [
    {
     "name": "stdin",
     "output_type": "stream",
     "text": [
      "Enter a string: tejas tejaswini tejas teja teju \n",
      "Enter source string: tejas\n",
      "Enter destination string: teju\n",
      "Enter the occurence number: 2\n"
     ]
    },
    {
     "name": "stdout",
     "output_type": "stream",
     "text": [
      "tejas tejuwini tejas teja teju \n"
     ]
    }
   ],
   "source": [
    "actual_str = input(\"Enter a string:\")\n",
    "source_str = input(\"Enter source string:\")\n",
    "destination_str = input(\"Enter destination string:\")\n",
    "n = int(input(\"Enter the occurence number:\"))\n",
    "count = 0\n",
    "for i in range(len(actual_str)):\n",
    "    if actual_str[i:i+(len(source_str))] == source_str and count<n:\n",
    "        count+=1\n",
    "    if count == n:\n",
    "        actual_str = actual_str[:i]+ destination_str + actual_str[i+(len(source_str)):]\n",
    "        break\n",
    "print(actual_str)\n"
   ]
  },
  {
   "cell_type": "markdown",
   "id": "1876f0b5-8bcd-44e0-b243-8ad58c11ff5c",
   "metadata": {},
   "source": [
    "### 55. Take a two numbers from the user and do below menu driven operations\n",
    "```\n",
    "1. addition\n",
    "2. multiples\n",
    "3.division\n",
    "4.sqrt\n",
    "5. pow    a**b\n",
    "6.subtraction\n",
    "```\n",
    "* After selection do the corresponding operation.\n",
    "* Note: user may give int, or float numbers. You should check whether it is proper digits or not. I.e the user given string should be in the position to convert to float. Other wise show the “inproper string given” Error.\n"
   ]
  },
  {
   "cell_type": "code",
   "execution_count": null,
   "id": "b53bacfb-3411-4cb4-87cf-46c3439354d5",
   "metadata": {},
   "outputs": [],
   "source": [
    "# num1 = input(\"Enter num1:\")\n",
    "# num2 = input(\"Enter num2:\")\n",
    "# if num1.isdigit() and  num2.isdigit():\n",
    "#     num1 = float(num1)\n",
    "#     num2 = float(num2)\n",
    "    \n",
    "# else:\n",
    "#     print(\"improper string given\")\n"
   ]
  },
  {
   "cell_type": "markdown",
   "id": "b04463c8-3959-4535-af8a-757d960e4c47",
   "metadata": {},
   "source": [
    "### 56. Take numbers from the user and find out min, maximum, sum, average "
   ]
  },
  {
   "cell_type": "code",
   "execution_count": 5,
   "id": "f34a85a2-de76-4281-89ea-94e969ebe6dd",
   "metadata": {},
   "outputs": [
    {
     "name": "stdin",
     "output_type": "stream",
     "text": [
      "How many numbers you want do find min,max,sum and avg? 5\n",
      "Enter number 1 :  25\n",
      "Enter number 2 :  36\n",
      "Enter number 3 :  53\n",
      "Enter number 4 :  56\n",
      "Enter number 5 :  265\n"
     ]
    },
    {
     "name": "stdout",
     "output_type": "stream",
     "text": [
      "min = 25\n",
      "max = 265\n",
      "sum = 435\n",
      "average = 87.0\n"
     ]
    }
   ],
   "source": [
    "count = int(input(\"How many numbers you want do find min,max,sum and avg?\"))\n",
    "add = 0\n",
    "valid_count = 0\n",
    "biggest = None\n",
    "smallest = None\n",
    "for i in range(count):\n",
    "    num = int(input(f\"Enter number {i + 1} : \"))\n",
    "    add = add+num\n",
    "    valid_count = valid_count + 1\n",
    "    if biggest is None or num>biggest:\n",
    "        biggest = num\n",
    "    if smallest is None or num<smallest:\n",
    "        smallest = num\n",
    "if valid_count:\n",
    "    avg = add/valid_count\n",
    "else:\n",
    "    avg = 0\n",
    "print(f\"min = {smallest}\")\n",
    "print(f\"max = {biggest}\")\n",
    "print(f\"sum = {add}\")\n",
    "print(f\"average = {avg}\")"
   ]
  },
  {
   "cell_type": "markdown",
   "id": "108450c7-8c4f-41e2-85c4-fb5832ab128c",
   "metadata": {},
   "source": [
    "### 57. l=[1,2,3,5,7,8,9,10,11,12,13,20,22,23,24,25,26,27,20,21,22,4] \n",
    "* find out how many even numbers are there\n",
    "* how many odd numbers are there\n",
    "* how many positive numbers are there\n",
    "* how many negative numbers are there\n",
    "* how many prime numbers are there\n",
    "* how many perfect numbers are there\n",
    "* how many Armstrong numbers are there\n",
    "* how many palindrome numbers are there."
   ]
  },
  {
   "cell_type": "code",
   "execution_count": 11,
   "id": "c812a3b6-9900-47ea-a079-d2fb13041500",
   "metadata": {},
   "outputs": [
    {
     "name": "stdout",
     "output_type": "stream",
     "text": [
      "even count = 11\n",
      "odd count= 11\n",
      "positive numbers count= 22\n",
      "negative numbers count= 0\n",
      "prime numbers count= 7\n",
      "prefect numbers count= 0\n",
      "armstrong numbers count= 8\n",
      "palindrome number= 11\n"
     ]
    }
   ],
   "source": [
    "l = [1,2,3,5,7,8,9,10,11,12,13,20,22,23,24,25,26,27,20,21,22,4]\n",
    "even = 0\n",
    "odd = 0\n",
    "pos_count = 0\n",
    "neg_count = 0\n",
    "prime_count = 0\n",
    "perfect_nums_count = 0\n",
    "armstrong_count = 0\n",
    "palindrome_count = 0\n",
    "for i in l:\n",
    "    # Number of even and odd numbers\n",
    "    if i%2 == 0:\n",
    "        even = even +1\n",
    "    else:\n",
    "        odd = odd +1\n",
    "    # Number of positive and negative numbers\n",
    "    if i>=0:\n",
    "        pos_count = pos_count+1\n",
    "    else:\n",
    "        neg_count = neg_count+1\n",
    "    # Number of prime numbers\n",
    "    if i>1:\n",
    "        is_prime = True\n",
    "        for j in range(2,(i//2)+1):\n",
    "            if i%j ==0:\n",
    "                is_prime = False\n",
    "                break\n",
    "        if is_prime:\n",
    "            prime_count = prime_count+1\n",
    "    # Number of perfect numbers\n",
    "    if i>1:\n",
    "        divisor_sum = 0\n",
    "        for k in range(2,i):\n",
    "            if i%k == 0:\n",
    "                divisor_sum = divisor_sum +k\n",
    "        if divisor_sum == i:\n",
    "            perfect_nums_count = perfect_nums_count +1\n",
    "    # Number of Armstrong numbers\n",
    "    digits = [int(d) for d in str(i)]  # Get each digit of the number\n",
    "    power = len(digits)  # Get the number of digits\n",
    "    armstrong_sum = sum([d ** power for d in digits])  # Sum of digits raised to the power of the number of digits\n",
    "    if armstrong_sum == i:\n",
    "        armstrong_count = armstrong_count+1\n",
    "    # Count of palindrome numbers\n",
    "    str_i = str(i)\n",
    "    if str_i == str_i[::-1]:\n",
    "        palindrome_count = palindrome_count +1\n",
    "    \n",
    "print(\"even count =\",even)\n",
    "print(\"odd count=\",odd)    \n",
    "print(\"positive numbers count=\",pos_count)\n",
    "print(\"negative numbers count=\",neg_count)\n",
    "print(\"prime numbers count=\",prime_count)\n",
    "print(\"prefect numbers count=\",perfect_nums_count)\n",
    "print(\"armstrong numbers count=\",armstrong_count)\n",
    "print(\"palindrome number=\",palindrome_count)"
   ]
  },
  {
   "cell_type": "markdown",
   "id": "61431c39-bb6b-49a3-94e6-fa42cf8eff1a",
   "metadata": {},
   "source": [
    "### 58. Take a string from the user and find out how many digits are there, how many special symbols are there, how many small letters are there, how many caps are there."
   ]
  },
  {
   "cell_type": "code",
   "execution_count": null,
   "id": "4c35f7dd-d038-4f98-bcf8-172e55158c38",
   "metadata": {},
   "outputs": [],
   "source": []
  },
  {
   "cell_type": "code",
   "execution_count": 91,
   "id": "71f3cfaf-9b9c-4d77-b0fc-91f565b4f225",
   "metadata": {},
   "outputs": [
    {
     "name": "stdin",
     "output_type": "stream",
     "text": [
      "Enter a string: abc123def456ghi789\n"
     ]
    },
    {
     "name": "stdout",
     "output_type": "stream",
     "text": [
      "cba123fed456ihg789\n"
     ]
    }
   ],
   "source": [
    "s = input(\"Enter a string:\")\n",
    "res = \"\"\n",
    "sub = \"\"\n",
    "for i in s:\n",
    "    if i.isalpha():\n",
    "        if sub.isalpha():\n",
    "            pass\n",
    "        else:        \n",
    "            res= res +sub\n",
    "            sub = ''\n",
    "    else:\n",
    "        if sub.isalpha(): \n",
    "            sub = sub[::-1]\n",
    "            res = res+sub\n",
    "            sub = ''\n",
    "    sub = sub +i  \n",
    "res = res+sub\n",
    "print(res)"
   ]
  },
  {
   "cell_type": "code",
   "execution_count": null,
   "id": "818d7e53-347f-492c-90ed-837ac1419443",
   "metadata": {},
   "outputs": [],
   "source": []
  }
 ],
 "metadata": {
  "kernelspec": {
   "display_name": "Python 3 (ipykernel)",
   "language": "python",
   "name": "python3"
  },
  "language_info": {
   "codemirror_mode": {
    "name": "ipython",
    "version": 3
   },
   "file_extension": ".py",
   "mimetype": "text/x-python",
   "name": "python",
   "nbconvert_exporter": "python",
   "pygments_lexer": "ipython3",
   "version": "3.12.4"
  }
 },
 "nbformat": 4,
 "nbformat_minor": 5
}

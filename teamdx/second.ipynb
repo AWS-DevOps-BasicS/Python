{
 "cells": [
  {
   "cell_type": "code",
   "execution_count": 21,
   "id": "012dbde3-165b-4aa4-b63e-8b3ec620f04a",
   "metadata": {},
   "outputs": [
    {
     "name": "stdout",
     "output_type": "stream",
     "text": [
      "pot 2916321911040\n",
      "p 140735436698584\n",
      "o 140735436698536\n",
      "t 140735436698776\n"
     ]
    }
   ],
   "source": [
    "s = \"pot\"\n",
    "print(s, id(s))\n",
    "print(s[0],id(s[0]))\n",
    "print(s[1],id(s[1]))\n",
    "print(s[2],id(s[2]))"
   ]
  },
  {
   "cell_type": "code",
   "execution_count": 23,
   "id": "d4135401-e838-41f5-95a8-f1957cc55636",
   "metadata": {},
   "outputs": [
    {
     "name": "stdout",
     "output_type": "stream",
     "text": [
      "pot 2916321911040\n",
      "p 140735436698584\n",
      "o 140735436698536\n",
      "t 140735436698776\n",
      "pot 2916321911040\n",
      "p 140735436698584\n",
      "o 140735436698536\n",
      "t 140735436698776\n"
     ]
    }
   ],
   "source": [
    "s = \"pot\"\n",
    "d=s\n",
    "print(s, id(s))\n",
    "print(s[0],id(s[0]))\n",
    "print(s[1],id(s[1]))\n",
    "print(s[2],id(s[2]))\n",
    "print(d, id(d))\n",
    "print(d[0],id(d[0]))\n",
    "print(d[1],id(d[1]))\n",
    "print(d[2],id(d[2]))"
   ]
  },
  {
   "cell_type": "code",
   "execution_count": 29,
   "id": "219c99fd-399c-4dcb-925f-d1b5a5db9f7b",
   "metadata": {},
   "outputs": [
    {
     "name": "stdout",
     "output_type": "stream",
     "text": [
      "p 140735436698584\n",
      "p 140735436698584\n"
     ]
    }
   ],
   "source": [
    "s = \"pot\"\n",
    "d=s\n",
    "e= \"pet\"\n",
    "print(s[0],id(s[0]))\n",
    "print(e[0],id(e[0]))\n"
   ]
  },
  {
   "cell_type": "code",
   "execution_count": null,
   "id": "fddc421b-b099-41f1-b1fb-58a325d967c7",
   "metadata": {},
   "outputs": [],
   "source": [
    " "
   ]
  }
 ],
 "metadata": {
  "kernelspec": {
   "display_name": "Python 3 (ipykernel)",
   "language": "python",
   "name": "python3"
  },
  "language_info": {
   "codemirror_mode": {
    "name": "ipython",
    "version": 3
   },
   "file_extension": ".py",
   "mimetype": "text/x-python",
   "name": "python",
   "nbconvert_exporter": "python",
   "pygments_lexer": "ipython3",
   "version": "3.12.4"
  }
 },
 "nbformat": 4,
 "nbformat_minor": 5
}

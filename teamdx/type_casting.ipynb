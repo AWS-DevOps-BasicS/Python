{
 "cells": [
  {
   "cell_type": "code",
   "execution_count": 1,
   "id": "ea8cca68-b84f-4fdc-ad6e-028af26629d2",
   "metadata": {},
   "outputs": [
    {
     "name": "stdout",
     "output_type": "stream",
     "text": [
      "1020\n"
     ]
    }
   ],
   "source": [
    "a = \"10\"\n",
    "b = \"20\"\n",
    "print(a+b)"
   ]
  },
  {
   "cell_type": "code",
   "execution_count": 3,
   "id": "d18962bb-a69b-4b62-a0bb-b3a7db8f589c",
   "metadata": {},
   "outputs": [
    {
     "name": "stdout",
     "output_type": "stream",
     "text": [
      "30\n"
     ]
    }
   ],
   "source": [
    "# Type casting = Converting from one datatype to other datatype\n",
    "# Here str is converted to int\n",
    "a = \"10\"\n",
    "b = \"20\"\n",
    "a = int(a)\n",
    "b = int(b)\n",
    "print(a+b)"
   ]
  },
  {
   "cell_type": "code",
   "execution_count": 15,
   "id": "5fd1b465-8a18-42af-8345-1db9e05907ca",
   "metadata": {},
   "outputs": [
    {
     "name": "stdout",
     "output_type": "stream",
     "text": [
      "2700\n",
      "6.75\n",
      "6\n",
      "15\n"
     ]
    }
   ],
   "source": [
    "# *, /, //,%\n",
    "a = \"135\"\n",
    "b = \"20\"\n",
    "a = int(a)\n",
    "b = int(b)\n",
    "print(a*b)\n",
    "print(a/b)\n",
    "print(a//b)\n",
    "print(a%b)"
   ]
  },
  {
   "cell_type": "code",
   "execution_count": 20,
   "id": "5c61cf18-bfee-4dcd-8c6b-7b53fa271838",
   "metadata": {},
   "outputs": [
    {
     "name": "stdout",
     "output_type": "stream",
     "text": [
      "10 <class 'int'>\n",
      "10.0 <class 'float'>\n"
     ]
    }
   ],
   "source": [
    "a= 10\n",
    "print(a,type(a))\n",
    "b=float(a)\n",
    "print(b,type(b))\n"
   ]
  },
  {
   "cell_type": "code",
   "execution_count": 22,
   "id": "33f1b38b-7f85-448f-8fc9-c202dbf87aee",
   "metadata": {},
   "outputs": [
    {
     "name": "stdout",
     "output_type": "stream",
     "text": [
      "10 <class 'int'>\n",
      "10 <class 'str'>\n"
     ]
    }
   ],
   "source": [
    "a= 10\n",
    "print(a,type(a))\n",
    "b=str(a)\n",
    "print(b,type(b))\n"
   ]
  },
  {
   "cell_type": "code",
   "execution_count": 28,
   "id": "de8f79ee-f060-484d-a820-090c3fcbd792",
   "metadata": {},
   "outputs": [
    {
     "name": "stdout",
     "output_type": "stream",
     "text": [
      "python <class 'str'>\n",
      "['p', 'y', 't', 'h', 'o', 'n'] <class 'list'>\n"
     ]
    }
   ],
   "source": [
    "s= \"python\"\n",
    "print(s,type(s))\n",
    "s1=list(s)\n",
    "print(s1,type(s1))"
   ]
  },
  {
   "cell_type": "code",
   "execution_count": 30,
   "id": "de82781a-76d6-410b-80c6-b00128c4e1de",
   "metadata": {},
   "outputs": [
    {
     "name": "stdout",
     "output_type": "stream",
     "text": [
      "python <class 'str'>\n",
      "('p', 'y', 't', 'h', 'o', 'n') <class 'tuple'>\n"
     ]
    }
   ],
   "source": [
    "s= \"python\"\n",
    "print(s,type(s))\n",
    "s1=tuple(s)\n",
    "print(s1,type(s1))"
   ]
  },
  {
   "cell_type": "code",
   "execution_count": 34,
   "id": "9384ce57-a43d-4769-99a0-cdf0bbef9d44",
   "metadata": {},
   "outputs": [
    {
     "ename": "TypeError",
     "evalue": "'int' object is not iterable",
     "output_type": "error",
     "traceback": [
      "\u001b[1;31m---------------------------------------------------------------------------\u001b[0m",
      "\u001b[1;31mTypeError\u001b[0m                                 Traceback (most recent call last)",
      "Cell \u001b[1;32mIn[34], line 2\u001b[0m\n\u001b[0;32m      1\u001b[0m a\u001b[38;5;241m=\u001b[39m\u001b[38;5;241m1000\u001b[39m\n\u001b[1;32m----> 2\u001b[0m \u001b[38;5;28mprint\u001b[39m(\u001b[38;5;28mlist\u001b[39m(a))\n",
      "\u001b[1;31mTypeError\u001b[0m: 'int' object is not iterable"
     ]
    }
   ],
   "source": [
    "a=1000\n",
    "print(list(a))# If you want to convert to list or tuple then objects should be iterable objects."
   ]
  },
  {
   "cell_type": "code",
   "execution_count": 36,
   "id": "7ac46b15-84b5-4503-9499-01adb6dea995",
   "metadata": {},
   "outputs": [
    {
     "ename": "ValueError",
     "evalue": "invalid literal for int() with base 10: '12a'",
     "output_type": "error",
     "traceback": [
      "\u001b[1;31m---------------------------------------------------------------------------\u001b[0m",
      "\u001b[1;31mValueError\u001b[0m                                Traceback (most recent call last)",
      "Cell \u001b[1;32mIn[36], line 2\u001b[0m\n\u001b[0;32m      1\u001b[0m a \u001b[38;5;241m=\u001b[39m \u001b[38;5;124m\"\u001b[39m\u001b[38;5;124m12a\u001b[39m\u001b[38;5;124m\"\u001b[39m\n\u001b[1;32m----> 2\u001b[0m b \u001b[38;5;241m=\u001b[39m \u001b[38;5;28mint\u001b[39m(a)\n\u001b[0;32m      3\u001b[0m \u001b[38;5;28mprint\u001b[39m(b)\n",
      "\u001b[1;31mValueError\u001b[0m: invalid literal for int() with base 10: '12a'"
     ]
    }
   ],
   "source": [
    "a = \"12a\"\n",
    "b = int(a)\n",
    "print(b)"
   ]
  },
  {
   "cell_type": "code",
   "execution_count": 38,
   "id": "894eb7c2-ecf7-497d-8af2-921cd0420737",
   "metadata": {},
   "outputs": [
    {
     "name": "stdout",
     "output_type": "stream",
     "text": [
      "298\n"
     ]
    }
   ],
   "source": [
    "a = \"12a\"\n",
    "b = int(a,16)\n",
    "print(b)"
   ]
  },
  {
   "cell_type": "code",
   "execution_count": 40,
   "id": "12ec3f14-4f1b-4235-a406-284d09bfbace",
   "metadata": {},
   "outputs": [
    {
     "name": "stdout",
     "output_type": "stream",
     "text": [
      "12\n",
      "12\n"
     ]
    }
   ],
   "source": [
    "# Number systems\n",
    "\"\"\"\n",
    "binary: 2 -> 0,1\n",
    "octo: 8 -> 0,1,2,3,4,5,6,7,8\n",
    "decimal:10 ->0,1,2,3,4,5,6,7,8,9\n",
    "hexadecimal:16 ->0,1,2,3,4,5,6,7,8,9,a,b,c,d,e,f\n",
    "\"\"\"\n",
    "print(int(\"12\"))\n",
    "print(2*10**0+1*10**1)"
   ]
  },
  {
   "cell_type": "code",
   "execution_count": 42,
   "id": "a9acf38d-36cf-4030-a663-ba820742500d",
   "metadata": {},
   "outputs": [
    {
     "name": "stdout",
     "output_type": "stream",
     "text": [
      "10\n",
      "10\n"
     ]
    }
   ],
   "source": [
    "print(int(\"12\",8))\n",
    "print(2*8**0+1*8**1)"
   ]
  },
  {
   "cell_type": "code",
   "execution_count": 5,
   "id": "c8ef27bc-180a-4f4f-b16d-56e9339e5a8e",
   "metadata": {},
   "outputs": [
    {
     "name": "stdout",
     "output_type": "stream",
     "text": [
      "4831\n",
      "4831\n"
     ]
    }
   ],
   "source": [
    "print(int(\"12df\",16))\n",
    "print(15*16**0+13*16**1+2*16**2+1*16**3)"
   ]
  },
  {
   "cell_type": "code",
   "execution_count": 7,
   "id": "959b78ca-46fb-4e0c-9e1f-4028e6e6859a",
   "metadata": {},
   "outputs": [
    {
     "name": "stdout",
     "output_type": "stream",
     "text": [
      "12\n"
     ]
    }
   ],
   "source": [
    "a=\"12.34\"\n",
    "b=int(float(a))\n",
    "print(b)"
   ]
  },
  {
   "cell_type": "code",
   "execution_count": 10,
   "id": "9f26b623-a7c8-410c-8d6f-ee0a7007128e",
   "metadata": {},
   "outputs": [
    {
     "ename": "ValueError",
     "evalue": "invalid literal for int() with base 12: '12df'",
     "output_type": "error",
     "traceback": [
      "\u001b[1;31m---------------------------------------------------------------------------\u001b[0m",
      "\u001b[1;31mValueError\u001b[0m                                Traceback (most recent call last)",
      "Cell \u001b[1;32mIn[10], line 1\u001b[0m\n\u001b[1;32m----> 1\u001b[0m \u001b[38;5;28mprint\u001b[39m(\u001b[38;5;28mint\u001b[39m(\u001b[38;5;124m\"\u001b[39m\u001b[38;5;124m12df\u001b[39m\u001b[38;5;124m\"\u001b[39m,\u001b[38;5;241m12\u001b[39m))\n",
      "\u001b[1;31mValueError\u001b[0m: invalid literal for int() with base 12: '12df'"
     ]
    }
   ],
   "source": [
    "print(int(\"12df\",12))# gets value error because for base 12 we will have (0,1,2,3,4,5,6,7,8,9,a,b) f is not in the those numbers."
   ]
  },
  {
   "cell_type": "code",
   "execution_count": 14,
   "id": "4489af9c-5dd3-4753-80b6-c1857cf2dae1",
   "metadata": {},
   "outputs": [
    {
     "name": "stdout",
     "output_type": "stream",
     "text": [
      "97375\n",
      "97375\n"
     ]
    }
   ],
   "source": [
    "print(int(\"12dfg\",17))\n",
    "print(16*17**0+15*17**1+13*17**2+2*17**3+1*17**4)"
   ]
  },
  {
   "cell_type": "code",
   "execution_count": 16,
   "id": "63bb835e-9d3f-4f4e-8af5-02aed43202e0",
   "metadata": {},
   "outputs": [
    {
     "name": "stdout",
     "output_type": "stream",
     "text": [
      "1602859\n"
     ]
    }
   ],
   "source": [
    "print(int(\"12dfy\",35))"
   ]
  },
  {
   "cell_type": "code",
   "execution_count": 18,
   "id": "db024b56-6646-4aa0-bea0-5b64114dbaa5",
   "metadata": {},
   "outputs": [
    {
     "ename": "ValueError",
     "evalue": "int() base must be >= 2 and <= 36, or 0",
     "output_type": "error",
     "traceback": [
      "\u001b[1;31m---------------------------------------------------------------------------\u001b[0m",
      "\u001b[1;31mValueError\u001b[0m                                Traceback (most recent call last)",
      "Cell \u001b[1;32mIn[18], line 1\u001b[0m\n\u001b[1;32m----> 1\u001b[0m \u001b[38;5;28mprint\u001b[39m(\u001b[38;5;28mint\u001b[39m(\u001b[38;5;124m\"\u001b[39m\u001b[38;5;124m12dfy\u001b[39m\u001b[38;5;124m\"\u001b[39m,\u001b[38;5;241m37\u001b[39m))\n",
      "\u001b[1;31mValueError\u001b[0m: int() base must be >= 2 and <= 36, or 0"
     ]
    }
   ],
   "source": [
    "print(int(\"12dfy\",37))"
   ]
  },
  {
   "cell_type": "code",
   "execution_count": 20,
   "id": "c79d8317-0b36-47a2-aaab-b45ea22aee8f",
   "metadata": {},
   "outputs": [
    {
     "ename": "ValueError",
     "evalue": "invalid literal for int() with base 10: '12.34'",
     "output_type": "error",
     "traceback": [
      "\u001b[1;31m---------------------------------------------------------------------------\u001b[0m",
      "\u001b[1;31mValueError\u001b[0m                                Traceback (most recent call last)",
      "Cell \u001b[1;32mIn[20], line 2\u001b[0m\n\u001b[0;32m      1\u001b[0m a \u001b[38;5;241m=\u001b[39m \u001b[38;5;124m\"\u001b[39m\u001b[38;5;124m12.34\u001b[39m\u001b[38;5;124m\"\u001b[39m\n\u001b[1;32m----> 2\u001b[0m \u001b[38;5;28mprint\u001b[39m(\u001b[38;5;28mint\u001b[39m(a))\n",
      "\u001b[1;31mValueError\u001b[0m: invalid literal for int() with base 10: '12.34'"
     ]
    }
   ],
   "source": [
    "a = \"12.34\"\n",
    "print(int(a))"
   ]
  },
  {
   "cell_type": "code",
   "execution_count": 22,
   "id": "13088ba5-09fd-47ff-aeed-ac5cd2676bf6",
   "metadata": {},
   "outputs": [
    {
     "data": {
      "text/plain": [
       "\u001b[1;31mInit signature:\u001b[0m \u001b[0mint\u001b[0m\u001b[1;33m(\u001b[0m\u001b[0mself\u001b[0m\u001b[1;33m,\u001b[0m \u001b[1;33m/\u001b[0m\u001b[1;33m,\u001b[0m \u001b[1;33m*\u001b[0m\u001b[0margs\u001b[0m\u001b[1;33m,\u001b[0m \u001b[1;33m**\u001b[0m\u001b[0mkwargs\u001b[0m\u001b[1;33m)\u001b[0m\u001b[1;33m\u001b[0m\u001b[1;33m\u001b[0m\u001b[0m\n",
       "\u001b[1;31mDocstring:\u001b[0m     \n",
       "int([x]) -> integer\n",
       "int(x, base=10) -> integer\n",
       "\n",
       "Convert a number or string to an integer, or return 0 if no arguments\n",
       "are given.  If x is a number, return x.__int__().  For floating point\n",
       "numbers, this truncates towards zero.\n",
       "\n",
       "If x is not a number or if base is given, then x must be a string,\n",
       "bytes, or bytearray instance representing an integer literal in the\n",
       "given base.  The literal can be preceded by '+' or '-' and be surrounded\n",
       "by whitespace.  The base defaults to 10.  Valid bases are 0 and 2-36.\n",
       "Base 0 means to interpret the base from the string as an integer literal.\n",
       ">>> int('0b100', base=0)\n",
       "4\n",
       "\u001b[1;31mType:\u001b[0m           type\n",
       "\u001b[1;31mSubclasses:\u001b[0m     bool, IntEnum, IntFlag, _NamedIntConstant, Handle"
      ]
     },
     "metadata": {},
     "output_type": "display_data"
    }
   ],
   "source": [
    " int?"
   ]
  },
  {
   "cell_type": "code",
   "execution_count": 24,
   "id": "edbb89b6-e20b-4f5d-a366-17732ac77939",
   "metadata": {},
   "outputs": [
    {
     "name": "stdout",
     "output_type": "stream",
     "text": [
      "12\n",
      "41.04\n"
     ]
    }
   ],
   "source": [
    "a = \"12.34\"\n",
    "b = float(a) \n",
    "print(int(b))\n",
    "print(4*(10**-2)+3*10*-1+2*10**0+1*10**1)"
   ]
  },
  {
   "cell_type": "code",
   "execution_count": 28,
   "id": "d39ec319-712c-4d05-92ea-7457703d4932",
   "metadata": {},
   "outputs": [
    {
     "name": "stdout",
     "output_type": "stream",
     "text": [
      "12\n"
     ]
    }
   ],
   "source": [
    "a = \"12.34\"\n",
    "b = int(float(a))# chain of function clause\n",
    "print(b)"
   ]
  },
  {
   "cell_type": "code",
   "execution_count": null,
   "id": "9b02108c-92cb-4188-b7aa-208451d58519",
   "metadata": {},
   "outputs": [],
   "source": []
  }
 ],
 "metadata": {
  "kernelspec": {
   "display_name": "Python 3 (ipykernel)",
   "language": "python",
   "name": "python3"
  },
  "language_info": {
   "codemirror_mode": {
    "name": "ipython",
    "version": 3
   },
   "file_extension": ".py",
   "mimetype": "text/x-python",
   "name": "python",
   "nbconvert_exporter": "python",
   "pygments_lexer": "ipython3",
   "version": "3.12.4"
  }
 },
 "nbformat": 4,
 "nbformat_minor": 5
}

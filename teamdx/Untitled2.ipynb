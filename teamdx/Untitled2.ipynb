{
 "cells": [
  {
   "cell_type": "code",
   "execution_count": 1,
   "id": "27a60327-89af-4189-82f8-86a3427c6c3a",
   "metadata": {},
   "outputs": [
    {
     "name": "stdout",
     "output_type": "stream",
     "text": [
      "3000\n",
      "[1000, 2000]\n"
     ]
    }
   ],
   "source": [
    "l = [1000,2000,3000]\n",
    "k = l.pop()\n",
    "print(k)\n",
    "print(l)\n"
   ]
  },
  {
   "cell_type": "code",
   "execution_count": 5,
   "id": "818e3a1c-1b36-400a-80ce-9f6ff0398657",
   "metadata": {},
   "outputs": [
    {
     "name": "stdout",
     "output_type": "stream",
     "text": [
      "k= None\n",
      "l= [1, 2, 3, 4, 5]\n"
     ]
    }
   ],
   "source": [
    "l = [1,2,3,4]\n",
    "k = l.append(5)\n",
    "print(\"k=\",k)\n",
    "print(\"l=\",l)"
   ]
  },
  {
   "cell_type": "code",
   "execution_count": 7,
   "id": "80cf36b5-cfa1-4422-937c-b85a4e6dad81",
   "metadata": {},
   "outputs": [
    {
     "name": "stdout",
     "output_type": "stream",
     "text": [
      "s= abcd\n",
      "s1= Abcd\n"
     ]
    }
   ],
   "source": [
    "s = 'abcd'\n",
    "s1 = s.replace('a','A')\n",
    "print('s=',s)\n",
    "print('s1=',s1)"
   ]
  },
  {
   "cell_type": "code",
   "execution_count": 11,
   "id": "37145c2f-e115-435d-9c8f-d041e8c88c0a",
   "metadata": {},
   "outputs": [
    {
     "name": "stdout",
     "output_type": "stream",
     "text": [
      "[1, 2, 3, 4, [1, 2], [3, 4], [5, 6]]\n"
     ]
    }
   ],
   "source": [
    "l = [1,2,3,4]\n",
    "l.extend([[1,2],[3,4],[5,6]])\n",
    "print(l)"
   ]
  },
  {
   "cell_type": "code",
   "execution_count": 3,
   "id": "b9dc158f-9e14-439c-816b-810c8f31a3cc",
   "metadata": {},
   "outputs": [
    {
     "name": "stdout",
     "output_type": "stream",
     "text": [
      "[(1, 'Rajesh'), (2, 'Ameel'), (3, 'Sai'), (4, 'Tejaswini')]\n"
     ]
    }
   ],
   "source": [
    "l = [(1,\"Rajesh\"),(2,\"Ameel\"),(4,\"Tejaswini\"),(3,\"Sai\")]\n",
    "l.sort()\n",
    "print(l)"
   ]
  },
  {
   "cell_type": "code",
   "execution_count": null,
   "id": "62fb03a3-013c-4353-8b24-1c3aa58cfc96",
   "metadata": {},
   "outputs": [],
   "source": [
    "l = [(1,\"Rajesh\"),(2,\"Ameel\"),(4,\"Tejaswini\"),(3,\"Sai\")]\n",
    "def name(x):\n",
    "    \n",
    "    return \n",
    "l.sort()\n",
    "print(l)"
   ]
  },
  {
   "cell_type": "code",
   "execution_count": 41,
   "id": "606f69a2-0bf2-4ac3-b241-0afb480b866d",
   "metadata": {},
   "outputs": [
    {
     "name": "stdout",
     "output_type": "stream",
     "text": [
      "[1, 2, 3, 3, 3, 4, 5, 6, 7, 3, 4, 3, 9, 3]\n",
      "[1, 2, 4, 5, 6, 7, 4, 9]\n",
      "[1, 2, 4, 5, 6, 7, 4, 9]\n"
     ]
    }
   ],
   "source": [
    "l = [1,2,3,3,3,4,5,6,7,3,4,3,9,3]\n",
    "for i in l[:]:\n",
    "    if i == 3:\n",
    "         l.remove(i)\n",
    "print(l)"
   ]
  },
  {
   "cell_type": "code",
   "execution_count": 55,
   "id": "75e75baa-49bb-43c7-a8fd-48de22c509d5",
   "metadata": {},
   "outputs": [
    {
     "name": "stdout",
     "output_type": "stream",
     "text": [
      "[1, 2, 4, 5, 6, 7, 4, 9, 3]\n"
     ]
    }
   ],
   "source": [
    "l = [1,2,3,3,3,4,5,6,7,3,4,3,9,3]\n",
    "for i in l:\n",
    "    if i == 3:\n",
    "         l.remove(i)\n",
    "print(l)"
   ]
  },
  {
   "cell_type": "code",
   "execution_count": 1,
   "id": "40146aea-9174-4e63-acf1-a8d8d9e4be11",
   "metadata": {},
   "outputs": [
    {
     "ename": "IndexError",
     "evalue": "list index out of range",
     "output_type": "error",
     "traceback": [
      "\u001b[1;31m---------------------------------------------------------------------------\u001b[0m",
      "\u001b[1;31mIndexError\u001b[0m                                Traceback (most recent call last)",
      "Cell \u001b[1;32mIn[1], line 3\u001b[0m\n\u001b[0;32m      1\u001b[0m l \u001b[38;5;241m=\u001b[39m [\u001b[38;5;241m1\u001b[39m,\u001b[38;5;241m2\u001b[39m,\u001b[38;5;241m3\u001b[39m,\u001b[38;5;241m3\u001b[39m,\u001b[38;5;241m3\u001b[39m,\u001b[38;5;241m4\u001b[39m,\u001b[38;5;241m5\u001b[39m,\u001b[38;5;241m6\u001b[39m,\u001b[38;5;241m7\u001b[39m,\u001b[38;5;241m3\u001b[39m,\u001b[38;5;241m4\u001b[39m,\u001b[38;5;241m3\u001b[39m,\u001b[38;5;241m9\u001b[39m,\u001b[38;5;241m3\u001b[39m]\n\u001b[0;32m      2\u001b[0m \u001b[38;5;28;01mfor\u001b[39;00m i \u001b[38;5;129;01min\u001b[39;00m \u001b[38;5;28mrange\u001b[39m(\u001b[38;5;28mlen\u001b[39m(l)):\n\u001b[1;32m----> 3\u001b[0m     \u001b[38;5;28;01mif\u001b[39;00m l[i] \u001b[38;5;241m==\u001b[39m \u001b[38;5;241m3\u001b[39m:\n\u001b[0;32m      4\u001b[0m          l\u001b[38;5;241m.\u001b[39mremove(\u001b[38;5;241m3\u001b[39m)\n\u001b[0;32m      5\u001b[0m \u001b[38;5;28mprint\u001b[39m(l)\n",
      "\u001b[1;31mIndexError\u001b[0m: list index out of range"
     ]
    }
   ],
   "source": [
    "l = [1,2,3,3,3,4,5,6,7,3,4,3,9,3]\n",
    "for i in range(len(l)):\n",
    "    if l[i] == 3:\n",
    "         l.remove(3)\n",
    "print(l)"
   ]
  },
  {
   "cell_type": "code",
   "execution_count": null,
   "id": "ae60cca9-4629-43c6-9b1e-1e00c35edd01",
   "metadata": {},
   "outputs": [],
   "source": []
  }
 ],
 "metadata": {
  "kernelspec": {
   "display_name": "Python 3 (ipykernel)",
   "language": "python",
   "name": "python3"
  },
  "language_info": {
   "codemirror_mode": {
    "name": "ipython",
    "version": 3
   },
   "file_extension": ".py",
   "mimetype": "text/x-python",
   "name": "python",
   "nbconvert_exporter": "python",
   "pygments_lexer": "ipython3",
   "version": "3.12.4"
  }
 },
 "nbformat": 4,
 "nbformat_minor": 5
}

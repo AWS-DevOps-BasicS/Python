{
 "cells": [
  {
   "cell_type": "code",
   "execution_count": 9,
   "id": "30eb8872-9f20-4183-b26b-b4509a1b9ffd",
   "metadata": {},
   "outputs": [
    {
     "name": "stdin",
     "output_type": "stream",
     "text": [
      "Enter the name of customer: tej\n",
      "enter sales orders: 1245\n",
      "enter profit: 123547\n"
     ]
    },
    {
     "name": "stdout",
     "output_type": "stream",
     "text": [
      "tej is very good customer, bought 1245\n"
     ]
    }
   ],
   "source": [
    "# Anil kumar is very good customer, bought 3045 sales orders from our portal. We got 2000 profit because of anil kumar\n",
    "customer_name = input(\"Enter the name of customer:\")\n",
    "number_of_sales_orders =  input(\"enter sales orders:\")\n",
    "profit = input(\"enter profit:\")\n",
    "s =  customer_name+\" is very good customer, bought \"+number_of_sales_orders\n",
    "print(s)"
   ]
  },
  {
   "cell_type": "code",
   "execution_count": 13,
   "id": "fdfff199-ea35-414d-ba87-ef863caa6a49",
   "metadata": {},
   "outputs": [
    {
     "name": "stdin",
     "output_type": "stream",
     "text": [
      "Enter the name of customer: tej\n",
      "enter sales orders: 12465\n",
      "enter profit: 235632\n"
     ]
    },
    {
     "name": "stdout",
     "output_type": "stream",
     "text": [
      "tej is very good customer, bought 12465 sales orders from our portal. We got 235632 profit because of tej\n"
     ]
    }
   ],
   "source": [
    "# Anil kumar is very good customer, bought 3045 sales orders from our portal. We got 2000 profit because of anil kumar\n",
    "customer_name = input(\"Enter the name of customer:\")\n",
    "number_of_sales_orders =  input(\"enter sales orders:\")\n",
    "profit = input(\"enter profit:\")\n",
    "s =  customer_name+\" is very good customer, bought \"+number_of_sales_orders+\" sales orders from our portal. We got \"+profit+\" profit because of \"+customer_name \n",
    "print(s)"
   ]
  },
  {
   "cell_type": "markdown",
   "id": "7442eec0-b5be-4e93-a668-93d1bb91b614",
   "metadata": {},
   "source": [
    "### \\ (Backslash) in the string \"...\" + \"sales orders...\" is used to split a long string across multiple lines for better readability. It doesn't affect the string itself."
   ]
  },
  {
   "cell_type": "code",
   "execution_count": 11,
   "id": "7d0098fe-65de-481a-9f93-4ce2efb16d65",
   "metadata": {},
   "outputs": [
    {
     "name": "stdin",
     "output_type": "stream",
     "text": [
      "Enter the name of customer: tej\n",
      "enter sales orders: 145623\n",
      "enter profit: 12346\n"
     ]
    },
    {
     "name": "stdout",
     "output_type": "stream",
     "text": [
      "tej is very good customer, bought 145623sales orders from our portal. We got 12346 profit because of tej\n"
     ]
    }
   ],
   "source": [
    "# Anil kumar is very good customer, bought 3045 sales orders from our portal. We got 2000 profit because of anil kumar\n",
    "customer_name = input(\"Enter the name of customer:\")\n",
    "number_of_sales_orders =  input(\"enter sales orders:\")\n",
    "profit = input(\"enter profit:\")\n",
    "s =  customer_name+\" is very good customer, bought \"+number_of_sales_orders+\\\n",
    "\" sales orders from our portal. We got \"+profit+\" profit because of \"+customer_name \n",
    "print(s)"
   ]
  },
  {
   "cell_type": "markdown",
   "id": "14fd6265-8316-4f21-b4c7-b9f83f5f39ac",
   "metadata": {},
   "source": [
    "### Formatted String (f-string):\n",
    "* The f-string allows you to embed the value of a variable (in this case, customer_name) directly into a string by placing the variable inside curly braces {}.\n",
    "* The f before the string indicates that this is a formatted string."
   ]
  },
  {
   "cell_type": "code",
   "execution_count": 1,
   "id": "b0a33c3c-d875-44d1-ac63-f231eb49e1f7",
   "metadata": {},
   "outputs": [
    {
     "name": "stdin",
     "output_type": "stream",
     "text": [
      "Enter the name of customer: tej\n"
     ]
    },
    {
     "name": "stdout",
     "output_type": "stream",
     "text": [
      "customer_name is very good customer, bought\n"
     ]
    }
   ],
   "source": [
    "# Anil kumar is very good customer, bought 3045 sales orders from our portal. We got 2000 profit because of anil kumar\n",
    "customer_name = input(\"Enter the name of customer:\")\n",
    "print(\"customer_name is very good customer, bought\")"
   ]
  },
  {
   "cell_type": "code",
   "execution_count": 3,
   "id": "8dd5378b-862e-4afc-ba90-68d1dd0912cb",
   "metadata": {},
   "outputs": [
    {
     "name": "stdin",
     "output_type": "stream",
     "text": [
      "Enter the name of customer: tej\n"
     ]
    },
    {
     "name": "stdout",
     "output_type": "stream",
     "text": [
      "{customer_name} is very good customer, bought\n"
     ]
    }
   ],
   "source": [
    "# Anil kumar is very good customer, bought 3045 sales orders from our portal. We got 2000 profit because of anil kumar\n",
    "customer_name = input(\"Enter the name of customer:\")\n",
    "print(\"{customer_name} is very good customer, bought\")"
   ]
  },
  {
   "cell_type": "code",
   "execution_count": 5,
   "id": "667db81a-51c8-4d42-b32c-674c8a5a8bc4",
   "metadata": {},
   "outputs": [
    {
     "name": "stdin",
     "output_type": "stream",
     "text": [
      "Enter the name of customer: tej\n"
     ]
    },
    {
     "name": "stdout",
     "output_type": "stream",
     "text": [
      "tej is very good customer, bought\n"
     ]
    }
   ],
   "source": [
    "# Anil kumar is very good customer, bought 3045 sales orders from our portal. We got 2000 profit because of anil kumar\n",
    "customer_name = input(\"Enter the name of customer:\")\n",
    "print(f\"{customer_name} is very good customer, bought\") #formatted string"
   ]
  },
  {
   "cell_type": "code",
   "execution_count": 12,
   "id": "df47dcae-30f6-40d2-abdb-cf023263d469",
   "metadata": {},
   "outputs": [
    {
     "name": "stdin",
     "output_type": "stream",
     "text": [
      "Enter the name of customer: tej\n",
      "enter sales orders: 10000\n",
      "enter profit: 230043\n"
     ]
    },
    {
     "name": "stdout",
     "output_type": "stream",
     "text": [
      "tej is very good customer, bought 10000 sales orders from our portal. We got 230043 profit because of tej\n"
     ]
    }
   ],
   "source": [
    "customer_name = input(\"Enter the name of customer:\")\n",
    "number_of_sales_orders =  input(\"enter sales orders:\")\n",
    "profit = input(\"enter profit:\")\n",
    "print(f\"{customer_name} is very good customer, bought {number_of_sales_orders} sales orders from our portal. We got {profit} profit because of {customer_name}\")"
   ]
  },
  {
   "cell_type": "code",
   "execution_count": 14,
   "id": "b270ec78-e1be-4449-9277-b8b5a4f193cb",
   "metadata": {},
   "outputs": [
    {
     "ename": "TypeError",
     "evalue": "can only concatenate str (not \"int\") to str",
     "output_type": "error",
     "traceback": [
      "\u001b[1;31m---------------------------------------------------------------------------\u001b[0m",
      "\u001b[1;31mTypeError\u001b[0m                                 Traceback (most recent call last)",
      "Cell \u001b[1;32mIn[14], line 2\u001b[0m\n\u001b[0;32m      1\u001b[0m a \u001b[38;5;241m=\u001b[39m \u001b[38;5;241m1000\u001b[39m\n\u001b[1;32m----> 2\u001b[0m \u001b[38;5;28mprint\u001b[39m(\u001b[38;5;124m\"\u001b[39m\u001b[38;5;124mThe product cost:\u001b[39m\u001b[38;5;124m\"\u001b[39m\u001b[38;5;241m+\u001b[39ma)\n",
      "\u001b[1;31mTypeError\u001b[0m: can only concatenate str (not \"int\") to str"
     ]
    }
   ],
   "source": [
    "a = 1000\n",
    "print(\"The product cost:\"+a)"
   ]
  },
  {
   "cell_type": "markdown",
   "id": "ace8607d-6efe-48bf-ad97-875245a4611e",
   "metadata": {},
   "source": [
    "### a reference to an integer object. 'The product cost' is a string, and we cannot concatenate a string with an integer, which is why a TypeError occurs."
   ]
  },
  {
   "cell_type": "code",
   "execution_count": 16,
   "id": "7d43d75c-b602-46f7-85a4-acda3ad5ff31",
   "metadata": {},
   "outputs": [
    {
     "name": "stdout",
     "output_type": "stream",
     "text": [
      "The product cost:1000\n"
     ]
    }
   ],
   "source": [
    "a = 1000\n",
    "print(\"The product cost:\"+ str(a))"
   ]
  },
  {
   "cell_type": "code",
   "execution_count": 18,
   "id": "4c51ab2c-230e-47a4-8ecd-29e8cbcfec7e",
   "metadata": {},
   "outputs": [
    {
     "name": "stdout",
     "output_type": "stream",
     "text": [
      "The product cost:1000\n"
     ]
    }
   ],
   "source": [
    "a = 1000\n",
    "print(f\"The product cost:{a}\")"
   ]
  },
  {
   "cell_type": "code",
   "execution_count": 20,
   "id": "7ccd58cd-7418-4298-a11a-76dc58b6bfd1",
   "metadata": {},
   "outputs": [
    {
     "name": "stdout",
     "output_type": "stream",
     "text": [
      "The product cost:12.456789\n"
     ]
    }
   ],
   "source": [
    "a = 12.456789\n",
    "print(f\"The product cost:{a}\")"
   ]
  },
  {
   "cell_type": "markdown",
   "id": "a8fcd2a6-6e29-41ca-90bd-068c97aa2e32",
   "metadata": {},
   "source": [
    "### Formatting Specifier:\n",
    "* **: f:** This is a formatting specifier. It tells Python how to display the cost value.\n",
    "* The space before the **f** indicates that the formatted number should include a leading space if it's positive (or a minus sign if it's negative).\n",
    "* **f** means to format the number as a **floating-point number**.\n",
    "* We get upto 6 decimal places by default."
   ]
  },
  {
   "cell_type": "code",
   "execution_count": 24,
   "id": "25d4ec6f-b93f-40ba-a624-6c8f27b8daa0",
   "metadata": {},
   "outputs": [
    {
     "name": "stdout",
     "output_type": "stream",
     "text": [
      "The product cost: 12.456790\n"
     ]
    }
   ],
   "source": [
    "cost = 12.456789\n",
    "print(f\"The product cost:{cost: f}\")"
   ]
  },
  {
   "cell_type": "code",
   "execution_count": 26,
   "id": "6aa11ebd-131a-4993-83ff-659a506a3244",
   "metadata": {},
   "outputs": [
    {
     "name": "stdout",
     "output_type": "stream",
     "text": [
      "The product cost: 12.456790\n"
     ]
    }
   ],
   "source": [
    "cost = 12.4567897852\n",
    "print(f\"The product cost:{cost: f}\")"
   ]
  },
  {
   "cell_type": "markdown",
   "id": "33f77ad0-61d8-4e32-ad33-592ceb8820e4",
   "metadata": {},
   "source": [
    "* **.2** specifies that you want 2 decimal places. The number will be rounded to 2 decimal places."
   ]
  },
  {
   "cell_type": "code",
   "execution_count": 30,
   "id": "36553351-d317-4a29-b6fd-66649664dd25",
   "metadata": {},
   "outputs": [
    {
     "name": "stdout",
     "output_type": "stream",
     "text": [
      "The product cost: 12.46\n"
     ]
    }
   ],
   "source": [
    "cost = 12.4567897852\n",
    "print(f\"The product cost:{cost: .2f}\")"
   ]
  },
  {
   "cell_type": "markdown",
   "id": "b24c991b-2f41-48f3-8d89-f4e26cbcb571",
   "metadata": {},
   "source": [
    "### Format specifiers:\n",
    "* The format specifiers %s, %f, %d, and %r are used in different ways to format strings, floating-point numbers, integers, and representations of objects in Python. Here’s what each one means:\n",
    "\n",
    "#### 1. %s – String Formatting\n",
    "* **Purpose:** This is used to insert (or convert) a string into the placeholder.\n",
    "* **Usage:** Can accept any data type, but it will convert the value to a string.\n",
    "#### 2. %f – Floating-Point Number Formatting\n",
    "* **Purpose:** This is used to format floating-point numbers (numbers with decimals).\n",
    "* **Usage:** By default, it shows 6 decimal places, but you can control the number of decimal places using %.nf where n is the number of decimals.\n",
    "#### 3. %d – Integer Formatting\n",
    "* **Purpose:** This is used to format integers (whole numbers). It converts the value to an integer if necessary (like rounding down floats).\n",
    "* **Usage:** If you use %d with a float, the float will be converted to an integer by discarding the decimal part.\n",
    "#### 4. %r – Representation (Repr) Formatting\n",
    "* **Purpose:** This is used to insert the “official” string representation of an object, typically the one returned by repr(). It is mostly used for debugging and provides a more unambiguous string format, especially useful with complex data types.\n",
    "* **Usage:** You can use %r for any Python object, and it will show the internal representation of the object.\n",
    "| Format Specifier | Description                               | Example                                 |\n",
    "|------------------|-------------------------------------------|-----------------------------------------|\n",
    "| `%s`             | String (or converts anything to string)   | `\"Hello, %s\" % \"world\"` → `Hello, world`|\n",
    "| `%f`             | Floating-point number (default 6 decimals)| `\"%.2f\" % 12.45678` → `12.46`           |\n",
    "| `%d`             | Integer                                   | `\"%d\" % 25.9` → `25`                    |\n",
    "| `%r`             | Representation of an object (debugging)   | `\"%r\" % [1, 2, 3]` → `[1, 2, 3]`        |\n"
   ]
  },
  {
   "cell_type": "code",
   "execution_count": 28,
   "id": "964aa504-64ca-4ab6-a50c-50de4b571400",
   "metadata": {},
   "outputs": [
    {
     "name": "stdout",
     "output_type": "stream",
     "text": [
      "Hello, Alice!\n"
     ]
    }
   ],
   "source": [
    "name = \"Alice\"\n",
    "print(\"Hello, %s!\" % name)\n"
   ]
  },
  {
   "cell_type": "code",
   "execution_count": 30,
   "id": "121a0038-d72d-4d33-ad5b-0b1fc6d99c1d",
   "metadata": {},
   "outputs": [
    {
     "name": "stdout",
     "output_type": "stream",
     "text": [
      "The product cost: 12.46\n"
     ]
    }
   ],
   "source": [
    "cost = 12.456789\n",
    "print(\"The product cost: %.2f\" % cost)\n"
   ]
  },
  {
   "cell_type": "code",
   "execution_count": 35,
   "id": "a9de078c-c254-4d5e-a2f8-1dd8a0367991",
   "metadata": {},
   "outputs": [
    {
     "name": "stdout",
     "output_type": "stream",
     "text": [
      "Cost: 12\n"
     ]
    }
   ],
   "source": [
    "cost = 12.9\n",
    "print(\"Cost: %d\" % cost)\n"
   ]
  },
  {
   "cell_type": "code",
   "execution_count": 37,
   "id": "2527f677-b2a9-4d03-8776-941fe14be161",
   "metadata": {},
   "outputs": [
    {
     "name": "stdout",
     "output_type": "stream",
     "text": [
      "Data: [1, 2, 3]\n"
     ]
    }
   ],
   "source": [
    "data = [1, 2, 3]\n",
    "print(\"Data: %r\" % data)\n"
   ]
  },
  {
   "cell_type": "markdown",
   "id": "b6b2fb16-4726-4903-8f5b-ae02916800a1",
   "metadata": {},
   "source": [
    "### Special Symbols\n",
    "* `\\n` is used to print the statement on the next line.\n",
    "* `\\t` is used for tab spacing in the statement.\n",
    "* To tell Python not to treat special symbols as such, we use a backslash `\\`.\n",
    "* If we place an **r** before the quotes (\"\") in a print statement, the string is treated as a **raw string**."
   ]
  },
  {
   "cell_type": "code",
   "execution_count": 2,
   "id": "6ceb302f-3e9c-4328-afad-a168c46af9da",
   "metadata": {},
   "outputs": [
    {
     "name": "stdout",
     "output_type": "stream",
     "text": [
      "fsfga \n",
      " dfghjkl \t dfghjk\n"
     ]
    }
   ],
   "source": [
    "print(\"fsfga \\n dfghjkl \\\")"
   ]
  },
  {
   "cell_type": "code",
   "execution_count": 4,
   "id": "c70f26f2-cc45-479a-931a-23df2d443edd",
   "metadata": {},
   "outputs": [
    {
     "name": "stdout",
     "output_type": "stream",
     "text": [
      "fsfga\n",
      "dfghjkl\tdfghjk\n"
     ]
    }
   ],
   "source": [
    "print(\"fsfga\\ndfghjkl\\tdfghjk\")"
   ]
  },
  {
   "cell_type": "code",
   "execution_count": 11,
   "id": "2815ae40-3cc1-4354-ad86-4456f131766d",
   "metadata": {},
   "outputs": [
    {
     "name": "stdout",
     "output_type": "stream",
     "text": [
      "fsfga\\ndfghjkl\\tdfghjk\n"
     ]
    }
   ],
   "source": [
    "print(\"fsfga\\\\ndfghjkl\\\\tdfghjk\")"
   ]
  },
  {
   "cell_type": "code",
   "execution_count": 17,
   "id": "f183d8dd-626b-45cf-ba1e-f7a8f2cde75b",
   "metadata": {},
   "outputs": [
    {
     "name": "stdout",
     "output_type": "stream",
     "text": [
      "1\n"
     ]
    }
   ],
   "source": [
    "print(len(\"\\n\"))"
   ]
  },
  {
   "cell_type": "code",
   "execution_count": 15,
   "id": "320c2b99-2c37-4e6e-9a59-6f66ba6c36d3",
   "metadata": {},
   "outputs": [
    {
     "name": "stdout",
     "output_type": "stream",
     "text": [
      "2\n"
     ]
    }
   ],
   "source": [
    "print(len(\"\\\\n\"))"
   ]
  },
  {
   "cell_type": "code",
   "execution_count": 19,
   "id": "d9663bfd-299c-456d-9517-3fc4068779f6",
   "metadata": {},
   "outputs": [
    {
     "name": "stdout",
     "output_type": "stream",
     "text": [
      "fsfga\\ndfghjkl\\tdfghjk\n"
     ]
    }
   ],
   "source": [
    "print(r\"fsfga\\ndfghjkl\\tdfghjk\")"
   ]
  },
  {
   "cell_type": "code",
   "execution_count": null,
   "id": "fe9ef068-97b3-42e5-9ee0-b87dd16b8269",
   "metadata": {},
   "outputs": [],
   "source": []
  }
 ],
 "metadata": {
  "kernelspec": {
   "display_name": "Python 3 (ipykernel)",
   "language": "python",
   "name": "python3"
  },
  "language_info": {
   "codemirror_mode": {
    "name": "ipython",
    "version": 3
   },
   "file_extension": ".py",
   "mimetype": "text/x-python",
   "name": "python",
   "nbconvert_exporter": "python",
   "pygments_lexer": "ipython3",
   "version": "3.12.4"
  }
 },
 "nbformat": 4,
 "nbformat_minor": 5
}

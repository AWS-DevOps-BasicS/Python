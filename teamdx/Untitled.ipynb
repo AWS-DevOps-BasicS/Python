{
 "cells": [
  {
   "cell_type": "code",
   "execution_count": 7,
   "id": "71be59aa-c491-444b-a30a-efc6ec7bf9f0",
   "metadata": {},
   "outputs": [
    {
     "name": "stdout",
     "output_type": "stream",
     "text": [
      "hi\n",
      "hello\n",
      "<function fun at 0x000001A73E446980> 20\n",
      "hi\n",
      "hello\n"
     ]
    }
   ],
   "source": [
    "def fun():\n",
    "    print(\"hi\")\n",
    "    print(\"hello\")\n",
    "    return 20\n",
    "res = fun\n",
    "res1= fun()\n",
    "print(res,res1)\n",
    "r1 = res()"
   ]
  },
  {
   "cell_type": "code",
   "execution_count": 9,
   "id": "23a3f3f1-9e1c-435e-bcd7-0426c535ff04",
   "metadata": {},
   "outputs": [
    {
     "name": "stdout",
     "output_type": "stream",
     "text": [
      "hi\n",
      "hello\n",
      "1000\n",
      "result 50\n"
     ]
    }
   ],
   "source": [
    "def fun():\n",
    "    print(\"hi\")\n",
    "    print(\"hello\")\n",
    "    a = 1000\n",
    "    print(a)\n",
    "    return 20+30\n",
    "res = fun()\n",
    "print(\"result\",res)"
   ]
  },
  {
   "cell_type": "code",
   "execution_count": 19,
   "id": "48cf18ea-1b24-418a-bc8e-04c1706e5d76",
   "metadata": {},
   "outputs": [
    {
     "name": "stdout",
     "output_type": "stream",
     "text": [
      "hi\n",
      "hello\n",
      "1000\n",
      "result 50\n",
      "result <function fun at 0x000001A73FAC3560>\n",
      "hi\n",
      "hello\n",
      "1000\n",
      "result 50\n"
     ]
    }
   ],
   "source": [
    "def fun():\n",
    "    print(\"hi\")\n",
    "    print(\"hello\")\n",
    "    a = 1000\n",
    "    print(a)\n",
    "    return 20+30\n",
    "res = fun()\n",
    "print(\"result\",res)\n",
    "res1 = fun\n",
    "print(\"result\",res1)\n",
    "print(\"result\",res1())"
   ]
  },
  {
   "cell_type": "code",
   "execution_count": 1,
   "id": "7402e73a-3173-4278-9155-57fae50a8ab6",
   "metadata": {},
   "outputs": [
    {
     "ename": "ModuleNotFoundError",
     "evalue": "No module named 'data'",
     "output_type": "error",
     "traceback": [
      "\u001b[1;31m---------------------------------------------------------------------------\u001b[0m",
      "\u001b[1;31mModuleNotFoundError\u001b[0m                       Traceback (most recent call last)",
      "Cell \u001b[1;32mIn[1], line 1\u001b[0m\n\u001b[1;32m----> 1\u001b[0m \u001b[38;5;28;01mimport\u001b[39;00m \u001b[38;5;21;01mdata\u001b[39;00m\n",
      "\u001b[1;31mModuleNotFoundError\u001b[0m: No module named 'data'"
     ]
    }
   ],
   "source": [
    "import data"
   ]
  },
  {
   "cell_type": "code",
   "execution_count": 5,
   "id": "fe6d4bcb-4ef9-4219-b75f-3fc5d8bec69e",
   "metadata": {},
   "outputs": [
    {
     "name": "stdout",
     "output_type": "stream",
     "text": [
      "Main block..\n",
      "try\n",
      "some error\n",
      "finally\n",
      "main block continous\n"
     ]
    }
   ],
   "source": [
    "print(\"Main block..\")\n",
    "try:\n",
    "    print(\"try\")\n",
    "    print(1/0)\n",
    "    print(\"hello\")\n",
    "except:\n",
    "    print(\"some error\")\n",
    "finally:\n",
    "    print(\"finally\")\n",
    "print(\"main block continous\")"
   ]
  },
  {
   "cell_type": "code",
   "execution_count": 3,
   "id": "66a44c06-a0d2-43fd-91bd-0953b910ee50",
   "metadata": {},
   "outputs": [
    {
     "name": "stdout",
     "output_type": "stream",
     "text": [
      "Main block..\n",
      "try\n",
      "finally\n",
      "main block continous\n"
     ]
    }
   ],
   "source": [
    "print(\"Main block..\")\n",
    "try:\n",
    "    print(\"try\")\n",
    "except:\n",
    "    print(\"some error\")\n",
    "finally:\n",
    "    print(\"finally\")\n",
    "print(\"main block continous\")"
   ]
  },
  {
   "cell_type": "code",
   "execution_count": 7,
   "id": "81e5de0d-6209-4419-810b-0e89427673cf",
   "metadata": {},
   "outputs": [
    {
     "name": "stdout",
     "output_type": "stream",
     "text": [
      "Main block..\n",
      "try\n",
      "some error\n",
      "finally\n",
      "main block continous\n"
     ]
    }
   ],
   "source": [
    "print(\"Main block..\")\n",
    "try:\n",
    "    print(\"try\")\n",
    "    print(1/0)\n",
    "    print(\"hello\")\n",
    "except:\n",
    "    print(\"some error\")\n",
    "\n",
    "print(\"finally\")\n",
    "print(\"main block continous\")"
   ]
  },
  {
   "cell_type": "code",
   "execution_count": 9,
   "id": "780f8bb7-edd6-4119-ab71-9109ff28cb15",
   "metadata": {},
   "outputs": [
    {
     "name": "stdout",
     "output_type": "stream",
     "text": [
      "Main block..\n",
      "try\n",
      "finally\n",
      "main block continous\n"
     ]
    }
   ],
   "source": [
    "print(\"Main block..\")\n",
    "try:\n",
    "    print(\"try\")\n",
    "except:\n",
    "    print(\"some error\")\n",
    "print(\"finally\")\n",
    "print(\"main block continous\")"
   ]
  },
  {
   "cell_type": "code",
   "execution_count": 11,
   "id": "d5c10f5f-f870-4d4b-bf8a-5c3fff33784a",
   "metadata": {},
   "outputs": [
    {
     "name": "stdout",
     "output_type": "stream",
     "text": [
      "Main block..\n",
      "try\n",
      "else\n",
      "finally\n",
      "main block continous\n"
     ]
    }
   ],
   "source": [
    "print(\"Main block..\")\n",
    "try:\n",
    "    print(\"try\")\n",
    "except:\n",
    "    print(\"except\")\n",
    "else:\n",
    "    print(\"else\")\n",
    "finally:\n",
    "    print(\"finally\")\n",
    "print(\"main block continous\")"
   ]
  },
  {
   "cell_type": "code",
   "execution_count": 15,
   "id": "372f7368-a912-4f9e-a5a9-78d19b673cb1",
   "metadata": {},
   "outputs": [
    {
     "name": "stdout",
     "output_type": "stream",
     "text": [
      "Main block..\n",
      "try\n",
      "except\n",
      "finally\n",
      "main block continous\n"
     ]
    }
   ],
   "source": [
    "print(\"Main block..\")\n",
    "try:\n",
    "    print(\"try\")\n",
    "    print(1/0)\n",
    "except:\n",
    "    print(\"except\")\n",
    "else:\n",
    "    print(\"else\")\n",
    "finally:\n",
    "    print(\"finally\")\n",
    "print(\"main block continous\")"
   ]
  },
  {
   "cell_type": "code",
   "execution_count": 19,
   "id": "afb8de8d-e7ba-47a0-9f43-bc2a50b517f0",
   "metadata": {},
   "outputs": [
    {
     "name": "stdout",
     "output_type": "stream",
     "text": [
      "Main block..\n",
      "try\n",
      "else\n",
      "finally\n"
     ]
    },
    {
     "ename": "ValueError",
     "evalue": "could not convert string to float: '23.45.78'",
     "output_type": "error",
     "traceback": [
      "\u001b[1;31m--------------------------------------------------------------------------\u001b[0m",
      "\u001b[1;31mValueError\u001b[0m                               Traceback (most recent call last)",
      "Cell \u001b[1;32mIn[19], line 8\u001b[0m\n\u001b[0;32m      6\u001b[0m \u001b[38;5;28;01melse\u001b[39;00m:\n\u001b[0;32m      7\u001b[0m     \u001b[38;5;28mprint\u001b[39m(\u001b[38;5;124m\"\u001b[39m\u001b[38;5;124melse\u001b[39m\u001b[38;5;124m\"\u001b[39m)\n\u001b[1;32m----> 8\u001b[0m     \u001b[38;5;28mprint\u001b[39m(\u001b[38;5;28mfloat\u001b[39m(\u001b[38;5;124m\"\u001b[39m\u001b[38;5;124m23.45.78\u001b[39m\u001b[38;5;124m\"\u001b[39m))\n\u001b[0;32m      9\u001b[0m \u001b[38;5;28;01mfinally\u001b[39;00m:\n\u001b[0;32m     10\u001b[0m     \u001b[38;5;28mprint\u001b[39m(\u001b[38;5;124m\"\u001b[39m\u001b[38;5;124mfinally\u001b[39m\u001b[38;5;124m\"\u001b[39m)\n",
      "\u001b[1;31mValueError\u001b[0m: could not convert string to float: '23.45.78'"
     ]
    }
   ],
   "source": [
    "print(\"Main block..\")\n",
    "try:\n",
    "    print(\"try\")\n",
    "except:\n",
    "    print(\"except\")\n",
    "else:\n",
    "    print(\"else\")\n",
    "    print(float(\"23.45.78\"))\n",
    "finally:\n",
    "    print(\"finally\")\n",
    "print(\"main block continous\")"
   ]
  },
  {
   "cell_type": "code",
   "execution_count": 13,
   "id": "1da938cd-4067-4fd9-b095-6be9114f0946",
   "metadata": {},
   "outputs": [
    {
     "name": "stdout",
     "output_type": "stream",
     "text": [
      "id=1\n",
      "name=denimshirt\n",
      "cost=1500\n",
      "colour=blue\n",
      "profit=20\n",
      "discount=10\n"
     ]
    },
    {
     "data": {
      "text/plain": [
       "1800.0"
      ]
     },
     "execution_count": 13,
     "metadata": {},
     "output_type": "execute_result"
    }
   ],
   "source": [
    "class product:\n",
    "    def __init__(self,id,name,cost,colour,profit,discount):\n",
    "        self.id = id\n",
    "        self.name = name\n",
    "        self.cost = cost\n",
    "        self.colour = colour\n",
    "        self.profit = profit\n",
    "        self.discount = discount\n",
    "    def get_details(self):\n",
    "        print(f\"id={self.id}\\nname={self.name}\\ncost={self.cost}\\ncolour={self.colour}\\nprofit={self.profit}\\ndiscount={self.discount}\")\n",
    "        selling_price = (100+self.profit)/100*self.cost\n",
    "        return selling_price\n",
    "shirt=product(1,'denimshirt',1500,'blue',20,10)\n",
    "shirt.get_details()\n",
    "        "
   ]
  },
  {
   "cell_type": "code",
   "execution_count": null,
   "id": "0a85e7cb-fd4a-45c0-afd1-37c4e7a14eef",
   "metadata": {},
   "outputs": [],
   "source": [
    "class product:\n",
    "    def __init__(self,id,name,cost,colour,profit,discount):\n",
    "        self.id = id\n",
    "        self.name = name\n",
    "        self.cost = cost\n",
    "        self.colour = colour\n",
    "        self.profit = profit\n",
    "        self.discount = discount\n",
    "    def get_details(self):\n",
    "        print(f\"id={self.id}\\nname={self.name}\\ncost={self.cost}\\ncolour={self.colour}\\nprofit={self.profit}\\ndiscount={self.discount}\")\n",
    "        selling_price = (100+self.profit)/100*self.cost\n",
    "        return selling_price\n",
    "shirt=product(1,'denimshirt',1500,'blue',20,10)\n",
    "shirt.get_details()\n",
    "        "
   ]
  },
  {
   "cell_type": "code",
   "execution_count": null,
   "id": "36a31615-7fde-4dd8-8afd-2784436d6cd7",
   "metadata": {},
   "outputs": [],
   "source": []
  }
 ],
 "metadata": {
  "kernelspec": {
   "display_name": "Python 3 (ipykernel)",
   "language": "python",
   "name": "python3"
  },
  "language_info": {
   "codemirror_mode": {
    "name": "ipython",
    "version": 3
   },
   "file_extension": ".py",
   "mimetype": "text/x-python",
   "name": "python",
   "nbconvert_exporter": "python",
   "pygments_lexer": "ipython3",
   "version": "3.12.4"
  }
 },
 "nbformat": 4,
 "nbformat_minor": 5
}

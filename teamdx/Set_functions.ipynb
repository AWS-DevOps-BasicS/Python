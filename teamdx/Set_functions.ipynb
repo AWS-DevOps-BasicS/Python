{
 "cells": [
  {
   "cell_type": "markdown",
   "id": "9273ed6f-d817-46ca-a2c4-e68bd1c4655d",
   "metadata": {},
   "source": [
    "## Set Functions"
   ]
  },
  {
   "cell_type": "code",
   "execution_count": 1,
   "id": "84804047-f603-4697-99e6-a52316f01699",
   "metadata": {},
   "outputs": [],
   "source": [
    "s = {10,20,30,40}"
   ]
  },
  {
   "cell_type": "markdown",
   "id": "0551aa7e-4ff0-4cda-9cc0-067fc5b7c24e",
   "metadata": {},
   "source": [
    "* In set we can give int, float, boolean, none, tuple\n",
    "* We can't give list and dictionary in set because they are mutable objects and can't be hashable internally.\n",
    "* We can't give set in set because set is also unhashable object.\n",
    "* Set is a collection of immutable elements.\n",
    "* Set is mutable.\n",
    "* It doesn't have indexing object."
   ]
  },
  {
   "cell_type": "code",
   "execution_count": 4,
   "id": "f7ae5767-b089-4e0a-a05e-6edae1bd1064",
   "metadata": {},
   "outputs": [],
   "source": [
    "s = {10,12.34,True,None,(1,2,3,4)}"
   ]
  },
  {
   "cell_type": "code",
   "execution_count": 6,
   "id": "078b9a6b-debc-443b-b4f1-55580e9d80c7",
   "metadata": {},
   "outputs": [
    {
     "ename": "TypeError",
     "evalue": "unhashable type: 'list'",
     "output_type": "error",
     "traceback": [
      "\u001b[1;31m---------------------------------------------------------------------------\u001b[0m",
      "\u001b[1;31mTypeError\u001b[0m                                 Traceback (most recent call last)",
      "Cell \u001b[1;32mIn[6], line 1\u001b[0m\n\u001b[1;32m----> 1\u001b[0m s \u001b[38;5;241m=\u001b[39m {[\u001b[38;5;241m1\u001b[39m,\u001b[38;5;241m2\u001b[39m,\u001b[38;5;241m3\u001b[39m,\u001b[38;5;241m4\u001b[39m]}\n",
      "\u001b[1;31mTypeError\u001b[0m: unhashable type: 'list'"
     ]
    }
   ],
   "source": [
    "s = {[1,2,3,4]}"
   ]
  },
  {
   "cell_type": "code",
   "execution_count": 8,
   "id": "2442363a-62d6-4d04-9115-4c3d2da468c9",
   "metadata": {},
   "outputs": [
    {
     "ename": "TypeError",
     "evalue": "unhashable type: 'dict'",
     "output_type": "error",
     "traceback": [
      "\u001b[1;31m---------------------------------------------------------------------------\u001b[0m",
      "\u001b[1;31mTypeError\u001b[0m                                 Traceback (most recent call last)",
      "Cell \u001b[1;32mIn[8], line 1\u001b[0m\n\u001b[1;32m----> 1\u001b[0m s \u001b[38;5;241m=\u001b[39m {{\u001b[38;5;124m'\u001b[39m\u001b[38;5;124mname\u001b[39m\u001b[38;5;124m'\u001b[39m:\u001b[38;5;124m'\u001b[39m\u001b[38;5;124mjay\u001b[39m\u001b[38;5;124m'\u001b[39m}}\n",
      "\u001b[1;31mTypeError\u001b[0m: unhashable type: 'dict'"
     ]
    }
   ],
   "source": [
    "s = {{'name':'jay'}}"
   ]
  },
  {
   "cell_type": "code",
   "execution_count": 10,
   "id": "6fd4ea50-5f0d-41ed-adb1-9efacbcb73c6",
   "metadata": {},
   "outputs": [
    {
     "ename": "TypeError",
     "evalue": "unhashable type: 'set'",
     "output_type": "error",
     "traceback": [
      "\u001b[1;31m---------------------------------------------------------------------------\u001b[0m",
      "\u001b[1;31mTypeError\u001b[0m                                 Traceback (most recent call last)",
      "Cell \u001b[1;32mIn[10], line 1\u001b[0m\n\u001b[1;32m----> 1\u001b[0m s \u001b[38;5;241m=\u001b[39m {{\u001b[38;5;241m1\u001b[39m,\u001b[38;5;241m2\u001b[39m,\u001b[38;5;241m3\u001b[39m,\u001b[38;5;241m4\u001b[39m},\u001b[38;5;241m10\u001b[39m,\u001b[38;5;241m20\u001b[39m}\n",
      "\u001b[1;31mTypeError\u001b[0m: unhashable type: 'set'"
     ]
    }
   ],
   "source": [
    "s = {{1,2,3,4},10,20}"
   ]
  },
  {
   "cell_type": "code",
   "execution_count": 13,
   "id": "de6bfeb2-dd04-4dd5-8a36-ab1c11e24b12",
   "metadata": {},
   "outputs": [
    {
     "ename": "TypeError",
     "evalue": "'set' object is not subscriptable",
     "output_type": "error",
     "traceback": [
      "\u001b[1;31m---------------------------------------------------------------------------\u001b[0m",
      "\u001b[1;31mTypeError\u001b[0m                                 Traceback (most recent call last)",
      "Cell \u001b[1;32mIn[13], line 2\u001b[0m\n\u001b[0;32m      1\u001b[0m s \u001b[38;5;241m=\u001b[39m {\u001b[38;5;241m10\u001b[39m,\u001b[38;5;241m20\u001b[39m,\u001b[38;5;241m30\u001b[39m,\u001b[38;5;241m40\u001b[39m}\n\u001b[1;32m----> 2\u001b[0m \u001b[38;5;28mprint\u001b[39m(s[\u001b[38;5;241m0\u001b[39m])\n",
      "\u001b[1;31mTypeError\u001b[0m: 'set' object is not subscriptable"
     ]
    }
   ],
   "source": [
    "s = {10,20,30,40}\n",
    "print(s[0])"
   ]
  },
  {
   "cell_type": "code",
   "execution_count": 15,
   "id": "ae50c2e9-d77a-4e84-b7a3-06236e6254fb",
   "metadata": {},
   "outputs": [
    {
     "name": "stdout",
     "output_type": "stream",
     "text": [
      "40\n",
      "10\n",
      "20\n",
      "30\n"
     ]
    }
   ],
   "source": [
    "s = {10,20,30,40}\n",
    "for i in s:\n",
    "    print(i)"
   ]
  },
  {
   "cell_type": "code",
   "execution_count": 21,
   "id": "35136e49-19e9-4df2-9196-99937e16b1ff",
   "metadata": {},
   "outputs": [
    {
     "name": "stdout",
     "output_type": "stream",
     "text": [
      "s1= {100, 40, 10, 20, 30}\n",
      "s2= {100, 40, 10, 20, 30}\n",
      "s3= {40, 10, 20, 30}\n",
      "s4= {40, 10, 20, 30}\n"
     ]
    }
   ],
   "source": [
    "from copy import deepcopy\n",
    "s1 = {10,20,30,40}\n",
    "s2 = s1\n",
    "s3 = s1.copy()\n",
    "s4 = deepcopy(s1)\n",
    "s1.add(100)\n",
    "print('s1=',s1)\n",
    "print('s2=',s2)\n",
    "print('s3=',s3)\n",
    "print('s4=',s4)"
   ]
  },
  {
   "cell_type": "code",
   "execution_count": 25,
   "id": "6531dab9-ce0e-415c-9213-7174103fcaa5",
   "metadata": {},
   "outputs": [
    {
     "name": "stdout",
     "output_type": "stream",
     "text": [
      "1000 1886872780560\n",
      "(100, 200, 300) 1886874245824\n",
      "45.23 1886814345648\n",
      "********************\n",
      "1000 1886872780560\n",
      "(100, 200, 300) 1886874245824\n",
      "45.23 1886814345648\n",
      "********************\n",
      "1000 1886872780560\n",
      "(100, 200, 300) 1886874245824\n",
      "45.23 1886814345648\n",
      "********************\n"
     ]
    }
   ],
   "source": [
    "s1 = {1000,(100,200,300),45.23}\n",
    "s2 = s1.copy()\n",
    "s3 = deepcopy(s1)\n",
    "for i in s1:\n",
    "    print(i, id(i))\n",
    "print('*'*20)\n",
    "for i in s2:\n",
    "    print(i,id(i))\n",
    "print('*'*20)\n",
    "for i in s3:\n",
    "    print(i,id(i))\n",
    "print('*'*20)\n"
   ]
  },
  {
   "cell_type": "code",
   "execution_count": 29,
   "id": "2dcb013b-e593-4150-bd9b-34963197c4a5",
   "metadata": {},
   "outputs": [
    {
     "name": "stdout",
     "output_type": "stream",
     "text": [
      "['__and__', '__class__', '__class_getitem__', '__contains__', '__delattr__', '__dir__', '__doc__', '__eq__', '__format__', '__ge__', '__getattribute__', '__getstate__', '__gt__', '__hash__', '__iand__', '__init__', '__init_subclass__', '__ior__', '__isub__', '__iter__', '__ixor__', '__le__', '__len__', '__lt__', '__ne__', '__new__', '__or__', '__rand__', '__reduce__', '__reduce_ex__', '__repr__', '__ror__', '__rsub__', '__rxor__', '__setattr__', '__sizeof__', '__str__', '__sub__', '__subclasshook__', '__xor__', 'add', 'clear', 'copy', 'difference', 'difference_update', 'discard', 'intersection', 'intersection_update', 'isdisjoint', 'issubset', 'issuperset', 'pop', 'remove', 'symmetric_difference', 'symmetric_difference_update', 'union', 'update']\n"
     ]
    }
   ],
   "source": [
    "print(dir(s1))"
   ]
  },
  {
   "cell_type": "code",
   "execution_count": 31,
   "id": "27819679-f1f9-4491-b8bd-854a22955493",
   "metadata": {},
   "outputs": [
    {
     "data": {
      "text/plain": [
       "\"\\n'add', 'clear', 'copy', 'difference', 'difference_update', 'discard', 'intersection', 'intersection_update', 'isdisjoint', 'issubset', 'issuperset', 'pop', 'remove', 'symmetric_difference', 'symmetric_difference_update', 'union', 'update'\\n\""
      ]
     },
     "execution_count": 31,
     "metadata": {},
     "output_type": "execute_result"
    }
   ],
   "source": [
    "\"\"\"\n",
    "'add', 'clear', 'copy', 'difference', 'difference_update', 'discard', 'intersection', \n",
    "'intersection_update', 'isdisjoint', 'issubset', 'issuperset',\n",
    "'pop', 'remove', 'symmetric_difference', 'symmetric_difference_update', 'union', 'update'\n",
    "\"\"\""
   ]
  },
  {
   "cell_type": "code",
   "execution_count": 33,
   "id": "5043f173-55a7-4471-a01c-16f27ce4eed7",
   "metadata": {},
   "outputs": [
    {
     "name": "stdout",
     "output_type": "stream",
     "text": [
      "{1000, 4000, 3000, 200} None\n"
     ]
    },
    {
     "ename": "TypeError",
     "evalue": "'int' object is not iterable",
     "output_type": "error",
     "traceback": [
      "\u001b[1;31m---------------------------------------------------------------------------\u001b[0m",
      "\u001b[1;31mTypeError\u001b[0m                                 Traceback (most recent call last)",
      "Cell \u001b[1;32mIn[33], line 5\u001b[0m\n\u001b[0;32m      3\u001b[0m \u001b[38;5;28mprint\u001b[39m(s1,s2)\n\u001b[0;32m      4\u001b[0m s3 \u001b[38;5;241m=\u001b[39m {\u001b[38;5;241m1000\u001b[39m,\u001b[38;5;241m200\u001b[39m,\u001b[38;5;241m3000\u001b[39m}\n\u001b[1;32m----> 5\u001b[0m s4 \u001b[38;5;241m=\u001b[39m s3\u001b[38;5;241m.\u001b[39mupdate(\u001b[38;5;241m4000\u001b[39m)\n\u001b[0;32m      6\u001b[0m \u001b[38;5;28mprint\u001b[39m(s3,s4)\n",
      "\u001b[1;31mTypeError\u001b[0m: 'int' object is not iterable"
     ]
    }
   ],
   "source": [
    "s1 = {1000,200,3000}\n",
    "s2 = s1.add(4000)\n",
    "print(s1,s2)\n",
    "s3 = {1000,200,3000}\n",
    "s4 = s3.update(4000)\n",
    "print(s3,s4)"
   ]
  },
  {
   "cell_type": "code",
   "execution_count": 35,
   "id": "f8e1e5cd-7263-42a9-984c-a8e280815119",
   "metadata": {},
   "outputs": [
    {
     "name": "stdout",
     "output_type": "stream",
     "text": [
      "{1000, 4000, 3000, 200} None\n",
      "{1, 2, 3, 3000, 1000, 200} None\n"
     ]
    }
   ],
   "source": [
    "s1 = {1000,200,3000}\n",
    "s2 = s1.add(4000)\n",
    "print(s1,s2)\n",
    "s3 = {1000,200,3000}\n",
    "s4 = s3.update({1,2,3})\n",
    "print(s3,s4)"
   ]
  },
  {
   "cell_type": "markdown",
   "id": "e604e43f-de0e-4970-bcc2-08ea2616c322",
   "metadata": {},
   "source": [
    "#### add() and update() returns None both methods adds to the exsisting set."
   ]
  },
  {
   "cell_type": "code",
   "execution_count": 38,
   "id": "3934cc78-409f-4c4e-bb1c-502c40c2b7c3",
   "metadata": {},
   "outputs": [
    {
     "name": "stdout",
     "output_type": "stream",
     "text": [
      "{1000, 'python', 3000, 200} None\n",
      "{'p', 1000, 200, 'y', 't', 'n', 'o', 3000, 'h'} None\n"
     ]
    }
   ],
   "source": [
    "s1 = {1000,200,3000}\n",
    "s2 = s1.add('python')\n",
    "print(s1,s2)\n",
    "s3 = {1000,200,3000}\n",
    "s4 = s3.update('python')\n",
    "print(s3,s4)"
   ]
  },
  {
   "cell_type": "markdown",
   "id": "ac0d8dee-05f7-46dd-9962-d1b9d4e284d1",
   "metadata": {},
   "source": [
    "### clear()\n",
    "* clears the given set and returns None"
   ]
  },
  {
   "cell_type": "code",
   "execution_count": 43,
   "id": "7bc209b2-2168-44ba-8aef-fc9fbda68138",
   "metadata": {},
   "outputs": [
    {
     "name": "stdout",
     "output_type": "stream",
     "text": [
      "set()\n",
      "set()\n",
      "None\n"
     ]
    }
   ],
   "source": [
    "s1 = {1000,200,300,400}\n",
    "s2 =s1\n",
    "s3 = s1.clear()\n",
    "print(s1)\n",
    "print(s2)\n",
    "print(s3)"
   ]
  },
  {
   "cell_type": "markdown",
   "id": "77120ab8-6b84-404d-81d7-c9276944d0de",
   "metadata": {},
   "source": [
    "### difference()\n",
    "* set(A) = {1,2,3,4,5}\n",
    "* set(B) = {4,5,6,7,8,9}\n",
    "* set(A)- set(B) = {1, 2, 3} i.e; elements present only in set(A)\n",
    "* set(B) - set(A) = {8, 9, 6, 7} i.e; elements present only in set(B)"
   ]
  },
  {
   "cell_type": "code",
   "execution_count": 53,
   "id": "e8627a7b-7428-437a-b6a8-db8ec89e05ff",
   "metadata": {},
   "outputs": [
    {
     "name": "stdout",
     "output_type": "stream",
     "text": [
      "{1, 2, 3, 4, 5}\n",
      "{4, 5, 6, 7, 8, 9}\n",
      "{1, 2, 3}\n",
      "{8, 9, 6, 7}\n"
     ]
    }
   ],
   "source": [
    "s1 = {1,2,3,4,5}\n",
    "s2 = {4,5,6,7,8,9}\n",
    "s3 = s1.difference(s2)\n",
    "s4 = s2.difference(s1)\n",
    "print(s1)\n",
    "print(s2)\n",
    "print(s3)\n",
    "print(s4)"
   ]
  },
  {
   "cell_type": "markdown",
   "id": "449dd9b7-342f-4398-b5c0-c138edf3ce41",
   "metadata": {},
   "source": [
    "### difference_update()\n",
    "* updates the set and returns None.\n",
    "* see below example for better understanding."
   ]
  },
  {
   "cell_type": "code",
   "execution_count": 56,
   "id": "023c48fa-8c89-4ae5-b59d-1100ddb5f3a3",
   "metadata": {},
   "outputs": [
    {
     "name": "stdout",
     "output_type": "stream",
     "text": [
      "{1, 2, 3}\n",
      "{4, 5, 6, 7, 8, 9}\n",
      "None\n"
     ]
    }
   ],
   "source": [
    "s1 = {1,2,3,4,5}\n",
    "s2 = {4,5,6,7,8,9}\n",
    "s3 = s1.difference_update(s2)\n",
    "print(s1)\n",
    "print(s2)\n",
    "print(s3)"
   ]
  },
  {
   "cell_type": "markdown",
   "id": "b9fbb144-9f96-49f2-8ba8-7d877476ae82",
   "metadata": {},
   "source": [
    "### symmetric_difference()\n",
    "* It common elements from both sets will be removed and add the both sets into other set.\n",
    "* s1 -s2 U s2 - s1"
   ]
  },
  {
   "cell_type": "code",
   "execution_count": 60,
   "id": "84acdd78-82ac-42fe-9dd4-0cb16664b494",
   "metadata": {},
   "outputs": [
    {
     "name": "stdout",
     "output_type": "stream",
     "text": [
      "{1, 2, 3, 4, 5}\n",
      "{4, 5, 6, 7, 8, 9}\n",
      "{1, 2, 3, 6, 7, 8, 9}\n"
     ]
    }
   ],
   "source": [
    "s1 = {1,2,3,4,5}\n",
    "s2 = {4,5,6,7,8,9}\n",
    "s3 = s1.symmetric_difference(s2)\n",
    "print(s1)\n",
    "print(s2)\n",
    "print(s3)"
   ]
  },
  {
   "cell_type": "code",
   "execution_count": 64,
   "id": "8c56e979-4b1d-4e1f-98c6-77eb09537b26",
   "metadata": {},
   "outputs": [
    {
     "name": "stdout",
     "output_type": "stream",
     "text": [
      "{1, 2, 3, 4, 5}\n",
      "{4, 5, 6, 7, 8, 9}\n",
      "{1, 2, 3, 6, 7, 8, 9}\n"
     ]
    }
   ],
   "source": [
    "s1 = {1,2,3,4,5}\n",
    "s2 = {4,5,6,7,8,9}\n",
    "s3 = s2.symmetric_difference(s1)\n",
    "print(s1)\n",
    "print(s2)\n",
    "print(s3)"
   ]
  },
  {
   "cell_type": "markdown",
   "id": "5e337ce8-ca92-4221-b61e-980156220e8b",
   "metadata": {},
   "source": [
    "### intersection()\n",
    "* gives common elements."
   ]
  },
  {
   "cell_type": "code",
   "execution_count": 67,
   "id": "6dd13340-2f19-43aa-8e59-c43e76d762a0",
   "metadata": {},
   "outputs": [
    {
     "name": "stdout",
     "output_type": "stream",
     "text": [
      "{1, 2, 3, 4, 5}\n",
      "{4, 5, 6, 7, 8, 9}\n",
      "{4, 5}\n"
     ]
    }
   ],
   "source": [
    "s1 = {1,2,3,4,5}\n",
    "s2 = {4,5,6,7,8,9}\n",
    "s3 = s2.intersection(s1)\n",
    "print(s1)\n",
    "print(s2)\n",
    "print(s3)"
   ]
  },
  {
   "cell_type": "markdown",
   "id": "9724b67a-09c2-4717-9cf5-4250d101c6d6",
   "metadata": {},
   "source": [
    "### intersection_update()\n",
    "* common elements will be updated to one of the set and returns None."
   ]
  },
  {
   "cell_type": "code",
   "execution_count": 69,
   "id": "549449c2-dba8-435e-bbdb-0ab81de89ce1",
   "metadata": {},
   "outputs": [
    {
     "name": "stdout",
     "output_type": "stream",
     "text": [
      "{1, 2, 3, 4, 5}\n",
      "{4, 5}\n",
      "None\n"
     ]
    }
   ],
   "source": [
    "s1 = {1,2,3,4,5}\n",
    "s2 = {4,5,6,7,8,9}\n",
    "s3 = s2.intersection_update(s1)\n",
    "print(s1)\n",
    "print(s2)\n",
    "print(s3)"
   ]
  },
  {
   "cell_type": "markdown",
   "id": "d6bcfc45-4c79-4d25-bf70-9ab9016246ad",
   "metadata": {},
   "source": [
    "### Union()\n",
    "* All the elements will be combine and gives a seperate set."
   ]
  },
  {
   "cell_type": "code",
   "execution_count": 73,
   "id": "7f05dd58-29c5-48f3-8d2d-b8d2017c5bae",
   "metadata": {},
   "outputs": [
    {
     "name": "stdout",
     "output_type": "stream",
     "text": [
      "{1, 2, 3, 4, 5}\n",
      "{4, 5, 6, 7, 8, 9}\n",
      "{1, 2, 3, 4, 5, 6, 7, 8, 9}\n"
     ]
    }
   ],
   "source": [
    "s1 = {1,2,3,4,5}\n",
    "s2 = {4,5,6,7,8,9}\n",
    "s3 = s2.union(s1)\n",
    "print(s1)\n",
    "print(s2)\n",
    "print(s3)"
   ]
  },
  {
   "cell_type": "code",
   "execution_count": 78,
   "id": "1ae993d5-3e89-44df-b10a-1ed5641ed686",
   "metadata": {},
   "outputs": [
    {
     "name": "stdout",
     "output_type": "stream",
     "text": [
      "{1, 2, 3, 4, 5}\n",
      "{1, 2, 3, 4, 5, 6, 7, 8, 9}\n",
      "None\n"
     ]
    }
   ],
   "source": [
    "s1 = {1,2,3,4,5}\n",
    "s2 = {4,5,6,7,8,9}\n",
    "s3 = s2.update(s1)\n",
    "print(s1)\n",
    "print(s2)\n",
    "print(s3)\n",
    "# here update() acts as union_update. so we don't have union_update method."
   ]
  },
  {
   "cell_type": "markdown",
   "id": "85d1d34d-1553-4a77-9924-bb43002e1408",
   "metadata": {},
   "source": [
    "### discard()\n",
    "* Discard will remove the actual object from actual set and returns None."
   ]
  },
  {
   "cell_type": "code",
   "execution_count": 82,
   "id": "6e369e2d-b0e4-4af4-9ab2-2162c2b99b9b",
   "metadata": {},
   "outputs": [
    {
     "name": "stdout",
     "output_type": "stream",
     "text": [
      "{300, 400, 200}\n",
      "None\n"
     ]
    }
   ],
   "source": [
    "s1 = {1000,200,300,400}\n",
    "s2 =s1.discard(1000)\n",
    "print(s1)\n",
    "print(s2)"
   ]
  },
  {
   "cell_type": "code",
   "execution_count": 84,
   "id": "0aa063a3-5966-4c02-8d63-d1bbc2e51b8e",
   "metadata": {},
   "outputs": [
    {
     "name": "stdout",
     "output_type": "stream",
     "text": [
      "{300, 400, 200}\n",
      "None\n"
     ]
    }
   ],
   "source": [
    "s1 = {1000,200,300,400}\n",
    "s2 =s1.remove(1000)\n",
    "print(s1)\n",
    "print(s2)"
   ]
  },
  {
   "cell_type": "code",
   "execution_count": 92,
   "id": "1d113e76-b7ac-4ff7-a166-d3ccc85cb0f3",
   "metadata": {},
   "outputs": [
    {
     "name": "stdout",
     "output_type": "stream",
     "text": [
      "{1000, 300, 400, 200}\n",
      "None\n"
     ]
    }
   ],
   "source": [
    "s1 = {1000,200,300,400}\n",
    "s2 =s1.discard(5000)\n",
    "print(s1)\n",
    "print(s2)"
   ]
  },
  {
   "cell_type": "code",
   "execution_count": 90,
   "id": "8c654f1e-fbb0-4f8f-a9c9-bd4b3a7fc43b",
   "metadata": {},
   "outputs": [
    {
     "ename": "KeyError",
     "evalue": "5000",
     "output_type": "error",
     "traceback": [
      "\u001b[1;31m---------------------------------------------------------------------------\u001b[0m",
      "\u001b[1;31mKeyError\u001b[0m                                  Traceback (most recent call last)",
      "Cell \u001b[1;32mIn[90], line 2\u001b[0m\n\u001b[0;32m      1\u001b[0m s1 \u001b[38;5;241m=\u001b[39m {\u001b[38;5;241m1000\u001b[39m,\u001b[38;5;241m200\u001b[39m,\u001b[38;5;241m300\u001b[39m,\u001b[38;5;241m400\u001b[39m}\n\u001b[1;32m----> 2\u001b[0m s2 \u001b[38;5;241m=\u001b[39ms1\u001b[38;5;241m.\u001b[39mremove(\u001b[38;5;241m5000\u001b[39m)\n\u001b[0;32m      3\u001b[0m \u001b[38;5;28mprint\u001b[39m(s1)\n\u001b[0;32m      4\u001b[0m \u001b[38;5;28mprint\u001b[39m(s2)\n",
      "\u001b[1;31mKeyError\u001b[0m: 5000"
     ]
    }
   ],
   "source": [
    "s1 = {1000,200,300,400}\n",
    "s2 =s1.remove(5000)\n",
    "print(s1)\n",
    "print(s2)"
   ]
  },
  {
   "cell_type": "markdown",
   "id": "75e5f14f-d834-4f88-83e0-4bb9683f37a3",
   "metadata": {},
   "source": [
    "### pop()\n",
    "* Randomly removes the elements. which element is removed that element will be returned."
   ]
  },
  {
   "cell_type": "code",
   "execution_count": 96,
   "id": "1be4b077-88c6-4438-9763-0500d0975aa5",
   "metadata": {},
   "outputs": [
    {
     "name": "stdout",
     "output_type": "stream",
     "text": [
      "{300, 400, 200}\n",
      "1000\n"
     ]
    }
   ],
   "source": [
    "s1 = {1000,200,300,400}\n",
    "s2 =s1.pop()\n",
    "print(s1)\n",
    "print(s2)"
   ]
  },
  {
   "cell_type": "code",
   "execution_count": 102,
   "id": "74291913-5dd9-4df9-96e7-ded1265a2e6c",
   "metadata": {},
   "outputs": [
    {
     "name": "stdout",
     "output_type": "stream",
     "text": [
      "{400, 1000, 300, 200}\n",
      "50000\n"
     ]
    }
   ],
   "source": [
    "s1 = {50000,1000,200,300,400}\n",
    "s2 =s1.pop()\n",
    "print(s1)\n",
    "print(s2)"
   ]
  },
  {
   "cell_type": "code",
   "execution_count": 104,
   "id": "b20e9c9d-4382-4e2d-8d63-dcc47c36b9af",
   "metadata": {},
   "outputs": [
    {
     "name": "stdout",
     "output_type": "stream",
     "text": [
      "{8694, 1000, 300, 200}\n",
      "400\n"
     ]
    }
   ],
   "source": [
    "s1 = {8694,1000,200,300,400}\n",
    "s2 =s1.pop()\n",
    "print(s1)\n",
    "print(s2)"
   ]
  },
  {
   "cell_type": "markdown",
   "id": "9330e2b3-e9ad-472e-9c35-649ca107b349",
   "metadata": {},
   "source": [
    "### issubset()\n",
    "* checks if elements of one set is subset of other set."
   ]
  },
  {
   "cell_type": "code",
   "execution_count": 107,
   "id": "187e7620-d469-40f4-9485-2d26c892a437",
   "metadata": {},
   "outputs": [
    {
     "name": "stdout",
     "output_type": "stream",
     "text": [
      "{1, 2, 3, 4, 5}\n",
      "{4, 5, 6, 7, 8, 9}\n",
      "False\n"
     ]
    }
   ],
   "source": [
    "s1 = {1,2,3,4,5}\n",
    "s2 = {4,5,6,7,8,9}\n",
    "s3 = s2.issubset(s1)\n",
    "print(s1)\n",
    "print(s2)\n",
    "print(s3)"
   ]
  },
  {
   "cell_type": "code",
   "execution_count": 109,
   "id": "f1e9cf78-c26c-401c-971d-fd7e0486b72a",
   "metadata": {},
   "outputs": [
    {
     "name": "stdout",
     "output_type": "stream",
     "text": [
      "{1, 2, 3, 4, 5}\n",
      "{1, 2, 3, 4, 5, 6, 7, 8, 9}\n",
      "True\n"
     ]
    }
   ],
   "source": [
    "s1 = {1,2,3,4,5}\n",
    "s2 = {1,2,3,4,5,6,7,8,9}\n",
    "s3 = s1.issubset(s2)\n",
    "print(s1)\n",
    "print(s2)\n",
    "print(s3)"
   ]
  },
  {
   "cell_type": "markdown",
   "id": "235e579e-9a08-434a-abf5-fd046b84825a",
   "metadata": {},
   "source": [
    "### superset()"
   ]
  },
  {
   "cell_type": "code",
   "execution_count": 112,
   "id": "6dc8970e-3765-4b4e-8298-b7b11759a311",
   "metadata": {},
   "outputs": [
    {
     "name": "stdout",
     "output_type": "stream",
     "text": [
      "{1, 2, 3, 4, 5}\n",
      "{1, 2, 3, 4, 5, 6, 7, 8, 9}\n",
      "True\n"
     ]
    }
   ],
   "source": [
    "s1 = {1,2,3,4,5}\n",
    "s2 = {1,2,3,4,5,6,7,8,9}\n",
    "s3 = s2.issuperset(s1)\n",
    "print(s1)\n",
    "print(s2)\n",
    "print(s3)"
   ]
  },
  {
   "cell_type": "markdown",
   "id": "66f2c2ad-98cd-44c2-9f9f-0f54e00a4418",
   "metadata": {},
   "source": [
    "### isdisjoint()"
   ]
  },
  {
   "cell_type": "code",
   "execution_count": 116,
   "id": "77517f21-41e2-44da-803c-3eda347d96c2",
   "metadata": {},
   "outputs": [
    {
     "name": "stdout",
     "output_type": "stream",
     "text": [
      "{1, 2, 3, 4, 5}\n",
      "{8, 9, 6, 7}\n",
      "True\n"
     ]
    }
   ],
   "source": [
    "s1 = {1,2,3,4,5}\n",
    "s2 = {6,7,8,9}\n",
    "s3 = s2.isdisjoint(s1)\n",
    "print(s1)\n",
    "print(s2)\n",
    "print(s3)"
   ]
  },
  {
   "cell_type": "code",
   "execution_count": null,
   "id": "2141c8ab-67b6-4892-817d-46447122433e",
   "metadata": {},
   "outputs": [],
   "source": []
  }
 ],
 "metadata": {
  "kernelspec": {
   "display_name": "Python 3 (ipykernel)",
   "language": "python",
   "name": "python3"
  },
  "language_info": {
   "codemirror_mode": {
    "name": "ipython",
    "version": 3
   },
   "file_extension": ".py",
   "mimetype": "text/x-python",
   "name": "python",
   "nbconvert_exporter": "python",
   "pygments_lexer": "ipython3",
   "version": "3.12.4"
  }
 },
 "nbformat": 4,
 "nbformat_minor": 5
}

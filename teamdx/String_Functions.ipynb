{
 "cells": [
  {
   "cell_type": "code",
   "execution_count": 22,
   "id": "eb71756b-b54a-4843-bfaa-ebd730a7218c",
   "metadata": {},
   "outputs": [
    {
     "name": "stdout",
     "output_type": "stream",
     "text": [
      "Hyderabad is a clean city. hello\n"
     ]
    }
   ],
   "source": [
    "s = \"hyderabad is a CLEAN city. hello\"\n",
    "print(s.capitalize())\n",
    "# Make the Starting letter of the string to small to captial letter and rest of the letters to small"
   ]
  },
  {
   "cell_type": "markdown",
   "id": "bb91285a-9f87-452c-af16-b586fab574e7",
   "metadata": {},
   "source": [
    "### upper(), lower(), casefold() and swapcase() differences\n",
    "* These methods work for casing the letters\n",
    "* upper(): Converts the string to capital letters.\n",
    "* lower(): converts the string to small letters.\n",
    "* casefold(): The casefold() method returns a string where all the characters are lower case.\n",
    "    * This method is similar to the lower() method, but the casefold() method is stronger, more aggressive, meaning that it will convert more characters into lower case, and will find more matches when comparing two strings and both are converted using the casefold() method.\n",
    "* swapcase(): converts Lowercase letters to higher case and uppercase to lowercase"
   ]
  },
  {
   "cell_type": "code",
   "execution_count": 20,
   "id": "db192511-e1ec-4f4e-bef3-ca59e0dc3072",
   "metadata": {},
   "outputs": [
    {
     "name": "stdout",
     "output_type": "stream",
     "text": [
      "HYDERABAD IS A CLEAN CITY\n",
      "hyderabad is a clean city\n",
      "hyderabad is a clean city\n",
      "HYDERABAD IS A CLEAN city\n",
      "hyderabad is a clean CITY\n"
     ]
    }
   ],
   "source": [
    "s = \"hyderabad is a clean CITY\"\n",
    "print(s.upper())\n",
    "print(s.lower())\n",
    "print(s.casefold())\n",
    "print(s.swapcase())\n",
    "print(s)"
   ]
  },
  {
   "cell_type": "code",
   "execution_count": 25,
   "id": "1a9d56f7-6b34-451c-8f25-ca810c9ed837",
   "metadata": {},
   "outputs": [
    {
     "name": "stdout",
     "output_type": "stream",
     "text": [
      "python 1884996353216\n",
      "PYTHON 1885141597952\n"
     ]
    }
   ],
   "source": [
    "s = \"python\"\n",
    "s1 = s.upper()\n",
    "print(s,id(s))\n",
    "print(s1,id(s1))\n",
    "# We are applying upper method on 's' reference but original object is not changing. It creates a new object "
   ]
  },
  {
   "cell_type": "markdown",
   "id": "348557e9-23d8-47b0-83f2-794f7e63f043",
   "metadata": {},
   "source": [
    "* Applying any method or function in Python, We can't modify the original `string object`. It creates a new object. Either it should be deleted or it will be as it is. This is `immutable`."
   ]
  },
  {
   "cell_type": "markdown",
   "id": "82f4329d-ddc2-41f0-9371-0dcecbae9dc0",
   "metadata": {},
   "source": [
    "### Comparing two strings"
   ]
  },
  {
   "cell_type": "code",
   "execution_count": 30,
   "id": "729ec115-a8de-411b-9a22-430af34635ff",
   "metadata": {},
   "outputs": [
    {
     "name": "stdin",
     "output_type": "stream",
     "text": [
      "enter string: python\n",
      "enter string: java\n"
     ]
    },
    {
     "name": "stdout",
     "output_type": "stream",
     "text": [
      "Not Equal\n"
     ]
    }
   ],
   "source": [
    "s = input(\"enter string:\")\n",
    "s1 = input(\"enter string:\")\n",
    "if s ==s1:\n",
    "    print(\"Equal\")\n",
    "else:\n",
    "    print(\"Not Equal\")"
   ]
  },
  {
   "cell_type": "code",
   "execution_count": 33,
   "id": "6370a2a7-db2e-4bec-b443-326a69f77650",
   "metadata": {},
   "outputs": [
    {
     "name": "stdin",
     "output_type": "stream",
     "text": [
      "enter string: python\n",
      "enter string: PYTHON\n"
     ]
    },
    {
     "name": "stdout",
     "output_type": "stream",
     "text": [
      "Not Equal\n"
     ]
    }
   ],
   "source": [
    "s = input(\"enter string:\")\n",
    "s1 = input(\"enter string:\")\n",
    "if s ==s1:\n",
    "    print(\"Equal\")\n",
    "else:\n",
    "    print(\"Not Equal\")"
   ]
  },
  {
   "cell_type": "markdown",
   "id": "7a125ffe-176d-4354-a44f-ded1908b985d",
   "metadata": {},
   "source": [
    "* In above cell both the inputs are same but one is in lowercase and other in uppercase. It is a case sensitive comparision. So when comparing two it should ignore casing and have to be compared. We should consider case insensitive comparsion."
   ]
  },
  {
   "cell_type": "code",
   "execution_count": 40,
   "id": "90e26aae-fbe2-469c-843f-a45a1dca80e0",
   "metadata": {},
   "outputs": [
    {
     "name": "stdin",
     "output_type": "stream",
     "text": [
      "enter string: PYTHON\n",
      "enter string: python\n"
     ]
    },
    {
     "name": "stdout",
     "output_type": "stream",
     "text": [
      "Equal\n"
     ]
    }
   ],
   "source": [
    "s = input(\"enter string:\")\n",
    "s1 = input(\"enter string:\")\n",
    "if s.lower() ==s1.lower():\n",
    "    print(\"Equal\")\n",
    "else:\n",
    "    print(\"Not Equal\")\n",
    "# Here python is converting to lower and comparing the two references' objects."
   ]
  },
  {
   "cell_type": "code",
   "execution_count": 38,
   "id": "91fd6fc6-610d-4f2c-81f1-b94124c38a2a",
   "metadata": {},
   "outputs": [
    {
     "name": "stdin",
     "output_type": "stream",
     "text": [
      "enter string: pyt\n",
      "enter string: PYT\n"
     ]
    },
    {
     "name": "stdout",
     "output_type": "stream",
     "text": [
      "Equal\n"
     ]
    }
   ],
   "source": [
    "s = input(\"enter string:\")\n",
    "s1 = input(\"enter string:\")\n",
    "if s.upper() ==s1.upper():\n",
    "    print(\"Equal\")\n",
    "else:\n",
    "    print(\"Not Equal\")\n",
    "# Here python is converting to uppercase and comparing the two references' objects."
   ]
  },
  {
   "cell_type": "markdown",
   "id": "f0a46a65-3726-49f8-925a-bab15fdac1da",
   "metadata": {},
   "source": [
    "* If we write the code like above two cells then reviewer will question e=why your are converting to lower or upper for comparision. It is a data voilation. We should not convert the data It should be saved as it is.\n",
    "* convertion is done to store the data in database then one function like `upper()` or `lower()` is used.\n",
    "* If it is for data comparision that to case insensitive then `casefold()` is used."
   ]
  },
  {
   "cell_type": "code",
   "execution_count": 43,
   "id": "eb0361ad-a1b0-492c-923c-e013c4d4b7b5",
   "metadata": {},
   "outputs": [
    {
     "name": "stdin",
     "output_type": "stream",
     "text": [
      "enter string: python\n",
      "enter string: PYTHON\n"
     ]
    },
    {
     "name": "stdout",
     "output_type": "stream",
     "text": [
      "Equal\n"
     ]
    }
   ],
   "source": [
    "s = input(\"enter string:\")\n",
    "s1 = input(\"enter string:\")\n",
    "if s.casefold() ==s1.casefold():\n",
    "    print(\"Equal\")\n",
    "else:\n",
    "    print(\"Not Equal\")"
   ]
  },
  {
   "cell_type": "markdown",
   "id": "d65c76c5-b4ac-4514-852b-377ca2937b1b",
   "metadata": {},
   "source": [
    "### maketrans() and translate()\n"
   ]
  },
  {
   "cell_type": "code",
   "execution_count": 48,
   "id": "33dcd490-b77e-48af-a8d5-82b9f949bd70",
   "metadata": {},
   "outputs": [
    {
     "data": {
      "text/plain": [
       "'ABCdABCdefghiABCdjklabdfgh'"
      ]
     },
     "execution_count": 48,
     "metadata": {},
     "output_type": "execute_result"
    }
   ],
   "source": [
    "s = \"abcdabcdefghiabcdjklabdfgh\"\n",
    "# in above string 'abc' should convert to 'ABC'\n",
    "# ABCdABCdefghiABCdjklabdfgh\n",
    "s.replace('abc','ABC')"
   ]
  },
  {
   "cell_type": "code",
   "execution_count": 2,
   "id": "f812cd0e-09c9-41e8-a8fd-c999a4d165ae",
   "metadata": {},
   "outputs": [
    {
     "data": {
      "text/plain": [
       "'abcdabcdefghiabcdjklabdfgh'"
      ]
     },
     "execution_count": 2,
     "metadata": {},
     "output_type": "execute_result"
    }
   ],
   "source": [
    "s = \"abcdabcdefghiabcdjklabdfgh\"\n",
    "# in above string, 'abc' should be removed \n",
    "# ddefghidjklabdfgh\n",
    "s.removesuffix('abc')"
   ]
  },
  {
   "cell_type": "code",
   "execution_count": 56,
   "id": "ef6ffb2a-93d4-4246-8368-256c46069a5e",
   "metadata": {},
   "outputs": [
    {
     "data": {
      "text/plain": [
       "'ddefghidjklabdfgh'"
      ]
     },
     "execution_count": 56,
     "metadata": {},
     "output_type": "execute_result"
    }
   ],
   "source": [
    "s = \"abcdabcdefghiabcdjklabdfgh\"\n",
    "# in above string, 'abc' should be removed \n",
    "# ddefghidjklabdfgh\n",
    "s.replace('abc','')\n",
    "# to remove a substring from actual string we have to pass empty string('') as replacment for substring."
   ]
  },
  {
   "cell_type": "code",
   "execution_count": 60,
   "id": "c9e2a2ba-07a0-49b5-95bb-90b2efcd1f86",
   "metadata": {},
   "outputs": [
    {
     "data": {
      "text/plain": [
       "'abcdabcdefghiabcdjkl#$%fgh'"
      ]
     },
     "execution_count": 60,
     "metadata": {},
     "output_type": "execute_result"
    }
   ],
   "source": [
    "s = \"abcdabcdefghiabcdjklabdfgh\"\n",
    "# a->#, b->$,d->%\n",
    "s.replace('abd','#$%')\n",
    "# We have give substring 'abc' to replace with '#$%'"
   ]
  },
  {
   "cell_type": "code",
   "execution_count": 72,
   "id": "ad3ee9ee-4898-4176-80ca-c758e46beba7",
   "metadata": {},
   "outputs": [
    {
     "name": "stdout",
     "output_type": "stream",
     "text": [
      "abcdabcdefghiabcdjklabdfgh\n"
     ]
    }
   ],
   "source": [
    "s = \"abcdabcdefghiabcdjklabdfgh\"\n",
    "# a->#, b->$,d->%\n",
    "s.replace('a','#')\n",
    "s.replace('b','$')\n",
    "s.replace('d','%')\n",
    "print(s)"
   ]
  },
  {
   "cell_type": "code",
   "execution_count": 70,
   "id": "257ccd0c-3b1e-4ddd-acc2-1e756e570d19",
   "metadata": {},
   "outputs": [
    {
     "name": "stdout",
     "output_type": "stream",
     "text": [
      "#$c%#$c%efghi#$c%jkl#$%fgh\n"
     ]
    }
   ],
   "source": [
    "s = \"abcdabcdefghiabcdjklabdfgh\"\n",
    "# a->#, b->$,d->%\n",
    "r1 = s.replace('a','#')\n",
    "r2 = r1.replace('b','$')\n",
    "r3 = r2.replace('d','%')\n",
    "print(r3)"
   ]
  },
  {
   "cell_type": "code",
   "execution_count": 74,
   "id": "2ae55db8-851d-4705-ab80-6d9da9aebf42",
   "metadata": {},
   "outputs": [
    {
     "name": "stdout",
     "output_type": "stream",
     "text": [
      "a\n",
      "b\n",
      "c\n",
      "d\n",
      "a\n",
      "b\n",
      "c\n",
      "d\n",
      "e\n",
      "f\n",
      "g\n",
      "h\n",
      "i\n",
      "a\n",
      "b\n",
      "c\n",
      "d\n",
      "j\n",
      "k\n",
      "l\n",
      "a\n",
      "b\n",
      "d\n",
      "f\n",
      "g\n",
      "h\n"
     ]
    }
   ],
   "source": [
    "s = \"abcdabcdefghiabcdjklabdfgh\"\n",
    "for i in s:\n",
    "    print(i)\n",
    "# If I do like this only object will be printed. I want index of those objects too."
   ]
  },
  {
   "cell_type": "code",
   "execution_count": 76,
   "id": "d2ae7e1c-af66-420c-b2ba-54e4391c0c04",
   "metadata": {},
   "outputs": [
    {
     "name": "stdout",
     "output_type": "stream",
     "text": [
      "a 0\n",
      "b 1\n",
      "c 2\n",
      "d 3\n",
      "a 4\n",
      "b 5\n",
      "c 6\n",
      "d 7\n",
      "e 8\n",
      "f 9\n",
      "g 10\n",
      "h 11\n",
      "i 12\n",
      "a 13\n",
      "b 14\n",
      "c 15\n",
      "d 16\n",
      "j 17\n",
      "k 18\n",
      "l 19\n",
      "a 20\n",
      "b 21\n",
      "d 22\n",
      "f 23\n",
      "g 24\n",
      "h 25\n"
     ]
    }
   ],
   "source": [
    "s = \"abcdabcdefghiabcdjklabdfgh\"\n",
    "index = 0\n",
    "for i in s:\n",
    "    print(i,index)\n",
    "    index = index+1"
   ]
  },
  {
   "cell_type": "code",
   "execution_count": 78,
   "id": "7c5d91af-c443-4ce0-aaf9-09178e2c8420",
   "metadata": {},
   "outputs": [
    {
     "name": "stdout",
     "output_type": "stream",
     "text": [
      "(0, 'a')\n",
      "hello\n",
      "(1, 'b')\n",
      "hello\n",
      "(2, 'c')\n",
      "hello\n",
      "(3, 'd')\n",
      "hello\n"
     ]
    }
   ],
   "source": [
    "s = \"abcd\"\n",
    "for i in enumerate(s): #i =(0,'a'), i = (1,'b')\n",
    "    print(i)\n",
    "    print('hello')"
   ]
  },
  {
   "cell_type": "markdown",
   "id": "a2117f9e-950a-4bee-ad88-ec9edf0d3c87",
   "metadata": {},
   "source": [
    "```python\n",
    "s = \"abd\"\n",
    "s1 = \"#$%\"\n",
    "```\n",
    "* Now output i wantis ('a','#'),('b','$'),('c','%')\n",
    "* to do so we have to learn how to unpack the tuple. \n",
    "    "
   ]
  },
  {
   "cell_type": "code",
   "execution_count": 89,
   "id": "41a63b8f-df3d-4bd4-a852-6b16e2c86728",
   "metadata": {},
   "outputs": [
    {
     "name": "stdout",
     "output_type": "stream",
     "text": [
      "1 2\n"
     ]
    }
   ],
   "source": [
    "a,b = (1,2)\n",
    "print(a,b)# a =1, b=2"
   ]
  },
  {
   "cell_type": "code",
   "execution_count": 87,
   "id": "59bf6a8f-1369-4914-b41a-30528db9ce9c",
   "metadata": {},
   "outputs": [
    {
     "ename": "ValueError",
     "evalue": "too many values to unpack (expected 2)",
     "output_type": "error",
     "traceback": [
      "\u001b[1;31m---------------------------------------------------------------------------\u001b[0m",
      "\u001b[1;31mValueError\u001b[0m                                Traceback (most recent call last)",
      "Cell \u001b[1;32mIn[87], line 1\u001b[0m\n\u001b[1;32m----> 1\u001b[0m a,b \u001b[38;5;241m=\u001b[39m(\u001b[38;5;241m1\u001b[39m,\u001b[38;5;241m2\u001b[39m,\u001b[38;5;241m3\u001b[39m)\n\u001b[0;32m      2\u001b[0m \u001b[38;5;28mprint\u001b[39m(a,b)\n",
      "\u001b[1;31mValueError\u001b[0m: too many values to unpack (expected 2)"
     ]
    }
   ],
   "source": [
    "a,b =(1,2,3)\n",
    "print(a,b)\n",
    "# it is throwing error because in tuple we have given 3 values but in reference we have mentioned only 2."
   ]
  },
  {
   "cell_type": "code",
   "execution_count": 91,
   "id": "c1b72322-ebed-4ed7-8818-883edfbd3a47",
   "metadata": {},
   "outputs": [
    {
     "name": "stdout",
     "output_type": "stream",
     "text": [
      "1 2 3\n"
     ]
    }
   ],
   "source": [
    "a,b,c =(1,2,3)\n",
    "print(a,b,c)"
   ]
  },
  {
   "cell_type": "code",
   "execution_count": 95,
   "id": "4779df6a-f4a6-4af6-920d-7c7aef75ba51",
   "metadata": {},
   "outputs": [
    {
     "ename": "ValueError",
     "evalue": "too many values to unpack (expected 3)",
     "output_type": "error",
     "traceback": [
      "\u001b[1;31m---------------------------------------------------------------------------\u001b[0m",
      "\u001b[1;31mValueError\u001b[0m                                Traceback (most recent call last)",
      "Cell \u001b[1;32mIn[95], line 1\u001b[0m\n\u001b[1;32m----> 1\u001b[0m a,b,c \u001b[38;5;241m=\u001b[39m(\u001b[38;5;241m1\u001b[39m,\u001b[38;5;241m2\u001b[39m,\u001b[38;5;241m3\u001b[39m,\u001b[38;5;241m4\u001b[39m,\u001b[38;5;241m5\u001b[39m,\u001b[38;5;241m6\u001b[39m,\u001b[38;5;241m7\u001b[39m,\u001b[38;5;241m8\u001b[39m,\u001b[38;5;241m9\u001b[39m)\n\u001b[0;32m      2\u001b[0m \u001b[38;5;28mprint\u001b[39m(a,b,c)\n",
      "\u001b[1;31mValueError\u001b[0m: too many values to unpack (expected 3)"
     ]
    }
   ],
   "source": [
    "a,b,c =(1,2,3,4,5,6,7,8,9)\n",
    "print(a,b,c)\n",
    "# What I need is upto 1,2,3 values should refer a,b,c and remaining vaules to d d =[4,5,6,7,8,9]"
   ]
  },
  {
   "cell_type": "code",
   "execution_count": 97,
   "id": "28da7615-f877-4592-84c4-24b4caf3ccc5",
   "metadata": {},
   "outputs": [
    {
     "name": "stdout",
     "output_type": "stream",
     "text": [
      "1 2 3 [4, 5, 6, 7, 8, 9]\n"
     ]
    }
   ],
   "source": [
    "a,b,c,*d =(1,2,3,4,5,6,7,8,9)\n",
    "print(a,b,c,d)"
   ]
  },
  {
   "cell_type": "code",
   "execution_count": 99,
   "id": "456725f9-10d8-4f2b-b09b-69232b3570c8",
   "metadata": {},
   "outputs": [
    {
     "name": "stdout",
     "output_type": "stream",
     "text": [
      "0 a\n",
      "1 b\n",
      "2 d\n"
     ]
    }
   ],
   "source": [
    "s = 'abd'\n",
    "s1 = '#$%'\n",
    "for index,value in enumerate(s): # (index =0 value = a),(index =1 value = b)\n",
    "    print(index, value)"
   ]
  },
  {
   "cell_type": "code",
   "execution_count": 101,
   "id": "2c928122-dc28-43b8-8000-e423d1a0d483",
   "metadata": {},
   "outputs": [
    {
     "name": "stdout",
     "output_type": "stream",
     "text": [
      "0 a #\n",
      "1 b $\n",
      "2 d %\n"
     ]
    }
   ],
   "source": [
    "s = 'abd'\n",
    "s1 = '#$%'\n",
    "for index,value in enumerate(s): # (index =0 value = a),(index =1 value = b)\n",
    "    print(index, value, s1[index])"
   ]
  },
  {
   "cell_type": "code",
   "execution_count": 103,
   "id": "c76540b0-5e2e-4e14-a92b-dafddd25ed87",
   "metadata": {},
   "outputs": [
    {
     "name": "stdout",
     "output_type": "stream",
     "text": [
      "#$c%#$c%efghi#$c%jkl#$%fgh\n"
     ]
    }
   ],
   "source": [
    "actual = \"abcdabcdefghiabcdjklabdfgh\"\n",
    "s = 'abd'\n",
    "s1 = '#$%'\n",
    "for index,value in enumerate(s):\n",
    "    actual = actual.replace(value,s1[index])\n",
    "print(actual)"
   ]
  },
  {
   "cell_type": "code",
   "execution_count": 6,
   "id": "ebf65fdf-1b96-4a68-b11c-59487c9e56a2",
   "metadata": {},
   "outputs": [
    {
     "data": {
      "text/plain": [
       "97"
      ]
     },
     "execution_count": 6,
     "metadata": {},
     "output_type": "execute_result"
    }
   ],
   "source": [
    "ord('a')"
   ]
  },
  {
   "cell_type": "code",
   "execution_count": 20,
   "id": "95eae97d-2ad5-4b60-99dd-794791738f43",
   "metadata": {},
   "outputs": [
    {
     "data": {
      "text/plain": [
       "35"
      ]
     },
     "execution_count": 20,
     "metadata": {},
     "output_type": "execute_result"
    }
   ],
   "source": [
    "ord('#')"
   ]
  },
  {
   "cell_type": "code",
   "execution_count": 18,
   "id": "8ade9bbc-63b5-4499-b7d1-32df9fc5bdb5",
   "metadata": {},
   "outputs": [
    {
     "data": {
      "text/plain": [
       "{97: 65}"
      ]
     },
     "execution_count": 18,
     "metadata": {},
     "output_type": "execute_result"
    }
   ],
   "source": [
    "actual = 'abcd'\n",
    "s = 'abd'\n",
    "s1 = '#$%'\n",
    "actual.maketrans({97:35})\n",
    "# 'a' ascii value is 97 and '#' ascii value is '35' we are saying that a should replace with # for that we have to use translate\n"
   ]
  },
  {
   "cell_type": "code",
   "execution_count": 26,
   "id": "34a3a4fd-85f8-418c-a5ee-b84112395392",
   "metadata": {},
   "outputs": [
    {
     "name": "stdout",
     "output_type": "stream",
     "text": [
      "#bcdefg#\n"
     ]
    }
   ],
   "source": [
    "actual = 'abcdefga'\n",
    "s = 'abd'\n",
    "s1 = '#$%'\n",
    "res = actual.translate({ord('a'):ord('#')})\n",
    "print(res)"
   ]
  },
  {
   "cell_type": "code",
   "execution_count": 28,
   "id": "787abba7-4aa5-482e-877c-96dbc93cb9ba",
   "metadata": {},
   "outputs": [
    {
     "name": "stdout",
     "output_type": "stream",
     "text": [
      "#$c%efg#\n"
     ]
    }
   ],
   "source": [
    "actual = 'abcdefga'\n",
    "s = 'abd'\n",
    "s1 = '#$%'\n",
    "res = actual.translate({ord('a'):ord('#'), ord('b'):ord('$'),ord('d'):ord('%')})\n",
    "print(res)"
   ]
  },
  {
   "cell_type": "code",
   "execution_count": 30,
   "id": "21c9b27f-755d-4a76-b66f-22ba4a9bb6d8",
   "metadata": {},
   "outputs": [
    {
     "name": "stdout",
     "output_type": "stream",
     "text": [
      "#$cdef$#dfgh$dfg#\n"
     ]
    }
   ],
   "source": [
    "actual=\"abcdefbadfghbdfga\"\n",
    "s=\"abd\"\n",
    "s1=\"#$%\"\n",
    "res=actual.translate({ord('a'):ord(\"#\"),ord(\"b\"):ord(\"$\")})\n",
    "print(res)"
   ]
  },
  {
   "cell_type": "code",
   "execution_count": 32,
   "id": "ba61eb91-25ef-45cf-b309-34b98e1331b3",
   "metadata": {},
   "outputs": [
    {
     "name": "stdout",
     "output_type": "stream",
     "text": [
      "#$c%ef$#%fgh$%fg#\n"
     ]
    }
   ],
   "source": [
    "actual=\"abcdefbadfghbdfga\"\n",
    "s = 'abd'\n",
    "s1 = '#$%'\n",
    "res = actual.translate({ord('a'):ord('#'), ord('b'):ord('$'),ord('d'):ord('%')})\n",
    "print(res)"
   ]
  },
  {
   "cell_type": "code",
   "execution_count": 34,
   "id": "025626b6-215d-48fc-bc04-b321b6e6b483",
   "metadata": {},
   "outputs": [
    {
     "data": {
      "text/plain": [
       "{97: 35, 98: 36, 100: 37}"
      ]
     },
     "execution_count": 34,
     "metadata": {},
     "output_type": "execute_result"
    }
   ],
   "source": [
    "\"\".maketrans(\"abd\",\"#$%\")"
   ]
  },
  {
   "cell_type": "code",
   "execution_count": 38,
   "id": "93235b73-15b2-4cb0-9735-45cb444619c9",
   "metadata": {},
   "outputs": [
    {
     "name": "stdout",
     "output_type": "stream",
     "text": [
      "#$c%ef$#%fgh$%fg#\n"
     ]
    }
   ],
   "source": [
    "actual=\"abcdefbadfghbdfga\"\n",
    "s = 'abd'\n",
    "s1 = '#$%'\n",
    "res = actual.translate(\"\".maketrans(\"abd\",\"#$%\"))\n",
    "print(res)"
   ]
  },
  {
   "cell_type": "code",
   "execution_count": 40,
   "id": "6504a27d-38d7-4c06-b2a9-f7e1a15b8156",
   "metadata": {},
   "outputs": [
    {
     "name": "stdout",
     "output_type": "stream",
     "text": [
      "True\n"
     ]
    }
   ],
   "source": [
    "\"\"\"\n",
    "'isalnum', 'isalpha', 'isascii', 'isdecimal', 'isdigit', 'isidentifier', 'islower', 'isnumeric', 'isprintable', 'isspace', \n",
    "'istitle', 'isupper'\n",
    "\"\"\"\n",
    "s = 'abcd'\n",
    "print(s.isalnum())"
   ]
  },
  {
   "cell_type": "code",
   "execution_count": 42,
   "id": "4940abfa-d20f-4dc0-87f7-fd6ff19eb9bb",
   "metadata": {},
   "outputs": [
    {
     "name": "stdout",
     "output_type": "stream",
     "text": [
      "True\n"
     ]
    }
   ],
   "source": [
    "s = 'abcd123456'\n",
    "print(s.isalnum())"
   ]
  },
  {
   "cell_type": "code",
   "execution_count": 44,
   "id": "bea4d75d-849e-4843-bc51-cf493b2a01d3",
   "metadata": {},
   "outputs": [
    {
     "name": "stdout",
     "output_type": "stream",
     "text": [
      "False\n"
     ]
    }
   ],
   "source": [
    "s = 'abcd123456@#'\n",
    "print(s.isalnum())"
   ]
  },
  {
   "cell_type": "code",
   "execution_count": 46,
   "id": "967155fb-4242-472f-b207-ac3eb361045a",
   "metadata": {},
   "outputs": [
    {
     "name": "stdout",
     "output_type": "stream",
     "text": [
      "False\n"
     ]
    }
   ],
   "source": [
    "s = ''\n",
    "print(s.isalnum())"
   ]
  },
  {
   "cell_type": "code",
   "execution_count": 48,
   "id": "d420c057-1702-4ee8-ac26-aaab9a1b0d52",
   "metadata": {},
   "outputs": [
    {
     "data": {
      "text/plain": [
       "\u001b[1;31mSignature:\u001b[0m \u001b[0ms\u001b[0m\u001b[1;33m.\u001b[0m\u001b[0misalnum\u001b[0m\u001b[1;33m(\u001b[0m\u001b[1;33m)\u001b[0m\u001b[1;33m\u001b[0m\u001b[1;33m\u001b[0m\u001b[0m\n",
       "\u001b[1;31mDocstring:\u001b[0m\n",
       "Return True if the string is an alpha-numeric string, False otherwise.\n",
       "\n",
       "A string is alpha-numeric if all characters in the string are alpha-numeric and\n",
       "there is at least one character in the string.\n",
       "\u001b[1;31mType:\u001b[0m      builtin_function_or_method"
      ]
     },
     "metadata": {},
     "output_type": "display_data"
    }
   ],
   "source": [
    "s.isalnum?"
   ]
  },
  {
   "cell_type": "code",
   "execution_count": 50,
   "id": "e906c5bd-7aea-4864-9f8a-220495f52327",
   "metadata": {},
   "outputs": [
    {
     "name": "stdout",
     "output_type": "stream",
     "text": [
      "False\n",
      "False\n"
     ]
    }
   ],
   "source": [
    "s = 'abcD'\n",
    "print(s.islower())\n",
    "print(s.isupper())"
   ]
  },
  {
   "cell_type": "code",
   "execution_count": 52,
   "id": "ca10b3b7-8735-4873-ac4c-9fb909e59be8",
   "metadata": {},
   "outputs": [
    {
     "name": "stdout",
     "output_type": "stream",
     "text": [
      "False\n",
      "True\n"
     ]
    }
   ],
   "source": [
    "s = 'ABCD'\n",
    "print(s.islower())\n",
    "print(s.isupper())"
   ]
  },
  {
   "cell_type": "code",
   "execution_count": 54,
   "id": "641d5d83-aac5-4635-939b-4bb23dc1f8eb",
   "metadata": {},
   "outputs": [
    {
     "name": "stdout",
     "output_type": "stream",
     "text": [
      "True\n",
      "False\n"
     ]
    }
   ],
   "source": [
    "s = 'abcd'\n",
    "print(s.islower())\n",
    "print(s.isupper())"
   ]
  },
  {
   "cell_type": "code",
   "execution_count": 56,
   "id": "8351a49a-a639-454d-931c-80ba82f23425",
   "metadata": {},
   "outputs": [
    {
     "name": "stdout",
     "output_type": "stream",
     "text": [
      "True\n",
      "False\n"
     ]
    }
   ],
   "source": [
    "s = 'abcd#'\n",
    "print(s.islower())\n",
    "print(s.isupper())"
   ]
  },
  {
   "cell_type": "code",
   "execution_count": 58,
   "id": "24d3c2c3-a24c-4324-85ab-0d04d4d09840",
   "metadata": {},
   "outputs": [
    {
     "name": "stdout",
     "output_type": "stream",
     "text": [
      "False\n",
      "True\n"
     ]
    }
   ],
   "source": [
    "s = 'ABCD#'\n",
    "print(s.islower())\n",
    "print(s.isupper())"
   ]
  },
  {
   "cell_type": "code",
   "execution_count": 60,
   "id": "f9cab433-94ef-4f1c-a871-518fa099f571",
   "metadata": {},
   "outputs": [
    {
     "name": "stdout",
     "output_type": "stream",
     "text": [
      "False\n",
      "False\n"
     ]
    }
   ],
   "source": [
    "s = '@#$%^'\n",
    "print(s.islower())\n",
    "print(s.isupper())"
   ]
  },
  {
   "cell_type": "code",
   "execution_count": 62,
   "id": "281486e1-306b-4f4f-9b58-c715cde0bf08",
   "metadata": {},
   "outputs": [
    {
     "name": "stdout",
     "output_type": "stream",
     "text": [
      "True\n"
     ]
    }
   ],
   "source": [
    "s = 'abcd'\n",
    "print(s.isalpha())"
   ]
  },
  {
   "cell_type": "code",
   "execution_count": 64,
   "id": "72403173-fe6a-48a9-b217-ef2f99fe386d",
   "metadata": {},
   "outputs": [
    {
     "name": "stdout",
     "output_type": "stream",
     "text": [
      "True\n"
     ]
    }
   ],
   "source": [
    "s = 'ABCD'\n",
    "print(s.isalpha())"
   ]
  },
  {
   "cell_type": "code",
   "execution_count": 66,
   "id": "eb25a273-6c15-4057-a81d-b94d44d0e77c",
   "metadata": {},
   "outputs": [
    {
     "name": "stdout",
     "output_type": "stream",
     "text": [
      "True\n"
     ]
    }
   ],
   "source": [
    "s = 'ABCDqwert'\n",
    "print(s.isalpha())"
   ]
  },
  {
   "cell_type": "code",
   "execution_count": 68,
   "id": "e085876b-f8f3-46ce-a343-365cb2f9a9f9",
   "metadata": {},
   "outputs": [
    {
     "name": "stdout",
     "output_type": "stream",
     "text": [
      "False\n"
     ]
    }
   ],
   "source": [
    "s = 'ABCDqwert@#$'\n",
    "print(s.isalpha())"
   ]
  },
  {
   "cell_type": "code",
   "execution_count": 70,
   "id": "0bd141e0-417a-4e86-ab0c-9afca98ca7b0",
   "metadata": {},
   "outputs": [
    {
     "name": "stdout",
     "output_type": "stream",
     "text": [
      "False\n"
     ]
    }
   ],
   "source": [
    "s = ''\n",
    "print(s.isalpha())"
   ]
  },
  {
   "cell_type": "code",
   "execution_count": 76,
   "id": "57b70a6f-1229-42a0-be28-e07ee24ff21f",
   "metadata": {},
   "outputs": [
    {
     "name": "stdout",
     "output_type": "stream",
     "text": [
      "True\n",
      "True\n",
      "True\n"
     ]
    }
   ],
   "source": [
    "s = '1234'\n",
    "print(s.isnumeric())\n",
    "print(s.isdigit())\n",
    "print(s.isdecimal())"
   ]
  },
  {
   "cell_type": "code",
   "execution_count": 78,
   "id": "07a9c9d1-d7a9-492b-828a-5adaa5a59319",
   "metadata": {},
   "outputs": [
    {
     "name": "stdout",
     "output_type": "stream",
     "text": [
      "False\n",
      "False\n",
      "False\n"
     ]
    }
   ],
   "source": [
    "s = '1234@#Z$'\n",
    "print(s.isnumeric())\n",
    "print(s.isdigit())\n",
    "print(s.isdecimal())"
   ]
  },
  {
   "cell_type": "code",
   "execution_count": 80,
   "id": "d97b7b14-aa3b-4c0d-834d-8e2c8f3706e0",
   "metadata": {},
   "outputs": [
    {
     "name": "stdout",
     "output_type": "stream",
     "text": [
      "False\n",
      "False\n",
      "False\n"
     ]
    }
   ],
   "source": [
    "s = '12.34'\n",
    "print(s.isnumeric())\n",
    "print(s.isdigit())\n",
    "print(s.isdecimal())"
   ]
  },
  {
   "cell_type": "code",
   "execution_count": 82,
   "id": "c1a7aa14-3539-460d-aea3-7ce94bcfcb9e",
   "metadata": {},
   "outputs": [
    {
     "name": "stdout",
     "output_type": "stream",
     "text": [
      "False\n",
      "False\n",
      "False\n"
     ]
    }
   ],
   "source": [
    "s = '12**4'\n",
    "print(s.isnumeric())\n",
    "print(s.isdigit())\n",
    "print(s.isdecimal())"
   ]
  },
  {
   "cell_type": "code",
   "execution_count": 84,
   "id": "ae4947fc-7541-42bd-95d8-c74c22cf76eb",
   "metadata": {},
   "outputs": [
    {
     "name": "stdout",
     "output_type": "stream",
     "text": [
      "False\n",
      "False\n",
      "False\n"
     ]
    }
   ],
   "source": [
    "s = '12+4'\n",
    "print(s.isnumeric())\n",
    "print(s.isdigit())\n",
    "print(s.isdecimal())"
   ]
  },
  {
   "cell_type": "code",
   "execution_count": 86,
   "id": "d2375ac7-fd07-4789-9f0e-15cb639ebec3",
   "metadata": {},
   "outputs": [
    {
     "name": "stdout",
     "output_type": "stream",
     "text": [
      "True\n",
      "True\n",
      "False\n"
     ]
    }
   ],
   "source": [
    "s = '2³'\n",
    "print(s.isnumeric())\n",
    "print(s.isdigit())\n",
    "print(s.isdecimal()) # if we give 0 to 9 as plain then only it will give true "
   ]
  },
  {
   "cell_type": "code",
   "execution_count": 88,
   "id": "dd547b1b-f40e-43e1-8e17-c04aa6f6cbe5",
   "metadata": {},
   "outputs": [
    {
     "name": "stdout",
     "output_type": "stream",
     "text": [
      "True\n",
      "True\n"
     ]
    }
   ],
   "source": [
    "s = '2³123'\n",
    "print(s.isnumeric())\n",
    "print(s.isdigit())"
   ]
  },
  {
   "cell_type": "code",
   "execution_count": 90,
   "id": "fc2f19b2-7889-4e7f-849c-4f9d3f9c8e0f",
   "metadata": {},
   "outputs": [
    {
     "name": "stdout",
     "output_type": "stream",
     "text": [
      "True\n",
      "True\n"
     ]
    }
   ],
   "source": [
    "s = '१' # hindi number 1\n",
    "print(s.isnumeric())\n",
    "print(s.isdigit())"
   ]
  },
  {
   "cell_type": "code",
   "execution_count": 92,
   "id": "83d95650-22cf-4a55-99e2-6e28ddac1e23",
   "metadata": {},
   "outputs": [
    {
     "name": "stdout",
     "output_type": "stream",
     "text": [
      "True\n",
      "False\n"
     ]
    }
   ],
   "source": [
    "s = '二' # Japanese number 1\n",
    "print(s.isnumeric())\n",
    "print(s.isdigit())"
   ]
  },
  {
   "cell_type": "code",
   "execution_count": 94,
   "id": "d8621e8e-f774-456b-bf7f-3f3e99bbd294",
   "metadata": {},
   "outputs": [
    {
     "name": "stdout",
     "output_type": "stream",
     "text": [
      "True\n",
      "False\n"
     ]
    }
   ],
   "source": [
    "\n",
    "s=\"一\"\n",
    "print(s.isnumeric())\n",
    "print(s.isdigit())"
   ]
  },
  {
   "cell_type": "code",
   "execution_count": 96,
   "id": "23fd69e4-44e4-49fa-86a2-789f5c615010",
   "metadata": {},
   "outputs": [
    {
     "name": "stdout",
     "output_type": "stream",
     "text": [
      "19968\n"
     ]
    }
   ],
   "source": [
    "s=\"一\"\n",
    "print(ord(s))\n"
   ]
  },
  {
   "cell_type": "markdown",
   "id": "ed1270a9-9bd5-46ac-aa7d-30dd59a04257",
   "metadata": {},
   "source": [
    "* whole project should maintain same function to check it is numberic or not. Mostly isdigit() is used."
   ]
  },
  {
   "cell_type": "markdown",
   "id": "be62b34d-d9f6-47d7-84db-7ab104c06281",
   "metadata": {},
   "source": [
    "### isascii()\n",
    "* Every charecter in our keyboard has ascii numbers.\n",
    "* ord() will give a number for every char.\n",
    "* If a charecter with the ascii number then only it will give true."
   ]
  },
  {
   "cell_type": "code",
   "execution_count": 99,
   "id": "34dc346c-7d16-4659-af58-ce9fe024e288",
   "metadata": {},
   "outputs": [
    {
     "name": "stdout",
     "output_type": "stream",
     "text": [
      "False\n"
     ]
    }
   ],
   "source": [
    "s=\"一\"\n",
    "print(s.isascii())\n"
   ]
  },
  {
   "cell_type": "code",
   "execution_count": 101,
   "id": "bd153e1c-a326-4973-bfd6-87ce333a3ca1",
   "metadata": {},
   "outputs": [
    {
     "name": "stdout",
     "output_type": "stream",
     "text": [
      "True\n"
     ]
    }
   ],
   "source": [
    "\n",
    "s=\"a\"\n",
    "print(s.isascii())"
   ]
  },
  {
   "cell_type": "markdown",
   "id": "607b817c-af4d-4f3d-8573-c03de914704c",
   "metadata": {},
   "source": [
    "### isidentifier()"
   ]
  },
  {
   "cell_type": "code",
   "execution_count": 104,
   "id": "b70afd84-f6e3-4fa1-8630-9a130a3614b7",
   "metadata": {},
   "outputs": [
    {
     "name": "stdout",
     "output_type": "stream",
     "text": [
      "False\n"
     ]
    }
   ],
   "source": [
    "\"\"\"\n",
    "'isidentifier'\n",
    "\"\"\"\n",
    "s=\"20\"\n",
    "print(s.isidentifier())"
   ]
  },
  {
   "cell_type": "code",
   "execution_count": 106,
   "id": "30a2e797-b9e3-490f-8f08-8860a14713b3",
   "metadata": {},
   "outputs": [
    {
     "name": "stdout",
     "output_type": "stream",
     "text": [
      "True\n"
     ]
    }
   ],
   "source": [
    "s=\"if\"\n",
    "print(s.isidentifier())"
   ]
  },
  {
   "cell_type": "code",
   "execution_count": 108,
   "id": "564cab75-55a5-4fab-a5fc-5622c630075c",
   "metadata": {},
   "outputs": [
    {
     "name": "stdout",
     "output_type": "stream",
     "text": [
      "True\n"
     ]
    }
   ],
   "source": [
    "s=\"for\"\n",
    "print(s.isidentifier())"
   ]
  },
  {
   "cell_type": "code",
   "execution_count": 110,
   "id": "93c6a58c-91b6-4e44-be20-02767d67ec5b",
   "metadata": {},
   "outputs": [
    {
     "name": "stdout",
     "output_type": "stream",
     "text": [
      "True\n"
     ]
    }
   ],
   "source": [
    "s=\"true\"\n",
    "print(s.isidentifier())"
   ]
  },
  {
   "cell_type": "code",
   "execution_count": 112,
   "id": "6aa12f79-4437-4162-8755-a4533adf5ee1",
   "metadata": {},
   "outputs": [
    {
     "name": "stdout",
     "output_type": "stream",
     "text": [
      "True\n"
     ]
    }
   ],
   "source": [
    "s=\"True\"\n",
    "print(s.isidentifier())"
   ]
  },
  {
   "cell_type": "code",
   "execution_count": 114,
   "id": "1d644543-a652-4a1a-aeb8-a5dff745adeb",
   "metadata": {},
   "outputs": [
    {
     "name": "stdout",
     "output_type": "stream",
     "text": [
      "True\n"
     ]
    }
   ],
   "source": [
    "s=\"abcd\"\n",
    "print(s.isidentifier())"
   ]
  },
  {
   "cell_type": "code",
   "execution_count": 116,
   "id": "e568e654-cfcb-4e38-8359-37099a4f2cbc",
   "metadata": {},
   "outputs": [
    {
     "name": "stdout",
     "output_type": "stream",
     "text": [
      "True\n"
     ]
    }
   ],
   "source": [
    "s=\"abcd123\"\n",
    "print(s.isidentifier())"
   ]
  },
  {
   "cell_type": "code",
   "execution_count": 118,
   "id": "a19a3731-21c1-481c-823b-cb8f38cdcb1d",
   "metadata": {},
   "outputs": [
    {
     "name": "stdout",
     "output_type": "stream",
     "text": [
      "False\n"
     ]
    }
   ],
   "source": [
    "s=\"1abcd123\"\n",
    "print(s.isidentifier())"
   ]
  },
  {
   "cell_type": "markdown",
   "id": "8d3fe922-ab08-4b6c-8fea-3aec341a64be",
   "metadata": {},
   "source": [
    "* We have rules to write the reference names. We should not use number in starting of the reference name. Underscore(_) can be used\n",
    "* isidentifier() gives true for  reference names and keywords"
   ]
  },
  {
   "cell_type": "code",
   "execution_count": 121,
   "id": "96b6209b-7290-44b5-a612-acb478ea60e4",
   "metadata": {},
   "outputs": [
    {
     "name": "stdout",
     "output_type": "stream",
     "text": [
      "True\n"
     ]
    }
   ],
   "source": [
    "s=\"_abcd123\"\n",
    "print(s.isidentifier())"
   ]
  },
  {
   "cell_type": "code",
   "execution_count": 123,
   "id": "81736b21-597a-4f38-a3c4-0aae06e87075",
   "metadata": {},
   "outputs": [
    {
     "name": "stdout",
     "output_type": "stream",
     "text": [
      "False\n"
     ]
    }
   ],
   "source": [
    "s=\"_abcd123@\"\n",
    "print(s.isidentifier())"
   ]
  },
  {
   "cell_type": "markdown",
   "id": "a7124562-c9b3-4359-9e51-839980a6a84d",
   "metadata": {},
   "source": [
    "### isprintable()\n",
    "* If the chars that we give, prints as it is the it will be true.\n",
    "* If the chars that we give doesn't print as it is then false"
   ]
  },
  {
   "cell_type": "code",
   "execution_count": 128,
   "id": "49e9e4eb-cff4-4232-bdc5-c78ae08b4a07",
   "metadata": {},
   "outputs": [
    {
     "name": "stdout",
     "output_type": "stream",
     "text": [
      "False\n"
     ]
    }
   ],
   "source": [
    "\n",
    "s=\"\\n\"\n",
    "print(s.isprintable())"
   ]
  },
  {
   "cell_type": "code",
   "execution_count": 130,
   "id": "baa690c8-4cfa-42c2-8813-24cde40785fa",
   "metadata": {},
   "outputs": [
    {
     "name": "stdout",
     "output_type": "stream",
     "text": [
      "True\n"
     ]
    }
   ],
   "source": [
    "s=\"dsafdsfsd\"\n",
    "print(s.isprintable())"
   ]
  },
  {
   "cell_type": "markdown",
   "id": "7aff46a2-3876-4b52-9867-864a3e0d4eda",
   "metadata": {},
   "source": [
    "### isspace()"
   ]
  },
  {
   "cell_type": "code",
   "execution_count": 133,
   "id": "818356ef-9d59-42b6-bdf1-dd562aef8277",
   "metadata": {},
   "outputs": [
    {
     "name": "stdout",
     "output_type": "stream",
     "text": [
      "False\n"
     ]
    }
   ],
   "source": [
    "s = 'a b c d'\n",
    "print(s.isspace())"
   ]
  },
  {
   "cell_type": "code",
   "execution_count": 135,
   "id": "2c80202b-36ed-4baa-8ea6-778739f8593f",
   "metadata": {},
   "outputs": [
    {
     "name": "stdout",
     "output_type": "stream",
     "text": [
      "True\n"
     ]
    }
   ],
   "source": [
    "s = '        '\n",
    "print(s.isspace())"
   ]
  },
  {
   "cell_type": "code",
   "execution_count": 137,
   "id": "e54559f9-05bf-44de-81cd-5ad582c66217",
   "metadata": {},
   "outputs": [
    {
     "name": "stdout",
     "output_type": "stream",
     "text": [
      "True\n"
     ]
    }
   ],
   "source": [
    "s = '\\n'\n",
    "print(s.isspace())"
   ]
  },
  {
   "cell_type": "markdown",
   "id": "5e5f5d74-f8da-43e5-afcc-457eb4b461a2",
   "metadata": {},
   "source": [
    "### title()"
   ]
  },
  {
   "cell_type": "code",
   "execution_count": 140,
   "id": "25b2ea54-c282-4dc1-8699-fe29c7719449",
   "metadata": {},
   "outputs": [
    {
     "name": "stdout",
     "output_type": "stream",
     "text": [
      "Abcd Efgh Ijkl\n"
     ]
    }
   ],
   "source": [
    "\n",
    "s=\"abcd efgh ijkl\"\n",
    "print(s.title())"
   ]
  },
  {
   "cell_type": "code",
   "execution_count": 142,
   "id": "26e75908-1785-44c2-b263-380d69ef37fa",
   "metadata": {},
   "outputs": [
    {
     "name": "stdout",
     "output_type": "stream",
     "text": [
      "1Abcd 2Efgh 3Ijkl\n"
     ]
    }
   ],
   "source": [
    "s=\"1abcd 2efgh 3ijkl\"\n",
    "print(s.title())"
   ]
  },
  {
   "cell_type": "code",
   "execution_count": 144,
   "id": "e72a70c7-4d73-4895-9b5d-64ca6aeb8372",
   "metadata": {},
   "outputs": [
    {
     "name": "stdout",
     "output_type": "stream",
     "text": [
      "1Ab#Cd 2Ef&Gh 3Ij#Kl\n"
     ]
    }
   ],
   "source": [
    "s=\"1ab#cd 2ef&gh 3ij#kl\"\n",
    "print(s.title())"
   ]
  },
  {
   "cell_type": "markdown",
   "id": "772abc33-664a-4260-9089-ab70ffe3c920",
   "metadata": {},
   "source": [
    "* The character which follows a special char or number converts to upper case.\n",
    "* The first charater and the character which follows a special char or number converts to upper case and remaining letters will be in lowercase.\n"
   ]
  },
  {
   "cell_type": "code",
   "execution_count": 149,
   "id": "306d7a2d-6831-4f31-b5ba-2cbb72a04f0a",
   "metadata": {},
   "outputs": [
    {
     "data": {
      "text/plain": [
       "\u001b[1;31mSignature:\u001b[0m \u001b[0ms\u001b[0m\u001b[1;33m.\u001b[0m\u001b[0mtitle\u001b[0m\u001b[1;33m(\u001b[0m\u001b[1;33m)\u001b[0m\u001b[1;33m\u001b[0m\u001b[1;33m\u001b[0m\u001b[0m\n",
       "\u001b[1;31mDocstring:\u001b[0m\n",
       "Return a version of the string where each word is titlecased.\n",
       "\n",
       "More specifically, words start with uppercased characters and all remaining\n",
       "cased characters have lower case.\n",
       "\u001b[1;31mType:\u001b[0m      builtin_function_or_method"
      ]
     },
     "metadata": {},
     "output_type": "display_data"
    }
   ],
   "source": [
    "s.title?"
   ]
  },
  {
   "cell_type": "code",
   "execution_count": 151,
   "id": "3eda5e43-1a58-40e8-8a8a-338d97bb4f12",
   "metadata": {},
   "outputs": [
    {
     "name": "stdout",
     "output_type": "stream",
     "text": [
      "Ab%Cd 2Ef$Gh 3Ij3Kl\n"
     ]
    }
   ],
   "source": [
    "s=\"ab%cD 2ef$gH 3iJ3kl\"\n",
    "print(s.title())"
   ]
  },
  {
   "cell_type": "code",
   "execution_count": 155,
   "id": "968e48cf-327f-45e1-a462-c9e0ea5546d9",
   "metadata": {},
   "outputs": [
    {
     "name": "stdout",
     "output_type": "stream",
     "text": [
      "False\n"
     ]
    }
   ],
   "source": [
    "s=\"the hyderabad is clean city\"\r\n",
    "print(s.istitle())"
   ]
  },
  {
   "cell_type": "code",
   "execution_count": 157,
   "id": "43b85a3e-7bfb-45bb-a567-a3256f63d75f",
   "metadata": {},
   "outputs": [
    {
     "name": "stdout",
     "output_type": "stream",
     "text": [
      "True\n"
     ]
    }
   ],
   "source": [
    "\n",
    "s=\"The Hyderabad Is Clean City\"\n",
    "print(s.istitle())"
   ]
  },
  {
   "cell_type": "code",
   "execution_count": 159,
   "id": "0998cd94-b8b1-41d8-b3cf-c1142caabf33",
   "metadata": {},
   "outputs": [
    {
     "name": "stdout",
     "output_type": "stream",
     "text": [
      "False\n"
     ]
    }
   ],
   "source": [
    "s=\"The Hyder2abad Is Clean City\"\n",
    "print(s.istitle())"
   ]
  },
  {
   "cell_type": "markdown",
   "id": "8655559f-9321-4a73-a808-265fa63be28d",
   "metadata": {},
   "source": [
    "### ljust(), rjust() and center()\n",
    "* we have to mention the size and then output in center, right or left.\n",
    "* For String alignment we use these methods. We have to give size out the output correctly"
   ]
  },
  {
   "cell_type": "code",
   "execution_count": 166,
   "id": "d90c910e-9d63-4d55-8031-12a26b734829",
   "metadata": {},
   "outputs": [
    {
     "ename": "TypeError",
     "evalue": "ljust expected at least 1 argument, got 0",
     "output_type": "error",
     "traceback": [
      "\u001b[1;31m---------------------------------------------------------------------------\u001b[0m",
      "\u001b[1;31mTypeError\u001b[0m                                 Traceback (most recent call last)",
      "Cell \u001b[1;32mIn[166], line 2\u001b[0m\n\u001b[0;32m      1\u001b[0m s\u001b[38;5;241m=\u001b[39m\u001b[38;5;124m\"\u001b[39m\u001b[38;5;124mpython\u001b[39m\u001b[38;5;124m\"\u001b[39m\n\u001b[1;32m----> 2\u001b[0m \u001b[38;5;28mprint\u001b[39m(s\u001b[38;5;241m.\u001b[39mljust())\n\u001b[0;32m      3\u001b[0m \u001b[38;5;28mprint\u001b[39m(s\u001b[38;5;241m.\u001b[39mrjust())\n\u001b[0;32m      4\u001b[0m \u001b[38;5;28mprint\u001b[39m(s\u001b[38;5;241m.\u001b[39mcenter())\n",
      "\u001b[1;31mTypeError\u001b[0m: ljust expected at least 1 argument, got 0"
     ]
    }
   ],
   "source": [
    "s=\"python\"\n",
    "print(s.ljust())\n",
    "print(s.rjust())\n",
    "print(s.center())"
   ]
  },
  {
   "cell_type": "code",
   "execution_count": 168,
   "id": "aaff66b8-917c-4bca-9d7c-a029da6b64a0",
   "metadata": {},
   "outputs": [
    {
     "name": "stdout",
     "output_type": "stream",
     "text": [
      "python                                                                                                                      \n",
      "                                                                                                                      python\n",
      "                                                           python                                                           \n"
     ]
    }
   ],
   "source": [
    "s=\"python\"\n",
    "print(s.ljust(124))\n",
    "print(s.rjust(124))\n",
    "print(s.center(124))"
   ]
  },
  {
   "cell_type": "code",
   "execution_count": 172,
   "id": "9697fcb8-98e1-472d-93c6-f53f88acb99b",
   "metadata": {},
   "outputs": [
    {
     "name": "stdout",
     "output_type": "stream",
     "text": [
      "python%%%%%%%%%%%%%%%%%%%%%%%%%%%%%%%%%%%%%%%%%%%%%%%%%%%%%%%%%%%%%%%%%%%%%%%%%%%%%%%%%%%%%%%%%%%%%%%%%%%%%%%%%%%%%%%%%%%%%%\n",
      "$$$$$$$$$$$$$$$$$$$$$$$$$$$$$$$$$$$$$$$$$$$$$$$$$$$$$$$$$$$$$$$$$$$$$$$$$$$$$$$$$$$$$$$$$$$$$$$$$$$$$$$$$$$$$$$$$$$$$$python\n",
      "###########################################################python###########################################################\n"
     ]
    }
   ],
   "source": [
    "s = \"python\"\n",
    "print(s.ljust(124,\"%\"))\n",
    "print(s.rjust(124,'$'))\n",
    "print(s.center(124,'#'))"
   ]
  },
  {
   "cell_type": "code",
   "execution_count": 174,
   "id": "81782024-6ade-4703-93d1-aa8a4efb6c62",
   "metadata": {},
   "outputs": [
    {
     "name": "stdout",
     "output_type": "stream",
     "text": [
      "python\n",
      "python\n",
      "python\n"
     ]
    }
   ],
   "source": [
    "s=\"python\"\n",
    "print(s.ljust(5,\"%\"))\n",
    "print(s.rjust(5,'$'))\n",
    "print(s.center(5,'#'))\n",
    "# if output size is less than string length then aligns to the left"
   ]
  },
  {
   "cell_type": "code",
   "execution_count": 176,
   "id": "dbb7beab-b068-4375-bc46-d5f1cad43bd6",
   "metadata": {},
   "outputs": [
    {
     "name": "stdout",
     "output_type": "stream",
     "text": [
      "4\n"
     ]
    }
   ],
   "source": [
    "s=\"abcd efghabcd ijklabcd erghabcd\"\n",
    "print(s.count(\"abcd\"))"
   ]
  },
  {
   "cell_type": "code",
   "execution_count": 178,
   "id": "154b8d18-b0a3-4041-9978-efb43f3b1e06",
   "metadata": {},
   "outputs": [
    {
     "name": "stdout",
     "output_type": "stream",
     "text": [
      "0\n"
     ]
    }
   ],
   "source": [
    "s=\"abcd efghabcd ijklabcd erghabcd\"\n",
    "print(s.count(\"ABCD\"))"
   ]
  },
  {
   "cell_type": "code",
   "execution_count": 180,
   "id": "eef1e1d4-9d52-4087-bec4-a6c571750a6c",
   "metadata": {},
   "outputs": [
    {
     "name": "stdout",
     "output_type": "stream",
     "text": [
      "0\n"
     ]
    }
   ],
   "source": [
    "s=\"abcd efghabcd ijklabcd erghabcd\"\n",
    "print(s.count(\"acd\"))\n",
    "# count() always looks of substring"
   ]
  },
  {
   "cell_type": "code",
   "execution_count": 182,
   "id": "3485b3fd-b6fb-4ce4-add9-9e98b1f60dad",
   "metadata": {},
   "outputs": [
    {
     "name": "stdout",
     "output_type": "stream",
     "text": [
      "1\n"
     ]
    }
   ],
   "source": [
    "s=\"ab cd\"\n",
    "print(s.count(\" \"))"
   ]
  },
  {
   "cell_type": "code",
   "execution_count": 184,
   "id": "64db44df-e1e4-4e55-96bf-b180f5c3bc26",
   "metadata": {},
   "outputs": [
    {
     "name": "stdout",
     "output_type": "stream",
     "text": [
      "6\n",
      "$a$b$ $c$d$\n"
     ]
    }
   ],
   "source": [
    "s=\"ab cd\"\n",
    "print(s.count(\"\"))\n",
    "print(s.replace(\"\",\"$\"))"
   ]
  },
  {
   "cell_type": "code",
   "execution_count": 186,
   "id": "e2c72bce-dc70-4a6f-8210-2c365f248f1d",
   "metadata": {},
   "outputs": [
    {
     "name": "stdout",
     "output_type": "stream",
     "text": [
      "0\n"
     ]
    }
   ],
   "source": [
    "s=\"ab cd\"\n",
    "s1=\"\"\n",
    "if s1:\n",
    "    print(s.count(s1))\n",
    "else:\n",
    "    print(0)"
   ]
  },
  {
   "cell_type": "code",
   "execution_count": 188,
   "id": "85779efd-8fc5-473c-ac5c-fece16f72c80",
   "metadata": {},
   "outputs": [
    {
     "name": "stdout",
     "output_type": "stream",
     "text": [
      "1\n"
     ]
    }
   ],
   "source": [
    "s=\"ab cd\"\n",
    "s1=\"ab\"\n",
    "if s1:\n",
    "    print(s.count(s1))\n",
    "else:\n",
    "    print(0)"
   ]
  },
  {
   "cell_type": "code",
   "execution_count": 190,
   "id": "80df818b-2d6d-4dbd-abb4-ea869bf98edb",
   "metadata": {},
   "outputs": [
    {
     "name": "stdout",
     "output_type": "stream",
     "text": [
      "abs$def$ghi;jkl\n"
     ]
    }
   ],
   "source": [
    "s = 'abs;def;ghi;jkl'\n",
    "s1 = s.replace(';','$',2)\n",
    "print(s1)"
   ]
  },
  {
   "cell_type": "code",
   "execution_count": 192,
   "id": "213447a4-0d00-4b5a-8174-55e15aa1cc4a",
   "metadata": {},
   "outputs": [
    {
     "name": "stdout",
     "output_type": "stream",
     "text": [
      "abs$def$ghi$jkl\n"
     ]
    }
   ],
   "source": [
    "s = 'abs;def;ghi;jkl'\n",
    "s1 = s.replace(';','$',-1)\n",
    "print(s1)"
   ]
  },
  {
   "cell_type": "code",
   "execution_count": 194,
   "id": "6ffcec72-bca4-43f2-a661-3fc76e328076",
   "metadata": {},
   "outputs": [
    {
     "name": "stdout",
     "output_type": "stream",
     "text": [
      "abs;def$ghi$jkl\n"
     ]
    }
   ],
   "source": [
    "s = 'abs;def;ghi;jkl'\n",
    "s1 = s.replace(';','$')\n",
    "s2 = s1.replace('$',';',1)\n",
    "print(s2)"
   ]
  },
  {
   "cell_type": "markdown",
   "id": "43578ad2-6709-4aa0-9934-5e32c4fff60f",
   "metadata": {},
   "source": [
    "### find() and index()"
   ]
  },
  {
   "cell_type": "code",
   "execution_count": 197,
   "id": "90e7ed84-0a6a-4976-8074-427dd6871d27",
   "metadata": {},
   "outputs": [
    {
     "name": "stdout",
     "output_type": "stream",
     "text": [
      "0\n",
      "0\n"
     ]
    }
   ],
   "source": [
    "s=\"abcdabcdabcdabcd\"\n",
    "print(s.index(\"a\"))\n",
    "print(s.find(\"a\"))"
   ]
  },
  {
   "cell_type": "code",
   "execution_count": 199,
   "id": "74b11de9-75d2-44f7-a5da-4798a8e6ca26",
   "metadata": {},
   "outputs": [
    {
     "name": "stdout",
     "output_type": "stream",
     "text": [
      "-1\n"
     ]
    },
    {
     "ename": "ValueError",
     "evalue": "substring not found",
     "output_type": "error",
     "traceback": [
      "\u001b[1;31m---------------------------------------------------------------------------\u001b[0m",
      "\u001b[1;31mValueError\u001b[0m                                Traceback (most recent call last)",
      "Cell \u001b[1;32mIn[199], line 3\u001b[0m\n\u001b[0;32m      1\u001b[0m s\u001b[38;5;241m=\u001b[39m\u001b[38;5;124m\"\u001b[39m\u001b[38;5;124mabcdabcdabcdabcd\u001b[39m\u001b[38;5;124m\"\u001b[39m\n\u001b[0;32m      2\u001b[0m \u001b[38;5;28mprint\u001b[39m(s\u001b[38;5;241m.\u001b[39mfind(\u001b[38;5;124m\"\u001b[39m\u001b[38;5;124mA\u001b[39m\u001b[38;5;124m\"\u001b[39m))\n\u001b[1;32m----> 3\u001b[0m \u001b[38;5;28mprint\u001b[39m(s\u001b[38;5;241m.\u001b[39mindex(\u001b[38;5;124m\"\u001b[39m\u001b[38;5;124mA\u001b[39m\u001b[38;5;124m\"\u001b[39m))\n",
      "\u001b[1;31mValueError\u001b[0m: substring not found"
     ]
    }
   ],
   "source": [
    "s=\"abcdabcdabcdabcd\"\n",
    "print(s.find(\"A\"))\n",
    "print(s.index(\"A\"))"
   ]
  },
  {
   "cell_type": "markdown",
   "id": "32d2771d-6915-4b6d-9c50-4b3d24ce18f9",
   "metadata": {},
   "source": [
    "* In find(), if substring is not in actual string then find give `-1`\n",
    "* In index(), If substring is not in the actual string it throws error."
   ]
  },
  {
   "cell_type": "code",
   "execution_count": 218,
   "id": "acf84e01-02a8-4df2-9b2c-4b169e68e670",
   "metadata": {},
   "outputs": [
    {
     "name": "stdout",
     "output_type": "stream",
     "text": [
      "0\n",
      "0\n"
     ]
    }
   ],
   "source": [
    "s=\"abcd123abcd456abcd789abcd\"\n",
    "print(s.find(\"abcd\"))\n",
    "print (s.index(\"abcd\"))"
   ]
  },
  {
   "cell_type": "markdown",
   "id": "0e5ca6f9-a9e8-4807-820e-dbbbf9c79378",
   "metadata": {},
   "source": [
    "* to find the last occurance of the substring we can use rfind()."
   ]
  },
  {
   "cell_type": "code",
   "execution_count": 214,
   "id": "b3fa1054-c789-4285-994d-f4f4fc85915c",
   "metadata": {},
   "outputs": [
    {
     "name": "stdout",
     "output_type": "stream",
     "text": [
      "0\n",
      "21\n"
     ]
    }
   ],
   "source": [
    "s=\"abcd123abcd456abcd789abcd\"\n",
    "print(s.find(\"abcd\")) # for first occurance\n",
    "print(s.rfind(\"abcd\")) # for last occurance"
   ]
  },
  {
   "cell_type": "code",
   "execution_count": 216,
   "id": "43c23094-de12-4c04-8390-56b32d1061e6",
   "metadata": {},
   "outputs": [
    {
     "data": {
      "text/plain": [
       "\u001b[1;31mDocstring:\u001b[0m\n",
       "S.find(sub[, start[, end]]) -> int\n",
       "\n",
       "Return the lowest index in S where substring sub is found,\n",
       "such that sub is contained within S[start:end].  Optional\n",
       "arguments start and end are interpreted as in slice notation.\n",
       "\n",
       "Return -1 on failure.\n",
       "\u001b[1;31mType:\u001b[0m      builtin_function_or_method"
      ]
     },
     "metadata": {},
     "output_type": "display_data"
    }
   ],
   "source": [
    "s.find?"
   ]
  },
  {
   "cell_type": "code",
   "execution_count": 220,
   "id": "84ebfd37-41bc-418d-8ad4-c815cfb2b398",
   "metadata": {},
   "outputs": [
    {
     "name": "stdout",
     "output_type": "stream",
     "text": [
      "7\n"
     ]
    }
   ],
   "source": [
    "s=\"abcd123abcd456abcd789abcd\"\n",
    "print(s.find(\"abcd\", 1))#s[1:].find(\"abcd\")"
   ]
  },
  {
   "cell_type": "code",
   "execution_count": 222,
   "id": "dca02233-3045-4293-a526-6b006a874646",
   "metadata": {},
   "outputs": [
    {
     "name": "stdout",
     "output_type": "stream",
     "text": [
      "2\n"
     ]
    }
   ],
   "source": [
    "s=\"abcd123abcd456abcd789abcd\"\n",
    "print(s.find(\"cd\"))"
   ]
  },
  {
   "cell_type": "code",
   "execution_count": 228,
   "id": "c943ef25-2980-4331-85a0-8edece06fe0b",
   "metadata": {},
   "outputs": [
    {
     "name": "stdout",
     "output_type": "stream",
     "text": [
      "16\n"
     ]
    }
   ],
   "source": [
    "# Find \"cd\" third occurance\n",
    "s = \"abcd123abcd456abcd789abcd\"\n",
    "first_occur = s.find(\"cd\")\n",
    "second_occur = s.find(\"cd\",first_occur+1)\n",
    "third_occur = s.find(\"cd\",second_occur+1)\n",
    "print(third_occur)"
   ]
  },
  {
   "cell_type": "markdown",
   "id": "ce84b76c-b894-4b65-9516-54dd1322d646",
   "metadata": {},
   "source": [
    "### find 'cd' index for desired occurance."
   ]
  },
  {
   "cell_type": "code",
   "execution_count": 234,
   "id": "d686c813-3889-4f6d-b7bb-7640fcc0abff",
   "metadata": {},
   "outputs": [
    {
     "name": "stdin",
     "output_type": "stream",
     "text": [
      "Enter occurance: 1\n"
     ]
    },
    {
     "name": "stdout",
     "output_type": "stream",
     "text": [
      "2\n"
     ]
    }
   ],
   "source": [
    "s = \"abcd123abcd456abcd789abcd\"\n",
    "index = 0\n",
    "for i in range(int(input(\"Enter occurance:\"))):\n",
    "    index = s.find(\"cd\",index+1)\n",
    "print(index)"
   ]
  },
  {
   "cell_type": "code",
   "execution_count": 236,
   "id": "16029259-bbe2-4a55-b3e0-7d17f3d5666d",
   "metadata": {},
   "outputs": [
    {
     "name": "stdin",
     "output_type": "stream",
     "text": [
      "Enter occurance: 2\n"
     ]
    },
    {
     "name": "stdout",
     "output_type": "stream",
     "text": [
      "9\n"
     ]
    }
   ],
   "source": [
    "s = \"abcd123abcd456abcd789abcd\"\n",
    "index = 0\n",
    "for i in range(int(input(\"Enter occurance:\"))):\n",
    "    index = s.find(\"cd\",index+1)\n",
    "print(index)"
   ]
  },
  {
   "cell_type": "code",
   "execution_count": 238,
   "id": "87408576-be4d-4e47-8ce2-6c0b54b9debc",
   "metadata": {},
   "outputs": [
    {
     "name": "stdin",
     "output_type": "stream",
     "text": [
      "Enter occurance: 3\n"
     ]
    },
    {
     "name": "stdout",
     "output_type": "stream",
     "text": [
      "16\n"
     ]
    }
   ],
   "source": [
    "s = \"abcd123abcd456abcd789abcd\"\n",
    "index = 0\n",
    "for i in range(int(input(\"Enter occurance:\"))):\n",
    "    index = s.find(\"cd\",index+1)\n",
    "print(index)"
   ]
  },
  {
   "cell_type": "code",
   "execution_count": 240,
   "id": "8f10d952-1544-416b-9cbf-daf4495a2de1",
   "metadata": {},
   "outputs": [
    {
     "name": "stdin",
     "output_type": "stream",
     "text": [
      "Enter occurance: 4\n"
     ]
    },
    {
     "name": "stdout",
     "output_type": "stream",
     "text": [
      "23\n"
     ]
    }
   ],
   "source": [
    "s = \"abcd123abcd456abcd789abcd\"\n",
    "index = 0\n",
    "for i in range(int(input(\"Enter occurance:\"))):\n",
    "    index = s.find(\"cd\",index+1)\n",
    "print(index)"
   ]
  },
  {
   "cell_type": "code",
   "execution_count": 242,
   "id": "cf181d01-ab79-4978-b388-a88417985bb3",
   "metadata": {},
   "outputs": [
    {
     "name": "stdin",
     "output_type": "stream",
     "text": [
      "Enter occurance: 5\n"
     ]
    },
    {
     "name": "stdout",
     "output_type": "stream",
     "text": [
      "-1\n"
     ]
    }
   ],
   "source": [
    "s = \"abcd123abcd456abcd789abcd\"\n",
    "index = 0\n",
    "for i in range(int(input(\"Enter occurance:\"))):\n",
    "    index = s.find(\"cd\",index+1)\n",
    "print(index)"
   ]
  },
  {
   "cell_type": "code",
   "execution_count": 248,
   "id": "090fe4a4-5402-42be-a0eb-444d4525d928",
   "metadata": {},
   "outputs": [
    {
     "name": "stdin",
     "output_type": "stream",
     "text": [
      "Enter occurance: 6\n"
     ]
    },
    {
     "name": "stdout",
     "output_type": "stream",
     "text": [
      "2\n",
      "9\n",
      "16\n",
      "23\n",
      "Index with this occurance is not possible\n"
     ]
    }
   ],
   "source": [
    "s = \"abcd123abcd456abcd789abcd\"\n",
    "index = 0\n",
    "for i in range(int(input(\"Enter occurance:\"))):\n",
    "    index = s.find(\"cd\",index+1)\n",
    "    if index == -1:\n",
    "        print(\"Index with this occurance is not possible\")\n",
    "        break\n",
    "    else:\n",
    "        print(index)"
   ]
  },
  {
   "cell_type": "code",
   "execution_count": 250,
   "id": "b4b9789b-8f0a-454f-a07c-30b20c6309cb",
   "metadata": {},
   "outputs": [
    {
     "name": "stdin",
     "output_type": "stream",
     "text": [
      "Enter occurance: 6\n"
     ]
    },
    {
     "name": "stdout",
     "output_type": "stream",
     "text": [
      "Index with this occurance is not possible\n"
     ]
    }
   ],
   "source": [
    "s = \"abcd123abcd456abcd789abcd\"\n",
    "index = 0\n",
    "for i in range(int(input(\"Enter occurance:\"))):\n",
    "    index = s.find(\"cd\",index+1)\n",
    "    if index == -1:\n",
    "        print(\"Index with this occurance is not possible\")\n",
    "        break\n",
    "else:\n",
    "    print(index)"
   ]
  },
  {
   "cell_type": "code",
   "execution_count": 257,
   "id": "e6505c31-ea6a-4ab6-b0d3-a6db1232b9eb",
   "metadata": {},
   "outputs": [
    {
     "name": "stdin",
     "output_type": "stream",
     "text": [
      "Enter the occurance: 2\n"
     ]
    },
    {
     "name": "stdout",
     "output_type": "stream",
     "text": [
      "9\n"
     ]
    }
   ],
   "source": [
    "s = \"abcd123abcd456abcd789abcd\"\n",
    "index = 0\n",
    "occurance = int(input(\"Enter the occurance:\"))\n",
    "if s.count('cd')>occurance:\n",
    "    for i in range(occurance):\n",
    "        index = s.find('cd',index+1)\n",
    "    print(index)\n",
    "else:\n",
    "    print(\"Index with this occurance is not possible\")"
   ]
  },
  {
   "cell_type": "code",
   "execution_count": 259,
   "id": "7635c9b8-4a9b-441b-b8f1-c6f6632b6fb0",
   "metadata": {},
   "outputs": [
    {
     "name": "stdin",
     "output_type": "stream",
     "text": [
      "Enter the occurance: 6\n"
     ]
    },
    {
     "name": "stdout",
     "output_type": "stream",
     "text": [
      "Index with this occurance is not possible\n"
     ]
    }
   ],
   "source": [
    "s = \"abcd123abcd456abcd789abcd\"\n",
    "index = 0\n",
    "occurance = int(input(\"Enter the occurance:\"))\n",
    "if s.count('cd')>occurance:\n",
    "    for i in range(occurance):\n",
    "        index = s.find('cd',index+1)\n",
    "    print(index)\n",
    "else:\n",
    "    print(\"Index with this occurance is not possible\")"
   ]
  },
  {
   "cell_type": "markdown",
   "id": "86ce8fe9-7c9e-45c0-b7c0-598c83aeb8b2",
   "metadata": {},
   "source": [
    "### split(),rsplit() and splitlines()\n",
    "* `split()` and `rsplit()` These functions splits the given string into a list.\n",
    "* By default, it will use space( ) as a split. it doesn't case about number of spaces are there.\n",
    "* `splitlines()`, It will convert the string to a single element list.\n",
    "* "
   ]
  },
  {
   "cell_type": "code",
   "execution_count": 7,
   "id": "0e4c32ae-8690-4014-975a-e60d1e971886",
   "metadata": {},
   "outputs": [
    {
     "name": "stdout",
     "output_type": "stream",
     "text": [
      "['abc', 'def', 'ghi', 'jkl']\n",
      "['abc', 'def', 'ghi', 'jkl']\n",
      "['abc def ghi jkl']\n"
     ]
    }
   ],
   "source": [
    "s = \"abc def ghi jkl\"\n",
    "print(s.split())\n",
    "print(s.rsplit())\n",
    "print(s.splitlines())"
   ]
  },
  {
   "cell_type": "code",
   "execution_count": 112,
   "id": "1b269c36-853c-4807-9b60-fe156791757f",
   "metadata": {},
   "outputs": [
    {
     "name": "stdout",
     "output_type": "stream",
     "text": [
      "['abc', 'def', 'ghi', 'jkl']\n"
     ]
    }
   ],
   "source": [
    "s = \"abc\\ndef\\nghi\\tjkl\"\n",
    "print(s.split())"
   ]
  },
  {
   "cell_type": "code",
   "execution_count": 10,
   "id": "11724b67-75f0-4bdf-9180-c5d8d47a0ba9",
   "metadata": {},
   "outputs": [
    {
     "name": "stdout",
     "output_type": "stream",
     "text": [
      "['abc', 'def', 'ghi', 'jkl']\n",
      "['abc', 'def', 'ghi', 'jkl']\n",
      "['abc def    ghi      jkl']\n"
     ]
    }
   ],
   "source": [
    "s = \"abc def    ghi      jkl\"\n",
    "print(s.split())\n",
    "print(s.rsplit())\n",
    "print(s.splitlines())"
   ]
  },
  {
   "cell_type": "code",
   "execution_count": 14,
   "id": "646e235b-e28e-4365-9726-3ab9f0038dbc",
   "metadata": {},
   "outputs": [
    {
     "name": "stdout",
     "output_type": "stream",
     "text": [
      "['abc', 'def', 'ghi', 'jkl']\n",
      "['abc', 'def', '', '', '', 'ghi', '', '', '', '', '', 'jkl']\n",
      "['abc', 'def', 'ghi', 'jkl']\n",
      "['abc def    ghi      jkl']\n"
     ]
    }
   ],
   "source": [
    "s = \"abc def    ghi      jkl\"\n",
    "print(s.split())# space as a delimeter\n",
    "print(s.split(\" \"))\n",
    "print(s.rsplit())\n",
    "print(s.splitlines())"
   ]
  },
  {
   "cell_type": "markdown",
   "id": "3de0b63d-000c-4f3b-93fb-3c1633c92ed4",
   "metadata": {},
   "source": [
    "### split() vs rsplit()\n",
    "* `split()` can expect how many splits you want.\n",
    "* `r.split()` splited from right end."
   ]
  },
  {
   "cell_type": "code",
   "execution_count": 40,
   "id": "ef67d441-3d7f-45a4-951f-91aff4f333fd",
   "metadata": {},
   "outputs": [
    {
     "name": "stdout",
     "output_type": "stream",
     "text": [
      "['abc', 'def', 'ghi jkl']\n",
      "['abc def', 'ghi', 'jkl']\n"
     ]
    }
   ],
   "source": [
    "s = \"abc def ghi jkl\"\n",
    "print(s.split(\" \",2))\n",
    "print(s.rsplit(\" \",2))"
   ]
  },
  {
   "cell_type": "code",
   "execution_count": 43,
   "id": "ca22ef67-7e9e-4b7c-85e5-b79992a480c6",
   "metadata": {},
   "outputs": [
    {
     "name": "stdout",
     "output_type": "stream",
     "text": [
      "['abc', 'def', 'ghi;jkl']\n",
      "['abc;def', 'ghi', 'jkl']\n"
     ]
    }
   ],
   "source": [
    "s = \"abc;def;ghi;jkl\"\n",
    "print(s.split(\";\",2))\n",
    "print(s.rsplit(\";\",2))"
   ]
  },
  {
   "cell_type": "markdown",
   "id": "770fe792-5f0e-499a-9717-2ae46ce2ef61",
   "metadata": {},
   "source": [
    "### splitlines()\n",
    "* splitlines() will take `\\n` as delimeter by default.\n",
    "* It won't consider `\\t` as delimeter."
   ]
  },
  {
   "cell_type": "code",
   "execution_count": 110,
   "id": "aee75a5d-94c8-46ba-8205-b493067cf052",
   "metadata": {},
   "outputs": [
    {
     "name": "stdout",
     "output_type": "stream",
     "text": [
      "['abc', 'def', 'ghijkl']\n"
     ]
    }
   ],
   "source": [
    "s = \"abc\\ndef\\nghijkl\"\n",
    "print(s.splitlines())"
   ]
  },
  {
   "cell_type": "code",
   "execution_count": 115,
   "id": "56834b70-a5f5-4728-8cdb-02cc0db67d86",
   "metadata": {},
   "outputs": [
    {
     "name": "stdout",
     "output_type": "stream",
     "text": [
      "['abc', 'def', 'ghi\\tjkl']\n"
     ]
    }
   ],
   "source": [
    "s = \"abc\\ndef\\nghi\\tjkl\"\n",
    "print(s.splitlines())"
   ]
  },
  {
   "cell_type": "markdown",
   "id": "74e839b9-0548-48ec-90a7-0a924ffede5f",
   "metadata": {},
   "source": [
    "### partition() and rpartition()\n",
    "* partition will expect an argument.\n",
    "* partition will convert string to tuple.\n",
    "* Partition always gives 3 elements in tuple.\n",
    "* In this function, partition will consider the `space` as a delimeter. It will consider the string before delimeter i.e., before space.\n",
    "* `rpartition()` will do from right."
   ]
  },
  {
   "cell_type": "code",
   "execution_count": 19,
   "id": "16df68fe-0b78-437f-ae3f-2139c2140d52",
   "metadata": {},
   "outputs": [
    {
     "name": "stdout",
     "output_type": "stream",
     "text": [
      "['abc', 'def', 'ghi', 'jkl']\n",
      "['abc', 'def', '', '', '', 'ghi', '', '', '', '', '', 'jkl']\n",
      "['abc', 'def', 'ghi', 'jkl']\n",
      "['abc def    ghi      jkl']\n",
      "('abc', ' ', 'def    ghi      jkl')\n",
      "('abc def    ghi     ', ' ', 'jkl')\n"
     ]
    }
   ],
   "source": [
    "s = \"abc def    ghi      jkl\"\n",
    "print(s.split())# space as a delimeter\n",
    "print(s.split(\" \"))\n",
    "print(s.rsplit())\n",
    "print(s.splitlines())\n",
    "print(s.partition(\" \"))\n",
    "print(s.rpartition(\" \"))"
   ]
  },
  {
   "cell_type": "code",
   "execution_count": 23,
   "id": "21d2a4ca-714c-4807-909a-1b1fe71175d8",
   "metadata": {},
   "outputs": [
    {
     "name": "stdout",
     "output_type": "stream",
     "text": [
      "['abc', 'def', 'ghi', 'jkl', 'mno']\n",
      "('abc', ' ', 'def ghi jkl mno')\n"
     ]
    }
   ],
   "source": [
    "s = \"abc def ghi jkl mno\"\n",
    "print(s.split())\n",
    "print(s.partition(\" \")) # partition only gives 3 elements in a tuple."
   ]
  },
  {
   "cell_type": "code",
   "execution_count": 55,
   "id": "8ab28e57-b799-4ef1-be4b-69ce5aca56c1",
   "metadata": {},
   "outputs": [
    {
     "name": "stdout",
     "output_type": "stream",
     "text": [
      "('abc', ' ', 'def ghi jkl mno')\n",
      "('abc def ghi jkl', ' ', 'mno')\n"
     ]
    }
   ],
   "source": [
    "s = \"abc def ghi jkl mno\"\n",
    "print(s.partition(\" \"))\n",
    "print(s.rpartition(\" \"))"
   ]
  },
  {
   "cell_type": "markdown",
   "id": "5833e01e-b91f-4b62-b066-ed8bf882323a",
   "metadata": {},
   "source": [
    "### join()"
   ]
  },
  {
   "cell_type": "code",
   "execution_count": 62,
   "id": "bedb1fbd-703f-43e1-99e6-872179a1c35c",
   "metadata": {},
   "outputs": [
    {
     "name": "stdout",
     "output_type": "stream",
     "text": [
      "abc;def;ghi;jkl;\n"
     ]
    }
   ],
   "source": [
    "k = ['abc', 'def', 'ghi', 'jkl']\n",
    "res = ''\n",
    "for i in k:\n",
    "    res = res +i\n",
    "print(res)"
   ]
  },
  {
   "cell_type": "code",
   "execution_count": 64,
   "id": "bcedbfa9-531a-435a-a335-0863452c4d69",
   "metadata": {},
   "outputs": [
    {
     "name": "stdout",
     "output_type": "stream",
     "text": [
      "abc;def;ghi;jkl;\n"
     ]
    }
   ],
   "source": [
    "k = ['abc', 'def', 'ghi', 'jkl']\n",
    "res = ''\n",
    "for i in k:\n",
    "    res = res +i+';'\n",
    "print(res)"
   ]
  },
  {
   "cell_type": "markdown",
   "id": "2d2a92a2-1020-4ad6-a632-b3ec56527e80",
   "metadata": {},
   "source": [
    "* Sometimes we need to convert list to string then we can use join().\n",
    "* For join() to work in that list all the elements should be strings."
   ]
  },
  {
   "cell_type": "code",
   "execution_count": 67,
   "id": "36e13162-edc7-4bc0-8c5f-bb9f43b44cd2",
   "metadata": {},
   "outputs": [
    {
     "name": "stdout",
     "output_type": "stream",
     "text": [
      "abcdefghijkl\n"
     ]
    }
   ],
   "source": [
    "k = ['abc', 'def', 'ghi', 'jkl']\n",
    "s = ''.join(k)\n",
    "print(s)"
   ]
  },
  {
   "cell_type": "code",
   "execution_count": 69,
   "id": "0d299f2e-8f34-4ed9-ab69-6f0bceb4f3a0",
   "metadata": {},
   "outputs": [
    {
     "name": "stdout",
     "output_type": "stream",
     "text": [
      "abc;def;ghi;jkl\n"
     ]
    }
   ],
   "source": [
    "k = ['abc', 'def', 'ghi', 'jkl']\n",
    "s = ';'.join(k)\n",
    "print(s)"
   ]
  },
  {
   "cell_type": "code",
   "execution_count": null,
   "id": "ffad9d1f-94df-4112-b049-692d1005a4f2",
   "metadata": {},
   "outputs": [],
   "source": []
  },
  {
   "cell_type": "code",
   "execution_count": 72,
   "id": "66df4dca-bcd5-413e-9790-bfab88389e67",
   "metadata": {},
   "outputs": [
    {
     "name": "stdout",
     "output_type": "stream",
     "text": [
      "abc;def;ghi;jkl\n",
      "abcdefghijkl\n"
     ]
    }
   ],
   "source": [
    "s = \"abc;def;ghi;jkl\"\n",
    "#remove ; from above string\n",
    "s1 = s.replace(';','')\n",
    "print(s)\n",
    "print(s1)"
   ]
  },
  {
   "cell_type": "code",
   "execution_count": 76,
   "id": "95cf97ee-a9cb-4fd8-9227-ab5a50406a2c",
   "metadata": {},
   "outputs": [
    {
     "name": "stdout",
     "output_type": "stream",
     "text": [
      "abc;def;ghi;jkl\n",
      "abcdefghijkl\n"
     ]
    }
   ],
   "source": [
    "s = \"abc;def;ghi;jkl\"\n",
    "#remove ; from above string\n",
    "print(s)\n",
    "k = s.split(\";\")\n",
    "s2 = ''.join(k)\n",
    "print(s2)"
   ]
  },
  {
   "cell_type": "code",
   "execution_count": 82,
   "id": "ea511f0b-1b30-4500-9d9c-f527c5fe6536",
   "metadata": {},
   "outputs": [
    {
     "name": "stdout",
     "output_type": "stream",
     "text": [
      "abc$def$ghi;jkl\n"
     ]
    }
   ],
   "source": [
    "# replace only first two occurances of ; with $\n",
    "s = \"abc;def;ghi;jkl\"\n",
    "# abc$def$ghi;jkl\n",
    "k = s.split(\";\",2)\n",
    "s1 = '$'.join(k)\n",
    "print(s1)"
   ]
  },
  {
   "cell_type": "code",
   "execution_count": 84,
   "id": "baeaa722-c3c9-43a7-a439-2e5d303fa98a",
   "metadata": {},
   "outputs": [
    {
     "name": "stdout",
     "output_type": "stream",
     "text": [
      "abc$def$ghi;jkl\n"
     ]
    }
   ],
   "source": [
    "# replace only first two occurances of ; with $\n",
    "s = \"abc;def;ghi;jkl\"\n",
    "# abc$def$ghi;jkl\n",
    "s1 = s.replace(';','$',2)\n",
    "print(s1)"
   ]
  },
  {
   "cell_type": "code",
   "execution_count": 86,
   "id": "d5b42ccd-3522-4f6c-8bc3-e7cfc3a5dd81",
   "metadata": {},
   "outputs": [
    {
     "name": "stdout",
     "output_type": "stream",
     "text": [
      "abc;def$ghi$jkl\n"
     ]
    }
   ],
   "source": [
    "# replace last two occurances of ; with $\n",
    "s = 'abc;def;ghi;jkl'\n",
    "s1 = s.replace(';','$')\n",
    "s2 = s1.replace('$',';',1)\n",
    "print(s2)"
   ]
  },
  {
   "cell_type": "code",
   "execution_count": 98,
   "id": "86dce721-4dd6-4c90-aa31-4eed9334d035",
   "metadata": {},
   "outputs": [
    {
     "name": "stdout",
     "output_type": "stream",
     "text": [
      "abc;def$ghi$jkl\n"
     ]
    }
   ],
   "source": [
    "# replace last two occurances of ; with $\n",
    "s = 'abc;def;ghi;jkl'\n",
    "k = s.rsplit(';',2)\n",
    "s2 = '$'.join(k)\n",
    "print(s2)"
   ]
  },
  {
   "cell_type": "markdown",
   "id": "556fd301-e88a-467c-a048-74aecbc70ba7",
   "metadata": {},
   "source": [
    "### strip(),lstrip() and rstrip()\n",
    "* if argument matches with starting and ending of the string then starting and ending  will be removed using `strip()`.\n",
    "* if argument matches with starting of the string and wanted to remove that you can use `lstrip()`.\n",
    "* If argument matches with ending of the string and wated to remove that you can use `rstrip()`."
   ]
  },
  {
   "cell_type": "code",
   "execution_count": 118,
   "id": "2f7d9524-81c5-4fe8-bf0c-563043945d20",
   "metadata": {},
   "outputs": [
    {
     "name": "stdout",
     "output_type": "stream",
     "text": [
      "#$user@#$name#$\n",
      "#$user@#$name#$@\n",
      "@#$user@#$name#$\n"
     ]
    }
   ],
   "source": [
    "s = '@#$user@#$name#$@'\n",
    "print(s.strip(\"@\"))\n",
    "print(s.lstrip(\"@\"))\n",
    "print(s.rstrip(\"@\"))"
   ]
  },
  {
   "cell_type": "code",
   "execution_count": 120,
   "id": "c7f2017c-0bbe-40dd-888d-9c2d9e90fa96",
   "metadata": {},
   "outputs": [
    {
     "name": "stdout",
     "output_type": "stream",
     "text": [
      "@#$user@#$name#$@\n",
      "@#$user@#$name#$@\n",
      "@#$user@#$name#$@\n"
     ]
    }
   ],
   "source": [
    "s = '@#$user@#$name#$@'\n",
    "print(s.strip(\"#\"))\n",
    "print(s.lstrip(\"#\"))\n",
    "print(s.rstrip(\"#\"))"
   ]
  },
  {
   "cell_type": "code",
   "execution_count": 124,
   "id": "0bcbc99b-f647-4d95-9b47-6a68c9a0238c",
   "metadata": {},
   "outputs": [
    {
     "name": "stdout",
     "output_type": "stream",
     "text": [
      "$user@#$name#$\n",
      "$user@#$name#$@\n",
      "@#$user@#$name#$\n"
     ]
    }
   ],
   "source": [
    "s = '@#$user@#$name#$@'\n",
    "print(s.strip(\"#@\"))\n",
    "print(s.lstrip(\"#@\"))\n",
    "print(s.rstrip(\"#@\"))\n",
    "# strip will search for @# and #@, searches for every possiblities.\n",
    "# Searches for individual charecter combinitions. @, #"
   ]
  },
  {
   "cell_type": "code",
   "execution_count": 126,
   "id": "c772bccc-f291-4f15-8d9c-52db7be7ac81",
   "metadata": {},
   "outputs": [
    {
     "name": "stdout",
     "output_type": "stream",
     "text": [
      "user@#$name\n",
      "user@#$name#$@\n",
      "@#$user@#$name\n"
     ]
    }
   ],
   "source": [
    "s = '@#$user@#$name#$@'\n",
    "print(s.strip(\"#@$\"))\n",
    "print(s.lstrip(\"#@$\"))\n",
    "print(s.rstrip(\"#@$\"))"
   ]
  },
  {
   "cell_type": "code",
   "execution_count": null,
   "id": "31a36f23-01f9-404e-b170-6d9d3c69a09d",
   "metadata": {},
   "outputs": [],
   "source": [
    "s = input('Enter the string:')\n",
    "sub = s.split(' ')\n",
    "result = []\n",
    "for i in sub:\n",
    "    replace = i.capitalize()\n",
    "    print(replace)\n",
    "    result.append(replace)\n",
    "    print(result)"
   ]
  },
  {
   "cell_type": "code",
   "execution_count": null,
   "id": "9f507b65-1fc9-49af-bb23-4f904f7607b8",
   "metadata": {},
   "outputs": [],
   "source": []
  }
 ],
 "metadata": {
  "kernelspec": {
   "display_name": "Python 3 (ipykernel)",
   "language": "python",
   "name": "python3"
  },
  "language_info": {
   "codemirror_mode": {
    "name": "ipython",
    "version": 3
   },
   "file_extension": ".py",
   "mimetype": "text/x-python",
   "name": "python",
   "nbconvert_exporter": "python",
   "pygments_lexer": "ipython3",
   "version": "3.12.4"
  }
 },
 "nbformat": 4,
 "nbformat_minor": 5
}

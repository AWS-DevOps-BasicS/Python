{
 "cells": [
  {
   "cell_type": "code",
   "execution_count": 17,
   "id": "d93a025d-9560-48fc-8507-b4627a46bac1",
   "metadata": {},
   "outputs": [
    {
     "name": "stdout",
     "output_type": "stream",
     "text": [
      "3000\n"
     ]
    }
   ],
   "source": [
    "a = 1000\n",
    "b = 2000\n",
    "print(a+b)\n"
   ]
  },
  {
   "cell_type": "code",
   "execution_count": 19,
   "id": "884f63a1-08d9-4000-b783-1368602f144a",
   "metadata": {},
   "outputs": [
    {
     "name": "stdin",
     "output_type": "stream",
     "text": [
      "enter a value: 1000\n",
      "enter a value: 2000\n"
     ]
    },
    {
     "name": "stdout",
     "output_type": "stream",
     "text": [
      "10002000\n"
     ]
    }
   ],
   "source": [
    "a = input(\"enter a value:\")\n",
    "b = input(\"enter a value:\")\n",
    "print(a+b)"
   ]
  },
  {
   "cell_type": "code",
   "execution_count": 21,
   "id": "2a302c92-52c6-4581-b5b6-2d8265f6640b",
   "metadata": {},
   "outputs": [
    {
     "name": "stdin",
     "output_type": "stream",
     "text": [
      "enter a value: 1000\n"
     ]
    },
    {
     "name": "stdout",
     "output_type": "stream",
     "text": [
      "1000 <class 'str'>\n"
     ]
    }
   ],
   "source": [
    "a = input(\"enter a value:\")\n",
    "print(a,type(a))"
   ]
  },
  {
   "cell_type": "code",
   "execution_count": 23,
   "id": "bea2149a-63ec-4782-9c2e-bcc70d261b47",
   "metadata": {},
   "outputs": [
    {
     "name": "stdin",
     "output_type": "stream",
     "text": [
      "enter a value: ash\n"
     ]
    },
    {
     "name": "stdout",
     "output_type": "stream",
     "text": [
      "ash <class 'str'>\n"
     ]
    }
   ],
   "source": [
    "a = input(\"enter a value:\")\n",
    "print(a,type(a))"
   ]
  },
  {
   "cell_type": "code",
   "execution_count": 25,
   "id": "e86e225c-46ca-4277-9ba2-edeca0fb8229",
   "metadata": {},
   "outputs": [
    {
     "name": "stdin",
     "output_type": "stream",
     "text": [
      "enter a value: [1,2,3,4,5]\n"
     ]
    },
    {
     "name": "stdout",
     "output_type": "stream",
     "text": [
      "[1,2,3,4,5] <class 'str'>\n"
     ]
    }
   ],
   "source": [
    "a = input(\"enter a value:\")\n",
    "print(a,type(a))"
   ]
  },
  {
   "cell_type": "code",
   "execution_count": 27,
   "id": "5959fe0e-7432-48b0-bf49-7fd085cf68ab",
   "metadata": {},
   "outputs": [
    {
     "name": "stdin",
     "output_type": "stream",
     "text": [
      "enter a value: (1,2,3,4)\n"
     ]
    },
    {
     "name": "stdout",
     "output_type": "stream",
     "text": [
      "(1,2,3,4) <class 'str'>\n"
     ]
    }
   ],
   "source": [
    "a = input(\"enter a value:\")\n",
    "print(a,type(a))"
   ]
  },
  {
   "cell_type": "code",
   "execution_count": 29,
   "id": "93a85986-989b-485e-ab89-c69e95ee34d1",
   "metadata": {},
   "outputs": [
    {
     "name": "stdin",
     "output_type": "stream",
     "text": [
      "enter a value: {1,2,3,4}\n"
     ]
    },
    {
     "name": "stdout",
     "output_type": "stream",
     "text": [
      "{1,2,3,4} <class 'str'>\n"
     ]
    }
   ],
   "source": [
    "a = input(\"enter a value:\")\n",
    "print(a,type(a))"
   ]
  },
  {
   "cell_type": "code",
   "execution_count": 31,
   "id": "86e3e222-33b0-45b2-8031-543123b2d58a",
   "metadata": {},
   "outputs": [
    {
     "name": "stdout",
     "output_type": "stream",
     "text": [
      "[1,2,3,4] <class 'str'>\n",
      "(1,2,3,4) <class 'str'>\n",
      "{1,2,3,4} <class 'str'>\n"
     ]
    }
   ],
   "source": [
    "# the input internally converts to a string\n",
    "a=\"[1,2,3,4]\"\n",
    "print(a,type(a))\n",
    "b = '(1,2,3,4)'\n",
    "print(b,type(b))\n",
    "c = \"{1,2,3,4}\"\n",
    "print(c,type(c))"
   ]
  },
  {
   "cell_type": "code",
   "execution_count": 35,
   "id": "d2abf631-c3dd-4789-b599-71ac4aefde1e",
   "metadata": {},
   "outputs": [
    {
     "name": "stdin",
     "output_type": "stream",
     "text": [
      "Enter a number1: 123\n",
      "Enter a number20: 1246\n"
     ]
    },
    {
     "name": "stdout",
     "output_type": "stream",
     "text": [
      "123 <class 'str'>\n",
      "1246 <class 'str'>\n",
      "1231246\n",
      "123 <class 'int'>\n",
      "1246 <class 'int'>\n",
      "1369\n"
     ]
    }
   ],
   "source": [
    "a=input(\"Enter a number1:\")\n",
    "b=input(\"Enter a number20:\")\n",
    "print(a,type(a))\n",
    "print(b,type(b))\n",
    "res1 = a+b # concatenation\n",
    "print(res1)\n",
    "a = int(a)\n",
    "b = int(b)\n",
    "print(a,type(a))\n",
    "print(b,type(b))\n",
    "res2 = a+b # summation\n",
    "print(res2)"
   ]
  },
  {
   "cell_type": "code",
   "execution_count": 7,
   "id": "63b74d39-5081-48f0-a220-6a7016fa81d4",
   "metadata": {},
   "outputs": [
    {
     "name": "stdin",
     "output_type": "stream",
     "text": [
      "Enter a number1: 12\n",
      "Enter a number20: 2\n"
     ]
    },
    {
     "name": "stdout",
     "output_type": "stream",
     "text": [
      "14\n",
      "10\n",
      "6.0\n",
      "6\n",
      "144\n",
      "0\n"
     ]
    }
   ],
   "source": [
    "# take two numbers from the user and do all arthematic operations(+,-,*,/,//,%)\n",
    "a=input(\"Enter a number1:\")\n",
    "b=input(\"Enter a number20:\")\n",
    "a = int(a)\n",
    "b = int(b)\n",
    "sum = a+b\n",
    "sub = a-b\n",
    "multi = a*b\n",
    "division = a/b\n",
    "floor_div = a//b\n",
    "exponent = a**b\n",
    "modulus = a%b\n",
    "print(sum)\n",
    "print(sub)\n",
    "print(division)\n",
    "print(floor_div)\n",
    "print(exponent)\n",
    "print(modulus)"
   ]
  },
  {
   "cell_type": "code",
   "execution_count": 9,
   "id": "046bfc06-e690-40c6-baa4-82813264b149",
   "metadata": {},
   "outputs": [
    {
     "name": "stdin",
     "output_type": "stream",
     "text": [
      "Enter a number1: 12.345\n",
      "Enter a number20: 5.6\n"
     ]
    },
    {
     "ename": "ValueError",
     "evalue": "invalid literal for int() with base 10: '12.345'",
     "output_type": "error",
     "traceback": [
      "\u001b[1;31m---------------------------------------------------------------------------\u001b[0m",
      "\u001b[1;31mValueError\u001b[0m                                Traceback (most recent call last)",
      "Cell \u001b[1;32mIn[9], line 3\u001b[0m\n\u001b[0;32m      1\u001b[0m a\u001b[38;5;241m=\u001b[39m\u001b[38;5;28minput\u001b[39m(\u001b[38;5;124m\"\u001b[39m\u001b[38;5;124mEnter a number1:\u001b[39m\u001b[38;5;124m\"\u001b[39m)\n\u001b[0;32m      2\u001b[0m b\u001b[38;5;241m=\u001b[39m\u001b[38;5;28minput\u001b[39m(\u001b[38;5;124m\"\u001b[39m\u001b[38;5;124mEnter a number20:\u001b[39m\u001b[38;5;124m\"\u001b[39m)\n\u001b[1;32m----> 3\u001b[0m a \u001b[38;5;241m=\u001b[39m \u001b[38;5;28mint\u001b[39m(a)\n\u001b[0;32m      4\u001b[0m b \u001b[38;5;241m=\u001b[39m \u001b[38;5;28mint\u001b[39m(b)\n\u001b[0;32m      5\u001b[0m \u001b[38;5;28msum\u001b[39m \u001b[38;5;241m=\u001b[39m a\u001b[38;5;241m+\u001b[39mb\n",
      "\u001b[1;31mValueError\u001b[0m: invalid literal for int() with base 10: '12.345'"
     ]
    }
   ],
   "source": [
    "a=input(\"Enter a number1:\")\n",
    "b=input(\"Enter a number2:\")\n",
    "a = int(a)\n",
    "b = int(b)\n",
    "print(a+b)\n",
    "print(a-b)\n",
    "print(a*b)\n",
    "print(a/b)\n",
    "print(a**b)\n",
    "print(a%b)\n",
    "# It is better to convert to float instead of int. If we don't convert to float, we can't perform operations other than summation"
   ]
  },
  {
   "cell_type": "code",
   "execution_count": 11,
   "id": "d1bda502-af5b-4eca-904a-a4bdcf0f0dbe",
   "metadata": {},
   "outputs": [
    {
     "name": "stdin",
     "output_type": "stream",
     "text": [
      "Enter a number1: 12.1543\n",
      "Enter a number20: 123\n"
     ]
    },
    {
     "name": "stdout",
     "output_type": "stream",
     "text": [
      "135.1543\n",
      "-110.8457\n",
      "0.09881544715447153\n",
      "0.0\n",
      "2.6410951972091877e+133\n",
      "12.1543\n"
     ]
    }
   ],
   "source": [
    "a=input(\"Enter a number1:\")\n",
    "b=input(\"Enter a number20:\")\n",
    "a = float(a)\n",
    "b = float(b)\n",
    "sum = a+b\n",
    "sub = a-b\n",
    "multi = a*b\n",
    "division = a/b\n",
    "floor_div = a//b\n",
    "exponent = a**b\n",
    "modulus = a%b\n",
    "print(sum)\n",
    "print(sub)\n",
    "print(division)\n",
    "print(floor_div)\n",
    "print(exponent)\n",
    "print(modulus)"
   ]
  },
  {
   "cell_type": "code",
   "execution_count": 13,
   "id": "208a5559-e83a-4d63-8882-9b337fc04b24",
   "metadata": {},
   "outputs": [
    {
     "name": "stdin",
     "output_type": "stream",
     "text": [
      "Enter a number1: 12.358\n",
      "Enter a number20: 123\n"
     ]
    },
    {
     "name": "stdout",
     "output_type": "stream",
     "text": [
      "135.358\n",
      "-110.642\n",
      "0.10047154471544716\n",
      "0.0\n",
      "2.0399873673649383e+134\n",
      "12.358\n"
     ]
    }
   ],
   "source": [
    "# Instead of converting separately, we can perform the conversion while providing the input, as shown below\n",
    "a=float(input(\"Enter a number1:\"))\n",
    "b=float(input(\"Enter a number20:\"))\n",
    "sum = a+b\n",
    "sub = a-b\n",
    "multi = a*b\n",
    "division = a/b\n",
    "floor_div = a//b\n",
    "exponent = a**b\n",
    "modulus = a%b\n",
    "print(sum)\n",
    "print(sub)\n",
    "print(division)\n",
    "print(floor_div)\n",
    "print(exponent)\n",
    "print(modulus)"
   ]
  },
  {
   "cell_type": "code",
   "execution_count": null,
   "id": "402a1623-302f-45c1-a83c-092a17462f75",
   "metadata": {},
   "outputs": [],
   "source": []
  }
 ],
 "metadata": {
  "kernelspec": {
   "display_name": "Python 3 (ipykernel)",
   "language": "python",
   "name": "python3"
  },
  "language_info": {
   "codemirror_mode": {
    "name": "ipython",
    "version": 3
   },
   "file_extension": ".py",
   "mimetype": "text/x-python",
   "name": "python",
   "nbconvert_exporter": "python",
   "pygments_lexer": "ipython3",
   "version": "3.12.4"
  }
 },
 "nbformat": 4,
 "nbformat_minor": 5
}

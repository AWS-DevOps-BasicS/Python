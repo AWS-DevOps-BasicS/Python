{
 "cells": [
  {
   "cell_type": "code",
   "execution_count": 1,
   "id": "0d98563e-6a3a-4fcd-9938-f128c5ccb3ab",
   "metadata": {},
   "outputs": [
    {
     "name": "stdout",
     "output_type": "stream",
     "text": [
      "abs$def$ghi;jkl\n"
     ]
    }
   ],
   "source": [
    "s = 'abs;def;ghi;jkl'\n",
    "s1 = s.replace(';','$',2)\n",
    "print(s1)"
   ]
  },
  {
   "cell_type": "code",
   "execution_count": 5,
   "id": "9f345339-1374-45af-9041-7621d0366ff7",
   "metadata": {},
   "outputs": [
    {
     "name": "stdout",
     "output_type": "stream",
     "text": [
      "abs$def$ghi$jkl\n"
     ]
    }
   ],
   "source": [
    "s = 'abs;def;ghi;jkl'\n",
    "s1 = s.replace(';','$',-1)\n",
    "print(s1)"
   ]
  },
  {
   "cell_type": "code",
   "execution_count": 15,
   "id": "01d73835-d319-4738-b85c-5261aa20baec",
   "metadata": {},
   "outputs": [
    {
     "name": "stdout",
     "output_type": "stream",
     "text": [
      "abs;def$ghi$jkl\n"
     ]
    }
   ],
   "source": [
    "s = 'abs;def;ghi;jkl'\n",
    "s1 = s.replace(';','$')\n",
    "s2 = s1.replace('$',';',1)\n",
    "print(s2)"
   ]
  },
  {
   "cell_type": "code",
   "execution_count": null,
   "id": "69d8a4f3-0863-4e42-bbcf-ae560bde9e7f",
   "metadata": {},
   "outputs": [],
   "source": []
  },
  {
   "cell_type": "code",
   "execution_count": null,
   "id": "1a9d56f7-6b34-451c-8f25-ca810c9ed837",
   "metadata": {},
   "outputs": [],
   "source": []
  }
 ],
 "metadata": {
  "kernelspec": {
   "display_name": "Python 3 (ipykernel)",
   "language": "python",
   "name": "python3"
  },
  "language_info": {
   "codemirror_mode": {
    "name": "ipython",
    "version": 3
   },
   "file_extension": ".py",
   "mimetype": "text/x-python",
   "name": "python",
   "nbconvert_exporter": "python",
   "pygments_lexer": "ipython3",
   "version": "3.12.4"
  }
 },
 "nbformat": 4,
 "nbformat_minor": 5
}

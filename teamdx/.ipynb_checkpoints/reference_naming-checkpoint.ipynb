{
 "cells": [
  {
   "cell_type": "code",
   "execution_count": 3,
   "id": "a1be14fd-1daf-4725-8fb0-32ac34b52557",
   "metadata": {},
   "outputs": [],
   "source": [
    "fruit_Sname = \"APPLe\""
   ]
  },
  {
   "cell_type": "code",
   "execution_count": 5,
   "id": "329bde81-661c-4866-84dc-a736a7b05c41",
   "metadata": {},
   "outputs": [
    {
     "ename": "SyntaxError",
     "evalue": "cannot assign to True (563498881.py, line 1)",
     "output_type": "error",
     "traceback": [
      "\u001b[1;36m  Cell \u001b[1;32mIn[5], line 1\u001b[1;36m\u001b[0m\n\u001b[1;33m    True = \"ghj\"\u001b[0m\n\u001b[1;37m    ^\u001b[0m\n\u001b[1;31mSyntaxError\u001b[0m\u001b[1;31m:\u001b[0m cannot assign to True\n"
     ]
    }
   ],
   "source": [
    "True = \"ghj\"\n",
    "print(True)"
   ]
  },
  {
   "cell_type": "code",
   "execution_count": 17,
   "id": "1529070f-d5a4-4432-9a78-9f8b36dcf15e",
   "metadata": {},
   "outputs": [],
   "source": [
    "import keyword"
   ]
  },
  {
   "cell_type": "code",
   "execution_count": 19,
   "id": "936b5368-7d2a-4d03-8f92-463caa3fdd20",
   "metadata": {},
   "outputs": [
    {
     "name": "stdout",
     "output_type": "stream",
     "text": [
      "['False', 'None', 'True', 'and', 'as', 'assert', 'async', 'await', 'break', 'class', 'continue', 'def', 'del', 'elif', 'else', 'except', 'finally', 'for', 'from', 'global', 'if', 'import', 'in', 'is', 'lambda', 'nonlocal', 'not', 'or', 'pass', 'raise', 'return', 'try', 'while', 'with', 'yield']\n"
     ]
    }
   ],
   "source": [
    "print(keyword.kwlist) "
   ]
  },
  {
   "cell_type": "code",
   "execution_count": null,
   "id": "eb4bc187-6e5b-41e5-9994-adb164eca564",
   "metadata": {},
   "outputs": [],
   "source": [
    "a = 1000\n",
    "print(a, type(a))\n",
    "a= 12.34\n",
    "print(a, type(a))\n",
    "a = True\n",
    "print(a, type(a))\n",
    "a= None\n",
    "print(a, type(a))\n",
    "a=[1000,200,3000]\n",
    "print(a, type(a))\n",
    "a= (1000,2000,3000)\n",
    "print(a, type(a))\n",
    "a={1231,14597,7896}\n",
    "print(a, type(a))\n",
    "a={\"name\":\"AJA\", \"address\":\"HYD\"}\n",
    "print(a, type(a))"
   ]
  }
 ],
 "metadata": {
  "kernelspec": {
   "display_name": "Python 3 (ipykernel)",
   "language": "python",
   "name": "python3"
  },
  "language_info": {
   "codemirror_mode": {
    "name": "ipython",
    "version": 3
   },
   "file_extension": ".py",
   "mimetype": "text/x-python",
   "name": "python",
   "nbconvert_exporter": "python",
   "pygments_lexer": "ipython3",
   "version": "3.12.4"
  }
 },
 "nbformat": 4,
 "nbformat_minor": 5
}

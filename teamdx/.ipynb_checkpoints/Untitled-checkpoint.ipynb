{
 "cells": [
  {
   "cell_type": "code",
   "execution_count": 7,
   "id": "71be59aa-c491-444b-a30a-efc6ec7bf9f0",
   "metadata": {},
   "outputs": [
    {
     "name": "stdout",
     "output_type": "stream",
     "text": [
      "hi\n",
      "hello\n",
      "<function fun at 0x000001A73E446980> 20\n",
      "hi\n",
      "hello\n"
     ]
    }
   ],
   "source": [
    "def fun():\n",
    "    print(\"hi\")\n",
    "    print(\"hello\")\n",
    "    return 20\n",
    "res = fun\n",
    "res1= fun()\n",
    "print(res,res1)\n",
    "r1 = res()"
   ]
  },
  {
   "cell_type": "code",
   "execution_count": 9,
   "id": "23a3f3f1-9e1c-435e-bcd7-0426c535ff04",
   "metadata": {},
   "outputs": [
    {
     "name": "stdout",
     "output_type": "stream",
     "text": [
      "hi\n",
      "hello\n",
      "1000\n",
      "result 50\n"
     ]
    }
   ],
   "source": [
    "def fun():\n",
    "    print(\"hi\")\n",
    "    print(\"hello\")\n",
    "    a = 1000\n",
    "    print(a)\n",
    "    return 20+30\n",
    "res = fun()\n",
    "print(\"result\",res)"
   ]
  },
  {
   "cell_type": "code",
   "execution_count": 19,
   "id": "48cf18ea-1b24-418a-bc8e-04c1706e5d76",
   "metadata": {},
   "outputs": [
    {
     "name": "stdout",
     "output_type": "stream",
     "text": [
      "hi\n",
      "hello\n",
      "1000\n",
      "result 50\n",
      "result <function fun at 0x000001A73FAC3560>\n",
      "hi\n",
      "hello\n",
      "1000\n",
      "result 50\n"
     ]
    }
   ],
   "source": [
    "def fun():\n",
    "    print(\"hi\")\n",
    "    print(\"hello\")\n",
    "    a = 1000\n",
    "    print(a)\n",
    "    return 20+30\n",
    "res = fun()\n",
    "print(\"result\",res)\n",
    "res1 = fun\n",
    "print(\"result\",res1)\n",
    "print(\"result\",res1())"
   ]
  },
  {
   "cell_type": "code",
   "execution_count": null,
   "id": "7402e73a-3173-4278-9155-57fae50a8ab6",
   "metadata": {},
   "outputs": [],
   "source": []
  }
 ],
 "metadata": {
  "kernelspec": {
   "display_name": "Python 3 (ipykernel)",
   "language": "python",
   "name": "python3"
  },
  "language_info": {
   "codemirror_mode": {
    "name": "ipython",
    "version": 3
   },
   "file_extension": ".py",
   "mimetype": "text/x-python",
   "name": "python",
   "nbconvert_exporter": "python",
   "pygments_lexer": "ipython3",
   "version": "3.12.4"
  }
 },
 "nbformat": 4,
 "nbformat_minor": 5
}

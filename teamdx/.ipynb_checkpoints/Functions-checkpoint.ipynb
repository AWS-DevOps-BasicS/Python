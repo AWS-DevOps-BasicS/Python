{
 "cells": [
  {
   "cell_type": "markdown",
   "id": "467e0ef8-2b65-48e6-aee2-94e5fdca3e00",
   "metadata": {},
   "source": [
    "## Functions\n",
    "* A function is a block of code which only runs when it is called.\r",
    "* You can pass data, known as parameters, into a funcion.\n",
    "* \n",
    "A function can return data as a result\n",
    "### Creating a Function\r",
    "* In Python a function is defined using the def keyword\n",
    "### Calling a Function\r",
    "* To call a function, use the function name followed by parenthesis."
   ]
  },
  {
   "cell_type": "code",
   "execution_count": 1,
   "id": "fd0dd5d9-846a-4881-bd95-b4daf05e8ed7",
   "metadata": {},
   "outputs": [
    {
     "name": "stdout",
     "output_type": "stream",
     "text": [
      "********************\n",
      "10 20\n",
      "30\n",
      "********************\n",
      "1\n",
      "********************\n",
      "10 20\n",
      "30\n",
      "********************\n",
      "2\n"
     ]
    }
   ],
   "source": [
    "def fun():\n",
    "    print(\"*\"*20)\n",
    "    a = 10\n",
    "    b = 20\n",
    "    print(a,b)\n",
    "    res = a+b\n",
    "    print(res)\n",
    "    print(\"*\"*20)\n",
    "fun()\n",
    "print(\"1\")\n",
    "fun()\n",
    "print(\"2\")"
   ]
  },
  {
   "cell_type": "code",
   "execution_count": 3,
   "id": "a097f41d-8067-4414-ad71-9e8d9419d536",
   "metadata": {},
   "outputs": [],
   "source": [
    "def fun():\n",
    "    print(\"hello\")"
   ]
  },
  {
   "cell_type": "code",
   "execution_count": 5,
   "id": "12b568d9-691e-4882-b028-b9814911573a",
   "metadata": {},
   "outputs": [
    {
     "name": "stdout",
     "output_type": "stream",
     "text": [
      "hi\n",
      "hello\n"
     ]
    }
   ],
   "source": [
    "def fun():\n",
    "    print(\"hello\")\n",
    "print(\"hi\")\n",
    "fun()"
   ]
  },
  {
   "cell_type": "markdown",
   "id": "96c766b1-3b7a-4df5-b83d-1a833b510baf",
   "metadata": {},
   "source": [
    "### Arguments(args)\n",
    "* Information can be passed into functions as arguments.\n",
    "* Arguments are specified after the function name, inside the parentheses. You can add as many arguments as you want, just separate them with a comma.\n",
    "### Parameters or Arguments?\n",
    "* The terms parameter and argument can be used for the same thing: information that are passed into a function\n",
    "* From a function's perspection: \n",
    "    * A parameter is the variable listed inside the parentheses in the function deinition \n",
    "    * \n",
    "An argument is the value that is sent to the function when it is called."
   ]
  },
  {
   "cell_type": "code",
   "execution_count": 1,
   "id": "2ee946c5-d8da-4846-b0f6-bffde3d4709b",
   "metadata": {},
   "outputs": [
    {
     "name": "stdout",
     "output_type": "stream",
     "text": [
      "hello\n",
      "x=10,y=20\n",
      "z= 30\n",
      "hi\n",
      "x=1,y=9\n",
      "z= 10\n"
     ]
    }
   ],
   "source": [
    "def add(x,y):\n",
    "    print(f\"x={x},y={y}\")\n",
    "    z = x+y\n",
    "    print(\"z=\",z)\n",
    "print(\"hello\")\n",
    "add(10,20)\n",
    "print(\"hi\")\n",
    "add(1,9)"
   ]
  },
  {
   "cell_type": "code",
   "execution_count": 5,
   "id": "bba229b6-b856-44e4-97d2-7e6768bb3ddf",
   "metadata": {},
   "outputs": [
    {
     "name": "stdout",
     "output_type": "stream",
     "text": [
      "add\n",
      "addition= 95\n",
      "sub\n",
      "subtraction= 28\n"
     ]
    }
   ],
   "source": [
    "def add (x,y):\n",
    "    z = x+y\n",
    "    print(f\"addition=\",z)\n",
    "def sub(a,b):\n",
    "    c = a-b\n",
    "    print(f\"subtraction=\",c)\n",
    "print(\"add\")\n",
    "add(50,45)\n",
    "print(\"sub\")\n",
    "sub(60,32)"
   ]
  },
  {
   "cell_type": "code",
   "execution_count": 1,
   "id": "a38a53d1-9c58-4e16-99c5-a4e0e62081cb",
   "metadata": {},
   "outputs": [
    {
     "name": "stdout",
     "output_type": "stream",
     "text": [
      "Hello Python\n",
      "result x + y :  12\n",
      "result x - y :  8\n",
      "result x * y :  20\n",
      "result x / y :  5.0\n",
      "result x % y :  0\n",
      "result  x ** y :  100\n",
      "Thank you !\n"
     ]
    }
   ],
   "source": [
    "def add(x, y):  # signature,  x, y are parameters, add is function name\n",
    "    res = x + y # function body\n",
    "    print(\"result x + y : \", res) # function body\n",
    "def sub(x, y):\n",
    "    res = x - y\n",
    "    print(\"result x - y : \", res)\n",
    "def mul(x, y):\n",
    "    res = x * y\n",
    "    print(\"result x * y : \", res)\n",
    "def div(x, y):\n",
    "    res = x / y\n",
    "    print(\"result x / y : \", res)\n",
    "def modulus(x, y):\n",
    "    res = x % y\n",
    "    print(\"result x % y : \", res)\n",
    "def exponet(x, y):\n",
    "    res = x ** y\n",
    "    print(\"result  x ** y : \", res)\n",
    "print(\"Hello Python\")\n",
    "add(10, 2) # 10,2 are parameters\n",
    "sub(10, 2)\n",
    "mul(10, 2)\n",
    "div(10, 2)\n",
    "modulus(10, 2)\n",
    "exponet(10, 2)\n",
    "print(\"Thank you !\")"
   ]
  },
  {
   "cell_type": "markdown",
   "id": "a2c08252-11e9-4174-8c73-5ca0360813f7",
   "metadata": {},
   "source": [
    "### Number of Arguments\n",
    "* By default, a function must be called with the correct number of arguments. Meaning that if your function expects 2 arguments, you have to call the function with 2 arguments, not more, and not less."
   ]
  },
  {
   "cell_type": "code",
   "execution_count": 7,
   "id": "3ed734a1-8733-4ca0-865e-8c8593393f7f",
   "metadata": {},
   "outputs": [
    {
     "ename": "TypeError",
     "evalue": "add() missing 2 required positional arguments: 'x' and 'y'",
     "output_type": "error",
     "traceback": [
      "\u001b[1;31m---------------------------------------------------------------------------\u001b[0m",
      "\u001b[1;31mTypeError\u001b[0m                                 Traceback (most recent call last)",
      "Cell \u001b[1;32mIn[7], line 3\u001b[0m\n\u001b[0;32m      1\u001b[0m \u001b[38;5;28;01mdef\u001b[39;00m \u001b[38;5;21madd\u001b[39m(x,y):\n\u001b[0;32m      2\u001b[0m     \u001b[38;5;28mprint\u001b[39m(\u001b[38;5;124mf\u001b[39m\u001b[38;5;124m\"\u001b[39m\u001b[38;5;124mx=\u001b[39m\u001b[38;5;132;01m{\u001b[39;00mx\u001b[38;5;132;01m}\u001b[39;00m\u001b[38;5;124m,y=\u001b[39m\u001b[38;5;132;01m{\u001b[39;00my\u001b[38;5;132;01m}\u001b[39;00m\u001b[38;5;124m\"\u001b[39m)\n\u001b[1;32m----> 3\u001b[0m add()\n",
      "\u001b[1;31mTypeError\u001b[0m: add() missing 2 required positional arguments: 'x' and 'y'"
     ]
    }
   ],
   "source": [
    "def add(x,y):\n",
    "    print(f\"x={x},y={y}\")\n",
    "add()"
   ]
  },
  {
   "cell_type": "markdown",
   "id": "58673db4-304d-4159-bb22-04c6831c10ed",
   "metadata": {},
   "source": [
    "* If you try to call the function with 1 or 3 arguments, you will get an error:"
   ]
  },
  {
   "cell_type": "code",
   "execution_count": 32,
   "id": "2a151c9f-d955-409c-a2db-569e6bf433e6",
   "metadata": {},
   "outputs": [
    {
     "ename": "TypeError",
     "evalue": "add() missing 1 required positional argument: 'y'",
     "output_type": "error",
     "traceback": [
      "\u001b[1;31m---------------------------------------------------------------------------\u001b[0m",
      "\u001b[1;31mTypeError\u001b[0m                                 Traceback (most recent call last)",
      "Cell \u001b[1;32mIn[32], line 3\u001b[0m\n\u001b[0;32m      1\u001b[0m \u001b[38;5;28;01mdef\u001b[39;00m \u001b[38;5;21madd\u001b[39m(x,y):\n\u001b[0;32m      2\u001b[0m     \u001b[38;5;28mprint\u001b[39m(\u001b[38;5;124mf\u001b[39m\u001b[38;5;124m\"\u001b[39m\u001b[38;5;124mx=\u001b[39m\u001b[38;5;132;01m{\u001b[39;00mx\u001b[38;5;132;01m}\u001b[39;00m\u001b[38;5;124m,y=\u001b[39m\u001b[38;5;132;01m{\u001b[39;00my\u001b[38;5;132;01m}\u001b[39;00m\u001b[38;5;124m\"\u001b[39m)\n\u001b[1;32m----> 3\u001b[0m add(\u001b[38;5;241m10\u001b[39m)\n",
      "\u001b[1;31mTypeError\u001b[0m: add() missing 1 required positional argument: 'y'"
     ]
    }
   ],
   "source": [
    "def add(x,y):\n",
    "    print(f\"x={x},y={y}\")\n",
    "add(10)"
   ]
  },
  {
   "cell_type": "code",
   "execution_count": 34,
   "id": "d602cdf2-1e6c-42eb-a609-c59d98e48d49",
   "metadata": {},
   "outputs": [
    {
     "name": "stdout",
     "output_type": "stream",
     "text": [
      "x=10,y=20\n"
     ]
    }
   ],
   "source": [
    "def add(x,y):\n",
    "    print(f\"x={x},y={y}\")\n",
    "add(10,20)"
   ]
  },
  {
   "cell_type": "code",
   "execution_count": 36,
   "id": "0054c976-dc10-4e8a-abcb-ee53d7479b9b",
   "metadata": {},
   "outputs": [
    {
     "name": "stdout",
     "output_type": "stream",
     "text": [
      "a=4,b=5,c=6,d=7\n",
      "22\n"
     ]
    }
   ],
   "source": [
    "def add(a,b,c,d):\n",
    "    print(f\"a={a},b={b},c={c},d={d}\")\n",
    "    print(a+b+c+d)\n",
    "add(4,5,6,7)"
   ]
  },
  {
   "cell_type": "markdown",
   "id": "41337ed7-ed24-4a3f-9476-b340df4af23d",
   "metadata": {},
   "source": [
    "### Default Parameter Value\n",
    "* The following example shows how to use a default parameter value.\n",
    "* If we call the function without argument, it uses the default value:"
   ]
  },
  {
   "cell_type": "code",
   "execution_count": 52,
   "id": "52a34db9-c99b-4cdb-aad8-dc7575282d38",
   "metadata": {},
   "outputs": [
    {
     "name": "stdout",
     "output_type": "stream",
     "text": [
      "a=4,b=5,c=0,d=0\n",
      "9\n"
     ]
    }
   ],
   "source": [
    "# To pass the a,b as mandatory and c,d as optional args\n",
    "def add(a,b,c=0,d=0):\n",
    "    print(f\"a={a},b={b},c={c},d={d}\")\n",
    "    print(a+b+c+d)\n",
    "add(4,5)"
   ]
  },
  {
   "cell_type": "code",
   "execution_count": 50,
   "id": "a2d7120f-84d1-498d-8f5b-d0430cfbba8b",
   "metadata": {},
   "outputs": [
    {
     "name": "stdout",
     "output_type": "stream",
     "text": [
      "a=4,b=5,c=6,d=0\n",
      "15\n"
     ]
    }
   ],
   "source": [
    "# To pass the a,b as mandatory and c,d as optional args\n",
    "def add(a,b,c=0,d=0):\n",
    "    print(f\"a={a},b={b},c={c},d={d}\")\n",
    "    print(a+b+c+d)\n",
    "add(4,5,6)"
   ]
  },
  {
   "cell_type": "code",
   "execution_count": 48,
   "id": "37ee9ebd-7319-4b84-be70-4944cb62ec94",
   "metadata": {},
   "outputs": [
    {
     "name": "stdout",
     "output_type": "stream",
     "text": [
      "a=4,b=5,c=6,d=7\n",
      "22\n"
     ]
    }
   ],
   "source": [
    "# To pass the a,b as mandatory and c,d as optional args\n",
    "def add(a,b,c=0,d=0):\n",
    "    print(f\"a={a},b={b},c={c},d={d}\")\n",
    "    print(a+b+c+d)\n",
    "add(4,5,6,7)"
   ]
  },
  {
   "cell_type": "code",
   "execution_count": 46,
   "id": "ed93b3db-38bc-44a5-8ded-5c367a09f8f8",
   "metadata": {},
   "outputs": [
    {
     "name": "stdout",
     "output_type": "stream",
     "text": [
      "a=4,b=5,c=0,d=7\n",
      "16\n"
     ]
    }
   ],
   "source": [
    "# To pass the a,b as mandatory args and c,d as optional args\n",
    "def add(a,b,c=0,d=0):\n",
    "    print(f\"a={a},b={b},c={c},d={d}\")\n",
    "    print(a+b+c+d)\n",
    "add(4,5,0,7)# if you want to pass only d value not c value then you can pass the c value as '0'"
   ]
  },
  {
   "cell_type": "markdown",
   "id": "5bc5b98b-eff4-4cec-a8ee-87dbca387bf7",
   "metadata": {},
   "source": [
    "### Keyword Arguments\n",
    "* You can also send arguments with the key = value syntax.\n",
    "* This way the order of the arguments does not matter."
   ]
  },
  {
   "cell_type": "code",
   "execution_count": null,
   "id": "73bc49a5-95c1-4d40-a59c-f96603cad305",
   "metadata": {},
   "outputs": [],
   "source": [
    "# To pass the a,b as mandatory args and c,d as optional args\n",
    "def add(a,b,c=0,d=0):\n",
    "    print(f\"a={a},b={b},c={c},d={d}\")\n",
    "    print(a+b+c+d)\n",
    "add(4,5,d=7)# 4,5 are positional args. d=4: keyword argument."
   ]
  },
  {
   "cell_type": "code",
   "execution_count": 56,
   "id": "7d8ce991-ea76-4050-b76a-5178ea4718a7",
   "metadata": {},
   "outputs": [
    {
     "name": "stdout",
     "output_type": "stream",
     "text": [
      "a=4,b=5,c=10,d=7\n",
      "26\n"
     ]
    }
   ],
   "source": [
    "def add(a,b,c=0,d=0):\n",
    "    print(f\"a={a},b={b},c={c},d={d}\")\n",
    "    print(a+b+c+d)\n",
    "add(4,5,d=7,c=10)"
   ]
  },
  {
   "cell_type": "code",
   "execution_count": 58,
   "id": "3ede2fc6-c5aa-427a-b0e2-47ccad3ceb69",
   "metadata": {},
   "outputs": [
    {
     "name": "stdout",
     "output_type": "stream",
     "text": [
      "a=2,b=11,c=5,d=7\n",
      "25\n"
     ]
    }
   ],
   "source": [
    "def add(a,b,c=0,d=0):\n",
    "    print(f\"a={a},b={b},c={c},d={d}\")\n",
    "    print(a+b+c+d)\n",
    "add(c=5,d=7,a=2,b=11)"
   ]
  },
  {
   "cell_type": "code",
   "execution_count": 62,
   "id": "374b571a-965e-4605-938e-58f722333ad3",
   "metadata": {},
   "outputs": [
    {
     "ename": "TypeError",
     "evalue": "add() missing 1 required positional argument: 'a'",
     "output_type": "error",
     "traceback": [
      "\u001b[1;31m---------------------------------------------------------------------------\u001b[0m",
      "\u001b[1;31mTypeError\u001b[0m                                 Traceback (most recent call last)",
      "Cell \u001b[1;32mIn[62], line 4\u001b[0m\n\u001b[0;32m      2\u001b[0m     \u001b[38;5;28mprint\u001b[39m(\u001b[38;5;124mf\u001b[39m\u001b[38;5;124m\"\u001b[39m\u001b[38;5;124ma=\u001b[39m\u001b[38;5;132;01m{\u001b[39;00ma\u001b[38;5;132;01m}\u001b[39;00m\u001b[38;5;124m,b=\u001b[39m\u001b[38;5;132;01m{\u001b[39;00mb\u001b[38;5;132;01m}\u001b[39;00m\u001b[38;5;124m,c=\u001b[39m\u001b[38;5;132;01m{\u001b[39;00mc\u001b[38;5;132;01m}\u001b[39;00m\u001b[38;5;124m,d=\u001b[39m\u001b[38;5;132;01m{\u001b[39;00md\u001b[38;5;132;01m}\u001b[39;00m\u001b[38;5;124m\"\u001b[39m)\n\u001b[0;32m      3\u001b[0m     \u001b[38;5;28mprint\u001b[39m(a\u001b[38;5;241m+\u001b[39mb\u001b[38;5;241m+\u001b[39mc\u001b[38;5;241m+\u001b[39md)\n\u001b[1;32m----> 4\u001b[0m add(c\u001b[38;5;241m=\u001b[39m\u001b[38;5;241m5\u001b[39m,b\u001b[38;5;241m=\u001b[39m\u001b[38;5;241m11\u001b[39m)\n",
      "\u001b[1;31mTypeError\u001b[0m: add() missing 1 required positional argument: 'a'"
     ]
    }
   ],
   "source": [
    "def add(a,b,c=0,d=0):\n",
    "    print(f\"a={a},b={b},c={c},d={d}\")\n",
    "    print(a+b+c+d)\n",
    "add(c=5,b=11)"
   ]
  },
  {
   "cell_type": "code",
   "execution_count": 69,
   "id": "1951d9fc-5ac6-4dab-bb6f-f64152b8210d",
   "metadata": {},
   "outputs": [],
   "source": [
    "# add 1 requried, optional: minimum =1 and maximum:?\n",
    "#def add(a,b=0,c=0,d=0,f=0,.....)\n",
    "# add(1)\n",
    "# add(1,2,3,4,5,6,7)\n",
    "# add(1,2,3,4,5,6,7,8,9,10,12,11,13,4,5,48,47,49,46,15,15,15,16,14,18,19,20,30)"
   ]
  },
  {
   "cell_type": "markdown",
   "id": "6d7edeca-d1cf-4799-974f-d8110eac02b4",
   "metadata": {},
   "source": [
    "### Arbitrary Arguments(*args)\n",
    "* If you do not know how many arguments that will be passed into your function, add a * before the parameter name in the function definition.\n",
    "* This way the function will receive a tuple of arguments, and can access the items accordingly:"
   ]
  },
  {
   "cell_type": "code",
   "execution_count": 13,
   "id": "59724dde-a825-49f4-b56a-05f1ec2cc79b",
   "metadata": {},
   "outputs": [
    {
     "name": "stdout",
     "output_type": "stream",
     "text": [
      "a=1,k=(2, 3, 4, 5, 6, 8, 9) <class 'tuple'>\n"
     ]
    }
   ],
   "source": [
    "# add 1 requried, optional: minimum =1 and maximum:?\n",
    "def add(a,*k):\n",
    "    print(f\"a={a},k={k}\",type(k))\n",
    "add(1,2,3,4,5,6,8,9)"
   ]
  },
  {
   "cell_type": "code",
   "execution_count": 15,
   "id": "ff6f0fb0-11d8-42c8-9094-c61c0c4a3fe2",
   "metadata": {},
   "outputs": [
    {
     "name": "stdout",
     "output_type": "stream",
     "text": [
      "a=1,k=() <class 'tuple'>\n"
     ]
    }
   ],
   "source": [
    "def add(a,*k):\n",
    "    print(f\"a={a},k={k}\",type(k))\n",
    "add(1) # k is empty so empty tuple"
   ]
  },
  {
   "cell_type": "code",
   "execution_count": 21,
   "id": "b534184d-ce72-4bbb-bbf3-c2b89b12db8b",
   "metadata": {},
   "outputs": [
    {
     "ename": "TypeError",
     "evalue": "add() got an unexpected keyword argument 'b'",
     "output_type": "error",
     "traceback": [
      "\u001b[1;31m---------------------------------------------------------------------------\u001b[0m",
      "\u001b[1;31mTypeError\u001b[0m                                 Traceback (most recent call last)",
      "Cell \u001b[1;32mIn[21], line 3\u001b[0m\n\u001b[0;32m      1\u001b[0m \u001b[38;5;28;01mdef\u001b[39;00m \u001b[38;5;21madd\u001b[39m(a,\u001b[38;5;241m*\u001b[39mk):\n\u001b[0;32m      2\u001b[0m     \u001b[38;5;28mprint\u001b[39m(\u001b[38;5;124mf\u001b[39m\u001b[38;5;124m\"\u001b[39m\u001b[38;5;124ma=\u001b[39m\u001b[38;5;132;01m{\u001b[39;00ma\u001b[38;5;132;01m}\u001b[39;00m\u001b[38;5;124m,k=\u001b[39m\u001b[38;5;132;01m{\u001b[39;00mk\u001b[38;5;132;01m}\u001b[39;00m\u001b[38;5;124m\"\u001b[39m,\u001b[38;5;28mtype\u001b[39m(k))\n\u001b[1;32m----> 3\u001b[0m add(a\u001b[38;5;241m=\u001b[39m\u001b[38;5;241m10\u001b[39m,b\u001b[38;5;241m=\u001b[39m\u001b[38;5;241m20\u001b[39m,c\u001b[38;5;241m=\u001b[39m\u001b[38;5;241m30\u001b[39m)\n",
      "\u001b[1;31mTypeError\u001b[0m: add() got an unexpected keyword argument 'b'"
     ]
    }
   ],
   "source": [
    "def add(a,*k):\n",
    "    print(f\"a={a},k={k}\",type(k))\n",
    "add(a=10,b=20,c=30,d=40)\n",
    "# Without passing the b parameter we can't pass keyword argument.\n",
    "# To pass extra keyword arguments we use **kwargs"
   ]
  },
  {
   "cell_type": "markdown",
   "id": "e3652cd9-e6bc-4cad-9b80-5718c852620b",
   "metadata": {},
   "source": [
    "### Arbitrary Keyword Arguments, **kwargs\n",
    "* If you do not know how many keyword arguments that will be passed into your function, add two asterisk: ** before the parameter name in the function definition.\n",
    "* This way the function will receive a dictionary of arguments, and can access the items accordingly:"
   ]
  },
  {
   "cell_type": "code",
   "execution_count": 19,
   "id": "49a3f193-3e9e-47ce-9598-8813dc5e9459",
   "metadata": {},
   "outputs": [
    {
     "name": "stdout",
     "output_type": "stream",
     "text": [
      "a=10,k={'b': 20, 'c': 30} <class 'dict'>\n"
     ]
    }
   ],
   "source": [
    "def add(a,**k):\n",
    "    print(f\"a={a},k={k}\",type(k))\n",
    "add(a=10,b=20,c=30)"
   ]
  },
  {
   "cell_type": "code",
   "execution_count": 75,
   "id": "329a50bc-511f-4de9-92f0-b4e56e22b0cb",
   "metadata": {},
   "outputs": [
    {
     "ename": "TypeError",
     "evalue": "add() takes 1 positional argument but 3 were given",
     "output_type": "error",
     "traceback": [
      "\u001b[1;31m---------------------------------------------------------------------------\u001b[0m",
      "\u001b[1;31mTypeError\u001b[0m                                 Traceback (most recent call last)",
      "Cell \u001b[1;32mIn[75], line 3\u001b[0m\n\u001b[0;32m      1\u001b[0m \u001b[38;5;28;01mdef\u001b[39;00m \u001b[38;5;21madd\u001b[39m(a,\u001b[38;5;241m*\u001b[39m\u001b[38;5;241m*\u001b[39mk):\n\u001b[0;32m      2\u001b[0m     \u001b[38;5;28mprint\u001b[39m(\u001b[38;5;124mf\u001b[39m\u001b[38;5;124m\"\u001b[39m\u001b[38;5;124ma=\u001b[39m\u001b[38;5;132;01m{\u001b[39;00ma\u001b[38;5;132;01m}\u001b[39;00m\u001b[38;5;124m,k=\u001b[39m\u001b[38;5;132;01m{\u001b[39;00mk\u001b[38;5;132;01m}\u001b[39;00m\u001b[38;5;124m\"\u001b[39m,\u001b[38;5;28mtype\u001b[39m(k))\n\u001b[1;32m----> 3\u001b[0m add(\u001b[38;5;241m10\u001b[39m,\u001b[38;5;241m20\u001b[39m,\u001b[38;5;241m30\u001b[39m)\n",
      "\u001b[1;31mTypeError\u001b[0m: add() takes 1 positional argument but 3 were given"
     ]
    }
   ],
   "source": [
    "def add(a,**k):\n",
    "    print(f\"a={a},k={k}\",type(k))\n",
    "add(10,20,30)"
   ]
  },
  {
   "cell_type": "code",
   "execution_count": 1,
   "id": "f7fabb73-8f93-4274-a139-1fdf4911f0f6",
   "metadata": {},
   "outputs": [
    {
     "name": "stdout",
     "output_type": "stream",
     "text": [
      "a=1, args=(), kwargs={}\n"
     ]
    }
   ],
   "source": [
    "def add(a,*args, **kwargs):\n",
    "    print(f\"a={a}, args={args}, kwargs={kwargs}\")\n",
    "add(1)"
   ]
  },
  {
   "cell_type": "code",
   "execution_count": 3,
   "id": "b23cc668-9824-4104-9021-8e186bffe0b6",
   "metadata": {},
   "outputs": [
    {
     "name": "stdout",
     "output_type": "stream",
     "text": [
      "a=1, args=(20, 30), kwargs={}\n"
     ]
    }
   ],
   "source": [
    "def add(a,*args, **kwargs):\n",
    "    print(f\"a={a}, args={args}, kwargs={kwargs}\")\n",
    "add(1,20,30)"
   ]
  },
  {
   "cell_type": "code",
   "execution_count": 5,
   "id": "74b1ab2e-286c-4552-b2e6-49bfa605bf75",
   "metadata": {},
   "outputs": [
    {
     "ename": "TypeError",
     "evalue": "add() got multiple values for argument 'a'",
     "output_type": "error",
     "traceback": [
      "\u001b[1;31m---------------------------------------------------------------------------\u001b[0m",
      "\u001b[1;31mTypeError\u001b[0m                                 Traceback (most recent call last)",
      "Cell \u001b[1;32mIn[5], line 3\u001b[0m\n\u001b[0;32m      1\u001b[0m \u001b[38;5;28;01mdef\u001b[39;00m \u001b[38;5;21madd\u001b[39m(a,\u001b[38;5;241m*\u001b[39margs, \u001b[38;5;241m*\u001b[39m\u001b[38;5;241m*\u001b[39mkwargs):\n\u001b[0;32m      2\u001b[0m     \u001b[38;5;28mprint\u001b[39m(\u001b[38;5;124mf\u001b[39m\u001b[38;5;124m\"\u001b[39m\u001b[38;5;124ma=\u001b[39m\u001b[38;5;132;01m{\u001b[39;00ma\u001b[38;5;132;01m}\u001b[39;00m\u001b[38;5;124m, args=\u001b[39m\u001b[38;5;132;01m{\u001b[39;00margs\u001b[38;5;132;01m}\u001b[39;00m\u001b[38;5;124m, kwargs=\u001b[39m\u001b[38;5;132;01m{\u001b[39;00mkwargs\u001b[38;5;132;01m}\u001b[39;00m\u001b[38;5;124m\"\u001b[39m)\n\u001b[1;32m----> 3\u001b[0m add(\u001b[38;5;241m1\u001b[39m,\u001b[38;5;241m20\u001b[39m,\u001b[38;5;241m30\u001b[39m,a\u001b[38;5;241m=\u001b[39m\u001b[38;5;241m23\u001b[39m)\n",
      "\u001b[1;31mTypeError\u001b[0m: add() got multiple values for argument 'a'"
     ]
    }
   ],
   "source": [
    "def add(a,*args, **kwargs):\n",
    "    print(f\"a={a}, args={args}, kwargs={kwargs}\")\n",
    "add(1,20,30,a=23)"
   ]
  },
  {
   "cell_type": "code",
   "execution_count": 7,
   "id": "cfe48893-08c1-42b6-a28c-a33f78b7a5b6",
   "metadata": {},
   "outputs": [
    {
     "name": "stdout",
     "output_type": "stream",
     "text": [
      "a=1, args=(20, 30), kwargs={'b': 23}\n"
     ]
    }
   ],
   "source": [
    "def add(a,*args, **kwargs):\n",
    "    print(f\"a={a}, args={args}, kwargs={kwargs}\")\n",
    "add(1,20,30,b=23)"
   ]
  },
  {
   "cell_type": "code",
   "execution_count": 11,
   "id": "6dcd36e7-3a21-4fcc-9cce-2a3cdf60d127",
   "metadata": {},
   "outputs": [
    {
     "ename": "SyntaxError",
     "evalue": "positional argument follows keyword argument (1580680932.py, line 3)",
     "output_type": "error",
     "traceback": [
      "\u001b[1;36m  Cell \u001b[1;32mIn[11], line 3\u001b[1;36m\u001b[0m\n\u001b[1;33m    add(a=1,20,30,b=23)\u001b[0m\n\u001b[1;37m                      ^\u001b[0m\n\u001b[1;31mSyntaxError\u001b[0m\u001b[1;31m:\u001b[0m positional argument follows keyword argument\n"
     ]
    }
   ],
   "source": [
    "def add(a,*args, **kwargs):\n",
    "    print(f\"a={a}, args={args}, kwargs={kwargs}\")\n",
    "add(a=1,20,30,b=23)"
   ]
  },
  {
   "cell_type": "code",
   "execution_count": 13,
   "id": "9b746bc5-630d-46ad-b8d3-b5276f6841db",
   "metadata": {},
   "outputs": [
    {
     "ename": "TypeError",
     "evalue": "add() got multiple values for argument 'a'",
     "output_type": "error",
     "traceback": [
      "\u001b[1;31m---------------------------------------------------------------------------\u001b[0m",
      "\u001b[1;31mTypeError\u001b[0m                                 Traceback (most recent call last)",
      "Cell \u001b[1;32mIn[13], line 3\u001b[0m\n\u001b[0;32m      1\u001b[0m \u001b[38;5;28;01mdef\u001b[39;00m \u001b[38;5;21madd\u001b[39m(a,\u001b[38;5;241m*\u001b[39margs, \u001b[38;5;241m*\u001b[39m\u001b[38;5;241m*\u001b[39mkwargs):\n\u001b[0;32m      2\u001b[0m     \u001b[38;5;28mprint\u001b[39m(\u001b[38;5;124mf\u001b[39m\u001b[38;5;124m\"\u001b[39m\u001b[38;5;124ma=\u001b[39m\u001b[38;5;132;01m{\u001b[39;00ma\u001b[38;5;132;01m}\u001b[39;00m\u001b[38;5;124m, args=\u001b[39m\u001b[38;5;132;01m{\u001b[39;00margs\u001b[38;5;132;01m}\u001b[39;00m\u001b[38;5;124m, kwargs=\u001b[39m\u001b[38;5;132;01m{\u001b[39;00mkwargs\u001b[38;5;132;01m}\u001b[39;00m\u001b[38;5;124m\"\u001b[39m)\n\u001b[1;32m----> 3\u001b[0m add(\u001b[38;5;241m20\u001b[39m,\u001b[38;5;241m30\u001b[39m,a\u001b[38;5;241m=\u001b[39m\u001b[38;5;241m23\u001b[39m,b\u001b[38;5;241m=\u001b[39m\u001b[38;5;241m59\u001b[39m)\n",
      "\u001b[1;31mTypeError\u001b[0m: add() got multiple values for argument 'a'"
     ]
    }
   ],
   "source": [
    "def add(a,*args, **kwargs):\n",
    "    print(f\"a={a}, args={args}, kwargs={kwargs}\")\n",
    "add(20,30,23,b=59)"
   ]
  },
  {
   "cell_type": "markdown",
   "id": "ca00d5cb-1776-47d4-ab28-996b068efc5f",
   "metadata": {},
   "source": [
    "* when defining a function, the parameters must follow a specific sequential order to avoid ambiguity. The order of parameters is:\n",
    "\n",
    "    * Positional arguments (normal parameters)\n",
    "    * *args (variable-length positional arguments)\n",
    "    * Default parameters (optional parameters with default values)\n",
    "    * Keyword arguments (kwargs) (variable-length keyword arguments)"
   ]
  },
  {
   "cell_type": "code",
   "execution_count": 16,
   "id": "3f2e6e67-6c5e-4b5c-ac08-75b25395982a",
   "metadata": {},
   "outputs": [
    {
     "name": "stdout",
     "output_type": "stream",
     "text": [
      "Positional arguments: 1, 2\n",
      "Variable-length positional arguments (*args): (3, 4)\n",
      "Default arguments: default1=30, default2=20\n",
      "Keyword arguments (**kwargs): {'other_key': 'value'}\n"
     ]
    }
   ],
   "source": [
    "def example_function(pos1, pos2, *args, default1=10, default2=20, **kwargs):\n",
    "    print(f\"Positional arguments: {pos1}, {pos2}\")\n",
    "    print(f\"Variable-length positional arguments (*args): {args}\")\n",
    "    print(f\"Default arguments: default1={default1}, default2={default2}\")\n",
    "    print(f\"Keyword arguments (**kwargs): {kwargs}\")\n",
    "example_function(1, 2, 3, 4, default1=30, other_key=\"value\")"
   ]
  },
  {
   "cell_type": "code",
   "execution_count": 18,
   "id": "126471a0-7175-4df9-a838-dc9572c1254e",
   "metadata": {},
   "outputs": [
    {
     "name": "stdout",
     "output_type": "stream",
     "text": [
      "10\n",
      "200\n",
      "1000\n"
     ]
    }
   ],
   "source": [
    "x = 1000\n",
    "def fun(x,y):\n",
    "    print(x)\n",
    "    x = 200\n",
    "    print(x)\n",
    "fun(10,20)\n",
    "print(x)"
   ]
  },
  {
   "cell_type": "code",
   "execution_count": 20,
   "id": "30bf5693-6e88-42f7-a86a-dd04847cfd3c",
   "metadata": {},
   "outputs": [
    {
     "name": "stdout",
     "output_type": "stream",
     "text": [
      "[20, 2, 3, 4, 5]\n"
     ]
    }
   ],
   "source": [
    "l = [1,2,3,4,5]\n",
    "def fun(x):\n",
    "    x[0]=20\n",
    "fun(l)\n",
    "print(l)"
   ]
  },
  {
   "cell_type": "code",
   "execution_count": 22,
   "id": "a4e63f66-60f2-4def-8f20-c1e360797835",
   "metadata": {},
   "outputs": [
    {
     "name": "stdout",
     "output_type": "stream",
     "text": [
      "0\n"
     ]
    }
   ],
   "source": [
    "k = 0\n",
    "def fun(x):\n",
    "    x=20\n",
    "fun(k)\n",
    "print(k)"
   ]
  },
  {
   "cell_type": "code",
   "execution_count": 24,
   "id": "c3997ce9-19bb-4912-8165-6e36a8857d1c",
   "metadata": {},
   "outputs": [
    {
     "name": "stdout",
     "output_type": "stream",
     "text": [
      "<function add at 0x00000266AF1BA160>\n",
      "<class 'function'>\n",
      "2640047743328\n"
     ]
    }
   ],
   "source": [
    "def add(x,y):\n",
    "    print(x+y)\n",
    "print(add)\n",
    "print(type(add))\n",
    "print(id(add))"
   ]
  },
  {
   "cell_type": "code",
   "execution_count": 26,
   "id": "c3eb470a-1a47-4e11-a68c-679f9cb5185c",
   "metadata": {},
   "outputs": [
    {
     "name": "stdout",
     "output_type": "stream",
     "text": [
      "0\n",
      "<function add at 0x00000266AC976700>\n"
     ]
    }
   ],
   "source": [
    "k=0\n",
    "def add():\n",
    "    print(\"hello\")\n",
    "s=k\n",
    "s1=add\n",
    "print(s)\n",
    "print(s1)"
   ]
  },
  {
   "cell_type": "code",
   "execution_count": 28,
   "id": "d92ff337-f051-4398-ac95-f019f792448f",
   "metadata": {},
   "outputs": [
    {
     "name": "stdout",
     "output_type": "stream",
     "text": [
      "0\n",
      "<function add at 0x00000266AF1B99E0>\n",
      "hello\n"
     ]
    }
   ],
   "source": [
    "k=0\n",
    "def add():\n",
    "    print(\"hello\")\n",
    "s=k\n",
    "s1=add\n",
    "print(s)\n",
    "print(s1)\n",
    "s1()"
   ]
  },
  {
   "cell_type": "code",
   "execution_count": 30,
   "id": "f5f27f71-9eae-4f12-963d-6b3bc64c45e9",
   "metadata": {},
   "outputs": [
    {
     "name": "stdout",
     "output_type": "stream",
     "text": [
      "a=1000, b=2000\n",
      "3000\n",
      "DONE\n"
     ]
    }
   ],
   "source": [
    "x=1000\n",
    "y=2000\n",
    "a=1\n",
    "def add(a,b):\n",
    "    print(f\"a={a}, b={b}\")\n",
    "    z=a+b\n",
    "    x=10\n",
    "    print(z)\n",
    "add(x,y)\n",
    "print(\"DONE\")"
   ]
  },
  {
   "cell_type": "code",
   "execution_count": 32,
   "id": "dc2134cb-0139-4f48-a874-e37ad0ac1a09",
   "metadata": {},
   "outputs": [
    {
     "name": "stdout",
     "output_type": "stream",
     "text": [
      "1000\n"
     ]
    }
   ],
   "source": [
    "k=1000\n",
    "z=3000\n",
    "def fun(x):\n",
    "    x=z\n",
    "fun(k)\n",
    "print(k)"
   ]
  },
  {
   "cell_type": "code",
   "execution_count": 34,
   "id": "048e072e-3865-4c26-a4f3-949b93f4629a",
   "metadata": {},
   "outputs": [
    {
     "name": "stdout",
     "output_type": "stream",
     "text": [
      "1000\n",
      "3000\n"
     ]
    }
   ],
   "source": [
    "k=1000\n",
    "z=3000\n",
    "def fun(x):\n",
    "    z=x\n",
    "fun(k)\n",
    "print(k)\n",
    "print(z)"
   ]
  },
  {
   "cell_type": "code",
   "execution_count": 36,
   "id": "6aa81169-9d0e-47fb-a0ec-450160d1f4e3",
   "metadata": {},
   "outputs": [
    {
     "name": "stdout",
     "output_type": "stream",
     "text": [
      "inside fun x=10, y=20, z=3000\n",
      "1000 2000 3000\n",
      "outside fun x=1000, y=2000, z=3000\n"
     ]
    }
   ],
   "source": [
    "x=1000\n",
    "y=2000\n",
    "z=3000\n",
    "def fun(a,b):\n",
    "    c=a+b\n",
    "    x=10\n",
    "    y=20\n",
    "    print(f\"inside fun x={x}, y={y}, z={z}\")\n",
    "fun(x,y)\n",
    "print(x,y,z)\n",
    "print(f\"outside fun x={x}, y={y}, z={z}\")"
   ]
  },
  {
   "cell_type": "markdown",
   "id": "7cc3e332-f65e-4d3f-b1e3-a66c7fddba23",
   "metadata": {},
   "source": [
    "### Return Values\n",
    "* If a function call is assigned to a reference, the function returns a value, and that value is referred to by the reference."
   ]
  },
  {
   "cell_type": "code",
   "execution_count": 2,
   "id": "d208424a-3dd3-4ed6-8b05-cd5f66251871",
   "metadata": {},
   "outputs": [
    {
     "name": "stdout",
     "output_type": "stream",
     "text": [
      "None None None\n"
     ]
    }
   ],
   "source": [
    "def add(x,y):\n",
    "    z =x+y\n",
    "def sub(x,y):\n",
    "    z =x-y\n",
    "def mul(x,y):\n",
    "    z =x*y\n",
    "res1 = add(10,20)# Function call....\n",
    "res2 = sub(10,20)\n",
    "res3 = mul(10,20)\n",
    "print(res1,res2,res3)"
   ]
  },
  {
   "cell_type": "code",
   "execution_count": 4,
   "id": "74d13bac-d36f-45eb-97a6-daa9f7fe3ad3",
   "metadata": {},
   "outputs": [
    {
     "name": "stdout",
     "output_type": "stream",
     "text": [
      "x=10,y=20,z=30\n",
      "x=10,y=20,z=-10\n",
      "x=10,y=20,z=200\n",
      "None None None\n"
     ]
    }
   ],
   "source": [
    "def add(x,y):\n",
    "    z =x+y\n",
    "    print(f\"x={x},y={y},z={z}\")\n",
    "def sub(x,y):\n",
    "    z =x-y\n",
    "    print(f\"x={x},y={y},z={z}\")\n",
    "def mul(x,y):\n",
    "    z =x*y\n",
    "    print(f\"x={x},y={y},z={z}\")\n",
    "res1 = add(10,20)\n",
    "res2 = sub(10,20)\n",
    "res3 = mul(10,20)\n",
    "print(res1,res2,res3)"
   ]
  },
  {
   "cell_type": "code",
   "execution_count": 6,
   "id": "bb34816a-b641-4a8f-990f-3141f0b49304",
   "metadata": {},
   "outputs": [
    {
     "name": "stdout",
     "output_type": "stream",
     "text": [
      "x=10,y=20,z=30\n",
      "x=10,y=20,z=-10\n",
      "x=10,y=20,z=200\n",
      "A B C\n"
     ]
    }
   ],
   "source": [
    "def add(x,y):\n",
    "    z =x+y\n",
    "    print(f\"x={x},y={y},z={z}\")\n",
    "    return 'A'\n",
    "def sub(x,y):\n",
    "    z =x-y\n",
    "    print(f\"x={x},y={y},z={z}\")\n",
    "    return 'B'\n",
    "def mul(x,y):\n",
    "    z =x*y\n",
    "    print(f\"x={x},y={y},z={z}\")\n",
    "    return 'C'\n",
    "res1 = add(10,20)\n",
    "res2 = sub(10,20)\n",
    "res3 = mul(10,20)\n",
    "print(res1,res2,res3)"
   ]
  },
  {
   "cell_type": "code",
   "execution_count": 8,
   "id": "190b6e18-bbeb-480d-a204-64d12fb80aeb",
   "metadata": {},
   "outputs": [
    {
     "name": "stdout",
     "output_type": "stream",
     "text": [
      "result= 3\n",
      "res= None\n"
     ]
    }
   ],
   "source": [
    "def add(x,y):# x=1,y=2\n",
    "    z=x+y#z=1+2=3\n",
    "    print(\"result=\",z)#result=3\n",
    "res= add(1,2)# returns none to res. default return statement is 'return None'\n",
    "print(\"res=\",res)# res=None"
   ]
  },
  {
   "cell_type": "code",
   "execution_count": 10,
   "id": "156ef075-1e1c-493c-b32d-88bf3cf086e5",
   "metadata": {},
   "outputs": [
    {
     "name": "stdout",
     "output_type": "stream",
     "text": [
      "result= 3\n",
      "res= 3\n"
     ]
    }
   ],
   "source": [
    "def add(x,y):# x=1,y=2\n",
    "    z=x+y#z=1+2=3\n",
    "    print(\"result=\",z)#result=3\n",
    "    return z\n",
    "res= add(1,2)# returns to res z value i.e; 3\n",
    "print(\"res=\",res)# res=3"
   ]
  },
  {
   "cell_type": "code",
   "execution_count": 3,
   "id": "fc2dc76b-5be6-4a7a-b249-ef4ee4766692",
   "metadata": {},
   "outputs": [
    {
     "name": "stdout",
     "output_type": "stream",
     "text": [
      "result= -5\n"
     ]
    }
   ],
   "source": [
    "def operations(x,y):\n",
    "    z = x+y\n",
    "    a = x-y\n",
    "    b = x*y\n",
    "    return a\n",
    "res = operations(4,9)\n",
    "print(\"result=\",res)"
   ]
  },
  {
   "cell_type": "code",
   "execution_count": 5,
   "id": "f4fbb211-33de-46d2-842b-0ccfa23529f2",
   "metadata": {},
   "outputs": [
    {
     "name": "stdout",
     "output_type": "stream",
     "text": [
      "result= (-5, 36, 13)\n"
     ]
    }
   ],
   "source": [
    "def operations(x,y):\n",
    "    z = x+y\n",
    "    a = x-y\n",
    "    b = x*y\n",
    "    return a,b,z\n",
    "res = operations(4,9)\n",
    "print(\"result=\",res)"
   ]
  },
  {
   "cell_type": "markdown",
   "id": "c3d53270-42c5-4eb1-84c9-172b58ef82a1",
   "metadata": {},
   "source": [
    "* When a return statement is encountered, the function immediately ends, and the value (if any) provided by the return is sent back to the `caller`.\n",
    "* No further lines inside the function will be executed after the return."
   ]
  },
  {
   "cell_type": "code",
   "execution_count": 7,
   "id": "7dd2a0b1-a584-4323-b5d8-48a285ef0b48",
   "metadata": {},
   "outputs": [
    {
     "name": "stdout",
     "output_type": "stream",
     "text": [
      "Hello\n",
      "result= 13\n"
     ]
    }
   ],
   "source": [
    "def operations(x,y):\n",
    "    z = x+y\n",
    "    print('Hello')\n",
    "    return z\n",
    "    a = x-y\n",
    "    print('Hi')\n",
    "    return a\n",
    "    b = x*y\n",
    "    print('bye')\n",
    "    return z\n",
    "res = operations(4,9)\n",
    "print(\"result=\",res)"
   ]
  },
  {
   "cell_type": "markdown",
   "id": "7f09c0d9-8cf4-4689-a2a0-fb2a8a11e629",
   "metadata": {},
   "source": [
    "* The function prints \"Before return\".\n",
    "* When the return is encountered, the function exits, and \"Exited the function\" is returned.\n",
    "* The line \"After return\" is never executed because the function has already exited."
   ]
  },
  {
   "cell_type": "code",
   "execution_count": 12,
   "id": "2d655a2d-94f7-4929-875c-8885182d86c5",
   "metadata": {},
   "outputs": [
    {
     "name": "stdout",
     "output_type": "stream",
     "text": [
      "Hi\n",
      "RESULT= HELLO\n",
      "Hi\n",
      "RESULT= HYD\n"
     ]
    }
   ],
   "source": [
    "def fun(x):\n",
    "    print(\"Hi\")\n",
    "    if x>0:\n",
    "        return \"HELLO\"\n",
    "        print(\"H\")\n",
    "    else:\n",
    "        return \"HYD\"\n",
    "        print(\"I\")\n",
    "res = fun(10)\n",
    "print(\"RESULT=\",res)\n",
    "res1=fun(-10)\n",
    "print(\"RESULT=\", res1)"
   ]
  },
  {
   "cell_type": "code",
   "execution_count": 16,
   "id": "99f93e2d-bfb0-4df1-9aae-d193b5c6565e",
   "metadata": {},
   "outputs": [
    {
     "name": "stdin",
     "output_type": "stream",
     "text": [
      "Enter number of people: 800\n",
      "Enter number of seats per bus: 20\n"
     ]
    },
    {
     "name": "stdout",
     "output_type": "stream",
     "text": [
      "40.0\n"
     ]
    }
   ],
   "source": [
    "def get_required_buses(no_of_people,no_of_seats_per_bus):\n",
    "    if no_of_people:\n",
    "        no_of_people = float(no_of_people)\n",
    "    else:\n",
    "        no_of_people = 0\n",
    "    if no_of_seats_per_bus:\n",
    "        no_of_seats_per_bus = float(no_of_seats_per_bus)\n",
    "    else:\n",
    "        no_of_seats_per_bus = 1\n",
    "    no_of_buses_required = no_of_people/no_of_seats_per_bus\n",
    "    return no_of_buses_required\n",
    "no_of_people = input(\"Enter number of people:\")\n",
    "no_of_seats_per_bus = input(\"Enter number of seats per bus:\")\n",
    "no_of_buses = get_required_buses(no_of_people,no_of_seats_per_bus)\n",
    "print(no_of_buses)"
   ]
  },
  {
   "cell_type": "markdown",
   "id": "8d757fef-ed59-4f84-bf1e-ac0c56504c47",
   "metadata": {},
   "source": [
    "### Global Variables\n",
    "* Variables that are created outside of a function (as in all of the examples in the previous pages) are known as global variables.\n",
    "* Global variables can be used by everyone, both inside of functions and outside."
   ]
  },
  {
   "cell_type": "code",
   "execution_count": 19,
   "id": "56f8e425-83a0-43ee-be7e-5616175a3c23",
   "metadata": {},
   "outputs": [
    {
     "name": "stdout",
     "output_type": "stream",
     "text": [
      "Python is awesome\n"
     ]
    }
   ],
   "source": [
    "x = \"awesome\"\n",
    "def myfunc():\n",
    "  print(\"Python is \" + x)\n",
    "myfunc()"
   ]
  },
  {
   "cell_type": "code",
   "execution_count": 23,
   "id": "617fce2d-ae52-4fd7-8163-aafed488a688",
   "metadata": {},
   "outputs": [
    {
     "name": "stdout",
     "output_type": "stream",
     "text": [
      "Python is fantastic\n",
      "Python is awesome\n"
     ]
    }
   ],
   "source": [
    "x = \"awesome\"\n",
    "def myfunc():\n",
    "    x = 'fantastic'\n",
    "    print(\"Python is \" + x)\n",
    "myfunc()\n",
    "print(\"Python is \" + x)"
   ]
  },
  {
   "cell_type": "markdown",
   "id": "18dd55c7-af7b-4b83-b025-2bc7cf70c4a8",
   "metadata": {},
   "source": [
    "### The global Keyword\n",
    "* Normally, when you create a variable inside a function, that variable is local, and can only be used inside that function.\n",
    "* To create a global variable inside a function, you can use the global keyword.\n",
    "* If you use the global keyword, the variable belongs to the global scope."
   ]
  },
  {
   "cell_type": "code",
   "execution_count": 30,
   "id": "06bab9bb-2537-4aab-9546-eff73d3d5bed",
   "metadata": {},
   "outputs": [
    {
     "name": "stdout",
     "output_type": "stream",
     "text": [
      "Python is fantastic\n"
     ]
    }
   ],
   "source": [
    "def myfunc():\n",
    "  global x\n",
    "  x = \"fantastic\"\n",
    "myfunc()\n",
    "print(\"Python is \" + x)"
   ]
  },
  {
   "cell_type": "markdown",
   "id": "af4be58e-a0e0-4673-9c9a-abe0d434ec31",
   "metadata": {},
   "source": [
    "* Also, use the global keyword if you want to change a global variable inside a function.\n",
    "* To change the value of a global variable inside a function, refer to the variable by using the global keyword"
   ]
  },
  {
   "cell_type": "code",
   "execution_count": 28,
   "id": "e429b318-5b0f-40e9-8ec9-3e87a928e790",
   "metadata": {},
   "outputs": [
    {
     "name": "stdout",
     "output_type": "stream",
     "text": [
      "Python is fantastic\n",
      "Python is fantastic\n"
     ]
    }
   ],
   "source": [
    "x = \"awesome\"\n",
    "def myfunc():\n",
    "    global x\n",
    "    x = 'fantastic'\n",
    "    print(\"Python is \" + x)\n",
    "myfunc()\n",
    "print(\"Python is \" + x)"
   ]
  },
  {
   "cell_type": "code",
   "execution_count": 33,
   "id": "42a9067d-401f-4f9b-a595-f9d9e9707cd9",
   "metadata": {
    "scrolled": true
   },
   "outputs": [
    {
     "name": "stdout",
     "output_type": "stream",
     "text": [
      "values before function definition: x=1000,y=2000,z=3000\n",
      "result= 579\n",
      "values with function definition: x=5000,y=6000,z=7000\n",
      "values after function call: x=5000,y=2000,z=3000\n",
      "579\n"
     ]
    }
   ],
   "source": [
    "x = 1000\n",
    "y = 2000\n",
    "z = 3000\n",
    "print(f\"values before function definition: x={x},y={y},z={z}\")\n",
    "def fun(a,b):\n",
    "    global x\n",
    "    x = 5000\n",
    "    y = 6000\n",
    "    z = 7000\n",
    "    c = a+b\n",
    "    print(\"result=\",c)\n",
    "    print(f\"values with function definition: x={x},y={y},z={z}\")\n",
    "    return c\n",
    "res = fun(123,456)\n",
    "print(f\"values after function call: x={x},y={y},z={z}\")\n",
    "print(res)"
   ]
  },
  {
   "cell_type": "markdown",
   "id": "11a39282-320e-49be-b8c9-f121d5a07839",
   "metadata": {},
   "source": [
    "### yield Keyword:\n",
    "* The `yield` keyword is used to return a list of values from a function.\n",
    "* Unlike the `return` keyword which stops further execution of the function, the `yield` keyword continues to the end of the function.\n",
    "* When you call a function with `yield` keyword(s), the `return` value will be a list of values, one for each `yield`.d."
   ]
  },
  {
   "cell_type": "code",
   "execution_count": 3,
   "id": "af411e7f-cd6e-47d5-9212-d7eaffd856a8",
   "metadata": {},
   "outputs": [
    {
     "name": "stdout",
     "output_type": "stream",
     "text": [
      "program started\n",
      "<generator object fun at 0x000001F3B1B8E500>\n",
      "program ended\n"
     ]
    }
   ],
   "source": [
    "print(\"program started\")\n",
    "def fun():\n",
    "    print(\"hello\")\n",
    "    yield 10\n",
    "    print(\"hi\")\n",
    "    yield 20\n",
    "    print(\"bye\")\n",
    "    yield 30\n",
    "res = fun()\n",
    "print(res)\n",
    "print(\"program ended\")"
   ]
  },
  {
   "cell_type": "code",
   "execution_count": 5,
   "id": "99a84193-24df-4c16-84e9-234172bc4e48",
   "metadata": {},
   "outputs": [
    {
     "name": "stdout",
     "output_type": "stream",
     "text": [
      "program started\n",
      "<generator object fun at 0x000001F3AF35D300>\n",
      "hello\n",
      "r1= 10\n",
      "program ended\n"
     ]
    }
   ],
   "source": [
    "print(\"program started\")\n",
    "def fun():\n",
    "    print(\"hello\")\n",
    "    yield 10\n",
    "    print(\"hi\")\n",
    "    yield 20\n",
    "    print(\"bye\")\n",
    "    yield 30\n",
    "res = fun()\n",
    "print(res)\n",
    "r1 = next(res)\n",
    "print(\"r1=\",r1)\n",
    "print(\"program ended\")"
   ]
  },
  {
   "cell_type": "code",
   "execution_count": 13,
   "id": "bdd72d52-87fc-4ea9-a684-f2831dffe58a",
   "metadata": {},
   "outputs": [
    {
     "name": "stdout",
     "output_type": "stream",
     "text": [
      "program started\n",
      "<generator object fun at 0x000001F3AF35C280>\n",
      "hello\n",
      "r1= 10\n",
      "hi\n",
      "r2= 20\n",
      "program ended\n"
     ]
    }
   ],
   "source": [
    "print(\"program started\")\n",
    "def fun():\n",
    "    print(\"hello\")\n",
    "    yield 10\n",
    "    print(\"hi\")\n",
    "    yield 20\n",
    "    print(\"bye\")\n",
    "    yield 30\n",
    "res = fun() # it will create a generator object, that object is refered by \"res\"\n",
    "print(res)\n",
    "r1 = next(res)\n",
    "print(\"r1=\",r1)\n",
    "r2 = next(res)\n",
    "print(\"r2=\",r2)\n",
    "print(\"program ended\")"
   ]
  },
  {
   "cell_type": "code",
   "execution_count": 9,
   "id": "b61487c6-c753-4902-af64-31454ad2fe54",
   "metadata": {},
   "outputs": [
    {
     "name": "stdout",
     "output_type": "stream",
     "text": [
      "program started\n",
      "<generator object fun at 0x000001F3B1B8E740>\n",
      "hello\n",
      "r1= 10\n",
      "hi\n",
      "r2= 20\n",
      "bye\n",
      "r3= 30\n",
      "program ended\n"
     ]
    }
   ],
   "source": [
    "print(\"program started\")\n",
    "def fun():\n",
    "    print(\"hello\")\n",
    "    yield 10\n",
    "    print(\"hi\")\n",
    "    yield 20\n",
    "    print(\"bye\")\n",
    "    yield 30\n",
    "res = fun()\n",
    "print(res)\n",
    "r1 = next(res)\n",
    "print(\"r1=\",r1)\n",
    "r2 = next(res)\n",
    "print(\"r2=\",r2)\n",
    "r3 = next(res)\n",
    "print(\"r3=\",r3)\n",
    "print(\"program ended\")"
   ]
  },
  {
   "cell_type": "code",
   "execution_count": 11,
   "id": "53375011-8f99-4ab4-8f2f-eec6c71340dc",
   "metadata": {},
   "outputs": [
    {
     "name": "stdout",
     "output_type": "stream",
     "text": [
      "program started\n",
      "<generator object fun at 0x000001F3AF35D6C0>\n",
      "hello\n",
      "r1= 10\n",
      "hi\n",
      "r2= 20\n",
      "bye\n",
      "r3= 30\n"
     ]
    },
    {
     "ename": "StopIteration",
     "evalue": "",
     "output_type": "error",
     "traceback": [
      "\u001b[1;31m---------------------------------------------------------------------------\u001b[0m",
      "\u001b[1;31mStopIteration\u001b[0m                             Traceback (most recent call last)",
      "Cell \u001b[1;32mIn[11], line 17\u001b[0m\n\u001b[0;32m     15\u001b[0m r3 \u001b[38;5;241m=\u001b[39m \u001b[38;5;28mnext\u001b[39m(res)\n\u001b[0;32m     16\u001b[0m \u001b[38;5;28mprint\u001b[39m(\u001b[38;5;124m\"\u001b[39m\u001b[38;5;124mr3=\u001b[39m\u001b[38;5;124m\"\u001b[39m,r3)\n\u001b[1;32m---> 17\u001b[0m r4 \u001b[38;5;241m=\u001b[39m \u001b[38;5;28mnext\u001b[39m(res)\n\u001b[0;32m     18\u001b[0m \u001b[38;5;28mprint\u001b[39m(\u001b[38;5;124m\"\u001b[39m\u001b[38;5;124mr4=\u001b[39m\u001b[38;5;124m\"\u001b[39m,r4)\n\u001b[0;32m     19\u001b[0m \u001b[38;5;28mprint\u001b[39m(\u001b[38;5;124m\"\u001b[39m\u001b[38;5;124mprogram ended\u001b[39m\u001b[38;5;124m\"\u001b[39m)\n",
      "\u001b[1;31mStopIteration\u001b[0m: "
     ]
    }
   ],
   "source": [
    "print(\"program started\")\n",
    "def fun():\n",
    "    print(\"hello\")\n",
    "    yield 10\n",
    "    print(\"hi\")\n",
    "    yield 20\n",
    "    print(\"bye\")\n",
    "    yield 30\n",
    "res = fun()\n",
    "print(res)\n",
    "r1 = next(res)\n",
    "print(\"r1=\",r1)\n",
    "r2 = next(res)\n",
    "print(\"r2=\",r2)\n",
    "r3 = next(res)\n",
    "print(\"r3=\",r3)\n",
    "r4 = next(res)\n",
    "print(\"r4=\",r4)\n",
    "print(\"program ended\")"
   ]
  },
  {
   "cell_type": "code",
   "execution_count": 15,
   "id": "a088a4bc-209d-4902-a0c6-eba10e1220ce",
   "metadata": {},
   "outputs": [
    {
     "name": "stdout",
     "output_type": "stream",
     "text": [
      "program started\n",
      "hello\n",
      "k= 10\n",
      "hello\n",
      "hi\n",
      "k= 20\n",
      "hello\n",
      "bye\n",
      "k= 30\n",
      "hello\n",
      "program ended\n"
     ]
    }
   ],
   "source": [
    "# It throws an error if there is no yields further then we can use for loop. for iteration of function.\n",
    "print(\"program started\")\n",
    "def fun():\n",
    "    print(\"hello\")\n",
    "    yield 10\n",
    "    print(\"hi\")\n",
    "    yield 20\n",
    "    print(\"bye\")\n",
    "    yield 30\n",
    "res = fun()\n",
    "for k in res:\n",
    "    print(\"k=\",k)\n",
    "    print(\"hello\")\n",
    "print(\"program ended\")"
   ]
  },
  {
   "cell_type": "code",
   "execution_count": null,
   "id": "9e170201-86f4-49e5-bfa1-494225d407f8",
   "metadata": {},
   "outputs": [],
   "source": []
  }
 ],
 "metadata": {
  "kernelspec": {
   "display_name": "Python 3 (ipykernel)",
   "language": "python",
   "name": "python3"
  },
  "language_info": {
   "codemirror_mode": {
    "name": "ipython",
    "version": 3
   },
   "file_extension": ".py",
   "mimetype": "text/x-python",
   "name": "python",
   "nbconvert_exporter": "python",
   "pygments_lexer": "ipython3",
   "version": "3.12.4"
  }
 },
 "nbformat": 4,
 "nbformat_minor": 5
}

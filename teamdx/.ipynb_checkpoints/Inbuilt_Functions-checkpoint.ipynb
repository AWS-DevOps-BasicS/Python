{
 "cells": [
  {
   "cell_type": "markdown",
   "id": "2c3ee5d8-75b4-47eb-85f6-5c921afe5797",
   "metadata": {},
   "source": [
    "## Inbuilt functions:\n",
    "### String:\n",
    "| Method        | Description                                                        |\r\n",
    "|---------------|--------------------------------------------------------------------|\r\n",
    "| `capitalize()`| Converts the first character to upper case                         |\r\n",
    "| `casefold()`  | Converts string into lower case                                    |\r\n",
    "| `center()`    | Returns a centered string                                          |\r\n",
    "| `count()`     | Returns the number of times a specified value occurs in a string   |\r\n",
    "| `encode()`    | Returns an encoded version of the string                           |\r\n",
    "| `endswith()`  | Returns true if the string ends with the specified value           |\r\n",
    "| `expandtabs()`| Sets the tab size of the string                                    |\r\n",
    "| `find()`      | Searches the string for a specified value and returns its position |\r\n",
    "| `format()`    | Formats specified values in a string                               |\r\n",
    "| `format_map()`| Formats specified values in a string                               |\r\n",
    "| `index()`     | Searches the string for a specified value and returns its position |\r\n",
    "| `isalnum()`   | Returns True if all characters in the string are alphanumeric       |\r\n",
    "| `isalpha()`   | Returns True if all characters in the string are in the alphabet   |\r\n",
    "| `isascii()`   | Returns True if all characters in the string are ascii characters  |\r\n",
    "| `isdecimal()` | Returns True if all characters in the string are decimals          |\r\n",
    "| `isdigit()`   | Returns True if all characters in the string are digits            |\r\n",
    "| `isidentifier()`| Returns True if the string is an identifier                      |\r\n",
    "| `islower()`   | Returns True if all characters in the string are lower case        |\r\n",
    "| `isnumeric()` | Returns True if all characters in the string are numeric           |\r\n",
    "| `isprintable()`| Returns True if all characters in the string are printable        |\r\n",
    "| `isspace()`   | Returns True if all characters in the string are whitespaces       |\r\n",
    "| `istitle()`   | Returns True if the string follows the rules of a title            |\r\n",
    "| `isupper()`   | Returns True if all characters in the string are upper case        |\r\n",
    "| `join()`      | Converts the elements of an iterable into a string                 |\r\n",
    "| `ljust()`     | Returns a left justified version of the string                    |\r\n",
    "| `lower()`     | Converts a string into lower case                                  |\r\n",
    "| `lstrip()`    | Returns a left trim version of the string                          |\r\n",
    "| `maketrans()` | Returns a translation table to be used in translations             |\r\n",
    "| `partition()` | Returns a tuple where the string is parted into three parts        |\r\n",
    "| `replace()`   | Returns a string where a specified value is replaced               |\r\n",
    "| `rfind()`     | Searches for a specified value and returns the last position       |\r\n",
    "| `rindex()`    | Searches for a specified value and returns the last position       |\r\n",
    "| `rjust()`     | Returns a right justified version of the string                   |\r\n",
    "| `rpartition()`| Returns a tuple where the string is parted into three parts        |\r\n",
    "| `rsplit()`    | Splits the string at the specified separator and returns a list    |\r\n",
    "| `rstrip()`    | Returns a right trim version of the string                         |\r\n",
    "| `split()`     | Splits the string at the specified separator and returns a list    |\r\n",
    "| `splitlines()`| Splits the string at line breaks and returns a list                |\r\n",
    "| `startswith()`| Returns true if the string starts with the specified value         |\r\n",
    "| `strip()`     | Returns a trimmed version of the string                            |\r\n",
    "| `swapcase()`  | Swaps cases, lower case becomes upper case and vice versa          |\r\n",
    "| `title()`     | Converts the first character of each word to upper case            |\r\n",
    "| `translate()` | Returns a translated string                                        |\r\n",
    "| `upper()`     | Converts a string into upper case                                  |\r\n",
    "| `zfill()`     | Fills the string with a specified number of 0 values at the beginning |\r\n"
   ]
  },
  {
   "cell_type": "code",
   "execution_count": 1,
   "id": "4097be97-90ea-4de9-89d0-068ac1021baf",
   "metadata": {},
   "outputs": [
    {
     "name": "stdout",
     "output_type": "stream",
     "text": [
      "['__add__', '__class__', '__contains__', '__delattr__', '__dir__', '__doc__', '__eq__', '__format__', '__ge__', '__getattribute__', '__getitem__', '__getnewargs__', '__getstate__', '__gt__', '__hash__', '__init__', '__init_subclass__', '__iter__', '__le__', '__len__', '__lt__', '__mod__', '__mul__', '__ne__', '__new__', '__reduce__', '__reduce_ex__', '__repr__', '__rmod__', '__rmul__', '__setattr__', '__sizeof__', '__str__', '__subclasshook__', 'capitalize', 'casefold', 'center', 'count', 'encode', 'endswith', 'expandtabs', 'find', 'format', 'format_map', 'index', 'isalnum', 'isalpha', 'isascii', 'isdecimal', 'isdigit', 'isidentifier', 'islower', 'isnumeric', 'isprintable', 'isspace', 'istitle', 'isupper', 'join', 'ljust', 'lower', 'lstrip', 'maketrans', 'partition', 'removeprefix', 'removesuffix', 'replace', 'rfind', 'rindex', 'rjust', 'rpartition', 'rsplit', 'rstrip', 'split', 'splitlines', 'startswith', 'strip', 'swapcase', 'title', 'translate', 'upper', 'zfill']\n"
     ]
    }
   ],
   "source": [
    "s = \"hyd\"\n",
    "print(dir(s))"
   ]
  },
  {
   "cell_type": "markdown",
   "id": "851ac811-d81f-465d-b5e9-6b52d3e2eaff",
   "metadata": {},
   "source": [
    "### capitalize()"
   ]
  },
  {
   "cell_type": "code",
   "execution_count": 9,
   "id": "e1602c53-01af-4fdb-8993-0798fbf848f5",
   "metadata": {},
   "outputs": [
    {
     "name": "stdout",
     "output_type": "stream",
     "text": [
      "Hyderabad is a clean city\n"
     ]
    }
   ],
   "source": [
    "s = \"hyderabad is a clean city\"\n",
    "print(s.capitalize())"
   ]
  },
  {
   "cell_type": "code",
   "execution_count": 11,
   "id": "2388c2c8-ec3f-42b1-9c44-1665d2efc451",
   "metadata": {},
   "outputs": [
    {
     "data": {
      "text/plain": [
       "\u001b[1;31mSignature:\u001b[0m \u001b[0ms\u001b[0m\u001b[1;33m.\u001b[0m\u001b[0mcapitalize\u001b[0m\u001b[1;33m(\u001b[0m\u001b[1;33m)\u001b[0m\u001b[1;33m\u001b[0m\u001b[1;33m\u001b[0m\u001b[0m\n",
       "\u001b[1;31mDocstring:\u001b[0m\n",
       "Return a capitalized version of the string.\n",
       "\n",
       "More specifically, make the first character have upper case and the rest lower\n",
       "case.\n",
       "\u001b[1;31mType:\u001b[0m      builtin_function_or_method"
      ]
     },
     "metadata": {},
     "output_type": "display_data"
    }
   ],
   "source": [
    "s.capitalize?"
   ]
  },
  {
   "cell_type": "code",
   "execution_count": 13,
   "id": "cfc9aa5f-ee61-4e53-81e7-ca5da621fc00",
   "metadata": {},
   "outputs": [
    {
     "name": "stdout",
     "output_type": "stream",
     "text": [
      "Hyderabad is a clean city\n"
     ]
    }
   ],
   "source": [
    "s = \"hyderabad is a clean CITY\"\n",
    "print(s.capitalize())"
   ]
  },
  {
   "cell_type": "code",
   "execution_count": 15,
   "id": "6508480f-80cb-4ea5-be8f-3d18e53ba31d",
   "metadata": {},
   "outputs": [
    {
     "name": "stdout",
     "output_type": "stream",
     "text": [
      "2hyderabad is a clean city\n"
     ]
    }
   ],
   "source": [
    "s = \"2hyderabad is a clean CITY\"\n",
    "print(s.capitalize())"
   ]
  },
  {
   "cell_type": "code",
   "execution_count": 17,
   "id": "1297c6e3-9345-46e9-b9c4-1f2bfa8c9032",
   "metadata": {},
   "outputs": [
    {
     "name": "stdout",
     "output_type": "stream",
     "text": [
      "12345\n"
     ]
    }
   ],
   "source": [
    "s = \"12345\"\n",
    "print(s.capitalize())"
   ]
  },
  {
   "cell_type": "code",
   "execution_count": 23,
   "id": "b43c333d-6751-4739-af34-572fedf9fcfa",
   "metadata": {},
   "outputs": [
    {
     "data": {
      "text/plain": [
       "\u001b[1;31mSignature:\u001b[0m \u001b[0madd\u001b[0m\u001b[1;33m(\u001b[0m\u001b[0mx\u001b[0m\u001b[1;33m,\u001b[0m \u001b[0my\u001b[0m\u001b[1;33m)\u001b[0m\u001b[1;33m\u001b[0m\u001b[1;33m\u001b[0m\u001b[0m\n",
       "\u001b[1;31mDocstring:\u001b[0m <no docstring>\n",
       "\u001b[1;31mFile:\u001b[0m      c:\\users\\dell\\appdata\\local\\temp\\ipykernel_15908\\859063251.py\n",
       "\u001b[1;31mType:\u001b[0m      function"
      ]
     },
     "metadata": {},
     "output_type": "display_data"
    }
   ],
   "source": [
    "def add(x,y):\n",
    "    return x+y\n",
    "add?"
   ]
  },
  {
   "cell_type": "markdown",
   "id": "2c557cee-46a9-4a2b-98ef-95b5a962fdd1",
   "metadata": {},
   "source": [
    "* **Declaring Docstrings:** The docstrings are declared using ”’triple single quotes”’ or “”” triple double quotes “”” just below the class, method, or function declaration. All functions should have a docstring."
   ]
  },
  {
   "cell_type": "code",
   "execution_count": 21,
   "id": "7cded64e-46d4-458f-bfdd-e42972f04b79",
   "metadata": {},
   "outputs": [
    {
     "data": {
      "text/plain": [
       "\u001b[1;31mSignature:\u001b[0m \u001b[0madd\u001b[0m\u001b[1;33m(\u001b[0m\u001b[0mx\u001b[0m\u001b[1;33m,\u001b[0m \u001b[0my\u001b[0m\u001b[1;33m)\u001b[0m\u001b[1;33m\u001b[0m\u001b[1;33m\u001b[0m\u001b[0m\n",
       "\u001b[1;31mDocstring:\u001b[0m\n",
       "function to add two functions\n",
       "x: int/float\n",
       "y: int/float\n",
       "\u001b[1;31mFile:\u001b[0m      c:\\users\\dell\\appdata\\local\\temp\\ipykernel_15908\\2949785173.py\n",
       "\u001b[1;31mType:\u001b[0m      function"
      ]
     },
     "metadata": {},
     "output_type": "display_data"
    }
   ],
   "source": [
    "def add(x,y):\n",
    "    \"\"\"\n",
    "    function to add two functions\n",
    "    x: int/float\n",
    "    y: int/float\n",
    "    \"\"\"\n",
    "    return x+y\n",
    "add?"
   ]
  },
  {
   "cell_type": "markdown",
   "id": "28408b7a-d049-433a-8219-2a8dacb015f3",
   "metadata": {},
   "source": [
    "### casefold()"
   ]
  },
  {
   "cell_type": "code",
   "execution_count": 40,
   "id": "d1a0c836-b1e4-4a17-834b-0d8321baa3ae",
   "metadata": {},
   "outputs": [
    {
     "data": {
      "text/plain": [
       "\u001b[1;31mSignature:\u001b[0m \u001b[0ms\u001b[0m\u001b[1;33m.\u001b[0m\u001b[0mcasefold\u001b[0m\u001b[1;33m(\u001b[0m\u001b[1;33m)\u001b[0m\u001b[1;33m\u001b[0m\u001b[1;33m\u001b[0m\u001b[0m\n",
       "\u001b[1;31mDocstring:\u001b[0m Return a version of the string suitable for caseless comparisons.\n",
       "\u001b[1;31mType:\u001b[0m      builtin_function_or_method"
      ]
     },
     "metadata": {},
     "output_type": "display_data"
    }
   ],
   "source": [
    "s.casefold?"
   ]
  },
  {
   "cell_type": "code",
   "execution_count": 52,
   "id": "f3d564d2-87a8-4f06-aff9-7866539ad2a7",
   "metadata": {},
   "outputs": [
    {
     "name": "stdout",
     "output_type": "stream",
     "text": [
      "hyderabad is clean city\n",
      "23456\n",
      "2hyderabd is a city\n",
      "2hyderabd is a city\n",
      "2@#$%^\n"
     ]
    }
   ],
   "source": [
    "s = \"hyderabad IS CLEAN CITY\"\n",
    "print(s.casefold())\n",
    "s = \"23456\"\n",
    "print(s.casefold())\n",
    "s = \"2hyderabd IS A CITY\"\n",
    "print(s.casefold())\n",
    "s = \"2hyderabd is a city\"\n",
    "print(s.casefold())\n",
    "s = \"2@#$%^\"\n",
    "print(s.casefold())"
   ]
  },
  {
   "cell_type": "markdown",
   "id": "047d0d55-4114-4415-9840-2a6e7a2ecbb9",
   "metadata": {},
   "source": [
    "### center()"
   ]
  },
  {
   "cell_type": "code",
   "execution_count": 57,
   "id": "1cd9bfb8-fed9-4a6a-9f11-27ce2d04fb36",
   "metadata": {},
   "outputs": [
    {
     "data": {
      "text/plain": [
       "\u001b[1;31mSignature:\u001b[0m \u001b[0ms\u001b[0m\u001b[1;33m.\u001b[0m\u001b[0mcenter\u001b[0m\u001b[1;33m(\u001b[0m\u001b[0mwidth\u001b[0m\u001b[1;33m,\u001b[0m \u001b[0mfillchar\u001b[0m\u001b[1;33m=\u001b[0m\u001b[1;34m' '\u001b[0m\u001b[1;33m,\u001b[0m \u001b[1;33m/\u001b[0m\u001b[1;33m)\u001b[0m\u001b[1;33m\u001b[0m\u001b[1;33m\u001b[0m\u001b[0m\n",
       "\u001b[1;31mDocstring:\u001b[0m\n",
       "Return a centered string of length width.\n",
       "\n",
       "Padding is done using the specified fill character (default is a space).\n",
       "\u001b[1;31mType:\u001b[0m      builtin_function_or_method"
      ]
     },
     "metadata": {},
     "output_type": "display_data"
    }
   ],
   "source": [
    "s.center?"
   ]
  },
  {
   "cell_type": "code",
   "execution_count": 101,
   "id": "29d87ec2-da24-4d15-a948-0c62cf7ae6c5",
   "metadata": {},
   "outputs": [
    {
     "name": "stdout",
     "output_type": "stream",
     "text": [
      "                                                                            hi                                                                           \n",
      "%%%%%%%%%%%%%%%%%%%%%%%%%%%%%%%%%%%%%%%%%%%%%%%%%%%%%%%%%%%%%%%%%%%%%%%%%%hello%%%%%%%%%%%%%%%%%%%%%%%%%%%%%%%%%%%%%%%%%%%%%%%%%%%%%%%%%%%%%%%%%%%%%%%%%%\n",
      "########bye#########\n",
      "                                             Tejaswini                                              \n"
     ]
    }
   ],
   "source": [
    "s = \"hi\"\n",
    "print(s.center(153))\n",
    "s = \"hello\"\n",
    "print(s.center(153,'%'))\n",
    "s = \"bye\"\n",
    "print(s.center(20,'#'))\n",
    "s = \"Tejaswini\"\n",
    "print(s.center(100,))"
   ]
  },
  {
   "cell_type": "markdown",
   "id": "4d850496-6a87-476f-ad04-a0b598a37994",
   "metadata": {},
   "source": [
    "### count()"
   ]
  },
  {
   "cell_type": "code",
   "execution_count": 104,
   "id": "1c5b2c7e-dc85-4dca-949d-0d17cb05209f",
   "metadata": {},
   "outputs": [
    {
     "data": {
      "text/plain": [
       "\u001b[1;31mDocstring:\u001b[0m\n",
       "S.count(sub[, start[, end]]) -> int\n",
       "\n",
       "Return the number of non-overlapping occurrences of substring sub in\n",
       "string S[start:end].  Optional arguments start and end are\n",
       "interpreted as in slice notation.\n",
       "\u001b[1;31mType:\u001b[0m      builtin_function_or_method"
      ]
     },
     "metadata": {},
     "output_type": "display_data"
    }
   ],
   "source": [
    "s.count?"
   ]
  },
  {
   "cell_type": "code",
   "execution_count": 150,
   "id": "2248a332-ce0f-4f90-9ff5-77fa9f0ddb5b",
   "metadata": {},
   "outputs": [
    {
     "name": "stdout",
     "output_type": "stream",
     "text": [
      "2\n",
      "2\n",
      "1\n",
      "3\n",
      "1\n"
     ]
    }
   ],
   "source": [
    "s = \"Hyderabad is one the capital city in India, Delhi is also a capital city\"\n",
    "print(s.count('city'))\n",
    "print(s.count('city',10))\n",
    "print(s.count('city',10,50))\n",
    "s = \"123456789789634263124567\"\n",
    "print(s.count('7'))\n",
    "s = \"!@#$%^&*()!@#$%^&*()PWERTY!@#$%^\"\n",
    "s1 = '!@#'\n",
    "print(s.count(s1,0,10))"
   ]
  },
  {
   "cell_type": "markdown",
   "id": "e95872a7-63b4-4fcd-85cc-024e02c62aae",
   "metadata": {},
   "source": [
    "### encode()"
   ]
  },
  {
   "cell_type": "code",
   "execution_count": 153,
   "id": "45b67126-ce5b-4253-a2db-41475418e86a",
   "metadata": {},
   "outputs": [
    {
     "data": {
      "text/plain": [
       "\u001b[1;31mSignature:\u001b[0m \u001b[0ms\u001b[0m\u001b[1;33m.\u001b[0m\u001b[0mencode\u001b[0m\u001b[1;33m(\u001b[0m\u001b[0mencoding\u001b[0m\u001b[1;33m=\u001b[0m\u001b[1;34m'utf-8'\u001b[0m\u001b[1;33m,\u001b[0m \u001b[0merrors\u001b[0m\u001b[1;33m=\u001b[0m\u001b[1;34m'strict'\u001b[0m\u001b[1;33m)\u001b[0m\u001b[1;33m\u001b[0m\u001b[1;33m\u001b[0m\u001b[0m\n",
       "\u001b[1;31mDocstring:\u001b[0m\n",
       "Encode the string using the codec registered for encoding.\n",
       "\n",
       "encoding\n",
       "  The encoding in which to encode the string.\n",
       "errors\n",
       "  The error handling scheme to use for encoding errors.\n",
       "  The default is 'strict' meaning that encoding errors raise a\n",
       "  UnicodeEncodeError.  Other possible values are 'ignore', 'replace' and\n",
       "  'xmlcharrefreplace' as well as any other name registered with\n",
       "  codecs.register_error that can handle UnicodeEncodeErrors.\n",
       "\u001b[1;31mType:\u001b[0m      builtin_function_or_method"
      ]
     },
     "metadata": {},
     "output_type": "display_data"
    }
   ],
   "source": [
    "s.encode?"
   ]
  },
  {
   "cell_type": "code",
   "execution_count": 163,
   "id": "f55cb666-c820-48a5-9b53-a716e5431851",
   "metadata": {},
   "outputs": [
    {
     "name": "stdout",
     "output_type": "stream",
     "text": [
      "b'Hyderabad is a clean city'\n",
      "b'Hyderabad is a clean city 2@#$`'\n",
      "b'St\\xc3\\xa5le'\n"
     ]
    }
   ],
   "source": [
    "s = \"Hyderabad is a clean city\"\n",
    "print(s.encode())\n",
    "s = \"Hyderabad is a clean city 2@#$`\"\n",
    "print(s.encode())\n",
    "s = \"Ståle\"\n",
    "print(s.encode())"
   ]
  },
  {
   "cell_type": "markdown",
   "id": "d9e2850f-bb40-42de-b226-689787fe1195",
   "metadata": {},
   "source": [
    "### endswith"
   ]
  },
  {
   "cell_type": "code",
   "execution_count": 166,
   "id": "2b95576f-a7c2-44c1-8c2f-589369572d2a",
   "metadata": {},
   "outputs": [
    {
     "data": {
      "text/plain": [
       "\u001b[1;31mDocstring:\u001b[0m\n",
       "S.endswith(suffix[, start[, end]]) -> bool\n",
       "\n",
       "Return True if S ends with the specified suffix, False otherwise.\n",
       "With optional start, test S beginning at that position.\n",
       "With optional end, stop comparing S at that position.\n",
       "suffix can also be a tuple of strings to try.\n",
       "\u001b[1;31mType:\u001b[0m      builtin_function_or_method"
      ]
     },
     "metadata": {},
     "output_type": "display_data"
    }
   ],
   "source": [
    "s.endswith?"
   ]
  },
  {
   "cell_type": "code",
   "execution_count": 196,
   "id": "0fd6143f-6afc-40d7-92f5-5814e6285523",
   "metadata": {},
   "outputs": [
    {
     "name": "stdout",
     "output_type": "stream",
     "text": [
      "True\n",
      "True\n",
      "True\n",
      "False\n"
     ]
    }
   ],
   "source": [
    "s = \"Hyderabad is a capital city. Amaravathi capital of AP. Delhi  is capital\"\n",
    "print(s.endswith('capital'))\n",
    "s = \"Hyderabad is a capital city. Amaravathi capital of AP. Delhi  is capital.\"\n",
    "print(s.endswith('.'))\n",
    "s = \"!@#$%^&*(\"\n",
    "print(s.endswith('@',0,2))\n",
    "s = \"!@#$%^&*(\"\n",
    "print(s.endswith('&'))"
   ]
  },
  {
   "cell_type": "markdown",
   "id": "de8b818b-e37e-4520-8485-bf742038821f",
   "metadata": {},
   "source": [
    "### expandtabs()"
   ]
  },
  {
   "cell_type": "code",
   "execution_count": 199,
   "id": "8ae61daa-896c-491d-8815-0c6c6029bc4f",
   "metadata": {},
   "outputs": [
    {
     "data": {
      "text/plain": [
       "\u001b[1;31mSignature:\u001b[0m \u001b[0ms\u001b[0m\u001b[1;33m.\u001b[0m\u001b[0mexpandtabs\u001b[0m\u001b[1;33m(\u001b[0m\u001b[0mtabsize\u001b[0m\u001b[1;33m=\u001b[0m\u001b[1;36m8\u001b[0m\u001b[1;33m)\u001b[0m\u001b[1;33m\u001b[0m\u001b[1;33m\u001b[0m\u001b[0m\n",
       "\u001b[1;31mDocstring:\u001b[0m\n",
       "Return a copy where all tab characters are expanded using spaces.\n",
       "\n",
       "If tabsize is not given, a tab size of 8 characters is assumed.\n",
       "\u001b[1;31mType:\u001b[0m      builtin_function_or_method"
      ]
     },
     "metadata": {},
     "output_type": "display_data"
    }
   ],
   "source": [
    "s.expandtabs?"
   ]
  },
  {
   "cell_type": "code",
   "execution_count": 211,
   "id": "9a1c09db-a519-41ca-84fb-02115fbb6283",
   "metadata": {},
   "outputs": [
    {
     "name": "stdout",
     "output_type": "stream",
     "text": [
      "Hello\n",
      "H       el      lo\n",
      "Hello\n",
      "H el lo\n",
      "H     el    lo\n",
      "H el lo\n",
      "234 567\n"
     ]
    }
   ],
   "source": [
    "s = \"Hello\"\n",
    "print(s.expandtabs())\n",
    "s = \"H\\tel\\tlo\"\n",
    "print(s.expandtabs())\n",
    "s = \"Hello\"\n",
    "print(s.expandtabs())\n",
    "s = \"H\\tel\\tlo\"\n",
    "print(s.expandtabs(1))\n",
    "s = \"H\\tel\\tlo\"\n",
    "print(s.expandtabs(6))\n",
    "s = \"H\\tel\\tlo\\n234\\t567\"\n",
    "print(s.expandtabs(1))"
   ]
  },
  {
   "cell_type": "code",
   "execution_count": 29,
   "id": "7971edf0-973c-49c3-b82a-91a6033407ce",
   "metadata": {},
   "outputs": [
    {
     "name": "stdout",
     "output_type": "stream",
     "text": [
      "$%^987%$^6fed54,#$321cba\n"
     ]
    }
   ],
   "source": [
    "### 62.Input: abc123,#$45def6%$^789$%^, output: $%^987%$^6fed54,#$321cba\n",
    "s = \"abc123,#$45def6%$^789$%^\"\n",
    "res = \"\"\n",
    "sub = \"\"\n",
    "for i in s[::-1]:\n",
    "    if not i.isalnum():\n",
    "        sub=sub+i\n",
    "    else:\n",
    "        if sub:\n",
    "            res = res+sub[::-1]\n",
    "            sub = \"\"\n",
    "        res = res +i\n",
    "print(res)\n",
    "        "
   ]
  },
  {
   "cell_type": "markdown",
   "id": "d595b69e-a5cd-40fe-818e-3aab7836372d",
   "metadata": {},
   "source": [
    "### find()"
   ]
  },
  {
   "cell_type": "code",
   "execution_count": 215,
   "id": "0268b7c2-808e-46e6-83a8-22ec9b00007e",
   "metadata": {},
   "outputs": [
    {
     "data": {
      "text/plain": [
       "\u001b[1;31mDocstring:\u001b[0m\n",
       "S.find(sub[, start[, end]]) -> int\n",
       "\n",
       "Return the lowest index in S where substring sub is found,\n",
       "such that sub is contained within S[start:end].  Optional\n",
       "arguments start and end are interpreted as in slice notation.\n",
       "\n",
       "Return -1 on failure.\n",
       "\u001b[1;31mType:\u001b[0m      builtin_function_or_method"
      ]
     },
     "metadata": {},
     "output_type": "display_data"
    }
   ],
   "source": [
    "s.find?"
   ]
  },
  {
   "cell_type": "code",
   "execution_count": 231,
   "id": "a52f2b7d-aef8-491b-bf0a-eccb732df4f1",
   "metadata": {},
   "outputs": [
    {
     "name": "stdout",
     "output_type": "stream",
     "text": [
      "24\n",
      "1\n",
      "9\n"
     ]
    }
   ],
   "source": [
    "s = \"India and Pakistan have hyderabad, hyderabad is capital city of Telangana\"\n",
    "print(s.find('hyderabad'))\n",
    "s = \"2hyderabad is capital city of Telangana\"\n",
    "print(s.find('hyderabad'))\n",
    "s = \"123@Z#789@#$gasbiwhenx@#$\"\n",
    "print(s.find('@#'))"
   ]
  },
  {
   "cell_type": "markdown",
   "id": "c6ce6eda-a089-439b-a15e-11f71911b1ba",
   "metadata": {},
   "source": [
    "### format()"
   ]
  },
  {
   "cell_type": "code",
   "execution_count": 234,
   "id": "7534ba51-16b9-42c5-93aa-f03c4dadaf0f",
   "metadata": {},
   "outputs": [
    {
     "data": {
      "text/plain": [
       "\u001b[1;31mDocstring:\u001b[0m\n",
       "S.format(*args, **kwargs) -> str\n",
       "\n",
       "Return a formatted version of S, using substitutions from args and kwargs.\n",
       "The substitutions are identified by braces ('{' and '}').\n",
       "\u001b[1;31mType:\u001b[0m      builtin_function_or_method"
      ]
     },
     "metadata": {},
     "output_type": "display_data"
    }
   ],
   "source": [
    "s.format?"
   ]
  },
  {
   "cell_type": "code",
   "execution_count": 236,
   "id": "a53abc92-3664-45f0-9bed-7bcad0e5aa7c",
   "metadata": {},
   "outputs": [
    {
     "name": "stdout",
     "output_type": "stream",
     "text": [
      "For only 49.00 dollars!\n"
     ]
    }
   ],
   "source": [
    "txt = \"For only {price:.2f} dollars!\"\n",
    "print(txt.format(price = 49))"
   ]
  },
  {
   "cell_type": "code",
   "execution_count": 238,
   "id": "f901eb6d-e4d9-4c8e-ba34-3ef14560b912",
   "metadata": {},
   "outputs": [
    {
     "data": {
      "text/plain": [
       "\u001b[1;31mDocstring:\u001b[0m\n",
       "S.format_map(mapping) -> str\n",
       "\n",
       "Return a formatted version of S, using substitutions from mapping.\n",
       "The substitutions are identified by braces ('{' and '}').\n",
       "\u001b[1;31mType:\u001b[0m      builtin_function_or_method"
      ]
     },
     "metadata": {},
     "output_type": "display_data"
    }
   ],
   "source": [
    "s.format_map?"
   ]
  },
  {
   "cell_type": "code",
   "execution_count": 278,
   "id": "2a253908-c93f-4d76-b853-1bfec27b1bd8",
   "metadata": {},
   "outputs": [
    {
     "name": "stdout",
     "output_type": "stream",
     "text": [
      "Hello, Alice\n"
     ]
    }
   ],
   "source": [
    "data = {'name': 'Alice'}\n",
    "s = \"Hello, {name}\"\n",
    "print(s.format_map(data))"
   ]
  },
  {
   "cell_type": "markdown",
   "id": "430e0283-dedb-445d-b9ce-6e60529812d0",
   "metadata": {},
   "source": [
    "### index()"
   ]
  },
  {
   "cell_type": "code",
   "execution_count": 240,
   "id": "cde10487-7d03-44f6-95f1-6f35243e42a3",
   "metadata": {},
   "outputs": [
    {
     "data": {
      "text/plain": [
       "\u001b[1;31mDocstring:\u001b[0m\n",
       "S.index(sub[, start[, end]]) -> int\n",
       "\n",
       "Return the lowest index in S where substring sub is found,\n",
       "such that sub is contained within S[start:end].  Optional\n",
       "arguments start and end are interpreted as in slice notation.\n",
       "\n",
       "Raises ValueError when the substring is not found.\n",
       "\u001b[1;31mType:\u001b[0m      builtin_function_or_method"
      ]
     },
     "metadata": {},
     "output_type": "display_data"
    }
   ],
   "source": [
    "s.index?"
   ]
  },
  {
   "cell_type": "code",
   "execution_count": 253,
   "id": "4f894c22-6580-4a73-91f8-7a3d9ba3f18c",
   "metadata": {},
   "outputs": [
    {
     "name": "stdout",
     "output_type": "stream",
     "text": [
      "2\n",
      "3\n"
     ]
    }
   ],
   "source": [
    "s = \"123456791234567\"\n",
    "print(s.index('3'))\n",
    "s = \"hyderabad\"\n",
    "print(s.index('e'))"
   ]
  },
  {
   "cell_type": "markdown",
   "id": "456e2724-d237-40c8-8683-8a4314e0132a",
   "metadata": {},
   "source": [
    "### isalnum()"
   ]
  },
  {
   "cell_type": "code",
   "execution_count": 258,
   "id": "76c7d0ac-a097-43d0-889e-23f0fe3d4cab",
   "metadata": {},
   "outputs": [
    {
     "data": {
      "text/plain": [
       "\u001b[1;31mSignature:\u001b[0m \u001b[0ms\u001b[0m\u001b[1;33m.\u001b[0m\u001b[0misalnum\u001b[0m\u001b[1;33m(\u001b[0m\u001b[1;33m)\u001b[0m\u001b[1;33m\u001b[0m\u001b[1;33m\u001b[0m\u001b[0m\n",
       "\u001b[1;31mDocstring:\u001b[0m\n",
       "Return True if the string is an alpha-numeric string, False otherwise.\n",
       "\n",
       "A string is alpha-numeric if all characters in the string are alpha-numeric and\n",
       "there is at least one character in the string.\n",
       "\u001b[1;31mType:\u001b[0m      builtin_function_or_method"
      ]
     },
     "metadata": {},
     "output_type": "display_data"
    }
   ],
   "source": [
    "s.isalnum?"
   ]
  },
  {
   "cell_type": "code",
   "execution_count": 273,
   "id": "5d064518-3190-4e07-9117-b495a14304e2",
   "metadata": {},
   "outputs": [
    {
     "name": "stdout",
     "output_type": "stream",
     "text": [
      "True\n",
      "False\n",
      "True\n",
      "True\n",
      "False\n",
      "True\n",
      "True\n"
     ]
    }
   ],
   "source": [
    "s = \"1234567890\"\n",
    "print(s.isalnum())\n",
    "s = \"!@#1234\"\n",
    "print(s.isalnum())\n",
    "s = \"1234abcd\"\n",
    "print(s.isalnum())\n",
    "s = \"abcdefdd\"\n",
    "print(s.isalnum())\n",
    "s = \"!@#abcd\"\n",
    "print(s.isalnum())\n",
    "s = \"ABCD\"\n",
    "print(s.isalnum())\n",
    "s = \"ABCD1234\"\n",
    "print(s.isalnum())"
   ]
  },
  {
   "cell_type": "markdown",
   "id": "b8d8631b-fd55-49e6-95cd-66880113ddd5",
   "metadata": {},
   "source": [
    "### isalpha()"
   ]
  },
  {
   "cell_type": "code",
   "execution_count": 275,
   "id": "f7f9725a-7fda-483f-bdfb-d3daa67e3c63",
   "metadata": {},
   "outputs": [
    {
     "name": "stdout",
     "output_type": "stream",
     "text": [
      "False\n",
      "False\n",
      "False\n",
      "True\n",
      "False\n",
      "True\n",
      "False\n"
     ]
    }
   ],
   "source": [
    "s = \"1234567890\"\n",
    "print(s.isalpha())\n",
    "s = \"!@#1234\"\n",
    "print(s.isalpha())\n",
    "s = \"1234abcd\"\n",
    "print(s.isalpha())\n",
    "s = \"abcdefdd\"\n",
    "print(s.isalpha())\n",
    "s = \"!@#abcd\"\n",
    "print(s.isalpha())\n",
    "s = \"ABCD\"\n",
    "print(s.isalpha())\n",
    "s = \"ABCD1234\"\n",
    "print(s.isalpha())"
   ]
  },
  {
   "cell_type": "markdown",
   "id": "5dd46701-8a8e-4603-b8df-d84fa50f72be",
   "metadata": {},
   "source": [
    "### isascii()"
   ]
  },
  {
   "cell_type": "code",
   "execution_count": 280,
   "id": "3a822722-2efd-4f39-90f1-922aad62bab9",
   "metadata": {},
   "outputs": [
    {
     "data": {
      "text/plain": [
       "\u001b[1;31mSignature:\u001b[0m \u001b[0ms\u001b[0m\u001b[1;33m.\u001b[0m\u001b[0misascii\u001b[0m\u001b[1;33m(\u001b[0m\u001b[1;33m)\u001b[0m\u001b[1;33m\u001b[0m\u001b[1;33m\u001b[0m\u001b[0m\n",
       "\u001b[1;31mDocstring:\u001b[0m\n",
       "Return True if all characters in the string are ASCII, False otherwise.\n",
       "\n",
       "ASCII characters have code points in the range U+0000-U+007F.\n",
       "Empty string is ASCII too.\n",
       "\u001b[1;31mType:\u001b[0m      builtin_function_or_method"
      ]
     },
     "metadata": {},
     "output_type": "display_data"
    }
   ],
   "source": [
    "s.isascii?"
   ]
  },
  {
   "cell_type": "code",
   "execution_count": 282,
   "id": "26a70acf-9b2c-45f9-a5fc-6cd8e24fc17d",
   "metadata": {},
   "outputs": [
    {
     "name": "stdout",
     "output_type": "stream",
     "text": [
      "True\n",
      "False\n"
     ]
    }
   ],
   "source": [
    "s = \"hello\"\n",
    "print(s.isascii())\n",
    "s = \"こんにちは\"\n",
    "print(s.isascii())"
   ]
  },
  {
   "cell_type": "markdown",
   "id": "835833f1-56b7-4437-ad5d-c8a100291a79",
   "metadata": {},
   "source": [
    "### isdecimal()"
   ]
  },
  {
   "cell_type": "code",
   "execution_count": 287,
   "id": "5cb12994-6594-4743-bc7f-7752ed78caab",
   "metadata": {},
   "outputs": [
    {
     "data": {
      "text/plain": [
       "\u001b[1;31mSignature:\u001b[0m \u001b[0ms\u001b[0m\u001b[1;33m.\u001b[0m\u001b[0misdecimal\u001b[0m\u001b[1;33m(\u001b[0m\u001b[1;33m)\u001b[0m\u001b[1;33m\u001b[0m\u001b[1;33m\u001b[0m\u001b[0m\n",
       "\u001b[1;31mDocstring:\u001b[0m\n",
       "Return True if the string is a decimal string, False otherwise.\n",
       "\n",
       "A string is a decimal string if all characters in the string are decimal and\n",
       "there is at least one character in the string.\n",
       "\u001b[1;31mType:\u001b[0m      builtin_function_or_method"
      ]
     },
     "metadata": {},
     "output_type": "display_data"
    }
   ],
   "source": [
    "s.isdecimal?"
   ]
  },
  {
   "cell_type": "code",
   "execution_count": 289,
   "id": "4ca8dcae-f3db-4f18-a833-79f2418f89a9",
   "metadata": {},
   "outputs": [
    {
     "name": "stdout",
     "output_type": "stream",
     "text": [
      "True\n",
      "False\n"
     ]
    }
   ],
   "source": [
    "s = \"12345\"\n",
    "print(s.isdecimal())  \n",
    "s = \"12.45\"\n",
    "print(s.isdecimal())  "
   ]
  },
  {
   "cell_type": "markdown",
   "id": "c6f2152c-599a-48e8-aedd-e267eb7f59a8",
   "metadata": {},
   "source": [
    "### isdigit()"
   ]
  },
  {
   "cell_type": "code",
   "execution_count": 292,
   "id": "543f28f0-28db-4513-9b67-1aea557e50fd",
   "metadata": {},
   "outputs": [
    {
     "data": {
      "text/plain": [
       "\u001b[1;31mSignature:\u001b[0m \u001b[0ms\u001b[0m\u001b[1;33m.\u001b[0m\u001b[0misdigit\u001b[0m\u001b[1;33m(\u001b[0m\u001b[1;33m)\u001b[0m\u001b[1;33m\u001b[0m\u001b[1;33m\u001b[0m\u001b[0m\n",
       "\u001b[1;31mDocstring:\u001b[0m\n",
       "Return True if the string is a digit string, False otherwise.\n",
       "\n",
       "A string is a digit string if all characters in the string are digits and there\n",
       "is at least one character in the string.\n",
       "\u001b[1;31mType:\u001b[0m      builtin_function_or_method"
      ]
     },
     "metadata": {},
     "output_type": "display_data"
    }
   ],
   "source": [
    "s.isdigit?"
   ]
  },
  {
   "cell_type": "code",
   "execution_count": 294,
   "id": "d2834253-0d3c-4f95-a74f-a06c6f7aaef7",
   "metadata": {},
   "outputs": [
    {
     "name": "stdout",
     "output_type": "stream",
     "text": [
      "True\n",
      "False\n"
     ]
    }
   ],
   "source": [
    "s = \"12345\"\n",
    "print(s.isdigit())  \n",
    "s = \"12.45\"\n",
    "print(s.isdigit())  \n"
   ]
  },
  {
   "cell_type": "markdown",
   "id": "aab7886e-498a-4fb7-84d1-98d9cd273015",
   "metadata": {},
   "source": [
    "### isidentifier()"
   ]
  },
  {
   "cell_type": "code",
   "execution_count": 297,
   "id": "5bdf6e2f-d963-4e63-82cd-5cf07746a950",
   "metadata": {},
   "outputs": [
    {
     "data": {
      "text/plain": [
       "\u001b[1;31mSignature:\u001b[0m \u001b[0ms\u001b[0m\u001b[1;33m.\u001b[0m\u001b[0misidentifier\u001b[0m\u001b[1;33m(\u001b[0m\u001b[1;33m)\u001b[0m\u001b[1;33m\u001b[0m\u001b[1;33m\u001b[0m\u001b[0m\n",
       "\u001b[1;31mDocstring:\u001b[0m\n",
       "Return True if the string is a valid Python identifier, False otherwise.\n",
       "\n",
       "Call keyword.iskeyword(s) to test whether string s is a reserved identifier,\n",
       "such as \"def\" or \"class\".\n",
       "\u001b[1;31mType:\u001b[0m      builtin_function_or_method"
      ]
     },
     "metadata": {},
     "output_type": "display_data"
    }
   ],
   "source": [
    "s.isidentifier?"
   ]
  },
  {
   "cell_type": "code",
   "execution_count": 303,
   "id": "218d36ca-88cb-4761-bfd2-206dc761e7b4",
   "metadata": {},
   "outputs": [
    {
     "name": "stdout",
     "output_type": "stream",
     "text": [
      "True\n",
      "False\n",
      "True\n",
      "True\n"
     ]
    }
   ],
   "source": [
    "s = \"variable1\"\n",
    "print(s.isidentifier()) \n",
    "s = \"1variable\"\n",
    "print(s.isidentifier())\n",
    "s = \"if\"\n",
    "print(s.isidentifier())\n",
    "s = \"for\"\n",
    "print(s.isidentifier())"
   ]
  },
  {
   "cell_type": "code",
   "execution_count": null,
   "id": "ac034e7d-b1f8-4a12-afff-c58612c67769",
   "metadata": {},
   "outputs": [],
   "source": []
  }
 ],
 "metadata": {
  "kernelspec": {
   "display_name": "Python 3 (ipykernel)",
   "language": "python",
   "name": "python3"
  },
  "language_info": {
   "codemirror_mode": {
    "name": "ipython",
    "version": 3
   },
   "file_extension": ".py",
   "mimetype": "text/x-python",
   "name": "python",
   "nbconvert_exporter": "python",
   "pygments_lexer": "ipython3",
   "version": "3.12.4"
  }
 },
 "nbformat": 4,
 "nbformat_minor": 5
}

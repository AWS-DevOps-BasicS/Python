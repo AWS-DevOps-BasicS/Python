{
 "cells": [
  {
   "cell_type": "markdown",
   "id": "e59daae0-a90a-44e7-b818-c00d71421491",
   "metadata": {},
   "source": [
    "# Assignments on variables expressions and statements"
   ]
  },
  {
   "cell_type": "markdown",
   "id": "3a2aa8c1-3210-4733-a72d-1477e1c8cc9a",
   "metadata": {},
   "source": [
    "### 1. Take the input from the user for(Total number of people,Number of seats for bus. Based on two inputs. Decide how many number of buses required"
   ]
  },
  {
   "cell_type": "code",
   "execution_count": 11,
   "id": "8b519562-d3eb-4c7e-b931-02571df52aa1",
   "metadata": {},
   "outputs": [
    {
     "name": "stdin",
     "output_type": "stream",
     "text": [
      "Enter total number of people: 46\n",
      "Enter number of seats for bus: 30\n"
     ]
    },
    {
     "name": "stdout",
     "output_type": "stream",
     "text": [
      "Number of buses required is 2\n"
     ]
    }
   ],
   "source": [
    "people = int(input(\"Enter total number of people:\"))\n",
    "seats = int(input(\"Enter number of seats for bus:\"))\n",
    "buses = (people+seats-1)//seats\n",
    "print(f\"Number of buses required is {buses}\")"
   ]
  },
  {
   "cell_type": "markdown",
   "id": "c4484e0b-388a-4051-b934-812a133b184b",
   "metadata": {},
   "source": [
    "### 2. take temperature from the user and convert Fahrenheit-> Celsius."
   ]
  },
  {
   "cell_type": "code",
   "execution_count": 29,
   "id": "9477bd66-edc6-4878-9ce5-383c1eabcd10",
   "metadata": {},
   "outputs": [
    {
     "name": "stdin",
     "output_type": "stream",
     "text": [
      "enter the temperature in Fahrenheit:  97.8\n"
     ]
    },
    {
     "name": "stdout",
     "output_type": "stream",
     "text": [
      "Temperature in celsius is 36.55555555555556\n"
     ]
    }
   ],
   "source": [
    "Fahrenheit = float(input(\"enter the temperature in Fahrenheit: \"))\n",
    "Celsius=(Fahrenheit-32)*5/9\n",
    "print(f\"Temperature in celsius is {Celsius}\")\n"
   ]
  },
  {
   "cell_type": "markdown",
   "id": "3efc8796-30dc-4ad2-ba60-5e1a8aa98124",
   "metadata": {},
   "source": [
    "### 3.take temperature from the user and convert Celsius → Fahrenheit."
   ]
  },
  {
   "cell_type": "code",
   "execution_count": 31,
   "id": "ad812b22-d0cd-45b4-9e47-3a2af9607267",
   "metadata": {},
   "outputs": [
    {
     "name": "stdin",
     "output_type": "stream",
     "text": [
      "Enter the temperature in Celsius:  60.2\n"
     ]
    },
    {
     "name": "stdout",
     "output_type": "stream",
     "text": [
      " Temperature in Fahrenheit is 140.36\n"
     ]
    }
   ],
   "source": [
    "Celsius = float(input(\"Enter the temperature in Celsius: \"))\n",
    "Fahrenheit = (Celsius*9/5)+32\n",
    "print(f\" Temperature in Fahrenheit is {Fahrenheit}\")"
   ]
  },
  {
   "cell_type": "markdown",
   "id": "c1cfff83-b8fe-4981-bf1b-0ad109b1abf3",
   "metadata": {},
   "source": [
    "### 4. take four number from the user (variables name it as x1,x2,x3,x4)\n",
    "```\n",
    "Do the below operations\n",
    " (x1+x2)**2, (x3+x4)**3\n",
    "variance\n",
    "standard deviation: sqrt(variance):  User math module. Math.sqrt(variance)\n",
    "Regression\n",
    "\ty=mx+b\n",
    "    m=1.23\n",
    "    b=0.045\n",
    "    find out y\n",
    "    y=m*(x1+x2+x3+x4)+b\n",
    "Find the average of four numbers\n",
    "Find the sum of four numbers\n",
    "```"
   ]
  },
  {
   "cell_type": "code",
   "execution_count": 213,
   "id": "fb87fa21-e3e4-455e-8828-b4e746c5342b",
   "metadata": {},
   "outputs": [
    {
     "name": "stdin",
     "output_type": "stream",
     "text": [
      "Enter value of x1:  1\n",
      "Enter value of x2:  2\n",
      "Enter value of x3:  3\n",
      "Enter value of x4:  4\n"
     ]
    },
    {
     "ename": "TypeError",
     "evalue": "'float' object is not callable",
     "output_type": "error",
     "traceback": [
      "\u001b[1;31m---------------------------------------------------------------------------\u001b[0m",
      "\u001b[1;31mTypeError\u001b[0m                                 Traceback (most recent call last)",
      "Cell \u001b[1;32mIn[213], line 28\u001b[0m\n\u001b[0;32m     26\u001b[0m x4 \u001b[38;5;241m=\u001b[39m \u001b[38;5;28mint\u001b[39m(\u001b[38;5;28minput\u001b[39m(\u001b[38;5;124m\"\u001b[39m\u001b[38;5;124mEnter value of x4: \u001b[39m\u001b[38;5;124m\"\u001b[39m))\n\u001b[0;32m     27\u001b[0m values \u001b[38;5;241m=\u001b[39m [x1,x2,x3,x4]\n\u001b[1;32m---> 28\u001b[0m total_sum \u001b[38;5;241m=\u001b[39m \u001b[38;5;28msum\u001b[39m(values)\n\u001b[0;32m     29\u001b[0m \u001b[38;5;28mprint\u001b[39m(total_sum)\n",
      "\u001b[1;31mTypeError\u001b[0m: 'float' object is not callable"
     ]
    }
   ],
   "source": [
    "import math\n",
    "x1 = int(input(\"Enter value of x1: \"))\n",
    "x2 = int(input(\"Enter value of x2: \"))\n",
    "x3 = int(input(\"Enter value of x3: \"))\n",
    "x4 = int(input(\"Enter value of x4: \"))\n",
    "values = [x1,x2,x3,x4]\n",
    "total_sum = sum(values)\n",
    "print(total_sum)\n",
    "# mean = total_sum / len(values)\n",
    "# print(mean)\n",
    "# m = 1.23\n",
    "# b = 0.045\n",
    "# y = m*total_sum+b\n",
    "# # variance = (sum(x - mean for x in values)**2)/(len(values)-1)\n",
    "\n",
    "\n",
    "\n",
    "\n",
    "# print(variance)\n",
    "\n",
    "# print(variance)\n",
    "# standard_deviation = math.sqrt(variance)\n",
    "# a = (x1+x2)**2\n",
    "# b = (x3+x4)**3\n",
    "# print(f\"value of (x1+x2)**2 is {a}\\nvalue of (x3+x4)**3 is {b}\\naverage of 4 numbers = {mean}\\nsum of 4 numbers = {total_sum}\\nvariance={variance}\\nstandard deviation = {standard_deviation}\")"
   ]
  },
  {
   "cell_type": "markdown",
   "id": "2d930998-e25a-4430-bace-e7a321790198",
   "metadata": {},
   "source": [
    "### 5.Take the distance in km. Show that in cm, meters, in milli meters, cents, feets, yards"
   ]
  },
  {
   "cell_type": "code",
   "execution_count": 39,
   "id": "020740fb-31b6-4faf-a866-6bf5267f87f9",
   "metadata": {},
   "outputs": [
    {
     "name": "stdin",
     "output_type": "stream",
     "text": [
      "distance in km:  9\n"
     ]
    },
    {
     "name": "stdout",
     "output_type": "stream",
     "text": [
      "9.0km =900000.0cm\n",
      "9.0km =9000.0m\n",
      "9.0km =9000000.0mm\n",
      "9.0km =222394.5cents\n",
      "9.0km =29527.56ft\n",
      "9.0km =9842.49yards\n"
     ]
    }
   ],
   "source": [
    "km = float(input(\"distance in km: \"))\n",
    "cm = km*100000\n",
    "m = km*1000\n",
    "mm = km*1000000\n",
    "cents = km*24710.5\n",
    "ft = km*3280.84\n",
    "yards = km*1093.61\n",
    "print(f\"{km}km ={cm}cm\")\n",
    "print(f\"{km}km ={m}m\")\n",
    "print(f\"{km}km ={mm}mm\")\n",
    "print(f\"{km}km ={cents}cents\")\n",
    "print(f\"{km}km ={ft}ft\")\n",
    "print(f\"{km}km ={yards}yards\")"
   ]
  },
  {
   "cell_type": "markdown",
   "id": "216a2216-cfca-4a94-880a-c30d58840871",
   "metadata": {},
   "source": [
    "### 6. Take the size of your hard disk in GB. Show that in MB, KB, TB, PB"
   ]
  },
  {
   "cell_type": "code",
   "execution_count": 53,
   "id": "3dde304f-315e-45ce-bd6f-e3824dfb98c3",
   "metadata": {},
   "outputs": [
    {
     "name": "stdin",
     "output_type": "stream",
     "text": [
      "Enter the size of your hard disk in GB:  9\n"
     ]
    },
    {
     "name": "stdout",
     "output_type": "stream",
     "text": [
      "9.0GB = 9216.0MB\n",
      "9.0GB = 9437184.0KB\n",
      "9.0GB = 0.0087890625TB\n",
      "9.0GB = 8.58306884765625e-06PB\n"
     ]
    }
   ],
   "source": [
    "GB = float(input(\"Enter the size of your hard disk in GB: \"))\n",
    "MB = GB*1024\n",
    "KB = GB*1048576\n",
    "TB = GB/1024\n",
    "PB = GB/(1024**2)\n",
    "print(f\"{GB}GB = {MB}MB\")\n",
    "print(f\"{GB}GB = {KB}KB\")\n",
    "print(f\"{GB}GB = {TB}TB\")\n",
    "print(f\"{GB}GB = {PB}PB\")"
   ]
  },
  {
   "cell_type": "markdown",
   "id": "b179770a-f8df-4b30-9241-408d3d545821",
   "metadata": {},
   "source": [
    "###    7.  Take name, age, height from the user and print like below\n",
    "* The details of the person: Name:name of the person, Age:age of the person, Height:height of the person\n"
   ]
  },
  {
   "cell_type": "code",
   "execution_count": 61,
   "id": "9f862eb4-76cc-4fad-bde8-044e4caddd4e",
   "metadata": {},
   "outputs": [
    {
     "name": "stdin",
     "output_type": "stream",
     "text": [
      "Enter the name of the person:  tej\n",
      "Enter the age of the person: 27\n",
      "Enter the height of the person: 5'11\"\n"
     ]
    },
    {
     "name": "stdout",
     "output_type": "stream",
     "text": [
      "The details of the person: Name:tej of the person, Age:27 of the person, Height:5'11\" of the person\n"
     ]
    }
   ],
   "source": [
    "name = input(\"Enter the name of the person: \")\n",
    "age = input(\"Enter the age of the person:\")\n",
    "height= input(\"Enter the height of the person:\")\n",
    "print(f\"The details of the person: Name:{name} of the person, Age:{age} of the person, Height:{height} of the person\")"
   ]
  },
  {
   "cell_type": "markdown",
   "id": "2e764afd-64aa-40cb-81e1-aae59b7b12ee",
   "metadata": {},
   "source": [
    "### 8. BMI calculation: take required parameters for BMI calculation from the user and calculate BMI of the person."
   ]
  },
  {
   "cell_type": "code",
   "execution_count": 68,
   "id": "5311c92b-8ea8-493a-97eb-c783df529c6a",
   "metadata": {},
   "outputs": [
    {
     "name": "stdin",
     "output_type": "stream",
     "text": [
      "Enter height in cm:  155\n",
      "Enter weight in kg:  80\n"
     ]
    },
    {
     "name": "stdout",
     "output_type": "stream",
     "text": [
      "BMI is 33.29864724245577\n"
     ]
    }
   ],
   "source": [
    "height_cm = float(input(\"Enter height in cm: \"))\n",
    "weight = float(input(\"Enter weight in kg: \"))\n",
    "height_m = height_cm/100\n",
    "BMI = weight/(height_m**2)\n",
    "print(f\"BMI is {BMI}\")"
   ]
  },
  {
   "cell_type": "markdown",
   "id": "6e06cf90-2f05-49e6-b514-cc2999291f90",
   "metadata": {},
   "source": [
    "### 9. \n",
    "```\n",
    "name=\"Jayaram\"\n",
    "age=1.6\n",
    "height=3.5356234\n",
    "weight=10.343856783\n",
    "By using above inputs print the output\n",
    "Name:Jayaram, Age:1.6, Height:3.54, Weight:10.344\n",
    "Note: Use format specifiers(%s, %d, %f)\n",
    "```"
   ]
  },
  {
   "cell_type": "code",
   "execution_count": 90,
   "id": "0346f5c7-4798-4dc1-a383-8ec1b74fe0eb",
   "metadata": {},
   "outputs": [
    {
     "name": "stdout",
     "output_type": "stream",
     "text": [
      "Name: Jayaram, Age: 1.6, Height: 3.5, Weight: 10.344\n"
     ]
    }
   ],
   "source": [
    "name = \"Jayaram\"\n",
    "age = 1.6\n",
    "height = 3.5356234\n",
    "weight = 10.343856783\n",
    "print(\"Name: %s, Age: %.1f, Height: %.1f, Weight: %.3f\"%(name,age,height,weight) )"
   ]
  },
  {
   "cell_type": "markdown",
   "id": "6f5e169a-40ef-4947-929b-5107a1b8523a",
   "metadata": {},
   "source": [
    "### 10. Take three upper case letters from the user convert in to small case."
   ]
  },
  {
   "cell_type": "code",
   "execution_count": 103,
   "id": "048c7602-e804-4b99-bd16-9f582b79bff3",
   "metadata": {},
   "outputs": [
    {
     "name": "stdin",
     "output_type": "stream",
     "text": [
      "Enter first uppercase letter:  E\n",
      "Enter second uppercase letter:  R\n",
      "Enter third uppercase letter:  T\n"
     ]
    },
    {
     "name": "stdout",
     "output_type": "stream",
     "text": [
      "The lowercase letters are e,r,t\n"
     ]
    }
   ],
   "source": [
    "letter1 = input(\"Enter first uppercase letter: \")\n",
    "letter2 = input(\"Enter second uppercase letter: \")\n",
    "letter3 = input(\"Enter third uppercase letter: \")\n",
    "letter1_lower = chr(ord(letter1)+32)\n",
    "letter2_lower = chr(ord(letter2)+32)\n",
    "letter3_lower = chr(ord(letter3)+32)\n",
    "print(f\"The lowercase letters are {letter1_lower},{letter2_lower},{letter3_lower}\")"
   ]
  },
  {
   "cell_type": "markdown",
   "id": "cd1f70e2-fe25-4122-9598-b75020e37a9b",
   "metadata": {},
   "source": [
    "### 11. Take base and exponent value from the user and print like in mathematics:\n",
    "  * example: base=2, exponent=3: 2<sup>3</sup>\r\n",
    "\n",
    "  * Use: 2\\u00b3\n"
   ]
  },
  {
   "cell_type": "code",
   "execution_count": 121,
   "id": "b51a80bf-fc8d-4c39-a0f3-19d455ad0a97",
   "metadata": {},
   "outputs": [
    {
     "name": "stdin",
     "output_type": "stream",
     "text": [
      "Enter base value:  2\n",
      "Enter exponent value:  5\n"
     ]
    },
    {
     "name": "stdout",
     "output_type": "stream",
     "text": [
      "Base = 2, Exponent = 5: 2^5\n",
      "Base = 2, Exponent = 5: 2³\n"
     ]
    }
   ],
   "source": [
    "base = int(input(\"Enter base value: \"))\n",
    "exponent = int(input(\"Enter exponent value: \"))\n",
    "print(f\"Base = {base}, Exponent = {exponent}: {base}^{exponent}\")\n",
    "print(f\"Base = {base}, Exponent = {exponent}: {base}\\u00b3\")"
   ]
  },
  {
   "cell_type": "markdown",
   "id": "c909d968-ccf2-466c-a721-f57450e6b930",
   "metadata": {},
   "source": [
    "### 12. Take some groceries cost prices and print total cost and average cost, what is the max cost, what is the minimum cost"
   ]
  },
  {
   "cell_type": "code",
   "execution_count": 140,
   "id": "b9ded8bd-1ab5-429c-a551-ed2c30b5c75c",
   "metadata": {},
   "outputs": [
    {
     "name": "stdin",
     "output_type": "stream",
     "text": [
      "Cost of item 1:  85\n",
      "Cost of item 2:  64\n",
      "Cost of item 3:  98\n"
     ]
    },
    {
     "name": "stdout",
     "output_type": "stream",
     "text": [
      "Total Cost: 247.00/-\n",
      "Average cost: 82.33/-\n",
      "Maximun Cost: 98.00/-\n",
      "Minimum Cost: 64.00/-\n"
     ]
    }
   ],
   "source": [
    "cost1 = float(input(\"Cost of item 1: \"))\n",
    "cost2 = float(input(\"Cost of item 2: \"))\n",
    "cost3 = float(input(\"Cost of item 3: \"))\n",
    "costs = [cost1,cost2,cost3]\n",
    "total_cost = sum(costs)\n",
    "avg_cost = total_cost/len(costs)\n",
    "max_cost = max(costs)\n",
    "min_cost = min(costs)\n",
    "print(f\"Total Cost: {total_cost:.2f}/-\\nAverage cost: {avg_cost:.2f}/-\\nMaximun Cost: {max_cost:.2f}/-\\nMinimum Cost: {min_cost:.2f}/-\")"
   ]
  },
  {
   "cell_type": "code",
   "execution_count": 147,
   "id": "a5df84e8-1b01-43f5-8d22-8db8e5c9dfb0",
   "metadata": {},
   "outputs": [
    {
     "name": "stdout",
     "output_type": "stream",
     "text": [
      "['__doc__', '__loader__', '__name__', '__package__', '__spec__', 'acos', 'acosh', 'asin', 'asinh', 'atan', 'atan2', 'atanh', 'cbrt', 'ceil', 'comb', 'copysign', 'cos', 'cosh', 'degrees', 'dist', 'e', 'erf', 'erfc', 'exp', 'exp2', 'expm1', 'fabs', 'factorial', 'floor', 'fmod', 'frexp', 'fsum', 'gamma', 'gcd', 'hypot', 'inf', 'isclose', 'isfinite', 'isinf', 'isnan', 'isqrt', 'lcm', 'ldexp', 'lgamma', 'log', 'log10', 'log1p', 'log2', 'modf', 'nan', 'nextafter', 'perm', 'pi', 'pow', 'prod', 'radians', 'remainder', 'sin', 'sinh', 'sqrt', 'sumprod', 'tan', 'tanh', 'tau', 'trunc', 'ulp']\n",
      "Help on built-in module math:\n",
      "\n",
      "NAME\n",
      "    math\n",
      "\n",
      "DESCRIPTION\n",
      "    This module provides access to the mathematical functions\n",
      "    defined by the C standard.\n",
      "\n",
      "FUNCTIONS\n",
      "    acos(x, /)\n",
      "        Return the arc cosine (measured in radians) of x.\n",
      "\n",
      "        The result is between 0 and pi.\n",
      "\n",
      "    acosh(x, /)\n",
      "        Return the inverse hyperbolic cosine of x.\n",
      "\n",
      "    asin(x, /)\n",
      "        Return the arc sine (measured in radians) of x.\n",
      "\n",
      "        The result is between -pi/2 and pi/2.\n",
      "\n",
      "    asinh(x, /)\n",
      "        Return the inverse hyperbolic sine of x.\n",
      "\n",
      "    atan(x, /)\n",
      "        Return the arc tangent (measured in radians) of x.\n",
      "\n",
      "        The result is between -pi/2 and pi/2.\n",
      "\n",
      "    atan2(y, x, /)\n",
      "        Return the arc tangent (measured in radians) of y/x.\n",
      "\n",
      "        Unlike atan(y/x), the signs of both x and y are considered.\n",
      "\n",
      "    atanh(x, /)\n",
      "        Return the inverse hyperbolic tangent of x.\n",
      "\n",
      "    cbrt(x, /)\n",
      "        Return the cube root of x.\n",
      "\n",
      "    ceil(x, /)\n",
      "        Return the ceiling of x as an Integral.\n",
      "\n",
      "        This is the smallest integer >= x.\n",
      "\n",
      "    comb(n, k, /)\n",
      "        Number of ways to choose k items from n items without repetition and without order.\n",
      "\n",
      "        Evaluates to n! / (k! * (n - k)!) when k <= n and evaluates\n",
      "        to zero when k > n.\n",
      "\n",
      "        Also called the binomial coefficient because it is equivalent\n",
      "        to the coefficient of k-th term in polynomial expansion of the\n",
      "        expression (1 + x)**n.\n",
      "\n",
      "        Raises TypeError if either of the arguments are not integers.\n",
      "        Raises ValueError if either of the arguments are negative.\n",
      "\n",
      "    copysign(x, y, /)\n",
      "        Return a float with the magnitude (absolute value) of x but the sign of y.\n",
      "\n",
      "        On platforms that support signed zeros, copysign(1.0, -0.0)\n",
      "        returns -1.0.\n",
      "\n",
      "    cos(x, /)\n",
      "        Return the cosine of x (measured in radians).\n",
      "\n",
      "    cosh(x, /)\n",
      "        Return the hyperbolic cosine of x.\n",
      "\n",
      "    degrees(x, /)\n",
      "        Convert angle x from radians to degrees.\n",
      "\n",
      "    dist(p, q, /)\n",
      "        Return the Euclidean distance between two points p and q.\n",
      "\n",
      "        The points should be specified as sequences (or iterables) of\n",
      "        coordinates.  Both inputs must have the same dimension.\n",
      "\n",
      "        Roughly equivalent to:\n",
      "            sqrt(sum((px - qx) ** 2.0 for px, qx in zip(p, q)))\n",
      "\n",
      "    erf(x, /)\n",
      "        Error function at x.\n",
      "\n",
      "    erfc(x, /)\n",
      "        Complementary error function at x.\n",
      "\n",
      "    exp(x, /)\n",
      "        Return e raised to the power of x.\n",
      "\n",
      "    exp2(x, /)\n",
      "        Return 2 raised to the power of x.\n",
      "\n",
      "    expm1(x, /)\n",
      "        Return exp(x)-1.\n",
      "\n",
      "        This function avoids the loss of precision involved in the direct evaluation of exp(x)-1 for small x.\n",
      "\n",
      "    fabs(x, /)\n",
      "        Return the absolute value of the float x.\n",
      "\n",
      "    factorial(n, /)\n",
      "        Find n!.\n",
      "\n",
      "        Raise a ValueError if x is negative or non-integral.\n",
      "\n",
      "    floor(x, /)\n",
      "        Return the floor of x as an Integral.\n",
      "\n",
      "        This is the largest integer <= x.\n",
      "\n",
      "    fmod(x, y, /)\n",
      "        Return fmod(x, y), according to platform C.\n",
      "\n",
      "        x % y may differ.\n",
      "\n",
      "    frexp(x, /)\n",
      "        Return the mantissa and exponent of x, as pair (m, e).\n",
      "\n",
      "        m is a float and e is an int, such that x = m * 2.**e.\n",
      "        If x is 0, m and e are both 0.  Else 0.5 <= abs(m) < 1.0.\n",
      "\n",
      "    fsum(seq, /)\n",
      "        Return an accurate floating point sum of values in the iterable seq.\n",
      "\n",
      "        Assumes IEEE-754 floating point arithmetic.\n",
      "\n",
      "    gamma(x, /)\n",
      "        Gamma function at x.\n",
      "\n",
      "    gcd(*integers)\n",
      "        Greatest Common Divisor.\n",
      "\n",
      "    hypot(...)\n",
      "        hypot(*coordinates) -> value\n",
      "\n",
      "        Multidimensional Euclidean distance from the origin to a point.\n",
      "\n",
      "        Roughly equivalent to:\n",
      "            sqrt(sum(x**2 for x in coordinates))\n",
      "\n",
      "        For a two dimensional point (x, y), gives the hypotenuse\n",
      "        using the Pythagorean theorem:  sqrt(x*x + y*y).\n",
      "\n",
      "        For example, the hypotenuse of a 3/4/5 right triangle is:\n",
      "\n",
      "            >>> hypot(3.0, 4.0)\n",
      "            5.0\n",
      "\n",
      "    isclose(a, b, *, rel_tol=1e-09, abs_tol=0.0)\n",
      "        Determine whether two floating point numbers are close in value.\n",
      "\n",
      "          rel_tol\n",
      "            maximum difference for being considered \"close\", relative to the\n",
      "            magnitude of the input values\n",
      "          abs_tol\n",
      "            maximum difference for being considered \"close\", regardless of the\n",
      "            magnitude of the input values\n",
      "\n",
      "        Return True if a is close in value to b, and False otherwise.\n",
      "\n",
      "        For the values to be considered close, the difference between them\n",
      "        must be smaller than at least one of the tolerances.\n",
      "\n",
      "        -inf, inf and NaN behave similarly to the IEEE 754 Standard.  That\n",
      "        is, NaN is not close to anything, even itself.  inf and -inf are\n",
      "        only close to themselves.\n",
      "\n",
      "    isfinite(x, /)\n",
      "        Return True if x is neither an infinity nor a NaN, and False otherwise.\n",
      "\n",
      "    isinf(x, /)\n",
      "        Return True if x is a positive or negative infinity, and False otherwise.\n",
      "\n",
      "    isnan(x, /)\n",
      "        Return True if x is a NaN (not a number), and False otherwise.\n",
      "\n",
      "    isqrt(n, /)\n",
      "        Return the integer part of the square root of the input.\n",
      "\n",
      "    lcm(*integers)\n",
      "        Least Common Multiple.\n",
      "\n",
      "    ldexp(x, i, /)\n",
      "        Return x * (2**i).\n",
      "\n",
      "        This is essentially the inverse of frexp().\n",
      "\n",
      "    lgamma(x, /)\n",
      "        Natural logarithm of absolute value of Gamma function at x.\n",
      "\n",
      "    log(...)\n",
      "        log(x, [base=math.e])\n",
      "        Return the logarithm of x to the given base.\n",
      "\n",
      "        If the base is not specified, returns the natural logarithm (base e) of x.\n",
      "\n",
      "    log10(x, /)\n",
      "        Return the base 10 logarithm of x.\n",
      "\n",
      "    log1p(x, /)\n",
      "        Return the natural logarithm of 1+x (base e).\n",
      "\n",
      "        The result is computed in a way which is accurate for x near zero.\n",
      "\n",
      "    log2(x, /)\n",
      "        Return the base 2 logarithm of x.\n",
      "\n",
      "    modf(x, /)\n",
      "        Return the fractional and integer parts of x.\n",
      "\n",
      "        Both results carry the sign of x and are floats.\n",
      "\n",
      "    nextafter(x, y, /, *, steps=None)\n",
      "        Return the floating-point value the given number of steps after x towards y.\n",
      "\n",
      "        If steps is not specified or is None, it defaults to 1.\n",
      "\n",
      "        Raises a TypeError, if x or y is not a double, or if steps is not an integer.\n",
      "        Raises ValueError if steps is negative.\n",
      "\n",
      "    perm(n, k=None, /)\n",
      "        Number of ways to choose k items from n items without repetition and with order.\n",
      "\n",
      "        Evaluates to n! / (n - k)! when k <= n and evaluates\n",
      "        to zero when k > n.\n",
      "\n",
      "        If k is not specified or is None, then k defaults to n\n",
      "        and the function returns n!.\n",
      "\n",
      "        Raises TypeError if either of the arguments are not integers.\n",
      "        Raises ValueError if either of the arguments are negative.\n",
      "\n",
      "    pow(x, y, /)\n",
      "        Return x**y (x to the power of y).\n",
      "\n",
      "    prod(iterable, /, *, start=1)\n",
      "        Calculate the product of all the elements in the input iterable.\n",
      "\n",
      "        The default start value for the product is 1.\n",
      "\n",
      "        When the iterable is empty, return the start value.  This function is\n",
      "        intended specifically for use with numeric values and may reject\n",
      "        non-numeric types.\n",
      "\n",
      "    radians(x, /)\n",
      "        Convert angle x from degrees to radians.\n",
      "\n",
      "    remainder(x, y, /)\n",
      "        Difference between x and the closest integer multiple of y.\n",
      "\n",
      "        Return x - n*y where n*y is the closest integer multiple of y.\n",
      "        In the case where x is exactly halfway between two multiples of\n",
      "        y, the nearest even value of n is used. The result is always exact.\n",
      "\n",
      "    sin(x, /)\n",
      "        Return the sine of x (measured in radians).\n",
      "\n",
      "    sinh(x, /)\n",
      "        Return the hyperbolic sine of x.\n",
      "\n",
      "    sqrt(x, /)\n",
      "        Return the square root of x.\n",
      "\n",
      "    sumprod(p, q, /)\n",
      "        Return the sum of products of values from two iterables p and q.\n",
      "\n",
      "        Roughly equivalent to:\n",
      "\n",
      "            sum(itertools.starmap(operator.mul, zip(p, q, strict=True)))\n",
      "\n",
      "        For float and mixed int/float inputs, the intermediate products\n",
      "        and sums are computed with extended precision.\n",
      "\n",
      "    tan(x, /)\n",
      "        Return the tangent of x (measured in radians).\n",
      "\n",
      "    tanh(x, /)\n",
      "        Return the hyperbolic tangent of x.\n",
      "\n",
      "    trunc(x, /)\n",
      "        Truncates the Real x to the nearest Integral toward 0.\n",
      "\n",
      "        Uses the __trunc__ magic method.\n",
      "\n",
      "    ulp(x, /)\n",
      "        Return the value of the least significant bit of the float x.\n",
      "\n",
      "DATA\n",
      "    e = 2.718281828459045\n",
      "    inf = inf\n",
      "    nan = nan\n",
      "    pi = 3.141592653589793\n",
      "    tau = 6.283185307179586\n",
      "\n",
      "FILE\n",
      "    (built-in)\n",
      "\n",
      "\n"
     ]
    }
   ],
   "source": []
  },
  {
   "cell_type": "code",
   "execution_count": null,
   "id": "fc992bfb-2c71-4f2d-867a-4103361c683d",
   "metadata": {},
   "outputs": [],
   "source": []
  }
 ],
 "metadata": {
  "kernelspec": {
   "display_name": "Python 3 (ipykernel)",
   "language": "python",
   "name": "python3"
  },
  "language_info": {
   "codemirror_mode": {
    "name": "ipython",
    "version": 3
   },
   "file_extension": ".py",
   "mimetype": "text/x-python",
   "name": "python",
   "nbconvert_exporter": "python",
   "pygments_lexer": "ipython3",
   "version": "3.12.4"
  }
 },
 "nbformat": 4,
 "nbformat_minor": 5
}

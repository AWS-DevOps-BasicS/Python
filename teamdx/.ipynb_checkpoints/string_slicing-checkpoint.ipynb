{
 "cells": [
  {
   "cell_type": "code",
   "execution_count": 1,
   "id": "d2edd1dd-bca1-429d-b8c3-93811a4029e0",
   "metadata": {},
   "outputs": [
    {
     "name": "stdout",
     "output_type": "stream",
     "text": [
      "a\n"
     ]
    }
   ],
   "source": [
    "s = \"abcdefghijkl\"\n",
    "print(s[0])"
   ]
  },
  {
   "cell_type": "code",
   "execution_count": 3,
   "id": "bdb016e5-bbc6-4d81-a33c-8fbcec142f9e",
   "metadata": {},
   "outputs": [
    {
     "name": "stdout",
     "output_type": "stream",
     "text": [
      "b\n"
     ]
    }
   ],
   "source": [
    "s = \"abcdefghijkl\"\n",
    "print(s[1])"
   ]
  },
  {
   "cell_type": "code",
   "execution_count": 5,
   "id": "d9956877-b37b-4097-b6a2-e9cd854beba5",
   "metadata": {},
   "outputs": [
    {
     "name": "stdout",
     "output_type": "stream",
     "text": [
      "l\n"
     ]
    }
   ],
   "source": [
    "s = \"abcdefghijkl\"\n",
    "print(s[-1])"
   ]
  },
  {
   "cell_type": "code",
   "execution_count": 7,
   "id": "cdd5573a-db94-4b08-a8be-1e1bdeaca23f",
   "metadata": {},
   "outputs": [
    {
     "name": "stdout",
     "output_type": "stream",
     "text": [
      "a\n",
      "a\n"
     ]
    }
   ],
   "source": [
    "s = \"abcdefghijkl\"\n",
    "print(s[0])\n",
    "print(s[-12])"
   ]
  },
  {
   "cell_type": "code",
   "execution_count": 9,
   "id": "a3a4fa58-f95e-4333-8475-660920749260",
   "metadata": {},
   "outputs": [
    {
     "name": "stdout",
     "output_type": "stream",
     "text": [
      "a b c\n"
     ]
    }
   ],
   "source": [
    "s = \"abcdefghijkl\"\n",
    "print(s[0],s[1],s[2])"
   ]
  },
  {
   "cell_type": "code",
   "execution_count": 11,
   "id": "0d5fac0b-f4d7-468f-8822-c2cd0b3efa69",
   "metadata": {},
   "outputs": [
    {
     "name": "stdout",
     "output_type": "stream",
     "text": [
      "abc\n"
     ]
    }
   ],
   "source": [
    "s = \"abcdefghijkl\"\n",
    "print(s[0]+s[1]+s[2])"
   ]
  },
  {
   "cell_type": "code",
   "execution_count": 13,
   "id": "cf89dba8-01c0-4f0f-83fd-ff6668255300",
   "metadata": {},
   "outputs": [
    {
     "name": "stdout",
     "output_type": "stream",
     "text": [
      "abc\n"
     ]
    }
   ],
   "source": [
    "s = \"abcdefghijkl\"\n",
    "print(s[0:3])"
   ]
  },
  {
   "cell_type": "code",
   "execution_count": 19,
   "id": "39d0d80a-6ec0-4889-8304-bbac41d03e20",
   "metadata": {},
   "outputs": [
    {
     "name": "stdout",
     "output_type": "stream",
     "text": [
      "fghijkl\n"
     ]
    }
   ],
   "source": [
    "s = \"abcdefghijkl\"\n",
    "print(s[5:12]) # default step value is 1"
   ]
  },
  {
   "cell_type": "code",
   "execution_count": 17,
   "id": "7f6a4ffa-bb09-4e59-8928-aab0c707a9f3",
   "metadata": {},
   "outputs": [
    {
     "name": "stdout",
     "output_type": "stream",
     "text": [
      "fghijkl\n"
     ]
    }
   ],
   "source": [
    "s = \"abcdefghijkl\"\n",
    "print(s[5:30])"
   ]
  },
  {
   "cell_type": "code",
   "execution_count": 21,
   "id": "5a4718a3-5afc-4512-ae95-c68b8f40a64c",
   "metadata": {},
   "outputs": [
    {
     "ename": "IndexError",
     "evalue": "string index out of range",
     "output_type": "error",
     "traceback": [
      "\u001b[1;31m---------------------------------------------------------------------------\u001b[0m",
      "\u001b[1;31mIndexError\u001b[0m                                Traceback (most recent call last)",
      "Cell \u001b[1;32mIn[21], line 2\u001b[0m\n\u001b[0;32m      1\u001b[0m s \u001b[38;5;241m=\u001b[39m \u001b[38;5;124m\"\u001b[39m\u001b[38;5;124mabcdefghijkl\u001b[39m\u001b[38;5;124m\"\u001b[39m\n\u001b[1;32m----> 2\u001b[0m \u001b[38;5;28mprint\u001b[39m(s[\u001b[38;5;241m30\u001b[39m])\n",
      "\u001b[1;31mIndexError\u001b[0m: string index out of range"
     ]
    }
   ],
   "source": [
    "s = \"abcdefghijkl\"\n",
    "print(s[30])"
   ]
  },
  {
   "cell_type": "code",
   "execution_count": 23,
   "id": "3820de6e-1cf9-42b7-be31-28b0f228bdb9",
   "metadata": {},
   "outputs": [
    {
     "data": {
      "text/plain": [
       "[]"
      ]
     },
     "execution_count": 23,
     "metadata": {},
     "output_type": "execute_result"
    }
   ],
   "source": [
    "list(range(10,2))"
   ]
  },
  {
   "cell_type": "code",
   "execution_count": 25,
   "id": "5c0cb40d-9942-4af2-b0ca-7476c3a635fd",
   "metadata": {},
   "outputs": [
    {
     "name": "stdout",
     "output_type": "stream",
     "text": [
      "b\n",
      "c\n",
      "d\n"
     ]
    },
    {
     "ename": "IndexError",
     "evalue": "string index out of range",
     "output_type": "error",
     "traceback": [
      "\u001b[1;31m---------------------------------------------------------------------------\u001b[0m",
      "\u001b[1;31mIndexError\u001b[0m                                Traceback (most recent call last)",
      "Cell \u001b[1;32mIn[25], line 3\u001b[0m\n\u001b[0;32m      1\u001b[0m s \u001b[38;5;241m=\u001b[39m \u001b[38;5;124m\"\u001b[39m\u001b[38;5;124mabcd\u001b[39m\u001b[38;5;124m\"\u001b[39m\n\u001b[0;32m      2\u001b[0m \u001b[38;5;28;01mfor\u001b[39;00m i \u001b[38;5;129;01min\u001b[39;00m \u001b[38;5;28mrange\u001b[39m(\u001b[38;5;241m1\u001b[39m,\u001b[38;5;241m10\u001b[39m):\n\u001b[1;32m----> 3\u001b[0m     \u001b[38;5;28mprint\u001b[39m(s[i])\n",
      "\u001b[1;31mIndexError\u001b[0m: string index out of range"
     ]
    }
   ],
   "source": [
    "s = \"abcd\"\n",
    "for i in range(1,10):\n",
    "    print(s[i])\n"
   ]
  },
  {
   "cell_type": "code",
   "execution_count": 27,
   "id": "bef54673-c743-4d40-b26c-cb4dd9070cca",
   "metadata": {},
   "outputs": [
    {
     "name": "stdout",
     "output_type": "stream",
     "text": [
      "a b c d\n"
     ]
    },
    {
     "ename": "IndexError",
     "evalue": "string index out of range",
     "output_type": "error",
     "traceback": [
      "\u001b[1;31m---------------------------------------------------------------------------\u001b[0m",
      "\u001b[1;31mIndexError\u001b[0m                                Traceback (most recent call last)",
      "Cell \u001b[1;32mIn[27], line 3\u001b[0m\n\u001b[0;32m      1\u001b[0m s \u001b[38;5;241m=\u001b[39m \u001b[38;5;124m\"\u001b[39m\u001b[38;5;124mabcd\u001b[39m\u001b[38;5;124m\"\u001b[39m\n\u001b[0;32m      2\u001b[0m \u001b[38;5;28mprint\u001b[39m(s[\u001b[38;5;241m0\u001b[39m],s[\u001b[38;5;241m1\u001b[39m],s[\u001b[38;5;241m2\u001b[39m],s[\u001b[38;5;241m3\u001b[39m])\n\u001b[1;32m----> 3\u001b[0m \u001b[38;5;28mprint\u001b[39m(s[\u001b[38;5;241m4\u001b[39m])\n",
      "\u001b[1;31mIndexError\u001b[0m: string index out of range"
     ]
    }
   ],
   "source": [
    "s = \"abcd\"\n",
    "print(s[0],s[1],s[2],s[3])\n",
    "print(s[4])"
   ]
  },
  {
   "cell_type": "code",
   "execution_count": 29,
   "id": "111b4f35-7337-4869-a9b5-479d6527402b",
   "metadata": {},
   "outputs": [
    {
     "name": "stdout",
     "output_type": "stream",
     "text": [
      "cdefghij\n"
     ]
    }
   ],
   "source": [
    "s = \"abcdefghijkl\"\n",
    "print(s[2:10])"
   ]
  },
  {
   "cell_type": "code",
   "execution_count": 31,
   "id": "77660a0c-bcb1-40ab-a403-3f49b1d1f024",
   "metadata": {},
   "outputs": [
    {
     "name": "stdout",
     "output_type": "stream",
     "text": [
      "\n"
     ]
    }
   ],
   "source": [
    "s = \"abcdefghijkl\"\n",
    "print(s[2:10:-1])"
   ]
  },
  {
   "cell_type": "code",
   "execution_count": 33,
   "id": "ffb39a40-10c0-43c4-b062-34013e131a96",
   "metadata": {},
   "outputs": [
    {
     "name": "stdout",
     "output_type": "stream",
     "text": [
      "\n"
     ]
    }
   ],
   "source": [
    "s = \"abcdefghijkl\"\n",
    "print(s[2:-10:-1])"
   ]
  },
  {
   "cell_type": "code",
   "execution_count": 37,
   "id": "d0fa7413-1919-4f64-887a-1828b86199a8",
   "metadata": {},
   "outputs": [
    {
     "name": "stdout",
     "output_type": "stream",
     "text": [
      "c\n"
     ]
    }
   ],
   "source": [
    "s = \"abcdefghijkl\"\n",
    "print(s[2:-11:-1])"
   ]
  },
  {
   "cell_type": "code",
   "execution_count": 39,
   "id": "5a27db07-1680-44c0-b53d-61aa5843a785",
   "metadata": {},
   "outputs": [
    {
     "name": "stdout",
     "output_type": "stream",
     "text": [
      "\n"
     ]
    }
   ],
   "source": [
    "s = \"abcdefghijkl\"\n",
    "print(s[-2:-11:1])"
   ]
  },
  {
   "cell_type": "code",
   "execution_count": 41,
   "id": "e347c558-15ba-4e2f-ad67-6193cb8b6bdf",
   "metadata": {},
   "outputs": [
    {
     "name": "stdout",
     "output_type": "stream",
     "text": [
      "cegik\n"
     ]
    }
   ],
   "source": [
    "s = \"abcdefghijkl\"\n",
    "print(s[2:11:2])"
   ]
  },
  {
   "cell_type": "code",
   "execution_count": 43,
   "id": "da9d901e-2b71-4253-a61a-2b28163ba178",
   "metadata": {},
   "outputs": [
    {
     "name": "stdout",
     "output_type": "stream",
     "text": [
      "c\n"
     ]
    }
   ],
   "source": [
    "s = \"abcdefghijkl\"\n",
    "print(s[2:-11:-2])"
   ]
  },
  {
   "cell_type": "code",
   "execution_count": 45,
   "id": "6f961313-41f5-42fd-8a70-f1962751f9b1",
   "metadata": {},
   "outputs": [
    {
     "name": "stdout",
     "output_type": "stream",
     "text": [
      "\n"
     ]
    }
   ],
   "source": [
    "s = \"abcdefghijkl\"\n",
    "print(s[2:-9:-2])"
   ]
  },
  {
   "cell_type": "code",
   "execution_count": 47,
   "id": "0a84efc5-a7e3-4e97-a83c-559f2227807a",
   "metadata": {},
   "outputs": [
    {
     "name": "stdout",
     "output_type": "stream",
     "text": [
      "kige\n"
     ]
    }
   ],
   "source": [
    "s = \"abcdefghijkl\"\n",
    "print(s[-2:-9:-2])"
   ]
  },
  {
   "cell_type": "code",
   "execution_count": 49,
   "id": "7d1f6499-2ee1-4926-821f-6a4ec1642ac8",
   "metadata": {},
   "outputs": [
    {
     "name": "stdout",
     "output_type": "stream",
     "text": [
      "heb\n"
     ]
    }
   ],
   "source": [
    "s = \"abcdefghijkl\"\n",
    "print(s[7:-15:-3])"
   ]
  },
  {
   "cell_type": "code",
   "execution_count": 51,
   "id": "c55bed48-40fc-4734-8dbd-63ffeb55b550",
   "metadata": {},
   "outputs": [
    {
     "name": "stdout",
     "output_type": "stream",
     "text": [
      "da\n"
     ]
    }
   ],
   "source": [
    "s = \"abcdefghijkl\"\n",
    "print(s[3:-15:-3])"
   ]
  },
  {
   "cell_type": "code",
   "execution_count": 53,
   "id": "03b07aae-d8c9-4d83-b496-e5e0de3f02d3",
   "metadata": {},
   "outputs": [
    {
     "name": "stdout",
     "output_type": "stream",
     "text": [
      "abc\n"
     ]
    }
   ],
   "source": [
    "s = \"abcdefghijkl\"\n",
    "print(s[:3])"
   ]
  },
  {
   "cell_type": "code",
   "execution_count": 55,
   "id": "8dd09071-074c-4730-9ab9-32ad75e66f7d",
   "metadata": {},
   "outputs": [
    {
     "name": "stdout",
     "output_type": "stream",
     "text": [
      "lkjihgfe\n"
     ]
    }
   ],
   "source": [
    "s = \"abcdefghijkl\"\n",
    "print(s[:3:-1])"
   ]
  },
  {
   "cell_type": "code",
   "execution_count": 57,
   "id": "1c907d24-1964-40a1-b7e8-ade7d0e66dd2",
   "metadata": {},
   "outputs": [
    {
     "name": "stdout",
     "output_type": "stream",
     "text": [
      "lk\n"
     ]
    }
   ],
   "source": [
    "s = \"abcdefghijkl\"\n",
    "print(s[:-3:-1])"
   ]
  },
  {
   "cell_type": "code",
   "execution_count": 63,
   "id": "e4eab64a-9961-423e-bc0a-f5ac8c719932",
   "metadata": {},
   "outputs": [
    {
     "name": "stdout",
     "output_type": "stream",
     "text": [
      "dcba\n"
     ]
    }
   ],
   "source": [
    "s = \"abcdefghijkl\"\n",
    "print(s[3::-1])"
   ]
  },
  {
   "cell_type": "code",
   "execution_count": 65,
   "id": "cefe39c1-0335-42b4-96f2-ae51fdc443d7",
   "metadata": {},
   "outputs": [
    {
     "name": "stdout",
     "output_type": "stream",
     "text": [
      "defghijkl\n"
     ]
    }
   ],
   "source": [
    "s = \"abcdefghijkl\"\n",
    "print(s[3::1])"
   ]
  },
  {
   "cell_type": "code",
   "execution_count": 67,
   "id": "1e560045-ee51-4f16-90f0-b2a8a49047c8",
   "metadata": {},
   "outputs": [
    {
     "name": "stdout",
     "output_type": "stream",
     "text": [
      "j\n"
     ]
    }
   ],
   "source": [
    "s = \"abcdefghijkl\"\n",
    "print(s[9:-1:2])"
   ]
  },
  {
   "cell_type": "code",
   "execution_count": 59,
   "id": "f45c71b5-fe12-474b-98c6-51fe961f7e58",
   "metadata": {},
   "outputs": [
    {
     "name": "stdout",
     "output_type": "stream",
     "text": [
      "abcdefghijkl\n"
     ]
    }
   ],
   "source": [
    "s = \"abcdefghijkl\"\n",
    "print(s[::])"
   ]
  },
  {
   "cell_type": "code",
   "execution_count": 61,
   "id": "72ff0acf-31dd-48cd-b543-d206fea20c28",
   "metadata": {},
   "outputs": [
    {
     "name": "stdout",
     "output_type": "stream",
     "text": [
      "lkjihgfedcba\n"
     ]
    }
   ],
   "source": [
    "s = \"abcdefghijkl\"\n",
    "print(s[::-1])"
   ]
  },
  {
   "cell_type": "code",
   "execution_count": 73,
   "id": "5c1934d3-48b0-42b1-9dca-90af7f9e0516",
   "metadata": {},
   "outputs": [
    {
     "name": "stdout",
     "output_type": "stream",
     "text": [
      "acegik\n"
     ]
    }
   ],
   "source": [
    "s = \"abcdefghijkl\"\n",
    "print(s[::2])"
   ]
  },
  {
   "cell_type": "code",
   "execution_count": 69,
   "id": "a55e215b-e825-46c4-8715-482da67395fd",
   "metadata": {},
   "outputs": [
    {
     "name": "stdout",
     "output_type": "stream",
     "text": [
      "['apple', 'orange']\n"
     ]
    }
   ],
   "source": [
    "l=[\"apple\",\"orange\",\"grape\",\"mango\",\"papapya\"]\n",
    "print(l[:2])"
   ]
  },
  {
   "cell_type": "code",
   "execution_count": 71,
   "id": "32749e58-cf40-4223-9631-a080a2081c40",
   "metadata": {},
   "outputs": [
    {
     "name": "stdout",
     "output_type": "stream",
     "text": [
      "['papapya', 'mango']\n"
     ]
    }
   ],
   "source": [
    "l=[\"apple\",\"orange\",\"grape\",\"mango\",\"papapya\"]\n",
    "print(l[:2:-1])"
   ]
  },
  {
   "cell_type": "code",
   "execution_count": null,
   "id": "f36d2a13-7f75-4a25-ad11-a5a7d5eaed54",
   "metadata": {},
   "outputs": [],
   "source": []
  }
 ],
 "metadata": {
  "kernelspec": {
   "display_name": "Python 3 (ipykernel)",
   "language": "python",
   "name": "python3"
  },
  "language_info": {
   "codemirror_mode": {
    "name": "ipython",
    "version": 3
   },
   "file_extension": ".py",
   "mimetype": "text/x-python",
   "name": "python",
   "nbconvert_exporter": "python",
   "pygments_lexer": "ipython3",
   "version": "3.12.4"
  }
 },
 "nbformat": 4,
 "nbformat_minor": 5
}

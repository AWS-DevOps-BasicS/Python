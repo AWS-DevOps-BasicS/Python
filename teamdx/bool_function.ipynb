{
 "cells": [
  {
   "cell_type": "code",
   "execution_count": 1,
   "id": "9bccd6c3-0581-42e4-a67a-b78931bb5832",
   "metadata": {},
   "outputs": [
    {
     "data": {
      "text/plain": [
       "True"
      ]
     },
     "execution_count": 1,
     "metadata": {},
     "output_type": "execute_result"
    }
   ],
   "source": [
    "bool(1)"
   ]
  },
  {
   "cell_type": "code",
   "execution_count": 3,
   "id": "237655d4-1329-4e8a-b717-8d06dbf993bb",
   "metadata": {},
   "outputs": [
    {
     "data": {
      "text/plain": [
       "False"
      ]
     },
     "execution_count": 3,
     "metadata": {},
     "output_type": "execute_result"
    }
   ],
   "source": [
    "bool(0)"
   ]
  },
  {
   "cell_type": "code",
   "execution_count": 7,
   "id": "8478c7d9-6f55-4a16-b2a8-62ebe95632c4",
   "metadata": {},
   "outputs": [
    {
     "data": {
      "text/plain": [
       "True"
      ]
     },
     "execution_count": 7,
     "metadata": {},
     "output_type": "execute_result"
    }
   ],
   "source": [
    "bool(\"python\")"
   ]
  },
  {
   "cell_type": "code",
   "execution_count": 9,
   "id": "97720f32-bc30-4086-9061-ea4e25513bf4",
   "metadata": {},
   "outputs": [
    {
     "data": {
      "text/plain": [
       "False"
      ]
     },
     "execution_count": 9,
     "metadata": {},
     "output_type": "execute_result"
    }
   ],
   "source": [
    "bool(\"\")"
   ]
  },
  {
   "cell_type": "code",
   "execution_count": 11,
   "id": "a359cf83-b41c-4cb0-a662-d2f397c3abe4",
   "metadata": {},
   "outputs": [
    {
     "data": {
      "text/plain": [
       "False"
      ]
     },
     "execution_count": 11,
     "metadata": {},
     "output_type": "execute_result"
    }
   ],
   "source": [
    "bool([])"
   ]
  },
  {
   "cell_type": "code",
   "execution_count": 13,
   "id": "20dd52cd-0271-47be-a95f-e27cb7f64584",
   "metadata": {},
   "outputs": [
    {
     "data": {
      "text/plain": [
       "False"
      ]
     },
     "execution_count": 13,
     "metadata": {},
     "output_type": "execute_result"
    }
   ],
   "source": [
    "bool(())"
   ]
  },
  {
   "cell_type": "code",
   "execution_count": 21,
   "id": "57449a4f-d3c3-4d72-bd4e-27554ed795a5",
   "metadata": {},
   "outputs": [
    {
     "data": {
      "text/plain": [
       "False"
      ]
     },
     "execution_count": 21,
     "metadata": {},
     "output_type": "execute_result"
    }
   ],
   "source": [
    "bool({})"
   ]
  },
  {
   "cell_type": "code",
   "execution_count": 15,
   "id": "83cdcb0d-c1a8-4780-9179-eec905f2122a",
   "metadata": {},
   "outputs": [
    {
     "data": {
      "text/plain": [
       "True"
      ]
     },
     "execution_count": 15,
     "metadata": {},
     "output_type": "execute_result"
    }
   ],
   "source": [
    "bool([0])"
   ]
  },
  {
   "cell_type": "code",
   "execution_count": 19,
   "id": "47bd255e-194a-4c9f-9f02-8ee29dd2e665",
   "metadata": {},
   "outputs": [
    {
     "data": {
      "text/plain": [
       "True"
      ]
     },
     "execution_count": 19,
     "metadata": {},
     "output_type": "execute_result"
    }
   ],
   "source": [
    "bool((0,))"
   ]
  },
  {
   "cell_type": "code",
   "execution_count": 23,
   "id": "09112ff6-4f3b-4510-b29f-9ad590eb35cf",
   "metadata": {},
   "outputs": [
    {
     "data": {
      "text/plain": [
       "True"
      ]
     },
     "execution_count": 23,
     "metadata": {},
     "output_type": "execute_result"
    }
   ],
   "source": [
    "bool({0})"
   ]
  },
  {
   "cell_type": "markdown",
   "id": "6dbac97a-bf6b-47eb-8304-107590a808eb",
   "metadata": {},
   "source": [
    "### In Python, when converting numbers to boolean values, 0 and 0.0 (or 0.00001, -1000, etc.) behave as follows:\n",
    "\n",
    "* Integer 0: Evaluates to False.\n",
    "* Any non-zero integer: Evaluates to True.\n",
    "* Float 0.0: Evaluates to False.\n",
    "* Any non-zero float (like 0.00001, -1000): Evaluates to True"
   ]
  },
  {
   "cell_type": "code",
   "execution_count": 26,
   "id": "9bcba6d1-ba91-414d-ba36-7eee6d1f7d24",
   "metadata": {},
   "outputs": [
    {
     "name": "stdout",
     "output_type": "stream",
     "text": [
      "False\n",
      "True\n",
      "True\n",
      "False\n",
      "True\n",
      "True\n"
     ]
    }
   ],
   "source": [
    "# Integer examples\n",
    "print(bool(0))        # Output: False\n",
    "print(bool(1))        # Output: True\n",
    "print(bool(-1))       # Output: True\n",
    "\n",
    "# Float examples\n",
    "print(bool(0.0))      # Output: False\n",
    "print(bool(0.00001))  # Output: True\n",
    "print(bool(-1000.0))  # Output: True\n"
   ]
  },
  {
   "cell_type": "code",
   "execution_count": null,
   "id": "edbf035a-f01d-4c2c-9434-2ad2d0cde737",
   "metadata": {},
   "outputs": [],
   "source": []
  }
 ],
 "metadata": {
  "kernelspec": {
   "display_name": "Python 3 (ipykernel)",
   "language": "python",
   "name": "python3"
  },
  "language_info": {
   "codemirror_mode": {
    "name": "ipython",
    "version": 3
   },
   "file_extension": ".py",
   "mimetype": "text/x-python",
   "name": "python",
   "nbconvert_exporter": "python",
   "pygments_lexer": "ipython3",
   "version": "3.12.4"
  }
 },
 "nbformat": 4,
 "nbformat_minor": 5
}

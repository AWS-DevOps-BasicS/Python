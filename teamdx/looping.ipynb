{
 "cells": [
  {
   "cell_type": "markdown",
   "id": "222b3c65-6359-4b66-bb41-bb880ed3f3fa",
   "metadata": {},
   "source": [
    "# Python Loops\n",
    "* Python has two primitive loop commands:\n",
    "\n",
    "    1. `while` loops\n",
    "    2. `for` loops"
   ]
  },
  {
   "cell_type": "code",
   "execution_count": 6,
   "id": "fc34965d-7adc-438b-9f78-bcb8bbd8005c",
   "metadata": {},
   "outputs": [
    {
     "name": "stdout",
     "output_type": "stream",
     "text": [
      "Even\n",
      "Odd\n"
     ]
    }
   ],
   "source": [
    "numbers = [12,13,23,14,25,36,47]\n",
    "if numbers[0]%2==0:\n",
    "    print(\"Even\")\n",
    "else:\n",
    "    print(\"Odd\")\n",
    "if numbers[1]%2==0:\n",
    "    print(\"Even\")\n",
    "else:\n",
    "    print(\"Odd\")"
   ]
  },
  {
   "cell_type": "code",
   "execution_count": 1,
   "id": "3b6a4404-0805-4a56-bef9-ad264d21aee1",
   "metadata": {},
   "outputs": [
    {
     "name": "stdout",
     "output_type": "stream",
     "text": [
      "Even\n"
     ]
    }
   ],
   "source": [
    "number = 12\n",
    "if number%2==0:\n",
    "    print(\"Even\")\n",
    "else:\n",
    "    print(\"odd\")"
   ]
  },
  {
   "cell_type": "markdown",
   "id": "d9481224-0399-4c1d-b242-31f444f34780",
   "metadata": {},
   "source": [
    "### above one is ok if we have single number but if we have list of numbers we have to write indivdually instead of the we can use `for`"
   ]
  },
  {
   "cell_type": "code",
   "execution_count": 8,
   "id": "b4024356-20fd-463e-8dbd-a72aff71c35a",
   "metadata": {},
   "outputs": [
    {
     "name": "stdout",
     "output_type": "stream",
     "text": [
      "Hello\n",
      "12\n",
      "Hello\n",
      "13\n",
      "Hello\n",
      "23\n",
      "Hello\n",
      "14\n",
      "Hello\n",
      "25\n",
      "Hello\n",
      "36\n",
      "Hello\n",
      "47\n",
      "HI\n"
     ]
    }
   ],
   "source": [
    "numbers = [12,13,23,14,25,36,47]\n",
    "for num in numbers:\n",
    "    print(\"Hello\")\n",
    "    print(num)\n",
    "print(\"HI\")"
   ]
  },
  {
   "cell_type": "code",
   "execution_count": 10,
   "id": "d04361a7-4ff7-40d9-9922-0830e86d9b11",
   "metadata": {},
   "outputs": [
    {
     "name": "stdout",
     "output_type": "stream",
     "text": [
      "1\n",
      "0\n",
      "0\n",
      "0\n"
     ]
    }
   ],
   "source": [
    "for num in \"1000\":\n",
    "    print(num)"
   ]
  },
  {
   "cell_type": "code",
   "execution_count": 3,
   "id": "c6ad04b9-6436-450e-a63b-2e07331e60aa",
   "metadata": {},
   "outputs": [
    {
     "name": "stdout",
     "output_type": "stream",
     "text": [
      "1\n",
      "2\n",
      "3\n",
      "4\n",
      "exit\n"
     ]
    }
   ],
   "source": [
    "numbers = [1,2,3,4]\n",
    "for num in numbers:\n",
    "    print(num)\n",
    "print(\"exit\")"
   ]
  },
  {
   "cell_type": "code",
   "execution_count": 5,
   "id": "177a6a76-079c-415e-bcc1-d723c50ad7cc",
   "metadata": {},
   "outputs": [
    {
     "name": "stdout",
     "output_type": "stream",
     "text": [
      "1\n",
      "2\n",
      "3\n",
      "4\n",
      "exit\n"
     ]
    }
   ],
   "source": [
    "numbers = (1,2,3,4)\n",
    "for num in numbers:\n",
    "    print(num)\n",
    "print(\"exit\")"
   ]
  },
  {
   "cell_type": "code",
   "execution_count": 21,
   "id": "f9b99e19-e2fc-4929-89ab-24209ac090df",
   "metadata": {},
   "outputs": [
    {
     "name": "stdout",
     "output_type": "stream",
     "text": [
      "11\n",
      "83\n",
      "4\n",
      "62\n",
      "exit\n"
     ]
    }
   ],
   "source": [
    "numbers = {11,62,83,4}\n",
    "for num in numbers:\n",
    "    print(num)\n",
    "print(\"exit\")"
   ]
  },
  {
   "cell_type": "code",
   "execution_count": 17,
   "id": "961ddfef-9805-4fc5-9cb3-7a5c9c1e294d",
   "metadata": {},
   "outputs": [
    {
     "name": "stdout",
     "output_type": "stream",
     "text": [
      "x1\n",
      "x2\n",
      "exit\n"
     ]
    }
   ],
   "source": [
    "numbers = {'x1':2,'x2':4}\n",
    "for num in numbers:\n",
    "    print(num)\n",
    "print(\"exit\")"
   ]
  },
  {
   "cell_type": "code",
   "execution_count": 19,
   "id": "aaa12556-cf4a-4878-b18a-72818bb3e63a",
   "metadata": {},
   "outputs": [
    {
     "name": "stdout",
     "output_type": "stream",
     "text": [
      "1\n",
      "3\n",
      "exit\n"
     ]
    }
   ],
   "source": [
    "numbers = {1:'x1',3:'x2'}\n",
    "for num in numbers:\n",
    "    print(num)\n",
    "print(\"exit\")"
   ]
  },
  {
   "cell_type": "code",
   "execution_count": 23,
   "id": "a55e5b91-3555-4424-a247-95c6966aa41c",
   "metadata": {},
   "outputs": [
    {
     "name": "stdout",
     "output_type": "stream",
     "text": [
      "p\n",
      "o\n",
      "t\n",
      "exit\n"
     ]
    }
   ],
   "source": [
    "for x in \"pot\":\n",
    "    print(x)\n",
    "print(\"exit\")"
   ]
  },
  {
   "cell_type": "code",
   "execution_count": 25,
   "id": "9375eca6-e68e-49ef-8f03-cf2e7a205b10",
   "metadata": {},
   "outputs": [
    {
     "ename": "TypeError",
     "evalue": "'bool' object is not iterable",
     "output_type": "error",
     "traceback": [
      "\u001b[1;31m---------------------------------------------------------------------------\u001b[0m",
      "\u001b[1;31mTypeError\u001b[0m                                 Traceback (most recent call last)",
      "Cell \u001b[1;32mIn[25], line 1\u001b[0m\n\u001b[1;32m----> 1\u001b[0m \u001b[38;5;28;01mfor\u001b[39;00m x \u001b[38;5;129;01min\u001b[39;00m \u001b[38;5;28;01mFalse\u001b[39;00m:\n\u001b[0;32m      2\u001b[0m     \u001b[38;5;28mprint\u001b[39m(x)\n",
      "\u001b[1;31mTypeError\u001b[0m: 'bool' object is not iterable"
     ]
    }
   ],
   "source": [
    "for x in False:\n",
    "    print(x)"
   ]
  },
  {
   "cell_type": "code",
   "execution_count": 27,
   "id": "138e5c12-3783-4694-a221-3377292ef2d9",
   "metadata": {},
   "outputs": [
    {
     "ename": "TypeError",
     "evalue": "'int' object is not iterable",
     "output_type": "error",
     "traceback": [
      "\u001b[1;31m---------------------------------------------------------------------------\u001b[0m",
      "\u001b[1;31mTypeError\u001b[0m                                 Traceback (most recent call last)",
      "Cell \u001b[1;32mIn[27], line 1\u001b[0m\n\u001b[1;32m----> 1\u001b[0m \u001b[38;5;28;01mfor\u001b[39;00m x \u001b[38;5;129;01min\u001b[39;00m \u001b[38;5;241m10000\u001b[39m:\n\u001b[0;32m      2\u001b[0m     \u001b[38;5;28mprint\u001b[39m(x)\n",
      "\u001b[1;31mTypeError\u001b[0m: 'int' object is not iterable"
     ]
    }
   ],
   "source": [
    "for x in 10000:\n",
    "    print(x)"
   ]
  },
  {
   "cell_type": "code",
   "execution_count": 29,
   "id": "a539445c-4bf7-4aaa-875f-5cef66a413ee",
   "metadata": {},
   "outputs": [
    {
     "ename": "TypeError",
     "evalue": "'float' object is not iterable",
     "output_type": "error",
     "traceback": [
      "\u001b[1;31m---------------------------------------------------------------------------\u001b[0m",
      "\u001b[1;31mTypeError\u001b[0m                                 Traceback (most recent call last)",
      "Cell \u001b[1;32mIn[29], line 1\u001b[0m\n\u001b[1;32m----> 1\u001b[0m \u001b[38;5;28;01mfor\u001b[39;00m x \u001b[38;5;129;01min\u001b[39;00m \u001b[38;5;241m12.34\u001b[39m:\n\u001b[0;32m      2\u001b[0m     \u001b[38;5;28mprint\u001b[39m(x)\n",
      "\u001b[1;31mTypeError\u001b[0m: 'float' object is not iterable"
     ]
    }
   ],
   "source": [
    "for x in 12.34:\n",
    "    print(x)"
   ]
  },
  {
   "cell_type": "code",
   "execution_count": 12,
   "id": "5fdccdb8-5ee2-47a1-97cf-3f3b22ea5ac6",
   "metadata": {},
   "outputs": [
    {
     "ename": "TypeError",
     "evalue": "'NoneType' object is not iterable",
     "output_type": "error",
     "traceback": [
      "\u001b[1;31m---------------------------------------------------------------------------\u001b[0m",
      "\u001b[1;31mTypeError\u001b[0m                                 Traceback (most recent call last)",
      "Cell \u001b[1;32mIn[12], line 1\u001b[0m\n\u001b[1;32m----> 1\u001b[0m \u001b[38;5;28;01mfor\u001b[39;00m x \u001b[38;5;129;01min\u001b[39;00m \u001b[38;5;28;01mNone\u001b[39;00m:\n\u001b[0;32m      2\u001b[0m     \u001b[38;5;28mprint\u001b[39m(x)\n",
      "\u001b[1;31mTypeError\u001b[0m: 'NoneType' object is not iterable"
     ]
    }
   ],
   "source": [
    "for x in None:\n",
    "    print(x)"
   ]
  },
  {
   "cell_type": "code",
   "execution_count": 31,
   "id": "4fa4a7d2-6e0e-453a-b2a8-feb96315edd4",
   "metadata": {},
   "outputs": [
    {
     "name": "stdout",
     "output_type": "stream",
     "text": [
      "hello\n"
     ]
    }
   ],
   "source": [
    "for i in []:\n",
    "    print(i)\n",
    "    print(\"Hi\")\n",
    "print(\"hello\")"
   ]
  },
  {
   "cell_type": "code",
   "execution_count": 14,
   "id": "0a3bcf40-e250-46c6-9578-8fb237a7cdf0",
   "metadata": {},
   "outputs": [
    {
     "name": "stdout",
     "output_type": "stream",
     "text": [
      "10 +ve\n",
      "-1 -ve\n",
      "8 +ve\n",
      "-9 -ve\n",
      "11 +ve\n",
      "-18 -ve\n",
      "156 +ve\n",
      "Done\n"
     ]
    }
   ],
   "source": [
    "num = [10,-1,8,-9,11,-18,156]\n",
    "for i in num:\n",
    "    if i>=0:\n",
    "        print(i,\"+ve\")\n",
    "    else:\n",
    "        print(i,\"-ve\")\n",
    "print(\"Done\")"
   ]
  },
  {
   "cell_type": "code",
   "execution_count": 51,
   "id": "d955f5e1-8236-46ae-a03d-cb1bb8a664e4",
   "metadata": {},
   "outputs": [
    {
     "name": "stdout",
     "output_type": "stream",
     "text": [
      "3 negative numbers\n",
      "4 positive numbers\n"
     ]
    }
   ],
   "source": [
    "num = [10,-1,8,-9,11,-18,156]\n",
    "pos_count =0\n",
    "neg_count =0\n",
    "for i in num:\n",
    "    if i>=0:\n",
    "        pos_count=pos_count+1\n",
    "    else:\n",
    "        neg_count=neg_count+1\n",
    "print(neg_count,\"negative numbers\")\n",
    "print(pos_count,\"positive numbers\")"
   ]
  },
  {
   "cell_type": "code",
   "execution_count": 57,
   "id": "c98159f2-e7ca-41f1-bdda-7129e08f58f5",
   "metadata": {},
   "outputs": [
    {
     "name": "stdout",
     "output_type": "stream",
     "text": [
      "1\n",
      "it has positive number\n"
     ]
    }
   ],
   "source": [
    "num = [10,-1,8,-9,11,-18,156]\n",
    "pos_count =0\n",
    "neg_count =0\n",
    "for i in num:\n",
    "    if i>=0:\n",
    "        pos_count=pos_count+1\n",
    "        break\n",
    "    else:\n",
    "        neg_count=neg_count+1\n",
    "if pos_count>0:\n",
    "    print(pos_count)\n",
    "    print(\"it has positive number\")\n",
    "    "
   ]
  },
  {
   "cell_type": "code",
   "execution_count": 16,
   "id": "3d07b589-1785-4468-9bee-02441fcfdf9b",
   "metadata": {},
   "outputs": [
    {
     "name": "stdout",
     "output_type": "stream",
     "text": [
      "p\n",
      "hi\n",
      "y\n",
      "hi\n",
      "t\n",
      "hi\n",
      "h\n",
      "hi\n",
      "o\n",
      "hi\n",
      "n\n",
      "hi\n",
      "END\n"
     ]
    }
   ],
   "source": [
    "for i in \"python\":\n",
    "    print(i)\n",
    "    print(\"hi\")\n",
    "print(\"END\")"
   ]
  },
  {
   "cell_type": "code",
   "execution_count": 18,
   "id": "254325fa-8c46-4970-97cd-6da57a2ebe9c",
   "metadata": {},
   "outputs": [
    {
     "name": "stdout",
     "output_type": "stream",
     "text": [
      "hi\n",
      "hi\n",
      "hi\n",
      "hi\n",
      "hello\n"
     ]
    }
   ],
   "source": [
    "for i in \"1234\":\n",
    "    print(\"hi\")\n",
    "print(\"hello\")"
   ]
  },
  {
   "cell_type": "code",
   "execution_count": 20,
   "id": "4e140ec0-3236-400c-b18e-108ec6643851",
   "metadata": {},
   "outputs": [
    {
     "name": "stdout",
     "output_type": "stream",
     "text": [
      "hi\n",
      "hello\n"
     ]
    }
   ],
   "source": [
    "for i in \"1234\": # i = \"1\", i=\"2\",i=\"3\",i=\"4\",i=?\n",
    "    if i == \"2\":# \"1\"==\"2\":False,\"2\"==\"2\":True,\"3\"==\"2\":False,\"4\"==\"2\":False\n",
    "        print(\"hi\")\n",
    "print(\"hello\")"
   ]
  },
  {
   "cell_type": "code",
   "execution_count": 22,
   "id": "34ddad77-124c-4f0e-8138-f84f865946df",
   "metadata": {},
   "outputs": [
    {
     "name": "stdout",
     "output_type": "stream",
     "text": [
      "hello\n"
     ]
    }
   ],
   "source": [
    "for i in \"1234\":\n",
    "    if i == \"2\":\n",
    "        break\n",
    "        print(\"hi\")\n",
    "print(\"hello\")"
   ]
  },
  {
   "cell_type": "code",
   "execution_count": 24,
   "id": "bcb2193b-8be5-487d-951a-a7f83e6a9e2f",
   "metadata": {},
   "outputs": [
    {
     "name": "stdout",
     "output_type": "stream",
     "text": [
      "hello\n",
      "hi\n",
      "hi\n",
      "hello\n",
      "Goint to main block\n"
     ]
    }
   ],
   "source": [
    "for i in \"1234\": # i = \"1\", i=\"2\",i=\"3\",i=\"4\",i=?\n",
    "    if i in \"23\":# \"1\" in \"23\":False,\"2\" in \"23\":True,\"3\" in \"23\":True,\"4\" in \"23\":False\n",
    "        print(\"hi\")\n",
    "    else:\n",
    "        print(\"hello\")\n",
    "print(\"Goint to main block\")"
   ]
  },
  {
   "cell_type": "code",
   "execution_count": 26,
   "id": "51d03d43-9bef-4b70-97a9-0bb174900a1b",
   "metadata": {},
   "outputs": [
    {
     "name": "stdout",
     "output_type": "stream",
     "text": [
      "hello\n",
      "hi\n",
      "Goint to main block\n"
     ]
    }
   ],
   "source": [
    "for i in \"1234\": # i = \"1\",i=\"2\"\n",
    "    if i in \"23\":# \"1\" in \"23\":False,\"2\" in \"23\":True\n",
    "        print(\"hi\")\n",
    "        break\n",
    "    else:\n",
    "        print(\"hello\")\n",
    "print(\"Goint to main block\")"
   ]
  },
  {
   "cell_type": "code",
   "execution_count": 28,
   "id": "b09216e5-f119-4454-8158-7bac6409ac10",
   "metadata": {},
   "outputs": [
    {
     "name": "stdout",
     "output_type": "stream",
     "text": [
      "hello\n",
      "Goint to main block\n"
     ]
    }
   ],
   "source": [
    "for i in \"1234\": # i = \"1\"\n",
    "    if i in \"23\":# \"1\" in \"23\":False\n",
    "        print(\"hi\")\n",
    "    else:\n",
    "        print(\"hello\")\n",
    "        break\n",
    "print(\"Goint to main block\")"
   ]
  },
  {
   "cell_type": "code",
   "execution_count": 30,
   "id": "4d8fbac2-4645-4e5c-a1de-84ec59ed3199",
   "metadata": {},
   "outputs": [],
   "source": [
    "l=[10,-20,-30,45,67,-56]\n",
    "# print each number +ve or -ve\n",
    "# howmany +ve numbers are there\n",
    "# does it has negative numbers"
   ]
  },
  {
   "cell_type": "code",
   "execution_count": 9,
   "id": "f9ef8897-6192-43d2-9ca7-9a9df5d422e3",
   "metadata": {},
   "outputs": [
    {
     "name": "stdout",
     "output_type": "stream",
     "text": [
      "10 +ve\n",
      "-20 -ve\n",
      "-30 -ve\n",
      "45 +ve\n",
      "67 +ve\n",
      "-56 -ve\n",
      "it has -ve numbers\n",
      "it has +ve numbers\n",
      "3 +ve count\n",
      "3 -ve count\n"
     ]
    }
   ],
   "source": [
    "l = [10,-20,-30,45,67,-56]\n",
    "pos_count=0\n",
    "neg_count=0\n",
    "for i in l:\n",
    "    if i>=0:\n",
    "        print(i,\"+ve\")\n",
    "        pos_count = pos_count+1\n",
    "    else:\n",
    "        print(i,\"-ve\")\n",
    "        neg_count = neg_count+1\n",
    "if neg_count>0:\n",
    "    print(\"it has -ve numbers\")\n",
    "if pos_count>0:\n",
    "    print(\"it has +ve numbers\")\n",
    "print(pos_count,\"+ve count\")\n",
    "print(neg_count,\"-ve count\")"
   ]
  },
  {
   "cell_type": "code",
   "execution_count": 11,
   "id": "c33f8de5-9379-4130-89b3-f6c4c2c06412",
   "metadata": {},
   "outputs": [
    {
     "name": "stdout",
     "output_type": "stream",
     "text": [
      "10 +ve\n",
      "-20 -ve\n",
      "-30 -ve\n",
      "45 +ve\n",
      "67 +ve\n",
      "-56 -ve\n"
     ]
    }
   ],
   "source": [
    "l = [10,-20,-30,45,67,-56]\n",
    "for i in l:\n",
    "    if i>=0:\n",
    "        print(i,\"+ve\")\n",
    "    else:\n",
    "        print(i,\"-ve\")\n",
    "        "
   ]
  },
  {
   "cell_type": "code",
   "execution_count": 13,
   "id": "d6c05985-737e-4452-9ec3-e5d076e998f0",
   "metadata": {},
   "outputs": [
    {
     "name": "stdout",
     "output_type": "stream",
     "text": [
      "3 +ve count\n",
      "3 -ve count\n"
     ]
    }
   ],
   "source": [
    "l = [10,-20,-30,45,67,-56]\n",
    "pos_count=0\n",
    "for i in l:\n",
    "    if i>=0:\n",
    "        pos_count = pos_count+1\n",
    "print(pos_count,\"+ve count\")\n"
   ]
  },
  {
   "cell_type": "code",
   "execution_count": 37,
   "id": "2e4e02b6-d4b7-42cc-9cf9-c6c26e005dae",
   "metadata": {},
   "outputs": [
    {
     "name": "stdout",
     "output_type": "stream",
     "text": [
      "it has -ve number\n"
     ]
    }
   ],
   "source": [
    "l = [10,-20,-30,45,67,-56]\n",
    "neg_count=0\n",
    "for i in l:\n",
    "    if i<0:\n",
    "        neg_count = neg_count+1\n",
    "if neg_count>0:\n",
    "    print(\"it has -ve number\")\n",
    "else:\n",
    "    print(\"it does not have -ve numbers\")"
   ]
  },
  {
   "cell_type": "code",
   "execution_count": 39,
   "id": "91dc70e6-3220-4d33-bbb8-d3ad0832bb9d",
   "metadata": {},
   "outputs": [
    {
     "name": "stdout",
     "output_type": "stream",
     "text": [
      "it has +ve number\n"
     ]
    }
   ],
   "source": [
    "l = [10,-20,-30,45,67,-56]\n",
    "pos_count=0\n",
    "for i in l:\n",
    "    if i>=0:\n",
    "        pos_count = pos_count+1\n",
    "        break\n",
    "print(\"it has +ve number\")"
   ]
  },
  {
   "cell_type": "code",
   "execution_count": 41,
   "id": "c549a8a6-3f14-4c80-ad8b-bdab5f43df5b",
   "metadata": {},
   "outputs": [
    {
     "name": "stdout",
     "output_type": "stream",
     "text": [
      "it has -ve number\n"
     ]
    }
   ],
   "source": [
    "l = [10,-20,-30,45,67,-56]\n",
    "neg_count=0\n",
    "for i in l:\n",
    "    if i<0:\n",
    "        neg_count = neg_count+1\n",
    "        break\n",
    "if neg_count>0:\n",
    "    print(\"it has -ve number\")\n",
    "else:\n",
    "    print(\"it does not have -ve numbers\")"
   ]
  },
  {
   "cell_type": "code",
   "execution_count": 47,
   "id": "d1f80f35-f2f8-4127-8106-82de7707d972",
   "metadata": {},
   "outputs": [
    {
     "name": "stdout",
     "output_type": "stream",
     "text": [
      "10\n",
      "-20\n",
      "It has negative numbers\n"
     ]
    }
   ],
   "source": [
    "l = [10,-20,-30,45,67,-56]\n",
    "\n",
    "for i in l:\n",
    "    print(i)\n",
    "    if i<0:\n",
    "        print(\"It has negative numbers\")\n",
    "        break\n",
    "\n"
   ]
  },
  {
   "cell_type": "code",
   "execution_count": 55,
   "id": "f72e07dd-3b0a-4eca-a3d1-a2e8e948bbb7",
   "metadata": {},
   "outputs": [
    {
     "name": "stdout",
     "output_type": "stream",
     "text": [
      "10\n",
      "It does not have negative numbers\n",
      "20\n",
      "It does not have negative numbers\n",
      "30\n",
      "It does not have negative numbers\n"
     ]
    }
   ],
   "source": [
    "l = [10,20,30]\n",
    "\n",
    "for i in l:\n",
    "    print(i)\n",
    "    if i<0:\n",
    "        print(\"It has negative numbers\")\n",
    "        break\n",
    "    else:\n",
    "        print(\"It does not have negative numbers\")\n",
    "        \n"
   ]
  },
  {
   "cell_type": "code",
   "execution_count": 57,
   "id": "e2fe595a-6d1a-4ceb-8bf4-6c30d7aa6efc",
   "metadata": {},
   "outputs": [
    {
     "name": "stdout",
     "output_type": "stream",
     "text": [
      "10\n",
      "It does not have negative numbers\n"
     ]
    }
   ],
   "source": [
    "l = [10,20,30]\n",
    "\n",
    "for i in l:\n",
    "    print(i)\n",
    "    if i<0:\n",
    "        print(\"It has negative numbers\")\n",
    "        break\n",
    "    else:\n",
    "        print(\"It does not have negative numbers\")\n",
    "        break"
   ]
  },
  {
   "cell_type": "code",
   "execution_count": 59,
   "id": "25fec351-a693-4cbc-9a5f-c2060bd7a8f3",
   "metadata": {},
   "outputs": [
    {
     "name": "stdout",
     "output_type": "stream",
     "text": [
      "10\n",
      "It does not have negative numbers\n"
     ]
    }
   ],
   "source": [
    "l = [10,-32,20,30]\n",
    "\n",
    "for i in l:\n",
    "    print(i)\n",
    "    if i<0:\n",
    "        print(\"It has negative numbers\")\n",
    "        break\n",
    "    else:\n",
    "        print(\"It does not have negative numbers\")\n",
    "        break"
   ]
  },
  {
   "cell_type": "code",
   "execution_count": 61,
   "id": "b276288e-a68d-40fb-b140-24857d2a6479",
   "metadata": {},
   "outputs": [
    {
     "name": "stdout",
     "output_type": "stream",
     "text": [
      "10\n",
      "-32\n",
      "It has negative numbers\n"
     ]
    }
   ],
   "source": [
    "l = [10,-32,20,30]\n",
    "\n",
    "for i in l:\n",
    "    print(i)\n",
    "    if i<0:\n",
    "        print(\"It has negative numbers\")\n",
    "        break\n",
    "else:\n",
    "    print(\"It does not have negative numbers\")\n",
    "        "
   ]
  },
  {
   "cell_type": "code",
   "execution_count": 63,
   "id": "4f4c9245-bf5d-4840-9bc1-d78f2df0eaae",
   "metadata": {},
   "outputs": [
    {
     "name": "stdout",
     "output_type": "stream",
     "text": [
      "10\n",
      "20\n",
      "30\n",
      "It does not have negative numbers\n"
     ]
    }
   ],
   "source": [
    "l = [10,20,30]\n",
    "\n",
    "for i in l:\n",
    "    print(i)\n",
    "    if i<0:\n",
    "        print(\"It has negative numbers\")\n",
    "        break\n",
    "else:\n",
    "    print(\"It does not have negative numbers\")\n",
    "        "
   ]
  },
  {
   "cell_type": "code",
   "execution_count": 32,
   "id": "392c0b47-e1a3-4a42-89ff-28905ac832b4",
   "metadata": {},
   "outputs": [
    {
     "name": "stdout",
     "output_type": "stream",
     "text": [
      "Hello\n",
      "Hello\n",
      "Hello\n",
      "ELSE BLOCK\n",
      "MAIN BLOCK\n"
     ]
    }
   ],
   "source": [
    "for i in \"pyt\":\n",
    "    print(\"Hello\")\n",
    "else:\n",
    "    print(\"ELSE BLOCK\")\n",
    "print(\"MAIN BLOCK\")"
   ]
  },
  {
   "cell_type": "code",
   "execution_count": 65,
   "id": "85564a43-42bc-4a70-a19c-7513657f187e",
   "metadata": {},
   "outputs": [
    {
     "name": "stdout",
     "output_type": "stream",
     "text": [
      "ELSE BLOCK\n",
      "MAIN BLOCK\n"
     ]
    }
   ],
   "source": [
    "for i in \"\":\n",
    "    print(\"Hello\")\n",
    "else:\n",
    "    print(\"ELSE BLOCK\")\n",
    "print(\"MAIN BLOCK\")\n",
    "# if our data is null it does not do for loop and directly executes else block.\n"
   ]
  },
  {
   "cell_type": "code",
   "execution_count": 67,
   "id": "2931e054-24c6-460a-ad24-8cb32ea9eb65",
   "metadata": {},
   "outputs": [
    {
     "data": {
      "text/plain": [
       "range(0, 10)"
      ]
     },
     "execution_count": 67,
     "metadata": {},
     "output_type": "execute_result"
    }
   ],
   "source": [
    "range(10)"
   ]
  },
  {
   "cell_type": "code",
   "execution_count": 69,
   "id": "4137b53b-79df-4da5-89cb-18aa51693fe7",
   "metadata": {},
   "outputs": [
    {
     "data": {
      "text/plain": [
       "[0, 1, 2, 3, 4, 5, 6, 7, 8, 9]"
      ]
     },
     "execution_count": 69,
     "metadata": {},
     "output_type": "execute_result"
    }
   ],
   "source": [
    "list(range(10))"
   ]
  },
  {
   "cell_type": "code",
   "execution_count": 71,
   "id": "73d014ff-9c5c-4f4f-9310-bccd2e6752fb",
   "metadata": {},
   "outputs": [
    {
     "data": {
      "text/plain": [
       "[2, 3, 4, 5, 6, 7, 8, 9]"
      ]
     },
     "execution_count": 71,
     "metadata": {},
     "output_type": "execute_result"
    }
   ],
   "source": [
    "list(range(2,10))"
   ]
  },
  {
   "cell_type": "code",
   "execution_count": 73,
   "id": "99516eb8-0828-458e-8d3e-527b60669f7e",
   "metadata": {},
   "outputs": [
    {
     "data": {
      "text/plain": [
       "[2, 5, 8]"
      ]
     },
     "execution_count": 73,
     "metadata": {},
     "output_type": "execute_result"
    }
   ],
   "source": [
    "list(range(2,10,3))# 2, 2+3=5,5+3=8"
   ]
  },
  {
   "cell_type": "code",
   "execution_count": 77,
   "id": "edc94b47-0a53-4f49-823b-182dd6490226",
   "metadata": {},
   "outputs": [
    {
     "data": {
      "text/plain": [
       "[]"
      ]
     },
     "execution_count": 77,
     "metadata": {},
     "output_type": "execute_result"
    }
   ],
   "source": [
    "list(range(10,2))# if didn't mention step value then by default it will take +1"
   ]
  },
  {
   "cell_type": "code",
   "execution_count": 79,
   "id": "2b9336e4-9888-4f39-9c2d-1d15a5ab26eb",
   "metadata": {},
   "outputs": [
    {
     "data": {
      "text/plain": [
       "[10, 9, 8, 7, 6, 5, 4, 3]"
      ]
     },
     "execution_count": 79,
     "metadata": {},
     "output_type": "execute_result"
    }
   ],
   "source": [
    "list(range(10,2,-1))# 10, 10-1=9,9-1=8,8-1=7,7-1=6,6-1=5,5-1=4,4-1=3"
   ]
  },
  {
   "cell_type": "code",
   "execution_count": 81,
   "id": "d2dab557-ba4d-4ccf-badb-f35dbe1ce8ce",
   "metadata": {},
   "outputs": [
    {
     "data": {
      "text/plain": [
       "[-10, -9, -8, -7, -6, -5, -4, -3]"
      ]
     },
     "execution_count": 81,
     "metadata": {},
     "output_type": "execute_result"
    }
   ],
   "source": [
    "list(range(-10,-2))"
   ]
  },
  {
   "cell_type": "code",
   "execution_count": 34,
   "id": "a3c511ae-d228-49e4-9ffe-cbbddf5da4f5",
   "metadata": {},
   "outputs": [
    {
     "data": {
      "text/plain": [
       "[2, 4, 6, 8]"
      ]
     },
     "execution_count": 34,
     "metadata": {},
     "output_type": "execute_result"
    }
   ],
   "source": [
    "list(range(2,10,2))"
   ]
  },
  {
   "cell_type": "markdown",
   "id": "e277190e-8992-4359-92c0-8aae9b163da6",
   "metadata": {},
   "source": [
    "### The while Loop\n",
    "* With the while loop we can execute a set of statements as long as a condition is true."
   ]
  },
  {
   "cell_type": "code",
   "execution_count": 4,
   "id": "9f3e8354-4814-4655-bb31-81aa21432eb1",
   "metadata": {},
   "outputs": [
    {
     "name": "stdout",
     "output_type": "stream",
     "text": [
      "1\n",
      "2\n",
      "3\n",
      "4\n",
      "5\n"
     ]
    }
   ],
   "source": [
    "i = 1\n",
    "while i < 6:\n",
    "  print(i)\n",
    "  i += 1"
   ]
  },
  {
   "cell_type": "markdown",
   "id": "4c1aba53-28ba-4693-abf0-70fa3d3c3a97",
   "metadata": {},
   "source": [
    "**Note:** remember to increment i, or else the loop will continue forever.\n",
    "\n",
    "* The `while` loop requires relevant variables to be ready, in this example we need to define an indexing variable, i, which we set to 1."
   ]
  },
  {
   "cell_type": "markdown",
   "id": "44093b3c-4f88-4ac0-9b92-7384a6f8d6c9",
   "metadata": {},
   "source": [
    "### The break Statement\n",
    "* With the `break` statement we can stop the loop even if the while condition is true:"
   ]
  },
  {
   "cell_type": "code",
   "execution_count": 8,
   "id": "d0afbe56-e614-49cc-b4f0-dc9c6ba99253",
   "metadata": {},
   "outputs": [
    {
     "name": "stdout",
     "output_type": "stream",
     "text": [
      "1\n",
      "2\n",
      "3\n"
     ]
    }
   ],
   "source": [
    "i = 1\n",
    "while i < 6:\n",
    "  print(i)\n",
    "  if i == 3:\n",
    "    break\n",
    "  i += 1"
   ]
  },
  {
   "cell_type": "markdown",
   "id": "40844f19-ac3e-4db1-8b42-271264c5176c",
   "metadata": {},
   "source": [
    "### The continue Statement\n",
    "* With the `continue` statement we can stop the current iteration, and continue with the next:"
   ]
  },
  {
   "cell_type": "code",
   "execution_count": 10,
   "id": "c3cd84e2-f27d-4fdb-b425-ccde001033d8",
   "metadata": {},
   "outputs": [
    {
     "name": "stdout",
     "output_type": "stream",
     "text": [
      "1\n",
      "2\n",
      "4\n",
      "5\n",
      "6\n"
     ]
    }
   ],
   "source": [
    "i = 0\n",
    "while i < 6:\n",
    "  i += 1\n",
    "  if i == 3:\n",
    "    continue\n",
    "  print(i)"
   ]
  },
  {
   "cell_type": "markdown",
   "id": "053529ec-f0a1-41c8-bb1f-3d642f8ad1cf",
   "metadata": {},
   "source": [
    "### The else Statement\n",
    "* With the else statement we can run a block of code once when the condition no longer is true:"
   ]
  },
  {
   "cell_type": "code",
   "execution_count": 14,
   "id": "c506e6d5-ebfa-41fe-80ea-e96f8923af40",
   "metadata": {},
   "outputs": [
    {
     "name": "stdout",
     "output_type": "stream",
     "text": [
      "1\n",
      "2\n",
      "3\n",
      "4\n",
      "5\n",
      "i is no longer less than 6\n"
     ]
    }
   ],
   "source": [
    "i = 1\n",
    "while i < 6:\n",
    "  print(i)\n",
    "  i += 1\n",
    "else:\n",
    "  print(\"i is no longer less than 6\")"
   ]
  },
  {
   "cell_type": "code",
   "execution_count": 1,
   "id": "b27c6031-a852-4a9a-b590-dd04d2de9b92",
   "metadata": {},
   "outputs": [
    {
     "name": "stdout",
     "output_type": "stream",
     "text": [
      "hello\n",
      "Done\n"
     ]
    }
   ],
   "source": [
    "print(\"hello\")\n",
    "while False:\n",
    "    print(\"HI\")\n",
    "print(\"Done\")"
   ]
  },
  {
   "cell_type": "code",
   "execution_count": null,
   "id": "d6eeecb7-a8d2-4a28-885d-88c4dd6320fa",
   "metadata": {},
   "outputs": [],
   "source": []
  }
 ],
 "metadata": {
  "kernelspec": {
   "display_name": "Python 3 (ipykernel)",
   "language": "python",
   "name": "python3"
  },
  "language_info": {
   "codemirror_mode": {
    "name": "ipython",
    "version": 3
   },
   "file_extension": ".py",
   "mimetype": "text/x-python",
   "name": "python",
   "nbconvert_exporter": "python",
   "pygments_lexer": "ipython3",
   "version": "3.12.4"
  }
 },
 "nbformat": 4,
 "nbformat_minor": 5
}

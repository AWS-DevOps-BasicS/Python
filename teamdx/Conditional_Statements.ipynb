{
 "cells": [
  {
   "cell_type": "code",
   "execution_count": 1,
   "id": "3750bcfa-3817-4c26-a466-64d89b0c00e3",
   "metadata": {},
   "outputs": [
    {
     "name": "stdout",
     "output_type": "stream",
     "text": [
      "Started\n",
      "a is big\n",
      "b is big\n",
      "ended\n"
     ]
    }
   ],
   "source": [
    "print(\"Started\")\n",
    "a = 1000\n",
    "b = 2000\n",
    "print(\"a is big\")\n",
    "print(\"b is big\")\n",
    "print(\"ended\")\n",
    "# Eiter a has to be big or b has to big. we have to stop executing one statement"
   ]
  },
  {
   "cell_type": "code",
   "execution_count": 3,
   "id": "d900a090-8c5c-42bd-8621-0d05b7427734",
   "metadata": {},
   "outputs": [
    {
     "name": "stdout",
     "output_type": "stream",
     "text": [
      "Started\n",
      "a is big\n",
      "ended\n"
     ]
    }
   ],
   "source": [
    "print(\"Started\")\n",
    "a = 1000\n",
    "b = 2000\n",
    "if True:\n",
    "    print(\"a is big\")\n",
    "else:\n",
    "    print(\"b is big\")\n",
    "print(\"ended\")"
   ]
  },
  {
   "cell_type": "code",
   "execution_count": 5,
   "id": "bd4e2819-c681-4d6c-b381-32b16c128d78",
   "metadata": {},
   "outputs": [
    {
     "name": "stdout",
     "output_type": "stream",
     "text": [
      "Started\n",
      "b is big\n",
      "ended\n"
     ]
    }
   ],
   "source": [
    "print(\"Started\")\n",
    "a = 1000\n",
    "b = 2000\n",
    "if False:\n",
    "    print(\"a is big\")\n",
    "else:\n",
    "    print(\"b is big\")\n",
    "print(\"ended\")"
   ]
  },
  {
   "cell_type": "code",
   "execution_count": 7,
   "id": "113b64ce-6de7-455f-8ca5-28c7dcee3868",
   "metadata": {},
   "outputs": [
    {
     "name": "stdout",
     "output_type": "stream",
     "text": [
      "Started\n",
      "a is big\n",
      "ended\n"
     ]
    }
   ],
   "source": [
    "print(\"Started\")\n",
    "a = 1000\n",
    "b = 2000\n",
    "if bool(20):\n",
    "    print(\"a is big\")\n",
    "else:\n",
    "    print(\"b is big\")\n",
    "print(\"ended\")"
   ]
  },
  {
   "cell_type": "code",
   "execution_count": 9,
   "id": "b007c602-fab6-4c70-a506-13cea14921f9",
   "metadata": {},
   "outputs": [
    {
     "name": "stdout",
     "output_type": "stream",
     "text": [
      "Started\n",
      "a is big\n",
      "ended\n"
     ]
    }
   ],
   "source": [
    "print(\"Started\")\n",
    "a = 1235\n",
    "if bool(a):\n",
    "    print(\"a is big\")\n",
    "else:\n",
    "    print(\"b is big\")\n",
    "print(\"ended\")"
   ]
  },
  {
   "cell_type": "code",
   "execution_count": 11,
   "id": "b4351908-e54c-44bd-9c2b-595c8e74a04c",
   "metadata": {},
   "outputs": [
    {
     "name": "stdout",
     "output_type": "stream",
     "text": [
      "Started\n",
      "b is big\n",
      "ended\n"
     ]
    }
   ],
   "source": [
    "print(\"Started\")\n",
    "a = 0\n",
    "if bool(a):\n",
    "    print(\"a is big\")\n",
    "else:\n",
    "    print(\"b is big\")\n",
    "print(\"ended\")"
   ]
  },
  {
   "cell_type": "code",
   "execution_count": 13,
   "id": "811d848d-c545-4fc2-b133-9cf708bca7ee",
   "metadata": {},
   "outputs": [
    {
     "name": "stdout",
     "output_type": "stream",
     "text": [
      "Started\n",
      "a is big\n",
      "ended\n"
     ]
    }
   ],
   "source": [
    "print(\"Started\")\n",
    "a = 1235\n",
    "if a: # Internally converts bool(a) \n",
    "    print(\"a is big\")\n",
    "else:\n",
    "    print(\"b is big\")\n",
    "print(\"ended\")"
   ]
  },
  {
   "cell_type": "code",
   "execution_count": 15,
   "id": "be53d060-3e32-4250-a5bf-a9c51ad085f4",
   "metadata": {},
   "outputs": [
    {
     "name": "stdout",
     "output_type": "stream",
     "text": [
      "HEllo\n",
      "hi\n"
     ]
    }
   ],
   "source": [
    "if 19: # bool(19):True\n",
    "    print(\"HEllo\")\n",
    "print(\"hi\")"
   ]
  },
  {
   "cell_type": "code",
   "execution_count": 17,
   "id": "804e2c55-273c-4ec4-9f44-e4a017259995",
   "metadata": {},
   "outputs": [
    {
     "name": "stdout",
     "output_type": "stream",
     "text": [
      "HEllo\n"
     ]
    }
   ],
   "source": [
    "if 19: # bool(19):True\n",
    "    print(\"HEllo\")\n",
    "else:\n",
    "    print(\"hi\")"
   ]
  },
  {
   "cell_type": "code",
   "execution_count": 19,
   "id": "325cb192-fbe6-4262-82f8-17ee8f63bc84",
   "metadata": {},
   "outputs": [
    {
     "name": "stdout",
     "output_type": "stream",
     "text": [
      "hi\n"
     ]
    }
   ],
   "source": [
    "if 0: \n",
    "    print(\"HEllo\")\n",
    "else:\n",
    "    print(\"hi\")"
   ]
  },
  {
   "cell_type": "code",
   "execution_count": 23,
   "id": "bcc42051-03bf-4ace-b533-e4a0957e7526",
   "metadata": {},
   "outputs": [
    {
     "name": "stdin",
     "output_type": "stream",
     "text": [
      "Enter a value: python\n"
     ]
    },
    {
     "name": "stdout",
     "output_type": "stream",
     "text": [
      "6\n"
     ]
    }
   ],
   "source": [
    "value = input(\"Enter a value:\")\n",
    "print(len(value))"
   ]
  },
  {
   "cell_type": "code",
   "execution_count": 25,
   "id": "b1a54162-9bbb-4d8d-8eba-d5cce79774cb",
   "metadata": {},
   "outputs": [
    {
     "name": "stdin",
     "output_type": "stream",
     "text": [
      "Enter a value: Hyderabad\n"
     ]
    },
    {
     "name": "stdout",
     "output_type": "stream",
     "text": [
      "9\n"
     ]
    }
   ],
   "source": [
    "value = input(\"Enter a value:\")\n",
    "print(len(value))"
   ]
  },
  {
   "cell_type": "code",
   "execution_count": 27,
   "id": "74fb7550-f44e-47c8-8679-7c91d22d634e",
   "metadata": {},
   "outputs": [
    {
     "name": "stdin",
     "output_type": "stream",
     "text": [
      "Enter a value: \n"
     ]
    },
    {
     "name": "stdout",
     "output_type": "stream",
     "text": [
      "0\n"
     ]
    }
   ],
   "source": [
    "value = input(\"Enter a value:\")\n",
    "print(len(value))"
   ]
  },
  {
   "cell_type": "code",
   "execution_count": 31,
   "id": "ebf420a2-30fb-4f69-8b0e-682cb08f8293",
   "metadata": {},
   "outputs": [
    {
     "name": "stdin",
     "output_type": "stream",
     "text": [
      "Enter a value: 200\n"
     ]
    },
    {
     "name": "stdout",
     "output_type": "stream",
     "text": [
      "<class 'str'>\n"
     ]
    }
   ],
   "source": [
    "value = input(\"Enter a value:\")\n",
    "print(type(value))"
   ]
  },
  {
   "cell_type": "code",
   "execution_count": 33,
   "id": "95061491-38f3-4979-a6b4-7716b6835d59",
   "metadata": {},
   "outputs": [
    {
     "name": "stdin",
     "output_type": "stream",
     "text": [
      "Enter a value: al\n"
     ]
    },
    {
     "ename": "ValueError",
     "evalue": "could not convert string to float: 'al'",
     "output_type": "error",
     "traceback": [
      "\u001b[1;31m---------------------------------------------------------------------------\u001b[0m",
      "\u001b[1;31mValueError\u001b[0m                                Traceback (most recent call last)",
      "Cell \u001b[1;32mIn[33], line 1\u001b[0m\n\u001b[1;32m----> 1\u001b[0m value \u001b[38;5;241m=\u001b[39m \u001b[38;5;28mfloat\u001b[39m(\u001b[38;5;28minput\u001b[39m(\u001b[38;5;124m\"\u001b[39m\u001b[38;5;124mEnter a value:\u001b[39m\u001b[38;5;124m\"\u001b[39m))\n\u001b[0;32m      2\u001b[0m \u001b[38;5;28mprint\u001b[39m(\u001b[38;5;28mlen\u001b[39m(value))\n",
      "\u001b[1;31mValueError\u001b[0m: could not convert string to float: 'al'"
     ]
    }
   ],
   "source": [
    "value = float(input(\"Enter a value:\"))\n",
    "print(len(value))"
   ]
  },
  {
   "cell_type": "markdown",
   "id": "ff156356-415c-41fa-890e-ba4f9acee569",
   "metadata": {},
   "source": [
    "### Value1, value2: value1+value2 where value1 or value2 can be empty then it should considered as 0"
   ]
  },
  {
   "cell_type": "code",
   "execution_count": 38,
   "id": "84d8243a-7db1-4174-9edb-c394774e7614",
   "metadata": {},
   "outputs": [
    {
     "name": "stdin",
     "output_type": "stream",
     "text": [
      "enter value1: 23\n",
      "enter value2: \n"
     ]
    },
    {
     "name": "stdout",
     "output_type": "stream",
     "text": [
      "23.0\n"
     ]
    }
   ],
   "source": [
    "value1=input(\"enter value1:\")\n",
    "value2=input(\"enter value2:\")\n",
    "if value1==\"\":#False \"23\"==\"\"\n",
    "    value1=0\n",
    "else:\n",
    "    value1 = float(value1)\n",
    "if value2==\"\":# \"\" == \"\" True\n",
    "    value2=0\n",
    "else:\n",
    "    value2=float(value2)\n",
    "print(value1+value2)"
   ]
  },
  {
   "cell_type": "code",
   "execution_count": 40,
   "id": "19b926ab-6206-449b-a336-272f44cb0f93",
   "metadata": {},
   "outputs": [
    {
     "name": "stdin",
     "output_type": "stream",
     "text": [
      "enter value1: \n",
      "enter value2: 56\n"
     ]
    },
    {
     "name": "stdout",
     "output_type": "stream",
     "text": [
      "56.0\n"
     ]
    }
   ],
   "source": [
    "#value1, value2: value1+value2. \n",
    "value1=input(\"enter value1:\")\n",
    "value2=input(\"enter value2:\")\n",
    "if value1==\"\":#True \"\"==\"\"\n",
    "    value1=0\n",
    "else:\n",
    "    value1 = float(value1)\n",
    "if value2==\"\":# \"56\" == \"\" False\n",
    "    value2=0\n",
    "else:\n",
    "    value2=float(value2)\n",
    "print(value1+value2)"
   ]
  },
  {
   "cell_type": "code",
   "execution_count": 42,
   "id": "c45c713e-e209-44c6-8338-e0774af9d1a6",
   "metadata": {},
   "outputs": [
    {
     "data": {
      "text/plain": [
       "False"
      ]
     },
     "execution_count": 42,
     "metadata": {},
     "output_type": "execute_result"
    }
   ],
   "source": [
    "bool(\"\")"
   ]
  },
  {
   "cell_type": "code",
   "execution_count": 44,
   "id": "0adbaffd-ea6f-4ebc-b806-d321b5126a96",
   "metadata": {},
   "outputs": [
    {
     "data": {
      "text/plain": [
       "True"
      ]
     },
     "execution_count": 44,
     "metadata": {},
     "output_type": "execute_result"
    }
   ],
   "source": [
    "bool(\"125\")"
   ]
  },
  {
   "cell_type": "code",
   "execution_count": 5,
   "id": "2b96c4cf-da99-4c3f-8bc4-cfb31f5b4c17",
   "metadata": {},
   "outputs": [
    {
     "name": "stdin",
     "output_type": "stream",
     "text": [
      "enter value1: 2\n",
      "enter value2: 9\n"
     ]
    },
    {
     "name": "stdout",
     "output_type": "stream",
     "text": [
      "11.0\n"
     ]
    }
   ],
   "source": [
    "#value1, value2: value1+value2. \n",
    "value1=input(\"enter value1:\")\n",
    "value2=input(\"enter value2:\")\n",
    "if value1:\n",
    "    value1=float(value1)\n",
    "else:\n",
    "    value1 = 0\n",
    "if value2:\n",
    "    value2=float(value2)\n",
    "else:\n",
    "    value2=0\n",
    "print(value1+value2)"
   ]
  },
  {
   "cell_type": "code",
   "execution_count": 13,
   "id": "88522362-42d7-49af-8a73-145254d27007",
   "metadata": {},
   "outputs": [
    {
     "name": "stdin",
     "output_type": "stream",
     "text": [
      "enter value1: 20\n",
      "enter value2: \n"
     ]
    },
    {
     "name": "stdout",
     "output_type": "stream",
     "text": [
      "20\n"
     ]
    }
   ],
   "source": [
    "value1 = input(\"enter value1:\")\n",
    "value2 = input(\"enter value2:\")\n",
    "if value1 == '' :\n",
    "    value1 = 0\n",
    "    sum_value = int(value1)+int(value2)\n",
    "    print(sum_value)\n",
    "elif value2 == '':\n",
    "  value2 =0\n",
    "  sum_value = int(value1)+int(value2)\n",
    "  print(sum_value)\n",
    "else:\n",
    "  sum_value = int(value1)+int(value2)\n",
    "  print(sum_value)"
   ]
  },
  {
   "cell_type": "code",
   "execution_count": null,
   "id": "e9ccad55-7b0d-48f1-87ae-9400dc5a9c34",
   "metadata": {},
   "outputs": [],
   "source": [
    "value1 = input(\"enter value1:\")\n",
    "value2 = input(\"enter value2:\")\n",
    "if value1 == '' :\n",
    "    value1 = 0\n",
    "    sum_value = int(value1)+int(value2)\n",
    "    print(sum_value)\n",
    "elif value2 == '':\n",
    "  value2 =0\n",
    "  sum_value = int(value1)+int(value2)\n",
    "  print(sum_value)\n",
    "else:\n",
    "  sum_value = int(value1)+int(value2)\n",
    "  print(sum_value)"
   ]
  },
  {
   "cell_type": "code",
   "execution_count": 17,
   "id": "00626596-b30d-41e7-86dd-19fa572896a2",
   "metadata": {},
   "outputs": [
    {
     "name": "stdin",
     "output_type": "stream",
     "text": [
      "enter value1: \n",
      "enter value2: 65\n"
     ]
    },
    {
     "name": "stdout",
     "output_type": "stream",
     "text": [
      "65\n"
     ]
    }
   ],
   "source": [
    "value1 = input(\"enter value1:\")\n",
    "value2 = input(\"enter value2:\")\n",
    "if value1 == '' :\n",
    "    value1 = 0\n",
    "    sum_value = int(value1)+int(value2)\n",
    "    print(sum_value)\n",
    "elif value2 == '':\n",
    "  value2 =0\n",
    "  sum_value = int(value1)+int(value2)\n",
    "  print(sum_value)\n",
    "else:\n",
    "  sum_value = int(value1)+int(value2)\n",
    "  print(sum_value)"
   ]
  },
  {
   "cell_type": "code",
   "execution_count": 19,
   "id": "82983a7f-9cb3-4736-bda3-01eb8aa6dd85",
   "metadata": {},
   "outputs": [
    {
     "name": "stdin",
     "output_type": "stream",
     "text": [
      "enter value1: 36\n",
      "enter value2: 35\n"
     ]
    },
    {
     "name": "stdout",
     "output_type": "stream",
     "text": [
      "71\n"
     ]
    }
   ],
   "source": [
    "value1 = input(\"enter value1:\")\n",
    "value2 = input(\"enter value2:\")\n",
    "if value1 == '' :\n",
    "    value1 = 0\n",
    "    sum_value = int(value1)+int(value2)\n",
    "    print(sum_value)\n",
    "elif value2 == '':\n",
    "  value2 =0\n",
    "  sum_value = int(value1)+int(value2)\n",
    "  print(sum_value)\n",
    "else:\n",
    "  sum_value = int(value1)+int(value2)\n",
    "  print(sum_value)"
   ]
  },
  {
   "cell_type": "markdown",
   "id": "01d911eb-ed9d-4c48-8879-ab6879b1d93d",
   "metadata": {},
   "source": [
    "a=1000\n",
    "b=2000\n",
    "\n",
    "```\n",
    "1.add\n",
    "2.sub\n",
    "3.mul\n",
    "4.division\n",
    "Enter an option: 1  : 1000+2000,\n",
    "```\n",
    "\n",
    "```\n",
    "1.add\n",
    "2.sub\n",
    "3.mul\n",
    "4.division\n",
    "Enter an option: 2  : 1000-2000,\n",
    "```\n",
    "\n",
    "```\n",
    "1.add\n",
    "2.sub\n",
    "3.mul\n",
    "4.division\n",
    "Enter an option: 3  : 1000*2000,\n",
    "```\n",
    "\n",
    "```\n",
    "1.add\n",
    "2.sub\n",
    "3.mul\n",
    "4.division\n",
    "Enter an option: 4  : 1000/2000,\n",
    "```\n",
    "\n",
    "```\n",
    "1.add\n",
    "2.sub\n",
    "3.mul\n",
    "4.division\n",
    "Enter an option: 5. if the user enters other numbers: we need to show the below message\n",
    "PLEASE ENTER VALID OPTION\n",
    "```"
   ]
  },
  {
   "cell_type": "code",
   "execution_count": 12,
   "id": "e2da891a-4e29-48d7-b28b-3856f8dae939",
   "metadata": {},
   "outputs": [
    {
     "name": "stdout",
     "output_type": "stream",
     "text": [
      "option:\n",
      "\t1.add\n",
      "\t2.sub\n",
      "\t3.mul\n",
      "\t4.division\n"
     ]
    }
   ],
   "source": [
    "a = 1000\n",
    "b = 2000\n",
    "print(\"option:\\n\\t1.add\\n\\t2.sub\\n\\t3.mul\\n\\t4.division\")"
   ]
  },
  {
   "cell_type": "code",
   "execution_count": 16,
   "id": "64cd8186-72b4-44b2-800e-7f66369c3f22",
   "metadata": {},
   "outputs": [
    {
     "name": "stdout",
     "output_type": "stream",
     "text": [
      "option:\n",
      "\t1.add\n",
      "\t2.sub\n",
      "\t3.mul\n",
      "\t4.division\n"
     ]
    },
    {
     "name": "stdin",
     "output_type": "stream",
     "text": [
      "Enter the option number: 1\n"
     ]
    }
   ],
   "source": [
    "a = 1000\n",
    "b = 2000\n",
    "print(\"option:\\n\\t1.add\\n\\t2.sub\\n\\t3.mul\\n\\t4.division\")\n",
    "option = input(\"Enter the option number:\")\n"
   ]
  },
  {
   "cell_type": "code",
   "execution_count": 22,
   "id": "38d96d13-d285-4b40-b64b-d3eea8d34f36",
   "metadata": {},
   "outputs": [
    {
     "name": "stdout",
     "output_type": "stream",
     "text": [
      "option:\n",
      "\t1.add\n",
      "\t2.sub\n",
      "\t3.mul\n",
      "\t4.division\n"
     ]
    },
    {
     "name": "stdin",
     "output_type": "stream",
     "text": [
      "Enter the option number: 3\n"
     ]
    },
    {
     "name": "stdout",
     "output_type": "stream",
     "text": [
      "Thankyou\n"
     ]
    }
   ],
   "source": [
    "a = 1000\n",
    "b = 2000\n",
    "print(\"option:\\n\\t1.add\\n\\t2.sub\\n\\t3.mul\\n\\t4.division\")\n",
    "option = input(\"Enter the option number:\")\n",
    "if option == 1: #\"3\"==1: False\n",
    "    print(a+b)\n",
    "if option == 2: #\"3\"==2: False\n",
    "    print(a-b)\n",
    "if option == 3: #\"3\"==3: False\n",
    "    print(a*b)\n",
    "if option == 4: #\"3\"==4: False\n",
    "    print(a/b)\n",
    "print(\"Thankyou\")"
   ]
  },
  {
   "cell_type": "code",
   "execution_count": 24,
   "id": "fbb8c03a-7a75-4f0d-989e-2c6a49ff231a",
   "metadata": {},
   "outputs": [
    {
     "name": "stdout",
     "output_type": "stream",
     "text": [
      "option:\n",
      "\t1.add\n",
      "\t2.sub\n",
      "\t3.mul\n",
      "\t4.division\n"
     ]
    },
    {
     "name": "stdin",
     "output_type": "stream",
     "text": [
      "Enter the option number: 3\n"
     ]
    },
    {
     "name": "stdout",
     "output_type": "stream",
     "text": [
      "2000000\n",
      "Thankyou\n"
     ]
    }
   ],
   "source": [
    "a = 1000\n",
    "b = 2000\n",
    "print(\"option:\\n\\t1.add\\n\\t2.sub\\n\\t3.mul\\n\\t4.division\")\n",
    "option = input(\"Enter the option number:\")\n",
    "if option == \"1\":  #\"3\"==\"1\": False\n",
    "    print(a+b)\n",
    "if option == \"2\": #\"3\"==\"2\": False\n",
    "    print(a-b)\n",
    "if option == \"3\": #\"3\"==\"3\": True\n",
    "    print(a*b)\n",
    "if option == \"4\": #\"3\"==\"4\": False\n",
    "    print(a/b)\n",
    "print(\"Thankyou\")"
   ]
  },
  {
   "cell_type": "code",
   "execution_count": 26,
   "id": "1d34f405-6df9-4db7-99ba-2b101b7dc3bd",
   "metadata": {},
   "outputs": [
    {
     "name": "stdout",
     "output_type": "stream",
     "text": [
      "option:\n",
      "\t1.add\n",
      "\t2.sub\n",
      "\t3.mul\n",
      "\t4.division\n"
     ]
    },
    {
     "name": "stdin",
     "output_type": "stream",
     "text": [
      "Enter the option number: 6\n"
     ]
    },
    {
     "name": "stdout",
     "output_type": "stream",
     "text": [
      "Thankyou\n"
     ]
    }
   ],
   "source": [
    "a = 1000\n",
    "b = 2000\n",
    "print(\"option:\\n\\t1.add\\n\\t2.sub\\n\\t3.mul\\n\\t4.division\")\n",
    "option = input(\"Enter the option number:\")\n",
    "if option == \"1\":  #\"6\"==\"1\": False\n",
    "    print(a+b)\n",
    "if option == \"2\": #\"6\"==\"2\": False\n",
    "    print(a-b)\n",
    "if option == \"3\": #\"6\"==\"3\": False\n",
    "    print(a*b)\n",
    "if option == \"4\": #\"6\"==\"4\": False\n",
    "    print(a/b)\n",
    "print(\"Thankyou\")"
   ]
  },
  {
   "cell_type": "code",
   "execution_count": 28,
   "id": "f2fd6552-1816-415f-976b-204740fe75b1",
   "metadata": {},
   "outputs": [
    {
     "name": "stdout",
     "output_type": "stream",
     "text": [
      "option:\n",
      "\t1.add\n",
      "\t2.sub\n",
      "\t3.mul\n",
      "\t4.division\n"
     ]
    },
    {
     "name": "stdin",
     "output_type": "stream",
     "text": [
      "Enter the option number: 1\n"
     ]
    },
    {
     "name": "stdout",
     "output_type": "stream",
     "text": [
      "3000\n",
      "Enter valid option\n",
      "Thankyou\n"
     ]
    }
   ],
   "source": [
    "a = 1000\n",
    "b = 2000\n",
    "print(\"option:\\n\\t1.add\\n\\t2.sub\\n\\t3.mul\\n\\t4.division\")\n",
    "option = input(\"Enter the option number:\")#1\n",
    "if option == \"1\":  #\"1\"==\"1\": True\n",
    "    print(a+b)\n",
    "if option == \"2\": #\"1\"==\"2\": False\n",
    "    print(a-b)\n",
    "if option == \"3\": #\"1\"==\"3\": False\n",
    "    print(a*b)\n",
    "if option == \"4\": #\"1\"==\"4\": False\n",
    "    print(a/b)\n",
    "else:\n",
    "    print(\"Enter valid option\")\n",
    "print(\"Thankyou\")"
   ]
  },
  {
   "cell_type": "code",
   "execution_count": 30,
   "id": "e5f17698-04d4-49ab-95fa-c9aa818e69e1",
   "metadata": {},
   "outputs": [
    {
     "name": "stdout",
     "output_type": "stream",
     "text": [
      "option:\n",
      "\t1.add\n",
      "\t2.sub\n",
      "\t3.mul\n",
      "\t4.division\n"
     ]
    },
    {
     "name": "stdin",
     "output_type": "stream",
     "text": [
      "Enter the option number: 1\n"
     ]
    },
    {
     "name": "stdout",
     "output_type": "stream",
     "text": [
      "3000\n",
      "Thankyou\n"
     ]
    }
   ],
   "source": [
    "a = 1000\n",
    "b = 2000\n",
    "print(\"option:\\n\\t1.add\\n\\t2.sub\\n\\t3.mul\\n\\t4.division\")\n",
    "option = input(\"Enter the option number:\")#1\n",
    "if option == \"1\":  #\"1\"==\"1\": True\n",
    "    print(a+b)\n",
    "elif option == \"2\": #\"1\"==\"2\": False\n",
    "    print(a-b)\n",
    "elif option == \"3\": #\"1\"==\"3\": False\n",
    "    print(a*b)\n",
    "elif option == \"4\": #\"1\"==\"4\": False\n",
    "    print(a/b)\n",
    "else:\n",
    "    print(\"Enter valid option\")\n",
    "print(\"Thankyou\")"
   ]
  },
  {
   "cell_type": "markdown",
   "id": "2f50dd82-f3ee-460d-965e-ce5e0daaffc0",
   "metadata": {},
   "source": [
    "### Take a number from the user and check whether it is even or odd"
   ]
  },
  {
   "cell_type": "code",
   "execution_count": 33,
   "id": "cf9dfa93-b8aa-464d-a043-6e0f2b65ed97",
   "metadata": {},
   "outputs": [
    {
     "name": "stdin",
     "output_type": "stream",
     "text": [
      "Enter number: 23\n"
     ]
    },
    {
     "name": "stdout",
     "output_type": "stream",
     "text": [
      "Odd\n"
     ]
    }
   ],
   "source": [
    "number = input(\"Enter number:\")\n",
    "number = float(number)\n",
    "if number%2 == 0:\n",
    "    print(\"Even\")\n",
    "else:\n",
    "    print(\"Odd\")"
   ]
  },
  {
   "cell_type": "code",
   "execution_count": 37,
   "id": "fc8f139d-bec9-4e94-b467-a1a91a892f8f",
   "metadata": {},
   "outputs": [
    {
     "name": "stdin",
     "output_type": "stream",
     "text": [
      "Enter number: \n"
     ]
    },
    {
     "ename": "ValueError",
     "evalue": "could not convert string to float: ''",
     "output_type": "error",
     "traceback": [
      "\u001b[1;31m---------------------------------------------------------------------------\u001b[0m",
      "\u001b[1;31mValueError\u001b[0m                                Traceback (most recent call last)",
      "Cell \u001b[1;32mIn[37], line 2\u001b[0m\n\u001b[0;32m      1\u001b[0m number \u001b[38;5;241m=\u001b[39m \u001b[38;5;28minput\u001b[39m(\u001b[38;5;124m\"\u001b[39m\u001b[38;5;124mEnter number:\u001b[39m\u001b[38;5;124m\"\u001b[39m)\n\u001b[1;32m----> 2\u001b[0m number \u001b[38;5;241m=\u001b[39m \u001b[38;5;28mfloat\u001b[39m(number)\n\u001b[0;32m      3\u001b[0m \u001b[38;5;28;01mif\u001b[39;00m number\u001b[38;5;241m%\u001b[39m\u001b[38;5;241m2\u001b[39m \u001b[38;5;241m==\u001b[39m \u001b[38;5;241m0\u001b[39m:\n\u001b[0;32m      4\u001b[0m     \u001b[38;5;28mprint\u001b[39m(\u001b[38;5;124m\"\u001b[39m\u001b[38;5;124mEven\u001b[39m\u001b[38;5;124m\"\u001b[39m)\n",
      "\u001b[1;31mValueError\u001b[0m: could not convert string to float: ''"
     ]
    }
   ],
   "source": [
    "number = input(\"Enter number:\")\n",
    "number = float(number)\n",
    "if number%2 == 0:\n",
    "    print(\"Even\")\n",
    "else:\n",
    "    print(\"Odd\")"
   ]
  },
  {
   "cell_type": "code",
   "execution_count": 39,
   "id": "498db70d-7668-4fc7-b65c-b3e5d82594fa",
   "metadata": {},
   "outputs": [
    {
     "name": "stdin",
     "output_type": "stream",
     "text": [
      "Enter number: 24\n"
     ]
    },
    {
     "name": "stdout",
     "output_type": "stream",
     "text": [
      "Even\n"
     ]
    }
   ],
   "source": [
    "# Nested if \n",
    "number = input(\"Enter number:\")# 24\n",
    "if number:#bool(\"24\"): True\n",
    "    number = float(number)# \"24\"=24.0\n",
    "    if number%2 == 0:# 24.0%2=0, 0==0: True\n",
    "        print(\"Even\")\n",
    "    else:\n",
    "        print(\"Odd\")\n",
    "else: \n",
    "    print(\"Invalid number\")"
   ]
  },
  {
   "cell_type": "code",
   "execution_count": 43,
   "id": "5cffcdf9-3ef0-4443-a953-c12bbf603cf0",
   "metadata": {},
   "outputs": [
    {
     "name": "stdin",
     "output_type": "stream",
     "text": [
      "Enter number: \n"
     ]
    },
    {
     "name": "stdout",
     "output_type": "stream",
     "text": [
      "Invalid number\n"
     ]
    }
   ],
   "source": [
    "# Nested if \n",
    "number = input(\"Enter number:\")# \"\"(empty string)\n",
    "if number:#bool(\"\"): False\n",
    "    number = float(number)\n",
    "    if number%2 == 0:\n",
    "        print(\"Even\")\n",
    "    else:\n",
    "        print(\"Odd\")\n",
    "else: \n",
    "    print(\"Invalid number\")"
   ]
  },
  {
   "cell_type": "code",
   "execution_count": 1,
   "id": "2f29fd08-5a88-427f-b7ee-744e14d4a915",
   "metadata": {},
   "outputs": [
    {
     "name": "stdout",
     "output_type": "stream",
     "text": [
      "Even\n"
     ]
    }
   ],
   "source": [
    "number = 12\n",
    "if number%2 ==0:\n",
    "    print(\"Even\")\n",
    "else: \n",
    "    print(\"Odd\")"
   ]
  },
  {
   "cell_type": "code",
   "execution_count": 5,
   "id": "3d0385b0-733e-4bd9-94bc-feebe6b6644c",
   "metadata": {},
   "outputs": [
    {
     "name": "stdout",
     "output_type": "stream",
     "text": [
      "odd\n"
     ]
    }
   ],
   "source": [
    "number = 13\n",
    "print(\"Even\" if number%2==0 else \"odd\")"
   ]
  },
  {
   "cell_type": "code",
   "execution_count": 7,
   "id": "f71e34de-317c-42f7-afb9-d706adcf5e64",
   "metadata": {},
   "outputs": [
    {
     "data": {
      "text/plain": [
       "True"
      ]
     },
     "execution_count": 7,
     "metadata": {},
     "output_type": "execute_result"
    }
   ],
   "source": [
    "all([True,True,True])"
   ]
  },
  {
   "cell_type": "code",
   "execution_count": 11,
   "id": "5cc30f69-8a83-4fc8-b6a8-ce245dc361a1",
   "metadata": {},
   "outputs": [
    {
     "data": {
      "text/plain": [
       "False"
      ]
     },
     "execution_count": 11,
     "metadata": {},
     "output_type": "execute_result"
    }
   ],
   "source": [
    "all((True,True,False))"
   ]
  },
  {
   "cell_type": "code",
   "execution_count": 13,
   "id": "c272bb3e-1057-4ba2-aaba-d92c4c2ef9fc",
   "metadata": {},
   "outputs": [
    {
     "data": {
      "text/plain": [
       "True"
      ]
     },
     "execution_count": 13,
     "metadata": {},
     "output_type": "execute_result"
    }
   ],
   "source": [
    "any([True,False,False])"
   ]
  },
  {
   "cell_type": "code",
   "execution_count": null,
   "id": "c3d3929a-da46-4cb5-8b61-de467dd06d24",
   "metadata": {},
   "outputs": [],
   "source": []
  }
 ],
 "metadata": {
  "kernelspec": {
   "display_name": "Python 3 (ipykernel)",
   "language": "python",
   "name": "python3"
  },
  "language_info": {
   "codemirror_mode": {
    "name": "ipython",
    "version": 3
   },
   "file_extension": ".py",
   "mimetype": "text/x-python",
   "name": "python",
   "nbconvert_exporter": "python",
   "pygments_lexer": "ipython3",
   "version": "3.12.4"
  }
 },
 "nbformat": 4,
 "nbformat_minor": 5
}

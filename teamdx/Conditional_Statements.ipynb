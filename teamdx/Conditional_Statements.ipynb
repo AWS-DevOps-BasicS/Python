{
 "cells": [
  {
   "cell_type": "code",
   "execution_count": 13,
   "id": "88522362-42d7-49af-8a73-145254d27007",
   "metadata": {},
   "outputs": [
    {
     "name": "stdin",
     "output_type": "stream",
     "text": [
      "enter value1: 20\n",
      "enter value2: \n"
     ]
    },
    {
     "name": "stdout",
     "output_type": "stream",
     "text": [
      "20\n"
     ]
    }
   ],
   "source": [
    "value1 = input(\"enter value1:\")\n",
    "value2 = input(\"enter value2:\")\n",
    "if value1 == '' :\n",
    "    value1 = 0\n",
    "    sum_value = int(value1)+int(value2)\n",
    "    print(sum_value)\n",
    "elif value2 == '':\n",
    "  value2 =0\n",
    "  sum_value = int(value1)+int(value2)\n",
    "  print(sum_value)\n",
    "else:\n",
    "  sum_value = int(value1)+int(value2)\n",
    "  print(sum_value)"
   ]
  },
  {
   "cell_type": "code",
   "execution_count": 17,
   "id": "00626596-b30d-41e7-86dd-19fa572896a2",
   "metadata": {},
   "outputs": [
    {
     "name": "stdin",
     "output_type": "stream",
     "text": [
      "enter value1: \n",
      "enter value2: 65\n"
     ]
    },
    {
     "name": "stdout",
     "output_type": "stream",
     "text": [
      "65\n"
     ]
    }
   ],
   "source": [
    "value1 = input(\"enter value1:\")\n",
    "value2 = input(\"enter value2:\")\n",
    "if value1 == '' :\n",
    "    value1 = 0\n",
    "    sum_value = int(value1)+int(value2)\n",
    "    print(sum_value)\n",
    "elif value2 == '':\n",
    "  value2 =0\n",
    "  sum_value = int(value1)+int(value2)\n",
    "  print(sum_value)\n",
    "else:\n",
    "  sum_value = int(value1)+int(value2)\n",
    "  print(sum_value)"
   ]
  },
  {
   "cell_type": "code",
   "execution_count": 19,
   "id": "82983a7f-9cb3-4736-bda3-01eb8aa6dd85",
   "metadata": {},
   "outputs": [
    {
     "name": "stdin",
     "output_type": "stream",
     "text": [
      "enter value1: 36\n",
      "enter value2: 35\n"
     ]
    },
    {
     "name": "stdout",
     "output_type": "stream",
     "text": [
      "71\n"
     ]
    }
   ],
   "source": [
    "value1 = input(\"enter value1:\")\n",
    "value2 = input(\"enter value2:\")\n",
    "if value1 == '' :\n",
    "    value1 = 0\n",
    "    sum_value = int(value1)+int(value2)\n",
    "    print(sum_value)\n",
    "elif value2 == '':\n",
    "  value2 =0\n",
    "  sum_value = int(value1)+int(value2)\n",
    "  print(sum_value)\n",
    "else:\n",
    "  sum_value = int(value1)+int(value2)\n",
    "  print(sum_value)"
   ]
  },
  {
   "cell_type": "code",
   "execution_count": null,
   "id": "3b7c2057-8bbc-4f8e-bc55-7e5a5f44bd26",
   "metadata": {},
   "outputs": [],
   "source": []
  }
 ],
 "metadata": {
  "kernelspec": {
   "display_name": "Python 3 (ipykernel)",
   "language": "python",
   "name": "python3"
  },
  "language_info": {
   "codemirror_mode": {
    "name": "ipython",
    "version": 3
   },
   "file_extension": ".py",
   "mimetype": "text/x-python",
   "name": "python",
   "nbconvert_exporter": "python",
   "pygments_lexer": "ipython3",
   "version": "3.12.4"
  }
 },
 "nbformat": 4,
 "nbformat_minor": 5
}

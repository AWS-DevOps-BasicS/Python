{
 "cells": [
  {
   "cell_type": "code",
   "execution_count": 1,
   "id": "ba0ec492-6a06-4088-8a16-52f70950e6dc",
   "metadata": {},
   "outputs": [
    {
     "name": "stdout",
     "output_type": "stream",
     "text": [
      "1000 python [1, 2, 3, 4] (10, 20, 30, 40) {56, 12.23, 45, 78}\n"
     ]
    }
   ],
   "source": [
    "a = 1000\n",
    "b = \"python\"\n",
    "c = [1,2,3,4]\n",
    "d = (10,20,30,40)\n",
    "e = {12.23,45,56,78}\n",
    "print(a,b,c,d,e)"
   ]
  },
  {
   "cell_type": "code",
   "execution_count": 3,
   "id": "3605625a-7366-4801-a846-d15e184d7ed7",
   "metadata": {},
   "outputs": [
    {
     "name": "stdout",
     "output_type": "stream",
     "text": [
      "1000#python#[1, 2, 3, 4]#(10, 20, 30, 40)#{56, 12.23, 45, 78}\n"
     ]
    }
   ],
   "source": [
    "a = 1000\n",
    "b = \"python\"\n",
    "c = [1,2,3,4]\n",
    "d = (10,20,30,40)\n",
    "e = {12.23,45,56,78}\n",
    "print(a,b,c,d,e,sep=\"#\") # seperator by default will be space( )"
   ]
  },
  {
   "cell_type": "code",
   "execution_count": 5,
   "id": "dac6bc5b-7e87-4ccf-8837-a1a830d04663",
   "metadata": {},
   "outputs": [
    {
     "name": "stdout",
     "output_type": "stream",
     "text": [
      "1000#&python#&[1, 2, 3, 4]#&(10, 20, 30, 40)#&{56, 12.23, 45, 78}\n"
     ]
    }
   ],
   "source": [
    "a = 1000\n",
    "b = \"python\"\n",
    "c = [1,2,3,4]\n",
    "d = (10,20,30,40)\n",
    "e = {12.23,45,56,78}\n",
    "print(a,b,c,d,e,sep=\"#&\")"
   ]
  },
  {
   "cell_type": "code",
   "execution_count": 7,
   "id": "af797815-f018-43c6-8a2d-48831ff11c07",
   "metadata": {},
   "outputs": [
    {
     "name": "stdout",
     "output_type": "stream",
     "text": [
      "1000\n",
      "python\n",
      "[1, 2, 3, 4]\n",
      "(10, 20, 30, 40)\n",
      "{56, 12.23, 45, 78}\n"
     ]
    }
   ],
   "source": [
    "a = 1000\n",
    "b = \"python\"\n",
    "c = [1,2,3,4]\n",
    "d = (10,20,30,40)\n",
    "e = {12.23,45,56,78}\n",
    "print(a,b,c,d,e,sep=\"\\n\") # '\\n' is for next line. ' \\n' is a special character in python "
   ]
  },
  {
   "cell_type": "code",
   "execution_count": 9,
   "id": "80ebd622-1d7e-4170-abf2-0e65efd4f29c",
   "metadata": {},
   "outputs": [
    {
     "name": "stdout",
     "output_type": "stream",
     "text": [
      "1000\n",
      "python\n",
      "[1, 2, 3, 4]\n",
      "(10, 20, 30, 40)\n",
      "{56, 12.23, 45, 78}\n",
      "1000 python [1, 2, 3, 4] (10, 20, 30, 40) {56, 12.23, 45, 78}\n"
     ]
    }
   ],
   "source": [
    "a = 1000\n",
    "b = \"python\"\n",
    "c = [1,2,3,4]\n",
    "d = (10,20,30,40)\n",
    "e = {12.23,45,56,78}\n",
    "print(a,b,c,d,e,sep=\"\\n\")\n",
    "print(a,b,c,d,e)"
   ]
  },
  {
   "cell_type": "code",
   "execution_count": 13,
   "id": "0cf6718d-112b-492d-8020-d6ec299260c3",
   "metadata": {},
   "outputs": [
    {
     "name": "stdout",
     "output_type": "stream",
     "text": [
      "1000\n",
      "python\n",
      "[1, 2, 3, 4]\n",
      "(10, 20, 30, 40)\n",
      "{56, 12.23, 45, 78}\n"
     ]
    }
   ],
   "source": [
    "a = 1000\n",
    "b = \"python\"\n",
    "c = [1,2,3,4]\n",
    "d = (10,20,30,40)\n",
    "e = {12.23,45,56,78}\n",
    "print(a)\n",
    "print(b)\n",
    "print(c)\n",
    "print(d)\n",
    "print(e)"
   ]
  },
  {
   "cell_type": "code",
   "execution_count": 21,
   "id": "0292dce9-9996-457d-81ce-fa40865f8ddc",
   "metadata": {},
   "outputs": [
    {
     "name": "stdout",
     "output_type": "stream",
     "text": [
      "1000,python@[1, 2, 3, 4]$(10, 20, 30, 40)*{56, 12.23, 45, 78}\n"
     ]
    }
   ],
   "source": [
    "# Every print statement end by default has a new line\n",
    "a = 1000\n",
    "b = \"python\"\n",
    "c = [1,2,3,4]\n",
    "d = (10,20,30,40)\n",
    "e = {12.23,45,56,78}\n",
    "print(a, end= \",\")\n",
    "print(b, end = \"@\")\n",
    "print(c, end = \"$\")\n",
    "print(d, end = \"*\")\n",
    "print(e)"
   ]
  },
  {
   "cell_type": "code",
   "execution_count": null,
   "id": "6d26ced5-f4db-49dc-850b-744aecf0a36b",
   "metadata": {},
   "outputs": [],
   "source": []
  }
 ],
 "metadata": {
  "kernelspec": {
   "display_name": "Python 3 (ipykernel)",
   "language": "python",
   "name": "python3"
  },
  "language_info": {
   "codemirror_mode": {
    "name": "ipython",
    "version": 3
   },
   "file_extension": ".py",
   "mimetype": "text/x-python",
   "name": "python",
   "nbconvert_exporter": "python",
   "pygments_lexer": "ipython3",
   "version": "3.12.4"
  }
 },
 "nbformat": 4,
 "nbformat_minor": 5
}

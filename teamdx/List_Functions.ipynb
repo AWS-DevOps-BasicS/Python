{
 "cells": [
  {
   "cell_type": "code",
   "execution_count": 1,
   "id": "bdaff37d-2fb3-40de-97ac-5a9f93a20b1a",
   "metadata": {},
   "outputs": [
    {
     "name": "stdout",
     "output_type": "stream",
     "text": [
      "[3000, 5000, 1000, 2000, 'python']\n",
      "[3000, 5000, 1000, 2000, 'python']\n"
     ]
    }
   ],
   "source": [
    "a = 1000\n",
    "b = 2000\n",
    "s = \"python\"\n",
    "l = [3000,4000,a,b,s]\n",
    "k = l\n",
    "k[1]=5000\n",
    "print(l)\n",
    "print(k)"
   ]
  },
  {
   "cell_type": "code",
   "execution_count": 11,
   "id": "f9a29214-8369-4e63-91df-e9818e25e8e8",
   "metadata": {},
   "outputs": [
    {
     "name": "stdout",
     "output_type": "stream",
     "text": [
      "[100, 5000, 2000, 3000, 4000]\n",
      "[100, 5000, 2000, 3000, 4000, 6000]\n"
     ]
    }
   ],
   "source": [
    "s = \"python\"\n",
    "i = 1234\n",
    "l = [100,2000,3000,4000]\n",
    "t = (10,20,30)\n",
    "l.insert(1,5000)\n",
    "print(l)\n",
    "l.append(6000)\n",
    "print(l)"
   ]
  },
  {
   "cell_type": "markdown",
   "id": "b44f77c3-d1b8-4882-9ae7-f4afbb3ee893",
   "metadata": {},
   "source": [
    "* using apppend() we can only add to the right side of the list but to add in left side we didn't have any functions in list.\n",
    "* For that we have collections."
   ]
  },
  {
   "cell_type": "code",
   "execution_count": 14,
   "id": "97c7390e-c59b-4e7a-af70-d6b91378eb9a",
   "metadata": {},
   "outputs": [
    {
     "name": "stdout",
     "output_type": "stream",
     "text": [
      "['__add__', '__class__', '__class_getitem__', '__contains__', '__delattr__', '__delitem__', '__dir__', '__doc__', '__eq__', '__format__', '__ge__', '__getattribute__', '__getitem__', '__getstate__', '__gt__', '__hash__', '__iadd__', '__imul__', '__init__', '__init_subclass__', '__iter__', '__le__', '__len__', '__lt__', '__mul__', '__ne__', '__new__', '__reduce__', '__reduce_ex__', '__repr__', '__reversed__', '__rmul__', '__setattr__', '__setitem__', '__sizeof__', '__str__', '__subclasshook__', 'append', 'clear', 'copy', 'count', 'extend', 'index', 'insert', 'pop', 'remove', 'reverse', 'sort']\n"
     ]
    }
   ],
   "source": [
    "print(dir(l))"
   ]
  },
  {
   "cell_type": "code",
   "execution_count": 16,
   "id": "fec77610-8e13-43a5-b540-9e6b3e9950e7",
   "metadata": {},
   "outputs": [
    {
     "name": "stdout",
     "output_type": "stream",
     "text": [
      "['ChainMap', 'Counter', 'OrderedDict', 'UserDict', 'UserList', 'UserString', '_Link', '_OrderedDictItemsView', '_OrderedDictKeysView', '_OrderedDictValuesView', '__all__', '__builtins__', '__cached__', '__doc__', '__file__', '__loader__', '__name__', '__package__', '__path__', '__spec__', '_chain', '_collections_abc', '_count_elements', '_deque_iterator', '_eq', '_iskeyword', '_itemgetter', '_proxy', '_recursive_repr', '_repeat', '_starmap', '_sys', '_tuplegetter', 'abc', 'defaultdict', 'deque', 'namedtuple']\n"
     ]
    }
   ],
   "source": [
    "import collections\n",
    "print(dir(collections))"
   ]
  },
  {
   "cell_type": "code",
   "execution_count": 18,
   "id": "cf3aa633-4027-44af-87e3-93624386a68c",
   "metadata": {},
   "outputs": [
    {
     "name": "stdout",
     "output_type": "stream",
     "text": [
      "['__add__', '__class__', '__class_getitem__', '__contains__', '__copy__', '__delattr__', '__delitem__', '__dir__', '__doc__', '__eq__', '__format__', '__ge__', '__getattribute__', '__getitem__', '__getstate__', '__gt__', '__hash__', '__iadd__', '__imul__', '__init__', '__init_subclass__', '__iter__', '__le__', '__len__', '__lt__', '__module__', '__mul__', '__ne__', '__new__', '__reduce__', '__reduce_ex__', '__repr__', '__reversed__', '__rmul__', '__setattr__', '__setitem__', '__sizeof__', '__str__', '__subclasshook__', 'append', 'appendleft', 'clear', 'copy', 'count', 'extend', 'extendleft', 'index', 'insert', 'maxlen', 'pop', 'popleft', 'remove', 'reverse', 'rotate']\n"
     ]
    }
   ],
   "source": [
    "from collections import deque\n",
    "d = deque([1,2,3,4])\n",
    "print(dir(d))"
   ]
  },
  {
   "cell_type": "code",
   "execution_count": 20,
   "id": "cfe0ddbe-bb80-4839-9317-226746cf21a4",
   "metadata": {},
   "outputs": [
    {
     "name": "stdout",
     "output_type": "stream",
     "text": [
      "[8000, 1, 2, 3, 4]\n",
      "deque([8000, 1, 2, 3, 4])\n"
     ]
    }
   ],
   "source": [
    "l = [1,2,3,4]\n",
    "d = deque([1,2,3,4])\n",
    "l.insert(0,8000)\n",
    "d.appendleft(8000)\n",
    "print(l)\n",
    "print(d)"
   ]
  },
  {
   "cell_type": "code",
   "execution_count": 1,
   "id": "27a60327-89af-4189-82f8-86a3427c6c3a",
   "metadata": {},
   "outputs": [
    {
     "name": "stdout",
     "output_type": "stream",
     "text": [
      "3000\n",
      "[1000, 2000]\n"
     ]
    }
   ],
   "source": [
    "l = [1000,2000,3000]\n",
    "k = l.pop()\n",
    "print(k)\n",
    "print(l)\n"
   ]
  },
  {
   "cell_type": "code",
   "execution_count": 5,
   "id": "818e3a1c-1b36-400a-80ce-9f6ff0398657",
   "metadata": {},
   "outputs": [
    {
     "name": "stdout",
     "output_type": "stream",
     "text": [
      "k= None\n",
      "l= [1, 2, 3, 4, 5]\n"
     ]
    }
   ],
   "source": [
    "l = [1,2,3,4]\n",
    "k = l.append(5)\n",
    "print(\"k=\",k)\n",
    "print(\"l=\",l)"
   ]
  },
  {
   "cell_type": "code",
   "execution_count": 7,
   "id": "80cf36b5-cfa1-4422-937c-b85a4e6dad81",
   "metadata": {},
   "outputs": [
    {
     "name": "stdout",
     "output_type": "stream",
     "text": [
      "s= abcd\n",
      "s1= Abcd\n"
     ]
    }
   ],
   "source": [
    "s = 'abcd'\n",
    "s1 = s.replace('a','A')\n",
    "print('s=',s)\n",
    "print('s1=',s1)"
   ]
  },
  {
   "cell_type": "code",
   "execution_count": 22,
   "id": "5a78a34e-4439-40a8-977e-ad6780fa0a66",
   "metadata": {},
   "outputs": [
    {
     "ename": "TypeError",
     "evalue": "'str' object cannot be interpreted as an integer",
     "output_type": "error",
     "traceback": [
      "\u001b[1;31m---------------------------------------------------------------------------\u001b[0m",
      "\u001b[1;31mTypeError\u001b[0m                                 Traceback (most recent call last)",
      "Cell \u001b[1;32mIn[22], line 2\u001b[0m\n\u001b[0;32m      1\u001b[0m l \u001b[38;5;241m=\u001b[39m [\u001b[38;5;124m\"\u001b[39m\u001b[38;5;124ma\u001b[39m\u001b[38;5;124m\"\u001b[39m,\u001b[38;5;124m\"\u001b[39m\u001b[38;5;124mb\u001b[39m\u001b[38;5;124m\"\u001b[39m,\u001b[38;5;124m\"\u001b[39m\u001b[38;5;124mc\u001b[39m\u001b[38;5;124m\"\u001b[39m,\u001b[38;5;124m\"\u001b[39m\u001b[38;5;124md\u001b[39m\u001b[38;5;124m\"\u001b[39m] \n\u001b[1;32m----> 2\u001b[0m k \u001b[38;5;241m=\u001b[39m l\u001b[38;5;241m.\u001b[39mpop(\u001b[38;5;124m\"\u001b[39m\u001b[38;5;124mb\u001b[39m\u001b[38;5;124m\"\u001b[39m)\n\u001b[0;32m      3\u001b[0m \u001b[38;5;28mprint\u001b[39m(\u001b[38;5;124m\"\u001b[39m\u001b[38;5;124mk=\u001b[39m\u001b[38;5;124m\"\u001b[39m,k)\n\u001b[0;32m      4\u001b[0m \u001b[38;5;28mprint\u001b[39m(\u001b[38;5;124m\"\u001b[39m\u001b[38;5;124ml=\u001b[39m\u001b[38;5;124m\"\u001b[39m,l)\n",
      "\u001b[1;31mTypeError\u001b[0m: 'str' object cannot be interpreted as an integer"
     ]
    }
   ],
   "source": [
    "l = [\"a\",\"b\",\"c\",\"d\"] \n",
    "k = l.pop(\"b\")\n",
    "print(\"k=\",k)\n",
    "print(\"l=\",l)"
   ]
  },
  {
   "cell_type": "code",
   "execution_count": 24,
   "id": "72e2d9b4-d1ae-46ea-8e7b-2509d85fd374",
   "metadata": {},
   "outputs": [
    {
     "name": "stdout",
     "output_type": "stream",
     "text": [
      "k= None\n",
      "l= ['a', 'c', 'd']\n"
     ]
    }
   ],
   "source": [
    "l = [\"a\",\"b\",\"c\",\"d\"] \n",
    "k = l.remove(\"b\")\n",
    "print(\"k=\",k)\n",
    "print(\"l=\",l)"
   ]
  },
  {
   "cell_type": "code",
   "execution_count": 26,
   "id": "db6bd521-8410-497c-9920-27b9ba2e511f",
   "metadata": {},
   "outputs": [
    {
     "name": "stdout",
     "output_type": "stream",
     "text": [
      "k= c\n",
      "l= ['a', 'b', 'd']\n"
     ]
    }
   ],
   "source": [
    "l = [\"a\",\"b\",\"c\",\"d\"] \n",
    "k = l.pop(2)\n",
    "print(\"k=\",k)\n",
    "print(\"l=\",l)"
   ]
  },
  {
   "cell_type": "code",
   "execution_count": 30,
   "id": "aa0552bc-5031-4b5a-9819-94ef767620f1",
   "metadata": {},
   "outputs": [
    {
     "name": "stdout",
     "output_type": "stream",
     "text": [
      "l= ['a', 'b', 'c', 'd', 'pyt']\n"
     ]
    }
   ],
   "source": [
    "l = [\"a\",\"b\",\"c\",\"d\"] \n",
    "l.append(\"pyt\")\n",
    "print(\"l=\",l)"
   ]
  },
  {
   "cell_type": "code",
   "execution_count": 32,
   "id": "f0bd156f-52f0-46c6-96ef-67e6bccf48d7",
   "metadata": {},
   "outputs": [
    {
     "name": "stdout",
     "output_type": "stream",
     "text": [
      "l= ['a', 'b', 'c', 'd', 'p', 'y', 't']\n"
     ]
    }
   ],
   "source": [
    "l = [\"a\",\"b\",\"c\",\"d\"] \n",
    "l.extend(\"pyt\")\n",
    "print(\"l=\",l)"
   ]
  },
  {
   "cell_type": "code",
   "execution_count": 34,
   "id": "56cb12dd-7dbb-497d-8951-5cc392205bf0",
   "metadata": {},
   "outputs": [
    {
     "name": "stdout",
     "output_type": "stream",
     "text": [
      "l= ['a', 'b', 'c', 'd', [100, 200, 300]]\n"
     ]
    }
   ],
   "source": [
    "l = [\"a\",\"b\",\"c\",\"d\"] \n",
    "l.append([100,200,300])\n",
    "print(\"l=\",l)"
   ]
  },
  {
   "cell_type": "code",
   "execution_count": 36,
   "id": "a2692a3a-8140-4a4a-b061-508b517c0832",
   "metadata": {},
   "outputs": [
    {
     "name": "stdout",
     "output_type": "stream",
     "text": [
      "l= ['a', 'b', 'c', 'd', 100, 200, 300]\n"
     ]
    }
   ],
   "source": [
    "l = [\"a\",\"b\",\"c\",\"d\"] \n",
    "l.extend([100,200,300])\n",
    "print(\"l=\",l)"
   ]
  },
  {
   "cell_type": "code",
   "execution_count": 38,
   "id": "3bb11525-a26d-47b6-a34d-e02d8461617d",
   "metadata": {},
   "outputs": [
    {
     "name": "stdout",
     "output_type": "stream",
     "text": [
      "['a', 'b', 'c', 'd', 100, 200, 300]\n"
     ]
    }
   ],
   "source": [
    "l = [\"a\",\"b\",\"c\",\"d\"] \n",
    "# l.extend([100,200,300])\n",
    "for i in [100,200,300]:\n",
    "    l.append(i)\n",
    "print(l)"
   ]
  },
  {
   "cell_type": "code",
   "execution_count": 5,
   "id": "1a573c73-76ea-41dd-bed7-249f198a28c9",
   "metadata": {},
   "outputs": [
    {
     "name": "stdout",
     "output_type": "stream",
     "text": [
      "['a', 'b', 'c', 'd', 'name', 'AGE']\n"
     ]
    }
   ],
   "source": [
    "l = [\"a\",\"b\",\"c\",\"d\"]\n",
    "l.extend({\"name\":\"JAY\",\"AGE\":8})\n",
    "print(l)"
   ]
  },
  {
   "cell_type": "code",
   "execution_count": 7,
   "id": "59a4af43-3f6d-4adb-b3dd-ee9b3450491d",
   "metadata": {},
   "outputs": [
    {
     "name": "stdout",
     "output_type": "stream",
     "text": [
      "name\n",
      "AGE\n"
     ]
    }
   ],
   "source": [
    "for  i in {\"name\":\"JAY\",\"AGE\":8}:\n",
    "    print(i)"
   ]
  },
  {
   "cell_type": "code",
   "execution_count": 11,
   "id": "37468d85-98d2-4afe-be2e-99dc88ca5595",
   "metadata": {},
   "outputs": [
    {
     "name": "stdout",
     "output_type": "stream",
     "text": [
      "['a', 'b', 'c', 'd', 10]\n"
     ]
    },
    {
     "ename": "TypeError",
     "evalue": "'int' object is not iterable",
     "output_type": "error",
     "traceback": [
      "\u001b[1;31m--------------------------------------------------------------------------\u001b[0m",
      "\u001b[1;31mTypeError\u001b[0m                                Traceback (most recent call last)",
      "Cell \u001b[1;32mIn[11], line 4\u001b[0m\n\u001b[0;32m      2\u001b[0m l\u001b[38;5;241m.\u001b[39mappend(\u001b[38;5;241m10\u001b[39m)\n\u001b[0;32m      3\u001b[0m \u001b[38;5;28mprint\u001b[39m(l)\n\u001b[1;32m----> 4\u001b[0m l\u001b[38;5;241m.\u001b[39mextend(\u001b[38;5;241m1000\u001b[39m)\n\u001b[0;32m      5\u001b[0m \u001b[38;5;28mprint\u001b[39m(l)\n",
      "\u001b[1;31mTypeError\u001b[0m: 'int' object is not iterable"
     ]
    }
   ],
   "source": [
    "l = [\"a\",\"b\",\"c\",\"d\"]\n",
    "l.append(10)\n",
    "print(l)\n",
    "l.extend(1000)\n",
    "print(l)"
   ]
  },
  {
   "cell_type": "markdown",
   "id": "240cc5cb-a8a9-4879-a52f-677a7849a45b",
   "metadata": {},
   "source": [
    "* Only iterable objects can be extended."
   ]
  },
  {
   "cell_type": "code",
   "execution_count": 14,
   "id": "feb116ec-4887-441c-8842-82657550bff6",
   "metadata": {},
   "outputs": [
    {
     "ename": "TypeError",
     "evalue": "'int' object is not iterable",
     "output_type": "error",
     "traceback": [
      "\u001b[1;31m--------------------------------------------------------------------------\u001b[0m",
      "\u001b[1;31mTypeError\u001b[0m                                Traceback (most recent call last)",
      "Cell \u001b[1;32mIn[14], line 1\u001b[0m\n\u001b[1;32m----> 1\u001b[0m \u001b[38;5;28;01mfor\u001b[39;00m i \u001b[38;5;129;01min\u001b[39;00m \u001b[38;5;241m1000\u001b[39m:\n\u001b[0;32m      2\u001b[0m     \u001b[38;5;28mprint\u001b[39m(i)\n",
      "\u001b[1;31mTypeError\u001b[0m: 'int' object is not iterable"
     ]
    }
   ],
   "source": [
    "for i in 1000:\n",
    "    print(i)"
   ]
  },
  {
   "cell_type": "code",
   "execution_count": 16,
   "id": "5abdbf24-4a88-465d-ad9f-5c5a7b74fac9",
   "metadata": {},
   "outputs": [
    {
     "name": "stdout",
     "output_type": "stream",
     "text": [
      "['a', 'b', 'c', 'd', 10]\n",
      "['a', 'b', 'c', 'd', 10, '1', '0', '0', '0']\n"
     ]
    }
   ],
   "source": [
    "l = [\"a\",\"b\",\"c\",\"d\"]\n",
    "l.append(10)\n",
    "print(l)\n",
    "l.extend(\"1000\")\n",
    "print(l)"
   ]
  },
  {
   "cell_type": "code",
   "execution_count": 11,
   "id": "37145c2f-e115-435d-9c8f-d041e8c88c0a",
   "metadata": {},
   "outputs": [
    {
     "name": "stdout",
     "output_type": "stream",
     "text": [
      "[1, 2, 3, 4, [1, 2], [3, 4], [5, 6]]\n"
     ]
    }
   ],
   "source": [
    "l = [1,2,3,4]\n",
    "l.extend([[1,2],[3,4],[5,6]])\n",
    "print(l)"
   ]
  },
  {
   "cell_type": "code",
   "execution_count": 18,
   "id": "bc9831a0-5786-4187-8726-17fd8f56329c",
   "metadata": {},
   "outputs": [
    {
     "name": "stdout",
     "output_type": "stream",
     "text": [
      "[1, 2, 3, 4, 12, 34, 56]\n"
     ]
    }
   ],
   "source": [
    "l = [1,2,3,4]\n",
    "l.extend((12,34,56))\n",
    "print(l)"
   ]
  },
  {
   "cell_type": "code",
   "execution_count": 20,
   "id": "b14da23b-ea8b-4294-af65-9de33e1c2fb3",
   "metadata": {},
   "outputs": [
    {
     "name": "stdout",
     "output_type": "stream",
     "text": [
      "[1, 2, 3, 4, 56, 34, 12]\n"
     ]
    }
   ],
   "source": [
    "l = [1,2,3,4]\n",
    "l.extend({12,34,56})\n",
    "print(l)"
   ]
  },
  {
   "cell_type": "code",
   "execution_count": 24,
   "id": "b9c9b412-b705-4641-b1f1-efdd1502f73e",
   "metadata": {},
   "outputs": [
    {
     "name": "stdout",
     "output_type": "stream",
     "text": [
      "['a', 'b', 'c', 'd', 'E']\n"
     ]
    }
   ],
   "source": [
    "l = [\"a\",\"b\",\"c\",\"d\"]\n",
    "l.insert(30,\"E\")\n",
    "print(l)"
   ]
  },
  {
   "cell_type": "code",
   "execution_count": 26,
   "id": "b6226676-5506-4d98-af7e-10f0afec9442",
   "metadata": {},
   "outputs": [
    {
     "name": "stdout",
     "output_type": "stream",
     "text": [
      "['E', 'a', 'b', 'c', 'd']\n"
     ]
    }
   ],
   "source": [
    "l = [\"a\",\"b\",\"c\",\"d\"]\n",
    "l.insert(-30,\"E\")\n",
    "print(l)"
   ]
  },
  {
   "cell_type": "code",
   "execution_count": 28,
   "id": "aa4ebcfd-4e58-4a1d-89bc-59e9ee8f4f15",
   "metadata": {},
   "outputs": [
    {
     "name": "stdout",
     "output_type": "stream",
     "text": [
      "k= d\n",
      "l= ['a', 'b', 'c']\n"
     ]
    }
   ],
   "source": [
    "l = [\"a\",\"b\",\"c\",\"d\"]\n",
    "k = l.pop()\n",
    "print(\"k=\",k)\n",
    "print(\"l=\",l)"
   ]
  },
  {
   "cell_type": "code",
   "execution_count": 30,
   "id": "14c6f6a2-fb44-4d32-b38c-d569621054db",
   "metadata": {},
   "outputs": [
    {
     "ename": "IndexError",
     "evalue": "pop index out of range",
     "output_type": "error",
     "traceback": [
      "\u001b[1;31m--------------------------------------------------------------------------\u001b[0m",
      "\u001b[1;31mIndexError\u001b[0m                               Traceback (most recent call last)",
      "Cell \u001b[1;32mIn[30], line 2\u001b[0m\n\u001b[0;32m      1\u001b[0m l \u001b[38;5;241m=\u001b[39m [\u001b[38;5;124m\"\u001b[39m\u001b[38;5;124ma\u001b[39m\u001b[38;5;124m\"\u001b[39m,\u001b[38;5;124m\"\u001b[39m\u001b[38;5;124mb\u001b[39m\u001b[38;5;124m\"\u001b[39m,\u001b[38;5;124m\"\u001b[39m\u001b[38;5;124mc\u001b[39m\u001b[38;5;124m\"\u001b[39m,\u001b[38;5;124m\"\u001b[39m\u001b[38;5;124md\u001b[39m\u001b[38;5;124m\"\u001b[39m]\n\u001b[1;32m----> 2\u001b[0m k \u001b[38;5;241m=\u001b[39m l\u001b[38;5;241m.\u001b[39mpop(\u001b[38;5;241m30\u001b[39m)\n\u001b[0;32m      3\u001b[0m \u001b[38;5;28mprint\u001b[39m(\u001b[38;5;124m\"\u001b[39m\u001b[38;5;124mk=\u001b[39m\u001b[38;5;124m\"\u001b[39m,k)\n\u001b[0;32m      4\u001b[0m \u001b[38;5;28mprint\u001b[39m(\u001b[38;5;124m\"\u001b[39m\u001b[38;5;124ml=\u001b[39m\u001b[38;5;124m\"\u001b[39m,l)\n",
      "\u001b[1;31mIndexError\u001b[0m: pop index out of range"
     ]
    }
   ],
   "source": [
    "l = [\"a\",\"b\",\"c\",\"d\"]\n",
    "k = l.pop(30)\n",
    "print(\"k=\",k)\n",
    "print(\"l=\",l)"
   ]
  },
  {
   "cell_type": "code",
   "execution_count": 32,
   "id": "160cc4aa-34b7-4aad-b49a-a268247762be",
   "metadata": {},
   "outputs": [
    {
     "name": "stdout",
     "output_type": "stream",
     "text": [
      "k= c\n",
      "l= ['a', 'b', 'd']\n"
     ]
    }
   ],
   "source": [
    "l = [\"a\",\"b\",\"c\",\"d\"]\n",
    "k = l.pop(-2)\n",
    "print(\"k=\",k)\n",
    "print(\"l=\",l)"
   ]
  },
  {
   "cell_type": "code",
   "execution_count": 34,
   "id": "4e1b496f-b598-48ca-9a0f-f304095ce125",
   "metadata": {},
   "outputs": [
    {
     "name": "stdout",
     "output_type": "stream",
     "text": [
      "k= None\n",
      "l= [1, 2, 3, 4]\n"
     ]
    }
   ],
   "source": [
    "l = [1,2,4,3]\n",
    "k = l.sort()\n",
    "print(\"k=\",k)\n",
    "print(\"l=\",l)"
   ]
  },
  {
   "cell_type": "code",
   "execution_count": 36,
   "id": "05d29bce-e74d-49e7-ab8c-5583fe6844bb",
   "metadata": {},
   "outputs": [
    {
     "name": "stdout",
     "output_type": "stream",
     "text": [
      "['ABC', 'GHI', 'abc', 'def', 'ghi']\n"
     ]
    }
   ],
   "source": [
    "l = ['abc','ABC','def','ghi','GHI']\n",
    "l.sort()\n",
    "print(l)"
   ]
  },
  {
   "cell_type": "code",
   "execution_count": 38,
   "id": "9bd41b6a-0704-474e-9277-4047a134ed3a",
   "metadata": {},
   "outputs": [
    {
     "name": "stdout",
     "output_type": "stream",
     "text": [
      "['abc', 'ABC', 'def', 'ghi', 'GHI']\n"
     ]
    }
   ],
   "source": [
    "l = ['abc','ABC','def','ghi','GHI']\n",
    "def cmp(x):\n",
    "    return x.casefold()\n",
    "l.sort(key=cmp)\n",
    "print(l)"
   ]
  },
  {
   "cell_type": "code",
   "execution_count": 40,
   "id": "979e05fc-ffcb-4c32-ab0f-96ffdfcc5636",
   "metadata": {},
   "outputs": [
    {
     "name": "stdout",
     "output_type": "stream",
     "text": [
      "4\n"
     ]
    }
   ],
   "source": [
    "l = [1,2,3,4]\n",
    "print(max(l))"
   ]
  },
  {
   "cell_type": "code",
   "execution_count": 48,
   "id": "26cf6bf4-c1e4-45b4-a0da-0b4f2cb45e52",
   "metadata": {},
   "outputs": [
    {
     "name": "stdout",
     "output_type": "stream",
     "text": [
      "4\n"
     ]
    }
   ],
   "source": [
    "l = ['1','2','3','4','30','20']\n",
    "print(max(l))"
   ]
  },
  {
   "cell_type": "code",
   "execution_count": 54,
   "id": "ca4704c7-b2f8-4507-afe2-0e024e5f6510",
   "metadata": {},
   "outputs": [
    {
     "name": "stdout",
     "output_type": "stream",
     "text": [
      "['1', '2', '3', '4', '30', '20']\n",
      "[1, 2, 3, 4, 30, 20]\n",
      "4\n",
      "30\n"
     ]
    }
   ],
   "source": [
    "l = ['1','2','3','4','30','20']\n",
    "res = []\n",
    "for i in l:\n",
    "    res.append(int(i))\n",
    "print(l)\n",
    "print(res)\n",
    "print(max(l))\n",
    "print(max(res))"
   ]
  },
  {
   "cell_type": "code",
   "execution_count": 56,
   "id": "a1a1482c-3464-4d53-9630-faf2ba60b10e",
   "metadata": {},
   "outputs": [
    {
     "name": "stdout",
     "output_type": "stream",
     "text": [
      "['1', '2', '3', '4', '30', '20']\n",
      "30\n"
     ]
    }
   ],
   "source": [
    "l = ['1','2','3','4','30','20']\n",
    "def conv(x):\n",
    "    return int(x)\n",
    "print(l)\n",
    "print(max(l, key=conv))"
   ]
  },
  {
   "cell_type": "code",
   "execution_count": 58,
   "id": "e6ad6c18-6444-464b-b7d7-88b27dcea4c1",
   "metadata": {},
   "outputs": [
    {
     "name": "stdout",
     "output_type": "stream",
     "text": [
      "['1', '2', '3', '4', '30', '20']\n",
      "1\n"
     ]
    }
   ],
   "source": [
    "l = ['1','2','3','4','30','20']\n",
    "def conv(x):\n",
    "    return int(x)\n",
    "print(l)\n",
    "print(min(l, key=conv))"
   ]
  },
  {
   "cell_type": "code",
   "execution_count": 3,
   "id": "b9dc158f-9e14-439c-816b-810c8f31a3cc",
   "metadata": {},
   "outputs": [
    {
     "name": "stdout",
     "output_type": "stream",
     "text": [
      "[(1, 'Rajesh'), (2, 'Ameel'), (3, 'Sai'), (4, 'Tejaswini')]\n"
     ]
    }
   ],
   "source": [
    "l = [(1,\"Rajesh\"),(2,\"Ameel\"),(4,\"Tejaswini\"),(3,\"Sai\")]\n",
    "l.sort()\n",
    "print(l)"
   ]
  },
  {
   "cell_type": "code",
   "execution_count": 60,
   "id": "62fb03a3-013c-4353-8b24-1c3aa58cfc96",
   "metadata": {},
   "outputs": [
    {
     "name": "stdout",
     "output_type": "stream",
     "text": [
      "x= (1, 'Rajesh')\n",
      "x= (2, 'Ameel')\n",
      "x= (4, 'Tejaswini')\n",
      "x= (3, 'Sai')\n",
      "[(1, 'Rajesh'), (2, 'Ameel'), (3, 'Sai'), (4, 'Tejaswini')]\n"
     ]
    }
   ],
   "source": [
    "l = [(1,\"Rajesh\"),(2,\"Ameel\"),(4,\"Tejaswini\"),(3,\"Sai\")]\n",
    "def name(x):\n",
    "    print(\"x=\",x)\n",
    "    return x\n",
    "l.sort(key=name)\n",
    "print(l)"
   ]
  },
  {
   "cell_type": "code",
   "execution_count": 62,
   "id": "978d28b3-38ae-4a29-b0a7-abf371d2bc51",
   "metadata": {},
   "outputs": [
    {
     "name": "stdout",
     "output_type": "stream",
     "text": [
      "x= (1, 'Rajesh')\n",
      "x= (2, 'Ameel')\n",
      "x= (4, 'Tejaswini')\n",
      "x= (3, 'Sai')\n",
      "[(2, 'Ameel'), (1, 'Rajesh'), (3, 'Sai'), (4, 'Tejaswini')]\n"
     ]
    }
   ],
   "source": [
    "# sort by name\n",
    "l = [(1,\"Rajesh\"),(2,\"Ameel\"),(4,\"Tejaswini\"),(3,\"Sai\")]\n",
    "def name(x):\n",
    "    print(\"x=\",x)\n",
    "    return x[1]\n",
    "l.sort(key=name)\n",
    "print(l)"
   ]
  },
  {
   "cell_type": "code",
   "execution_count": 64,
   "id": "cf95fa7d-902d-412d-ab6c-9a8772698615",
   "metadata": {},
   "outputs": [
    {
     "name": "stdout",
     "output_type": "stream",
     "text": [
      "x= (1, 'Rajesh')\n",
      "x= (2, 'Ameel')\n",
      "x= (4, 'Tejaswini')\n",
      "x= (3, 'Sai')\n",
      "[(4, 'Tejaswini'), (3, 'Sai'), (1, 'Rajesh'), (2, 'Ameel')]\n"
     ]
    }
   ],
   "source": [
    "l = [(1,\"Rajesh\"),(2,\"Ameel\"),(4,\"Tejaswini\"),(3,\"Sai\")]\n",
    "def name(x):\n",
    "    print(\"x=\",x)\n",
    "    return x[1]\n",
    "l.sort(key=name, reverse=True)\n",
    "print(l)"
   ]
  },
  {
   "cell_type": "code",
   "execution_count": 70,
   "id": "573c76fc-7d51-40f8-97c9-be1c8f005799",
   "metadata": {},
   "outputs": [
    {
     "name": "stdout",
     "output_type": "stream",
     "text": [
      "[1, 2, 4, 5, 6, 7, 4, 9]\n",
      "[1, 2, 3, 3, 3, 4, 5, 6, 7, 3, 4, 3, 9, 3]\n"
     ]
    }
   ],
   "source": [
    "l = [1,2,3,3,3,4,5,6,7,3,4,3,9,3]\n",
    "res = []\n",
    "for i in l:\n",
    "    if i !=3:\n",
    "        res.append(i)\n",
    "print(res)\n",
    "print(l)"
   ]
  },
  {
   "cell_type": "code",
   "execution_count": 72,
   "id": "e4b99886-3337-425e-8ac7-754ae1657421",
   "metadata": {},
   "outputs": [
    {
     "name": "stdout",
     "output_type": "stream",
     "text": [
      "[1, 2, 3, 3, 4, 5, 6, 7, 3, 4, 3, 9, 3]\n"
     ]
    }
   ],
   "source": [
    "l = [1,2,3,3,3,4,5,6,7,3,4,3,9,3]\n",
    "l.remove(3)\n",
    "print(l)"
   ]
  },
  {
   "cell_type": "code",
   "execution_count": 1,
   "id": "d8b96df3-b9db-40bd-b6e7-f74a23a4b37c",
   "metadata": {},
   "outputs": [
    {
     "name": "stdout",
     "output_type": "stream",
     "text": [
      "[1, 2, 4, 5, 6, 7, 4, 9]\n"
     ]
    }
   ],
   "source": [
    "l = [1,2,3,3,3,4,5,6,7,3,4,3,9,3]\n",
    "for i in l[::]:\n",
    "    if i == 3:\n",
    "         l.remove(i)\n",
    "print(l)"
   ]
  },
  {
   "cell_type": "code",
   "execution_count": 68,
   "id": "75e75baa-49bb-43c7-a8fd-48de22c509d5",
   "metadata": {},
   "outputs": [
    {
     "name": "stdout",
     "output_type": "stream",
     "text": [
      "[1, 2, 4, 5, 6, 7, 4, 9, 3]\n"
     ]
    }
   ],
   "source": [
    "l = [1,2,3,3,3,4,5,6,7,3,4,3,9,3]\n",
    "for i in l:\n",
    "    if i == 3:\n",
    "         l.remove(i)\n",
    "print(l)"
   ]
  },
  {
   "cell_type": "code",
   "execution_count": 1,
   "id": "40146aea-9174-4e63-acf1-a8d8d9e4be11",
   "metadata": {},
   "outputs": [
    {
     "ename": "IndexError",
     "evalue": "list index out of range",
     "output_type": "error",
     "traceback": [
      "\u001b[1;31m---------------------------------------------------------------------------\u001b[0m",
      "\u001b[1;31mIndexError\u001b[0m                                Traceback (most recent call last)",
      "Cell \u001b[1;32mIn[1], line 3\u001b[0m\n\u001b[0;32m      1\u001b[0m l \u001b[38;5;241m=\u001b[39m [\u001b[38;5;241m1\u001b[39m,\u001b[38;5;241m2\u001b[39m,\u001b[38;5;241m3\u001b[39m,\u001b[38;5;241m3\u001b[39m,\u001b[38;5;241m3\u001b[39m,\u001b[38;5;241m4\u001b[39m,\u001b[38;5;241m5\u001b[39m,\u001b[38;5;241m6\u001b[39m,\u001b[38;5;241m7\u001b[39m,\u001b[38;5;241m3\u001b[39m,\u001b[38;5;241m4\u001b[39m,\u001b[38;5;241m3\u001b[39m,\u001b[38;5;241m9\u001b[39m,\u001b[38;5;241m3\u001b[39m]\n\u001b[0;32m      2\u001b[0m \u001b[38;5;28;01mfor\u001b[39;00m i \u001b[38;5;129;01min\u001b[39;00m \u001b[38;5;28mrange\u001b[39m(\u001b[38;5;28mlen\u001b[39m(l)):\n\u001b[1;32m----> 3\u001b[0m     \u001b[38;5;28;01mif\u001b[39;00m l[i] \u001b[38;5;241m==\u001b[39m \u001b[38;5;241m3\u001b[39m:\n\u001b[0;32m      4\u001b[0m          l\u001b[38;5;241m.\u001b[39mremove(\u001b[38;5;241m3\u001b[39m)\n\u001b[0;32m      5\u001b[0m \u001b[38;5;28mprint\u001b[39m(l)\n",
      "\u001b[1;31mIndexError\u001b[0m: list index out of range"
     ]
    }
   ],
   "source": [
    "l = [1,2,3,3,3,4,5,6,7,3,4,3,9,3]\n",
    "for i in range(len(l)):\n",
    "    if l[i] == 3:\n",
    "         l.remove(3)\n",
    "print(l)"
   ]
  },
  {
   "cell_type": "code",
   "execution_count": 7,
   "id": "ae60cca9-4629-43c6-9b1e-1e00c35edd01",
   "metadata": {},
   "outputs": [
    {
     "name": "stdout",
     "output_type": "stream",
     "text": [
      "l= [1000, 2000, 3000, [5000, 6000], 7000, 8000]\n",
      "m= [10, 2000, 3000, [5000, 6000], 7000, 8000]\n",
      "n= [1000, 2000, 3000, [5000, 6000], 7000, 8000]\n",
      "p= [1000, 2000, 3000, [5000, 6000], 7000, 8000]\n"
     ]
    }
   ],
   "source": [
    "k = [5000,6000]\n",
    "l = [1000,2000,3000,k,7000,8000]\n",
    "p = l\n",
    "m = l.copy()\n",
    "n = l[::]\n",
    "m[0]=10\n",
    "print('l=',l)\n",
    "print('m=',m)\n",
    "print('n=',n)\n",
    "print('p=',p)"
   ]
  },
  {
   "cell_type": "code",
   "execution_count": 9,
   "id": "600f23b1-cd71-4397-aa9b-3e37a6320aee",
   "metadata": {},
   "outputs": [
    {
     "name": "stdout",
     "output_type": "stream",
     "text": [
      "l= [1000, 2000, 3000, [4000, 5000, 6000], 7000, 8000, 'python', (100, 200, 300)]\n",
      "m= [10, 2000, 3000, [4000, 5000, 6000], 7000, 8000, 'python', (100, 200, 300)]\n",
      "n= [1000, 2000, 3000, [4000, 5000, 6000], 7000, 8000, 'python', (100, 200, 300)]\n",
      "p= [1000, 2000, 3000, [4000, 5000, 6000], 7000, 8000, 'python', (100, 200, 300)]\n",
      "q= [1000, 2000, 3000, [4000, 5000, 6000], 7000, 8000, 'python', (100, 200, 300)]\n",
      "id-l= 2618957663616\n",
      "id-m= 2618917224320\n",
      "id-n= 2618957664704\n",
      "id-p= 2618957663616\n",
      "id-q= 2618957662336\n",
      "id-l[-1]= 2618940036416\n",
      "id-m[-1]= 2618940036416\n",
      "id-n[-1]= 2618940036416\n",
      "id-p[-1]= 2618940036416\n",
      "id-q[-1]= 2618940036416\n"
     ]
    }
   ],
   "source": [
    "from copy import deepcopy\n",
    "k = [4000,5000,6000]\n",
    "l = [1000,2000,3000,k,7000,8000,\"python\",(100,200,300)]\n",
    "p = l\n",
    "m = l.copy()\n",
    "n = l[::]\n",
    "q = deepcopy(l)\n",
    "m[0]=10\n",
    "print('l=',l)\n",
    "print('m=',m)\n",
    "print('n=',n)\n",
    "print('p=',p)\n",
    "print('q=',q)\n",
    "print('id-l=',id(l))\n",
    "print('id-m=',id(m))\n",
    "print('id-n=',id(n))\n",
    "print('id-p=',id(p))\n",
    "print('id-q=',id(q))\n",
    "print('id-l[-1]=',id(l[-1]))\n",
    "print('id-m[-1]=',id(m[-1]))\n",
    "print('id-n[-1]=',id(n[-1]))\n",
    "print('id-p[-1]=',id(p[-1]))\n",
    "print('id-q[-1]=',id(q[-1]))"
   ]
  },
  {
   "cell_type": "code",
   "execution_count": 11,
   "id": "0f9deda6-c1aa-4237-9772-6474b028a3ac",
   "metadata": {},
   "outputs": [
    {
     "name": "stdout",
     "output_type": "stream",
     "text": [
      "l= [1000, 2000, 3000, [4000, 5000, 6000], 7000, 8000, 'python', (100, 200, 300)]\n",
      "m= [10, 2000, 3000, [4000, 5000, 6000], 7000, 8000, 'python', (100, 200, 300)]\n",
      "n= [1000, 2000, 3000, [4000, 5000, 6000], 7000, 8000, 'python', (100, 200, 300)]\n",
      "p= [1000, 2000, 3000, [4000, 5000, 6000], 7000, 8000, 'python', (100, 200, 300)]\n",
      "q= [1000, 2000, 3000, [4000, 5000, 6000], 7000, 8000, 'python', (100, 200, 300)]\n",
      "id-l= 2618917101568\n",
      "id-m= 2618917100416\n",
      "id-n= 2618917094784\n",
      "id-p= 2618917101568\n",
      "id-q= 2618917106048\n",
      "id-l[-1]= 2618917224000\n",
      "id-m[-1]= 2618917224000\n",
      "id-n[-1]= 2618917224000\n",
      "id-p[-1]= 2618917224000\n",
      "id-q[-1]= 2618917224000\n",
      "id-l[3]= 2618917103424\n",
      "id-m[3]= 2618917103424\n",
      "id-n[3]= 2618917103424\n",
      "id-p[3]= 2618917103424\n",
      "id-q[3]= 2618917224320\n"
     ]
    }
   ],
   "source": [
    "from copy import deepcopy\n",
    "k = [4000,5000,6000]\n",
    "l = [1000,2000,3000,k,7000,8000,\"python\",(100,200,300)]\n",
    "p = l\n",
    "m = l.copy()\n",
    "n = l[::]\n",
    "q = deepcopy(l)\n",
    "m[0]=10\n",
    "print('l=',l)\n",
    "print('m=',m)\n",
    "print('n=',n)\n",
    "print('p=',p)\n",
    "print('q=',q)\n",
    "\n",
    "\n",
    "print('id-l=',id(l))\n",
    "print('id-m=',id(m))\n",
    "print('id-n=',id(n))\n",
    "print('id-p=',id(p))\n",
    "print('id-q=',id(q))\n",
    "\n",
    "\n",
    "print('id-l[-1]=',id(l[-1]))\n",
    "print('id-m[-1]=',id(m[-1]))\n",
    "print('id-n[-1]=',id(n[-1]))\n",
    "print('id-p[-1]=',id(p[-1]))\n",
    "print('id-q[-1]=',id(q[-1]))\n",
    "\n",
    "print('id-l[3]=',id(l[3]))\n",
    "print('id-m[3]=',id(m[3]))\n",
    "print('id-n[3]=',id(n[3]))\n",
    "print('id-p[3]=',id(p[3]))\n",
    "print('id-q[3]=',id(q[3]))"
   ]
  },
  {
   "cell_type": "code",
   "execution_count": 13,
   "id": "bc3e9f80-71d8-456f-9745-3d608854b1bb",
   "metadata": {},
   "outputs": [
    {
     "name": "stdout",
     "output_type": "stream",
     "text": [
      "2618939536528\n",
      "2618939536528\n",
      "l= [1, [101, 5000], 7000, 'python', (100, 200, 300)]\n",
      "m= [10, [101, 5000], 7000, 'python', (100, 200, 300)]\n",
      "n= [1000, [101, 5000], 7000, 'python', (100, 200, 300)]\n",
      "p= [1, [101, 5000], 7000, 'python', (100, 200, 300)]\n",
      "q= [1000, [4000, 5000], 7000, 'python', (100, 200, 300)]\n"
     ]
    }
   ],
   "source": [
    "from copy import deepcopy\n",
    "k=[4000, 5000]\n",
    "l=[1000,k,7000,\"python\",(100,200,300)]\n",
    "p=l\n",
    "m=l.copy()\n",
    "n=l[::]\n",
    "q=deepcopy(l)\n",
    "print(id(k[0]))\n",
    "print(id(q[1][0]))\n",
    "l[0]=1\n",
    "m[0]=10\n",
    "k[0]=101\n",
    "print(\"l=\",l)\n",
    "print(\"m=\",m)\n",
    "print(\"n=\",n)\n",
    "print(\"p=\",p)\n",
    "print(\"q=\", q)"
   ]
  },
  {
   "cell_type": "code",
   "execution_count": 15,
   "id": "db91062f-9e47-466b-967c-9803b880ce40",
   "metadata": {},
   "outputs": [
    {
     "name": "stdout",
     "output_type": "stream",
     "text": [
      "[1, 2, 4, 5, 6, 7, 4, 9]\n"
     ]
    }
   ],
   "source": [
    "l = [1,2,3,3,3,4,5,6,7,3,4,3,9,3]\n",
    "while l.count(3)>0:\n",
    "         l.remove(3)\n",
    "print(l)"
   ]
  },
  {
   "cell_type": "code",
   "execution_count": 1,
   "id": "31bcae37-a63d-4249-8751-5c612a18b781",
   "metadata": {},
   "outputs": [
    {
     "name": "stdout",
     "output_type": "stream",
     "text": [
      "[]\n"
     ]
    }
   ],
   "source": [
    "l=[1,2,3,3,3,4,5,6,3,3,3,3]\n",
    "k=l\n",
    "k.clear()\n",
    "print(l)\n",
    "# clear(), clears the list"
   ]
  },
  {
   "cell_type": "code",
   "execution_count": 3,
   "id": "408bd404-570c-4004-9172-33c8f5857fdd",
   "metadata": {},
   "outputs": [
    {
     "data": {
      "text/plain": [
       "2"
      ]
     },
     "execution_count": 3,
     "metadata": {},
     "output_type": "execute_result"
    }
   ],
   "source": [
    "l = ['apple','organge','grapes']\n",
    "l.index('grapes')"
   ]
  },
  {
   "cell_type": "code",
   "execution_count": 5,
   "id": "d2fc632c-9053-48ed-992c-20cd1966ffe3",
   "metadata": {},
   "outputs": [
    {
     "data": {
      "text/plain": [
       "2"
      ]
     },
     "execution_count": 5,
     "metadata": {},
     "output_type": "execute_result"
    }
   ],
   "source": [
    "l = ['apple','organge','grapes','oranges','grapes']\n",
    "l.index('grapes')"
   ]
  },
  {
   "cell_type": "code",
   "execution_count": 7,
   "id": "008c801b-c6d1-4b7b-8109-6f5653bbead7",
   "metadata": {},
   "outputs": [
    {
     "data": {
      "text/plain": [
       "\u001b[1;31mSignature:\u001b[0m \u001b[0ml\u001b[0m\u001b[1;33m.\u001b[0m\u001b[0mindex\u001b[0m\u001b[1;33m(\u001b[0m\u001b[0mvalue\u001b[0m\u001b[1;33m,\u001b[0m \u001b[0mstart\u001b[0m\u001b[1;33m=\u001b[0m\u001b[1;36m0\u001b[0m\u001b[1;33m,\u001b[0m \u001b[0mstop\u001b[0m\u001b[1;33m=\u001b[0m\u001b[1;36m9223372036854775807\u001b[0m\u001b[1;33m,\u001b[0m \u001b[1;33m/\u001b[0m\u001b[1;33m)\u001b[0m\u001b[1;33m\u001b[0m\u001b[1;33m\u001b[0m\u001b[0m\n",
       "\u001b[1;31mDocstring:\u001b[0m\n",
       "Return first index of value.\n",
       "\n",
       "Raises ValueError if the value is not present.\n",
       "\u001b[1;31mType:\u001b[0m      builtin_function_or_method"
      ]
     },
     "metadata": {},
     "output_type": "display_data"
    }
   ],
   "source": [
    "l.index?"
   ]
  },
  {
   "cell_type": "code",
   "execution_count": 11,
   "id": "b232dcf0-a1c0-4075-9036-b75609b4953b",
   "metadata": {},
   "outputs": [
    {
     "data": {
      "text/plain": [
       "4"
      ]
     },
     "execution_count": 11,
     "metadata": {},
     "output_type": "execute_result"
    }
   ],
   "source": [
    "l = ['apple','organge','grapes','oranges','grapes','grapes','mango','grapes']\n",
    "l.index('grapes',3)"
   ]
  },
  {
   "cell_type": "code",
   "execution_count": 13,
   "id": "cac12a65-a4b6-41f3-bb5c-cf389bf968f0",
   "metadata": {},
   "outputs": [
    {
     "name": "stdout",
     "output_type": "stream",
     "text": [
      "2\n",
      "4\n",
      "5\n",
      "7\n"
     ]
    }
   ],
   "source": [
    "l = ['apple','organge','grapes','oranges','grapes','grapes','mango','grapes']\n",
    "ind = 0\n",
    "for i in l:\n",
    "    if i == 'grapes':\n",
    "        ind = l.index(i,ind)\n",
    "        print(ind)\n",
    "        ind = ind +1"
   ]
  },
  {
   "cell_type": "code",
   "execution_count": 15,
   "id": "4ad6c07b-1fe5-471f-86aa-b2c8457c0e47",
   "metadata": {},
   "outputs": [
    {
     "ename": "ValueError",
     "evalue": "'APPLE' is not in list",
     "output_type": "error",
     "traceback": [
      "\u001b[1;31m---------------------------------------------------------------------------\u001b[0m",
      "\u001b[1;31mValueError\u001b[0m                                Traceback (most recent call last)",
      "Cell \u001b[1;32mIn[15], line 2\u001b[0m\n\u001b[0;32m      1\u001b[0m l\u001b[38;5;241m=\u001b[39m[\u001b[38;5;124m\"\u001b[39m\u001b[38;5;124mapple\u001b[39m\u001b[38;5;124m\"\u001b[39m, \u001b[38;5;124m\"\u001b[39m\u001b[38;5;124morange\u001b[39m\u001b[38;5;124m\"\u001b[39m,\u001b[38;5;124m\"\u001b[39m\u001b[38;5;124mgrapes\u001b[39m\u001b[38;5;124m\"\u001b[39m,\u001b[38;5;124m\"\u001b[39m\u001b[38;5;124morange\u001b[39m\u001b[38;5;124m\"\u001b[39m,\u001b[38;5;124m\"\u001b[39m\u001b[38;5;124mgrapes\u001b[39m\u001b[38;5;124m\"\u001b[39m,\u001b[38;5;124m\"\u001b[39m\u001b[38;5;124mgrapes\u001b[39m\u001b[38;5;124m\"\u001b[39m,\u001b[38;5;124m\"\u001b[39m\u001b[38;5;124mmango\u001b[39m\u001b[38;5;124m\"\u001b[39m,\u001b[38;5;124m\"\u001b[39m\u001b[38;5;124mgrapes\u001b[39m\u001b[38;5;124m\"\u001b[39m,\u001b[38;5;124m\"\u001b[39m\u001b[38;5;124mpineapple\u001b[39m\u001b[38;5;124m\"\u001b[39m]\n\u001b[1;32m----> 2\u001b[0m l\u001b[38;5;241m.\u001b[39mindex(\u001b[38;5;124m\"\u001b[39m\u001b[38;5;124mAPPLE\u001b[39m\u001b[38;5;124m\"\u001b[39m)\n",
      "\u001b[1;31mValueError\u001b[0m: 'APPLE' is not in list"
     ]
    }
   ],
   "source": [
    "l=[\"apple\", \"orange\",\"grapes\",\"orange\",\"grapes\",\"grapes\",\"mango\",\"grapes\",\"pineapple\"]\n",
    "l.index(\"APPLE\")"
   ]
  },
  {
   "cell_type": "code",
   "execution_count": 17,
   "id": "07bc6dd5-e222-4057-beb1-6c694902b29e",
   "metadata": {},
   "outputs": [
    {
     "ename": "ValueError",
     "evalue": "'orange' is not in list",
     "output_type": "error",
     "traceback": [
      "\u001b[1;31m---------------------------------------------------------------------------\u001b[0m",
      "\u001b[1;31mValueError\u001b[0m                                Traceback (most recent call last)",
      "Cell \u001b[1;32mIn[17], line 2\u001b[0m\n\u001b[0;32m      1\u001b[0m l\u001b[38;5;241m=\u001b[39m[\u001b[38;5;124m\"\u001b[39m\u001b[38;5;124mapple\u001b[39m\u001b[38;5;124m\"\u001b[39m, \u001b[38;5;124m\"\u001b[39m\u001b[38;5;124morange\u001b[39m\u001b[38;5;124m\"\u001b[39m,\u001b[38;5;124m\"\u001b[39m\u001b[38;5;124mgrapes\u001b[39m\u001b[38;5;124m\"\u001b[39m,\u001b[38;5;124m\"\u001b[39m\u001b[38;5;124morange\u001b[39m\u001b[38;5;124m\"\u001b[39m,\u001b[38;5;124m\"\u001b[39m\u001b[38;5;124mgrapes\u001b[39m\u001b[38;5;124m\"\u001b[39m,\u001b[38;5;124m\"\u001b[39m\u001b[38;5;124mgrapes\u001b[39m\u001b[38;5;124m\"\u001b[39m,\u001b[38;5;124m\"\u001b[39m\u001b[38;5;124mmango\u001b[39m\u001b[38;5;124m\"\u001b[39m,\u001b[38;5;124m\"\u001b[39m\u001b[38;5;124mgrapes\u001b[39m\u001b[38;5;124m\"\u001b[39m,\u001b[38;5;124m\"\u001b[39m\u001b[38;5;124mpineapple\u001b[39m\u001b[38;5;124m\"\u001b[39m]\n\u001b[1;32m----> 2\u001b[0m l\u001b[38;5;241m.\u001b[39mindex(\u001b[38;5;124m\"\u001b[39m\u001b[38;5;124morange\u001b[39m\u001b[38;5;124m\"\u001b[39m,\u001b[38;5;241m4\u001b[39m)\n",
      "\u001b[1;31mValueError\u001b[0m: 'orange' is not in list"
     ]
    }
   ],
   "source": [
    "\n",
    "l=[\"apple\", \"orange\",\"grapes\",\"orange\",\"grapes\",\"grapes\",\"mango\",\"grapes\",\"pineapple\"]\n",
    "l.index(\"orange\",4)"
   ]
  },
  {
   "cell_type": "code",
   "execution_count": null,
   "id": "eb166d1c-9a9a-4f74-aec9-6dee4dfb4035",
   "metadata": {},
   "outputs": [],
   "source": []
  }
 ],
 "metadata": {
  "kernelspec": {
   "display_name": "Python 3 (ipykernel)",
   "language": "python",
   "name": "python3"
  },
  "language_info": {
   "codemirror_mode": {
    "name": "ipython",
    "version": 3
   },
   "file_extension": ".py",
   "mimetype": "text/x-python",
   "name": "python",
   "nbconvert_exporter": "python",
   "pygments_lexer": "ipython3",
   "version": "3.12.4"
  }
 },
 "nbformat": 4,
 "nbformat_minor": 5
}

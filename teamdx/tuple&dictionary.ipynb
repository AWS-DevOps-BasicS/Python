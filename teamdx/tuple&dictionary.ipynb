{
 "cells": [
  {
   "cell_type": "markdown",
   "id": "30d8dbea-2414-4c6b-82f6-6eb159d24c8a",
   "metadata": {},
   "source": [
    "# Tuple"
   ]
  },
  {
   "cell_type": "code",
   "execution_count": 1,
   "id": "46bb4a64-b147-43bc-bdf1-3b44f772e40e",
   "metadata": {},
   "outputs": [
    {
     "name": "stdout",
     "output_type": "stream",
     "text": [
      "['__add__', '__class__', '__class_getitem__', '__contains__', '__delattr__', '__dir__', '__doc__', '__eq__', '__format__', '__ge__', '__getattribute__', '__getitem__', '__getnewargs__', '__getstate__', '__gt__', '__hash__', '__init__', '__init_subclass__', '__iter__', '__le__', '__len__', '__lt__', '__mul__', '__ne__', '__new__', '__reduce__', '__reduce_ex__', '__repr__', '__rmul__', '__setattr__', '__sizeof__', '__str__', '__subclasshook__', 'count', 'index']\n"
     ]
    }
   ],
   "source": [
    "t = (1000,2000,3000)\n",
    "print(dir(t))"
   ]
  },
  {
   "cell_type": "code",
   "execution_count": 3,
   "id": "3293e9db-b3d1-43fd-b8c4-5ae67dd69917",
   "metadata": {},
   "outputs": [
    {
     "name": "stdout",
     "output_type": "stream",
     "text": [
      "3\n",
      "0\n"
     ]
    }
   ],
   "source": [
    "t = (1000,2000,3000,1000,2000,1000,100)\n",
    "print(t.count(1000))\n",
    "print(t.index(1000))"
   ]
  },
  {
   "cell_type": "markdown",
   "id": "b479d154-6889-4887-bd86-cd95adbe9eed",
   "metadata": {},
   "source": [
    "# Dictionary"
   ]
  },
  {
   "cell_type": "markdown",
   "id": "02e98124-54b3-42ea-a10c-c07bcdb6dba9",
   "metadata": {},
   "source": [
    "* In key we can give which is hashable.\n",
    "* hashable datatypes are immutable datatypes."
   ]
  },
  {
   "cell_type": "code",
   "execution_count": 8,
   "id": "992616e7-ba3f-477a-af3b-78762b5cc8ce",
   "metadata": {},
   "outputs": [
    {
     "ename": "KeyError",
     "evalue": "0",
     "output_type": "error",
     "traceback": [
      "\u001b[1;31m---------------------------------------------------------------------------\u001b[0m",
      "\u001b[1;31mKeyError\u001b[0m                                  Traceback (most recent call last)",
      "Cell \u001b[1;32mIn[8], line 2\u001b[0m\n\u001b[0;32m      1\u001b[0m data \u001b[38;5;241m=\u001b[39m {\u001b[38;5;124m\"\u001b[39m\u001b[38;5;124mname\u001b[39m\u001b[38;5;124m\"\u001b[39m:\u001b[38;5;124m\"\u001b[39m\u001b[38;5;124mJay\u001b[39m\u001b[38;5;124m\"\u001b[39m,\u001b[38;5;124m\"\u001b[39m\u001b[38;5;124mage\u001b[39m\u001b[38;5;124m\"\u001b[39m:\u001b[38;5;241m8\u001b[39m,\u001b[38;5;124m\"\u001b[39m\u001b[38;5;124mclass\u001b[39m\u001b[38;5;124m\"\u001b[39m:\u001b[38;5;241m2\u001b[39m}\n\u001b[1;32m----> 2\u001b[0m \u001b[38;5;28mprint\u001b[39m(data[\u001b[38;5;241m0\u001b[39m])\n",
      "\u001b[1;31mKeyError\u001b[0m: 0"
     ]
    }
   ],
   "source": [
    "data = {\"name\":\"Jay\",\"age\":8,\"class\":2}\n",
    "print(data[0])"
   ]
  },
  {
   "cell_type": "code",
   "execution_count": 10,
   "id": "925b6255-767b-46c3-acfc-cb3f5f17eef3",
   "metadata": {},
   "outputs": [
    {
     "name": "stdout",
     "output_type": "stream",
     "text": [
      "Jay\n"
     ]
    }
   ],
   "source": [
    "\n",
    "data = {\"name\":\"Jay\",\"age\":8,\"class\":2}\n",
    "print(data[\"name\"])"
   ]
  },
  {
   "cell_type": "code",
   "execution_count": 12,
   "id": "9da004d8-27d7-4cc3-878f-6f4ca358a229",
   "metadata": {},
   "outputs": [
    {
     "name": "stdout",
     "output_type": "stream",
     "text": [
      "2562504344281396802\n"
     ]
    }
   ],
   "source": [
    "\n",
    "print(hash(\"name\"))"
   ]
  },
  {
   "cell_type": "code",
   "execution_count": 14,
   "id": "7adc5dfb-7fc1-485f-b10d-80fed60b2413",
   "metadata": {},
   "outputs": [
    {
     "name": "stdout",
     "output_type": "stream",
     "text": [
      "Jay\n",
      "{'name': 'Jay', 'age': 8, 'class': 2}\n",
      "name\n",
      "age\n",
      "class\n"
     ]
    }
   ],
   "source": [
    "data = {\"name\":\"Jay\",\"age\":8,\"class\":2}\n",
    "print(data[\"name\"])\n",
    "print(data)\n",
    "for i in data:\n",
    "    print(i)"
   ]
  },
  {
   "cell_type": "code",
   "execution_count": 16,
   "id": "c943e0b4-a3a3-450e-9e8f-544e1533562f",
   "metadata": {},
   "outputs": [
    {
     "name": "stdout",
     "output_type": "stream",
     "text": [
      "1000 1000\n",
      "pyt -5440318593889248873\n",
      "(1, 2, 3, 4) 590899387183067792\n"
     ]
    }
   ],
   "source": [
    "for i in [1000,\"pyt\",(1,2,3,4),{10,20,30},[10,20,30]]:\n",
    "    try:\n",
    "        print(i,hash(i))\n",
    "    except:\n",
    "        pass"
   ]
  },
  {
   "cell_type": "code",
   "execution_count": 18,
   "id": "ea1f869c-a168-46fa-957a-395a48ecb756",
   "metadata": {},
   "outputs": [
    {
     "ename": "TypeError",
     "evalue": "unhashable type: 'list'",
     "output_type": "error",
     "traceback": [
      "\u001b[1;31m---------------------------------------------------------------------------\u001b[0m",
      "\u001b[1;31mTypeError\u001b[0m                                 Traceback (most recent call last)",
      "Cell \u001b[1;32mIn[18], line 1\u001b[0m\n\u001b[1;32m----> 1\u001b[0m \u001b[38;5;28mhash\u001b[39m([\u001b[38;5;241m1\u001b[39m,\u001b[38;5;241m2\u001b[39m,\u001b[38;5;241m3\u001b[39m,\u001b[38;5;241m4\u001b[39m])\n",
      "\u001b[1;31mTypeError\u001b[0m: unhashable type: 'list'"
     ]
    }
   ],
   "source": [
    "hash([1,2,3,4])"
   ]
  },
  {
   "cell_type": "code",
   "execution_count": 20,
   "id": "2e64c6a8-9e87-4049-b126-a4e273e4990a",
   "metadata": {},
   "outputs": [
    {
     "ename": "TypeError",
     "evalue": "unhashable type: 'set'",
     "output_type": "error",
     "traceback": [
      "\u001b[1;31m---------------------------------------------------------------------------\u001b[0m",
      "\u001b[1;31mTypeError\u001b[0m                                 Traceback (most recent call last)",
      "Cell \u001b[1;32mIn[20], line 1\u001b[0m\n\u001b[1;32m----> 1\u001b[0m \u001b[38;5;28mhash\u001b[39m({\u001b[38;5;241m1\u001b[39m,\u001b[38;5;241m2\u001b[39m,\u001b[38;5;241m3\u001b[39m,\u001b[38;5;241m4\u001b[39m})\n",
      "\u001b[1;31mTypeError\u001b[0m: unhashable type: 'set'"
     ]
    }
   ],
   "source": [
    "hash({1,2,3,4})"
   ]
  },
  {
   "cell_type": "code",
   "execution_count": 23,
   "id": "7270ff4c-f3d3-4f4c-a66a-4ccf897272dd",
   "metadata": {},
   "outputs": [
    {
     "name": "stdout",
     "output_type": "stream",
     "text": [
      "{1: 'int', 1.2: 'float', 'pyt': 'str', (1, 2, 3): 'tuple'}\n"
     ]
    }
   ],
   "source": [
    "data={1:\"int\",1.2:\"float\",\"pyt\":\"str\",(1,2,3):\"tuple\"}\n",
    "print(data)"
   ]
  },
  {
   "cell_type": "code",
   "execution_count": 25,
   "id": "cf43fdb9-6d87-414e-b982-09c459d8f420",
   "metadata": {},
   "outputs": [
    {
     "ename": "TypeError",
     "evalue": "unhashable type: 'list'",
     "output_type": "error",
     "traceback": [
      "\u001b[1;31m---------------------------------------------------------------------------\u001b[0m",
      "\u001b[1;31mTypeError\u001b[0m                                 Traceback (most recent call last)",
      "Cell \u001b[1;32mIn[25], line 1\u001b[0m\n\u001b[1;32m----> 1\u001b[0m data\u001b[38;5;241m=\u001b[39m{\u001b[38;5;241m1\u001b[39m:\u001b[38;5;124m\"\u001b[39m\u001b[38;5;124mint\u001b[39m\u001b[38;5;124m\"\u001b[39m,\u001b[38;5;241m1.2\u001b[39m:\u001b[38;5;124m\"\u001b[39m\u001b[38;5;124mfloat\u001b[39m\u001b[38;5;124m\"\u001b[39m,\u001b[38;5;124m\"\u001b[39m\u001b[38;5;124mpyt\u001b[39m\u001b[38;5;124m\"\u001b[39m:\u001b[38;5;124m\"\u001b[39m\u001b[38;5;124mstr\u001b[39m\u001b[38;5;124m\"\u001b[39m,(\u001b[38;5;241m1\u001b[39m,\u001b[38;5;241m2\u001b[39m,\u001b[38;5;241m3\u001b[39m):\u001b[38;5;124m\"\u001b[39m\u001b[38;5;124mtuple\u001b[39m\u001b[38;5;124m\"\u001b[39m,[\u001b[38;5;241m1\u001b[39m,\u001b[38;5;241m2\u001b[39m,\u001b[38;5;241m3\u001b[39m]:\u001b[38;5;124m\"\u001b[39m\u001b[38;5;124mlist\u001b[39m\u001b[38;5;124m\"\u001b[39m}\n\u001b[0;32m      2\u001b[0m \u001b[38;5;28mprint\u001b[39m(data)\n",
      "\u001b[1;31mTypeError\u001b[0m: unhashable type: 'list'"
     ]
    }
   ],
   "source": [
    "data={1:\"int\",1.2:\"float\",\"pyt\":\"str\",(1,2,3):\"tuple\",[1,2,3]:\"list\"}\n",
    "print(data)"
   ]
  },
  {
   "cell_type": "code",
   "execution_count": 27,
   "id": "279458e7-11ee-49c0-8b3d-cbeb55f66b70",
   "metadata": {},
   "outputs": [
    {
     "ename": "TypeError",
     "evalue": "unhashable type: 'set'",
     "output_type": "error",
     "traceback": [
      "\u001b[1;31m---------------------------------------------------------------------------\u001b[0m",
      "\u001b[1;31mTypeError\u001b[0m                                 Traceback (most recent call last)",
      "Cell \u001b[1;32mIn[27], line 1\u001b[0m\n\u001b[1;32m----> 1\u001b[0m data\u001b[38;5;241m=\u001b[39m{\u001b[38;5;241m1\u001b[39m:\u001b[38;5;124m\"\u001b[39m\u001b[38;5;124mint\u001b[39m\u001b[38;5;124m\"\u001b[39m,\u001b[38;5;241m1.2\u001b[39m:\u001b[38;5;124m\"\u001b[39m\u001b[38;5;124mfloat\u001b[39m\u001b[38;5;124m\"\u001b[39m,\u001b[38;5;124m\"\u001b[39m\u001b[38;5;124mpyt\u001b[39m\u001b[38;5;124m\"\u001b[39m:\u001b[38;5;124m\"\u001b[39m\u001b[38;5;124mstr\u001b[39m\u001b[38;5;124m\"\u001b[39m,(\u001b[38;5;241m1\u001b[39m,\u001b[38;5;241m2\u001b[39m,\u001b[38;5;241m3\u001b[39m):\u001b[38;5;124m\"\u001b[39m\u001b[38;5;124mtuple\u001b[39m\u001b[38;5;124m\"\u001b[39m,{\u001b[38;5;241m1\u001b[39m,\u001b[38;5;241m2\u001b[39m,\u001b[38;5;241m3\u001b[39m}:\u001b[38;5;124m\"\u001b[39m\u001b[38;5;124mlist\u001b[39m\u001b[38;5;124m\"\u001b[39m}\n\u001b[0;32m      2\u001b[0m \u001b[38;5;28mprint\u001b[39m(data)\n",
      "\u001b[1;31mTypeError\u001b[0m: unhashable type: 'set'"
     ]
    }
   ],
   "source": [
    "data={1:\"int\",1.2:\"float\",\"pyt\":\"str\",(1,2,3):\"tuple\",{1,2,3}:\"list\"}\n",
    "print(data)"
   ]
  },
  {
   "cell_type": "code",
   "execution_count": 29,
   "id": "405545da-4bd7-4d96-a653-637df4b58a72",
   "metadata": {},
   "outputs": [
    {
     "name": "stdout",
     "output_type": "stream",
     "text": [
      "{'employees': [1, 2, 23, 43], 'ids': {1, 2, 3, 4}}\n"
     ]
    }
   ],
   "source": [
    "data={\"employees\":[1,2,23,43],\"ids\":{1,2,3,4}}\n",
    "print(data)"
   ]
  },
  {
   "cell_type": "code",
   "execution_count": 31,
   "id": "e1dc3a5d-8371-4e29-8971-b6a030695399",
   "metadata": {},
   "outputs": [
    {
     "name": "stdout",
     "output_type": "stream",
     "text": [
      "['__class__', '__class_getitem__', '__contains__', '__delattr__', '__delitem__', '__dir__', '__doc__', '__eq__', '__format__', '__ge__', '__getattribute__', '__getitem__', '__getstate__', '__gt__', '__hash__', '__init__', '__init_subclass__', '__ior__', '__iter__', '__le__', '__len__', '__lt__', '__ne__', '__new__', '__or__', '__reduce__', '__reduce_ex__', '__repr__', '__reversed__', '__ror__', '__setattr__', '__setitem__', '__sizeof__', '__str__', '__subclasshook__', 'clear', 'copy', 'fromkeys', 'get', 'items', 'keys', 'pop', 'popitem', 'setdefault', 'update', 'values']\n"
     ]
    }
   ],
   "source": [
    "print(dir(data))"
   ]
  },
  {
   "cell_type": "code",
   "execution_count": 11,
   "id": "e198a783-402f-4d44-ae02-a9ad335dad7b",
   "metadata": {},
   "outputs": [
    {
     "name": "stdout",
     "output_type": "stream",
     "text": [
      "None\n",
      "{'name': 'jay', 'age': 10}\n",
      "{'name': 'jay', 'age': 10}\n"
     ]
    }
   ],
   "source": [
    "data = {'name':'jay','age':8}\n",
    "data1 =data\n",
    "data2 = data1.update({'age':10})\n",
    "print(data2)\n",
    "print(data1)\n",
    "print(data)"
   ]
  },
  {
   "cell_type": "code",
   "execution_count": 13,
   "id": "5ff95ed2-ab5d-40bd-a68c-dab7d421e9f6",
   "metadata": {},
   "outputs": [
    {
     "name": "stdout",
     "output_type": "stream",
     "text": [
      "None\n",
      "{'name': 'jay', 'age': 10, 'email': 'hay@gmail.com'}\n",
      "{'name': 'jay', 'age': 10, 'email': 'hay@gmail.com'}\n"
     ]
    }
   ],
   "source": [
    "data = {'name':'jay','age':8}\n",
    "data1 =data\n",
    "data2 = data1.update({'age':10,'email':'hay@gmail.com'})\n",
    "print(data2)\n",
    "print(data1)\n",
    "print(data)"
   ]
  },
  {
   "cell_type": "code",
   "execution_count": 7,
   "id": "4673495e-10f3-47cb-89f6-f71ab21de795",
   "metadata": {},
   "outputs": [
    {
     "name": "stdout",
     "output_type": "stream",
     "text": [
      "[{'name': 'jay', 'age': 9, 'email': 'e1@gmail.com'}, {'name': 'amar', 'age': 10, 'email': 'e1@gmail.com'}, {'name': 'anil', 'age': 19, 'email': 'e1@gmail.com'}]\n"
     ]
    }
   ],
   "source": [
    "l = [{'name':'jay','age':9},{'name':'amar','age':10},{'name':'anil','age':19}]\n",
    "for i in l:\n",
    "    i.update({'email':'e1@gmail.com'})\n",
    "print(l)"
   ]
  },
  {
   "cell_type": "code",
   "execution_count": 5,
   "id": "b38d9b78-a61d-4d28-be9a-e7cdeab5edb3",
   "metadata": {},
   "outputs": [
    {
     "name": "stdout",
     "output_type": "stream",
     "text": [
      "[{'name': 'jay', 'age': 9, 'email': 'jay@gmail.com'}, {'name': 'amar', 'age': 10, 'email': 'amar@gmail.com'}, {'name': 'anil', 'age': 19, 'email': 'anil@gmail.com'}]\n"
     ]
    }
   ],
   "source": [
    "l = [{'name':'jay','age':9},{'name':'amar','age':10},{'name':'anil','age':19}]\n",
    "emails = ['jay@gmail.com','amar@gmail.com','anil@gmail.com']\n",
    "for i,j in zip(l,emails):\n",
    "        i.update({'email':j})\n",
    "print(l)"
   ]
  },
  {
   "cell_type": "code",
   "execution_count": 13,
   "id": "2e92c315-8a99-477e-b81d-a3cfaed780fa",
   "metadata": {},
   "outputs": [
    {
     "name": "stdout",
     "output_type": "stream",
     "text": [
      "4\n",
      "{'name': 'jay', 'ids': [1, 2, 3], 'emails': ('e1', 'e2', 'e3')}\n",
      "{'name': 'jay', 'ids': [1, 2, 3], 'emails': ('e1', 'e2', 'e3')}\n",
      "{'name': 'jay', 'ids': [1, 2, 3], 'emails': ('e1', 'e2', 'e3')}\n",
      "{'name': 'jay', 'ids': [1, 2, 3, 4], 'emails': ('e1', 'e2', 'e3')}\n"
     ]
    }
   ],
   "source": [
    "from copy import deepcopy\n",
    "d = {'name':'jay','ids':[1,2,3,4],'emails':('e1','e2','e3')}\n",
    "e = d\n",
    "f = d.copy()\n",
    "g = deepcopy(d)\n",
    "removed_id = e['ids'].pop()\n",
    "print(removed_id)\n",
    "print(d)\n",
    "print(e)\n",
    "print(f)\n",
    "print(g)"
   ]
  },
  {
   "cell_type": "code",
   "execution_count": 15,
   "id": "a65adef8-3d33-4768-8341-465ba9076c1c",
   "metadata": {},
   "outputs": [
    {
     "name": "stdout",
     "output_type": "stream",
     "text": [
      "name\n",
      "age\n"
     ]
    }
   ],
   "source": [
    "data = {'name':'jay','age':8}\n",
    "for i in data:\n",
    "    print(i)"
   ]
  },
  {
   "cell_type": "code",
   "execution_count": 21,
   "id": "1cef82b3-33ab-43bf-bbd8-a8c3866ba7b8",
   "metadata": {},
   "outputs": [
    {
     "name": "stdout",
     "output_type": "stream",
     "text": [
      "name\n",
      "age\n"
     ]
    }
   ],
   "source": [
    "data = {'name':'jay','age':8}\n",
    "for i in data.keys():\n",
    "    print(i)"
   ]
  },
  {
   "cell_type": "code",
   "execution_count": 23,
   "id": "46802fc1-6ccd-4ab5-9e4c-cff9119873c5",
   "metadata": {},
   "outputs": [
    {
     "name": "stdout",
     "output_type": "stream",
     "text": [
      "jay\n",
      "8\n"
     ]
    }
   ],
   "source": [
    "data = {'name':'jay','age':8}\n",
    "for i in data.values():\n",
    "    print(i)"
   ]
  },
  {
   "cell_type": "code",
   "execution_count": 25,
   "id": "3e95a15b-0cc3-46cf-95eb-98f2f584f457",
   "metadata": {},
   "outputs": [
    {
     "name": "stdout",
     "output_type": "stream",
     "text": [
      "('name', 'jay')\n",
      "('age', 8)\n"
     ]
    }
   ],
   "source": [
    "data = {'name':'jay','age':8}\n",
    "for i in data.items():\n",
    "    print(i)"
   ]
  },
  {
   "cell_type": "code",
   "execution_count": 27,
   "id": "23c644b4-8d8d-43e9-8771-d58afe3234ab",
   "metadata": {},
   "outputs": [
    {
     "name": "stdout",
     "output_type": "stream",
     "text": [
      "{'name': 'jay', 'age': 7}\n"
     ]
    }
   ],
   "source": [
    "data = {\"name\":\"jay\",\"age\":8}\n",
    "data.update({\"age\":7})\n",
    "print(data)"
   ]
  },
  {
   "cell_type": "code",
   "execution_count": 29,
   "id": "d9481116-64ad-4087-a551-d2a290cad225",
   "metadata": {},
   "outputs": [
    {
     "name": "stdout",
     "output_type": "stream",
     "text": [
      "{'name': 'jay', 'age': 8}\n"
     ]
    }
   ],
   "source": [
    "data = {\"name\":\"jay\",\"age\":8}\n",
    "data.setdefault(\"age\",7)\n",
    "print(data)"
   ]
  },
  {
   "cell_type": "code",
   "execution_count": 31,
   "id": "b423ebf7-1725-41a6-b815-65dd8d47cd0a",
   "metadata": {},
   "outputs": [
    {
     "name": "stdout",
     "output_type": "stream",
     "text": [
      "{'name': 'jay', 'age': 8, 'email': 7}\n"
     ]
    }
   ],
   "source": [
    "data = {\"name\":\"jay\",\"age\":8}\n",
    "data.setdefault(\"email\",7)\n",
    "print(data)"
   ]
  },
  {
   "cell_type": "code",
   "execution_count": 33,
   "id": "0b583dae-99e7-4fbc-8503-665ad5956748",
   "metadata": {},
   "outputs": [
    {
     "name": "stdout",
     "output_type": "stream",
     "text": [
      "{'name': 'jay', 'age': 7, 'email': 7}\n"
     ]
    }
   ],
   "source": [
    "data = {\"name\":\"jay\",\"age\":8}\n",
    "data.update({\"email\":7,\"age\":7})\n",
    "print(data)"
   ]
  },
  {
   "cell_type": "code",
   "execution_count": 35,
   "id": "b63463da-baf3-4935-be5b-1e2454f611e6",
   "metadata": {},
   "outputs": [
    {
     "name": "stdout",
     "output_type": "stream",
     "text": [
      "['__class__', '__class_getitem__', '__contains__', '__delattr__', '__delitem__', '__dir__', '__doc__', '__eq__', '__format__', '__ge__', '__getattribute__', '__getitem__', '__getstate__', '__gt__', '__hash__', '__init__', '__init_subclass__', '__ior__', '__iter__', '__le__', '__len__', '__lt__', '__ne__', '__new__', '__or__', '__reduce__', '__reduce_ex__', '__repr__', '__reversed__', '__ror__', '__setattr__', '__setitem__', '__sizeof__', '__str__', '__subclasshook__', 'clear', 'copy', 'fromkeys', 'get', 'items', 'keys', 'pop', 'popitem', 'setdefault', 'update', 'values']\n"
     ]
    }
   ],
   "source": [
    "print(dir(data))"
   ]
  },
  {
   "cell_type": "code",
   "execution_count": 37,
   "id": "389d2d2e-5afe-412c-a90a-ae49927c208d",
   "metadata": {},
   "outputs": [
    {
     "ename": "TypeError",
     "evalue": "pop expected at least 1 argument, got 0",
     "output_type": "error",
     "traceback": [
      "\u001b[1;31m---------------------------------------------------------------------------\u001b[0m",
      "\u001b[1;31mTypeError\u001b[0m                                 Traceback (most recent call last)",
      "Cell \u001b[1;32mIn[37], line 2\u001b[0m\n\u001b[0;32m      1\u001b[0m data \u001b[38;5;241m=\u001b[39m {\u001b[38;5;124m'\u001b[39m\u001b[38;5;124mname\u001b[39m\u001b[38;5;124m'\u001b[39m:\u001b[38;5;124m'\u001b[39m\u001b[38;5;124mjay\u001b[39m\u001b[38;5;124m'\u001b[39m,\u001b[38;5;124m'\u001b[39m\u001b[38;5;124mage\u001b[39m\u001b[38;5;124m'\u001b[39m:\u001b[38;5;241m8\u001b[39m}\n\u001b[1;32m----> 2\u001b[0m \u001b[38;5;28mprint\u001b[39m(data\u001b[38;5;241m.\u001b[39mpop())\n",
      "\u001b[1;31mTypeError\u001b[0m: pop expected at least 1 argument, got 0"
     ]
    }
   ],
   "source": [
    "data = {'name':'jay','age':8}\n",
    "print(data.pop())"
   ]
  },
  {
   "cell_type": "code",
   "execution_count": 39,
   "id": "57e176d1-b91c-4863-b8e9-3be5208b1563",
   "metadata": {},
   "outputs": [
    {
     "name": "stdout",
     "output_type": "stream",
     "text": [
      "{'age': 8}\n",
      "jay\n"
     ]
    }
   ],
   "source": [
    "data = {'name':'jay','age':8}\n",
    "rem_data = data.pop('name')\n",
    "print(data)\n",
    "print(rem_data)"
   ]
  },
  {
   "cell_type": "code",
   "execution_count": 9,
   "id": "d3ef7b91-dc7f-4522-864f-96624274b6a3",
   "metadata": {},
   "outputs": [
    {
     "name": "stdout",
     "output_type": "stream",
     "text": [
      "{'name': 'jay'}\n",
      "('age', 8)\n"
     ]
    }
   ],
   "source": [
    "data = {'name':'jay','age':8}\n",
    "rem_data = data.popitem()\n",
    "print(data)\n",
    "print(rem_data)"
   ]
  },
  {
   "cell_type": "code",
   "execution_count": 11,
   "id": "78b02231-a517-42aa-8e96-312662e41b12",
   "metadata": {},
   "outputs": [
    {
     "name": "stdout",
     "output_type": "stream",
     "text": [
      "{'name': 'jay', 'age': 8}\n",
      "jay\n"
     ]
    }
   ],
   "source": [
    "data = {'name':'jay','age':8}\n",
    "rem_data = data.get('name')\n",
    "print(data)\n",
    "print(rem_data)"
   ]
  },
  {
   "cell_type": "code",
   "execution_count": 13,
   "id": "ebc0f3d1-08e3-425c-992e-21235aae14a0",
   "metadata": {},
   "outputs": [
    {
     "name": "stdout",
     "output_type": "stream",
     "text": [
      "jay\n",
      "jay\n"
     ]
    }
   ],
   "source": [
    "data = {'name':'jay','age':8}\n",
    "print(data.get('name'))\n",
    "print(data['name'])\n"
   ]
  },
  {
   "cell_type": "code",
   "execution_count": null,
   "id": "0e2f0f53-5844-4f8a-9cb3-e869f197d3f3",
   "metadata": {},
   "outputs": [],
   "source": [
    "l = [{\"rohit\":70,\"kohli\":70,\"jadeja\":40,\"klrahul\":40}]\n",
    "#res = {40:[\"jadeja\",\"klrahul\"],70:[\"rohit\",\"kohli\"]}\n",
    "\n",
    "# Initialize an empty dictionary to store the result\n",
    "res = {}\n",
    "\n",
    "# Iterate over the dictionary in the list\n",
    "for player, score in l[0].items():\n",
    "    # If the score is already in the result dictionary, append the player's name\n",
    "    if score in res:\n",
    "        res[score].append(player)\n",
    "    else:\n",
    "        # If the score is not in the dictionary, create a new entry with the player's name\n",
    "        res[score] = [player]\n",
    "\n",
    "print(res)\n"
   ]
  },
  {
   "cell_type": "code",
   "execution_count": null,
   "id": "6ba21f48-c9e6-46f0-95a6-84d0adffaf06",
   "metadata": {},
   "outputs": [],
   "source": []
  }
 ],
 "metadata": {
  "kernelspec": {
   "display_name": "Python 3 (ipykernel)",
   "language": "python",
   "name": "python3"
  },
  "language_info": {
   "codemirror_mode": {
    "name": "ipython",
    "version": 3
   },
   "file_extension": ".py",
   "mimetype": "text/x-python",
   "name": "python",
   "nbconvert_exporter": "python",
   "pygments_lexer": "ipython3",
   "version": "3.12.4"
  }
 },
 "nbformat": 4,
 "nbformat_minor": 5
}
